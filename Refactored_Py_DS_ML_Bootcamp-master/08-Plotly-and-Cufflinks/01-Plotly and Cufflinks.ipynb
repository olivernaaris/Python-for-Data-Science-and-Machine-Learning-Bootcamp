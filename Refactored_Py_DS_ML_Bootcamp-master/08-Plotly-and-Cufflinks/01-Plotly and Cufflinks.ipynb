{
 "cells": [
  {
   "cell_type": "markdown",
   "metadata": {},
   "source": [
    "___\n",
    "\n",
    "<a href='http://www.pieriandata.com'> <img src='../Pierian_Data_Logo.png' /></a>\n",
    "___\n",
    "# Plotly and Cufflinks"
   ]
  },
  {
   "cell_type": "markdown",
   "metadata": {},
   "source": [
    "Plotly is a library that allows you to create interactive plots that you can use in dashboards or websites (you can save them as html files or static images).\n",
    "\n",
    "## Installation\n",
    "\n",
    "In order for this all to work, you'll need to install plotly and cufflinks to call plots directly off of a pandas dataframe. These libraries are not currently available through **conda** but are available through **pip**. Install the libraries at your command line/terminal using:\n",
    "\n",
    "    pip install plotly\n",
    "    pip install cufflinks\n",
    "\n",
    "** NOTE: Make sure you only have one installation of Python on your computer when you do this, otherwise the installation may not work. **\n",
    "\n",
    "## Imports and Set-up"
   ]
  },
  {
   "cell_type": "code",
   "execution_count": 1,
   "metadata": {},
   "outputs": [],
   "source": [
    "import pandas as pd\n",
    "import numpy as np\n",
    "%matplotlib inline"
   ]
  },
  {
   "cell_type": "code",
   "execution_count": 5,
   "metadata": {},
   "outputs": [
    {
     "name": "stdout",
     "output_type": "stream",
     "text": [
      "4.8.2\n"
     ]
    }
   ],
   "source": [
    "from plotly import __version__\n",
    "from plotly.offline import download_plotlyjs, init_notebook_mode, plot, iplot\n",
    "\n",
    "print(__version__) # requires version >= 1.9.0"
   ]
  },
  {
   "cell_type": "code",
   "execution_count": 6,
   "metadata": {},
   "outputs": [],
   "source": [
    "import cufflinks as cf"
   ]
  },
  {
   "cell_type": "code",
   "execution_count": 4,
   "metadata": {},
   "outputs": [
    {
     "data": {
      "text/html": [
       "<script>requirejs.config({paths: { 'plotly': ['https://cdn.plot.ly/plotly-latest.min']},});if(!window.Plotly) {{require(['plotly'],function(plotly) {window.Plotly=plotly;});}}</script>"
      ],
      "text/plain": [
       "<IPython.core.display.HTML object>"
      ]
     },
     "metadata": {},
     "output_type": "display_data"
    }
   ],
   "source": [
    "# For Notebooks\n",
    "init_notebook_mode(connected=True)"
   ]
  },
  {
   "cell_type": "code",
   "execution_count": 7,
   "metadata": {},
   "outputs": [
    {
     "data": {
      "text/html": [
       "        <script type=\"text/javascript\">\n",
       "        window.PlotlyConfig = {MathJaxConfig: 'local'};\n",
       "        if (window.MathJax) {MathJax.Hub.Config({SVG: {font: \"STIX-Web\"}});}\n",
       "        if (typeof require !== 'undefined') {\n",
       "        require.undef(\"plotly\");\n",
       "        requirejs.config({\n",
       "            paths: {\n",
       "                'plotly': ['https://cdn.plot.ly/plotly-latest.min']\n",
       "            }\n",
       "        });\n",
       "        require(['plotly'], function(Plotly) {\n",
       "            window._Plotly = Plotly;\n",
       "        });\n",
       "        }\n",
       "        </script>\n",
       "        "
      ]
     },
     "metadata": {},
     "output_type": "display_data"
    }
   ],
   "source": [
    "# For offline use\n",
    "cf.go_offline()"
   ]
  },
  {
   "cell_type": "markdown",
   "metadata": {},
   "source": [
    "### Fake Data"
   ]
  },
  {
   "cell_type": "code",
   "execution_count": 8,
   "metadata": {},
   "outputs": [],
   "source": [
    "df = pd.DataFrame(np.random.randn(100,4),columns='A B C D'.split())"
   ]
  },
  {
   "cell_type": "code",
   "execution_count": 9,
   "metadata": {},
   "outputs": [
    {
     "data": {
      "text/html": [
       "<div>\n",
       "<style scoped>\n",
       "    .dataframe tbody tr th:only-of-type {\n",
       "        vertical-align: middle;\n",
       "    }\n",
       "\n",
       "    .dataframe tbody tr th {\n",
       "        vertical-align: top;\n",
       "    }\n",
       "\n",
       "    .dataframe thead th {\n",
       "        text-align: right;\n",
       "    }\n",
       "</style>\n",
       "<table border=\"1\" class=\"dataframe\">\n",
       "  <thead>\n",
       "    <tr style=\"text-align: right;\">\n",
       "      <th></th>\n",
       "      <th>A</th>\n",
       "      <th>B</th>\n",
       "      <th>C</th>\n",
       "      <th>D</th>\n",
       "    </tr>\n",
       "  </thead>\n",
       "  <tbody>\n",
       "    <tr>\n",
       "      <th>0</th>\n",
       "      <td>-0.473233</td>\n",
       "      <td>-0.786356</td>\n",
       "      <td>-0.603099</td>\n",
       "      <td>-1.756503</td>\n",
       "    </tr>\n",
       "    <tr>\n",
       "      <th>1</th>\n",
       "      <td>0.391342</td>\n",
       "      <td>-0.393432</td>\n",
       "      <td>-0.286730</td>\n",
       "      <td>2.142821</td>\n",
       "    </tr>\n",
       "    <tr>\n",
       "      <th>2</th>\n",
       "      <td>-1.393019</td>\n",
       "      <td>-0.865957</td>\n",
       "      <td>0.339264</td>\n",
       "      <td>0.448049</td>\n",
       "    </tr>\n",
       "    <tr>\n",
       "      <th>3</th>\n",
       "      <td>-0.758376</td>\n",
       "      <td>0.306667</td>\n",
       "      <td>0.194985</td>\n",
       "      <td>-0.929289</td>\n",
       "    </tr>\n",
       "    <tr>\n",
       "      <th>4</th>\n",
       "      <td>0.030560</td>\n",
       "      <td>-2.533581</td>\n",
       "      <td>0.169856</td>\n",
       "      <td>1.285265</td>\n",
       "    </tr>\n",
       "  </tbody>\n",
       "</table>\n",
       "</div>"
      ],
      "text/plain": [
       "          A         B         C         D\n",
       "0 -0.473233 -0.786356 -0.603099 -1.756503\n",
       "1  0.391342 -0.393432 -0.286730  2.142821\n",
       "2 -1.393019 -0.865957  0.339264  0.448049\n",
       "3 -0.758376  0.306667  0.194985 -0.929289\n",
       "4  0.030560 -2.533581  0.169856  1.285265"
      ]
     },
     "execution_count": 9,
     "metadata": {},
     "output_type": "execute_result"
    }
   ],
   "source": [
    "df.head()"
   ]
  },
  {
   "cell_type": "code",
   "execution_count": 10,
   "metadata": {},
   "outputs": [],
   "source": [
    "df2 = pd.DataFrame({'Category':['A','B','C'],'Values':[32,43,50]})"
   ]
  },
  {
   "cell_type": "code",
   "execution_count": 11,
   "metadata": {},
   "outputs": [
    {
     "data": {
      "text/html": [
       "<div>\n",
       "<style scoped>\n",
       "    .dataframe tbody tr th:only-of-type {\n",
       "        vertical-align: middle;\n",
       "    }\n",
       "\n",
       "    .dataframe tbody tr th {\n",
       "        vertical-align: top;\n",
       "    }\n",
       "\n",
       "    .dataframe thead th {\n",
       "        text-align: right;\n",
       "    }\n",
       "</style>\n",
       "<table border=\"1\" class=\"dataframe\">\n",
       "  <thead>\n",
       "    <tr style=\"text-align: right;\">\n",
       "      <th></th>\n",
       "      <th>Category</th>\n",
       "      <th>Values</th>\n",
       "    </tr>\n",
       "  </thead>\n",
       "  <tbody>\n",
       "    <tr>\n",
       "      <th>0</th>\n",
       "      <td>A</td>\n",
       "      <td>32</td>\n",
       "    </tr>\n",
       "    <tr>\n",
       "      <th>1</th>\n",
       "      <td>B</td>\n",
       "      <td>43</td>\n",
       "    </tr>\n",
       "    <tr>\n",
       "      <th>2</th>\n",
       "      <td>C</td>\n",
       "      <td>50</td>\n",
       "    </tr>\n",
       "  </tbody>\n",
       "</table>\n",
       "</div>"
      ],
      "text/plain": [
       "  Category  Values\n",
       "0        A      32\n",
       "1        B      43\n",
       "2        C      50"
      ]
     },
     "execution_count": 11,
     "metadata": {},
     "output_type": "execute_result"
    }
   ],
   "source": [
    "df2.head()"
   ]
  },
  {
   "cell_type": "markdown",
   "metadata": {},
   "source": [
    "## Using Cufflinks and iplot()\n",
    "\n",
    "* scatter\n",
    "* bar\n",
    "* box\n",
    "* spread\n",
    "* ratio\n",
    "* heatmap\n",
    "* surface\n",
    "* histogram\n",
    "* bubble"
   ]
  },
  {
   "cell_type": "markdown",
   "metadata": {},
   "source": [
    "## Scatter"
   ]
  },
  {
   "cell_type": "code",
   "execution_count": 12,
   "metadata": {},
   "outputs": [
    {
     "data": {
      "application/vnd.plotly.v1+json": {
       "config": {
        "linkText": "Export to plot.ly",
        "plotlyServerURL": "https://plot.ly",
        "showLink": true
       },
       "data": [
        {
         "line": {
          "color": "rgba(255, 153, 51, 1.0)",
          "dash": "solid",
          "shape": "linear",
          "width": 1.3
         },
         "marker": {
          "size": 10,
          "symbol": "circle"
         },
         "mode": "markers",
         "name": "B",
         "text": "",
         "type": "scatter",
         "x": [
          -0.47323338372044216,
          0.391342125956041,
          -1.3930192517983035,
          -0.7583764463384806,
          0.030560247015788796,
          -0.42222897997487735,
          0.3419507372052493,
          -0.6530728726886348,
          0.4911743583401989,
          -0.6399410387909096,
          1.252348795213839,
          2.79565887203688,
          1.0216953549398935,
          -0.6760681475071038,
          1.9153287675036414,
          -0.8574194766794743,
          0.03971198334552156,
          1.5575886718822547,
          -0.41104371136749807,
          0.45423026955435997,
          1.37682200922694,
          -0.49097371261325123,
          -1.103902239392601,
          1.209088156671042,
          -0.12929287076995005,
          -1.3546787992622251,
          0.741078850974195,
          0.17579127326631125,
          -0.01674344571807809,
          1.1428979827099823,
          0.012233952698504845,
          -0.8741512129967439,
          0.1427194853744033,
          1.1058161773053639,
          0.12295872208272311,
          -0.5856164378476567,
          0.21613129771727468,
          -1.8690770920771833,
          -0.6898825134758376,
          -0.05458461743161419,
          -0.15759841027243723,
          -0.6117912504899256,
          -0.696867769386093,
          -0.3274933689874018,
          -0.735725361990674,
          -0.006292612703083734,
          -0.4783007321809796,
          0.46136717463820837,
          1.1050679917684179,
          -0.8742044025984583,
          -0.7822275024460555,
          0.19428282921115408,
          -1.599183119108615,
          0.16519098965643408,
          1.1233298071638333,
          0.25714148321550806,
          -0.4491728069771753,
          0.3286657772584293,
          0.4223585017724842,
          -1.3447552904968874,
          0.23535742165332924,
          -0.7746665058691453,
          -0.49249988794559896,
          -0.3916749224744794,
          -1.5427041968534043,
          0.33574744449984323,
          0.28716634919374984,
          -0.5396371694147453,
          1.5186938958656993,
          -0.16730775070513196,
          0.7986916318539317,
          -1.8076154055395393,
          0.8449677715018729,
          1.4994351030509954,
          0.3761440759664159,
          0.02032831851069565,
          -0.25420286262412284,
          0.5915923846119849,
          0.031343181368975785,
          0.8924389509972139,
          0.14696198272413175,
          -0.3383806308837403,
          -0.8167067803331302,
          0.8375097350413139,
          -1.844697334868694,
          -0.47583161834498267,
          0.3993116744743492,
          1.5196641994432958,
          -2.149826871045154,
          -0.5054434625221709,
          0.9568329180805797,
          -1.1772979939147825,
          0.12495847641314985,
          2.489394225157195,
          0.8167825718121651,
          -1.541048250898501,
          1.3836463003138744,
          -0.030213786772967887,
          0.6891482660718707,
          0.22201933593073467
         ],
         "y": [
          -0.7863556269567842,
          -0.3934319050293995,
          -0.8659569932604896,
          0.30666746365172154,
          -2.5335810728661774,
          0.08560385128773612,
          0.7707462351268122,
          -0.1532090031592984,
          1.1286258467424628,
          -0.5825286450266112,
          0.39862414075985675,
          0.22258314683488725,
          1.0537570365862137,
          -0.8159525977081468,
          -0.5061916446714905,
          -0.26061714680962556,
          -2.254049905642298,
          0.29318800193968925,
          2.3094028981793846,
          -0.048968716571239,
          0.06985565178494063,
          -1.274260090264892,
          -1.41004308259798,
          2.002966383137955,
          -0.7586585236309823,
          1.835932532756517,
          -0.6629902504136792,
          0.3189347126535099,
          0.5065766796579961,
          2.1881591681018104,
          -0.5091713331664507,
          0.6461027072133978,
          -0.9858139943365096,
          0.8352212513237809,
          0.7678917985915251,
          -0.5720013372834474,
          0.4597669525366794,
          0.0010371046198402512,
          -0.20491356648425588,
          0.9328866567283997,
          2.176018941163229,
          -0.9163567131417804,
          0.8099443703746437,
          1.378718852814666,
          -0.0959067798324056,
          0.3055517084481643,
          0.9479911188482862,
          -1.8741975653115122,
          1.4659130901080561,
          0.9689652756893685,
          -1.5009623827195906,
          2.8872697466472643,
          0.06706261098262112,
          0.017536891671529827,
          1.6155683878161462,
          -0.06803490307878995,
          -1.0926381642910077,
          0.7340270358115923,
          0.517571964274028,
          0.667005891920211,
          -2.112386962226195,
          -0.13579269137096708,
          0.1207994583196543,
          -0.5254973507764424,
          -1.2886398814889086,
          -2.0279168784246986,
          1.1485673851045588,
          -0.20190822632409647,
          -0.5969951426556726,
          0.22088014731203623,
          1.1376723087755327,
          0.5738714744704506,
          0.7451691218808038,
          0.5844226957724005,
          -0.9813236939291822,
          -1.045116851602681,
          -1.234923056082786,
          -1.0708041340168966,
          1.4658002080355017,
          -0.761499576905759,
          -3.1524089631556804,
          0.8339745187847174,
          -0.8736506796302141,
          0.19033242925434002,
          1.5338359061015892,
          -0.4971111409720753,
          0.6914248925254357,
          1.1375771610666334,
          1.2200375084760924,
          0.4138867568586993,
          -2.8980380292726386,
          0.04456869526355736,
          -1.081971961542821,
          1.0623667326027297,
          0.31280558134076863,
          -0.03546302545284578,
          -1.9668831578809485,
          0.051637491391016394,
          1.2239694666936947,
          0.39670028159886306
         ]
        }
       ],
       "layout": {
        "legend": {
         "bgcolor": "#F5F6F9",
         "font": {
          "color": "#4D5663"
         }
        },
        "paper_bgcolor": "#F5F6F9",
        "plot_bgcolor": "#F5F6F9",
        "template": {
         "data": {
          "bar": [
           {
            "error_x": {
             "color": "#2a3f5f"
            },
            "error_y": {
             "color": "#2a3f5f"
            },
            "marker": {
             "line": {
              "color": "#E5ECF6",
              "width": 0.5
             }
            },
            "type": "bar"
           }
          ],
          "barpolar": [
           {
            "marker": {
             "line": {
              "color": "#E5ECF6",
              "width": 0.5
             }
            },
            "type": "barpolar"
           }
          ],
          "carpet": [
           {
            "aaxis": {
             "endlinecolor": "#2a3f5f",
             "gridcolor": "white",
             "linecolor": "white",
             "minorgridcolor": "white",
             "startlinecolor": "#2a3f5f"
            },
            "baxis": {
             "endlinecolor": "#2a3f5f",
             "gridcolor": "white",
             "linecolor": "white",
             "minorgridcolor": "white",
             "startlinecolor": "#2a3f5f"
            },
            "type": "carpet"
           }
          ],
          "choropleth": [
           {
            "colorbar": {
             "outlinewidth": 0,
             "ticks": ""
            },
            "type": "choropleth"
           }
          ],
          "contour": [
           {
            "colorbar": {
             "outlinewidth": 0,
             "ticks": ""
            },
            "colorscale": [
             [
              0,
              "#0d0887"
             ],
             [
              0.1111111111111111,
              "#46039f"
             ],
             [
              0.2222222222222222,
              "#7201a8"
             ],
             [
              0.3333333333333333,
              "#9c179e"
             ],
             [
              0.4444444444444444,
              "#bd3786"
             ],
             [
              0.5555555555555556,
              "#d8576b"
             ],
             [
              0.6666666666666666,
              "#ed7953"
             ],
             [
              0.7777777777777778,
              "#fb9f3a"
             ],
             [
              0.8888888888888888,
              "#fdca26"
             ],
             [
              1,
              "#f0f921"
             ]
            ],
            "type": "contour"
           }
          ],
          "contourcarpet": [
           {
            "colorbar": {
             "outlinewidth": 0,
             "ticks": ""
            },
            "type": "contourcarpet"
           }
          ],
          "heatmap": [
           {
            "colorbar": {
             "outlinewidth": 0,
             "ticks": ""
            },
            "colorscale": [
             [
              0,
              "#0d0887"
             ],
             [
              0.1111111111111111,
              "#46039f"
             ],
             [
              0.2222222222222222,
              "#7201a8"
             ],
             [
              0.3333333333333333,
              "#9c179e"
             ],
             [
              0.4444444444444444,
              "#bd3786"
             ],
             [
              0.5555555555555556,
              "#d8576b"
             ],
             [
              0.6666666666666666,
              "#ed7953"
             ],
             [
              0.7777777777777778,
              "#fb9f3a"
             ],
             [
              0.8888888888888888,
              "#fdca26"
             ],
             [
              1,
              "#f0f921"
             ]
            ],
            "type": "heatmap"
           }
          ],
          "heatmapgl": [
           {
            "colorbar": {
             "outlinewidth": 0,
             "ticks": ""
            },
            "colorscale": [
             [
              0,
              "#0d0887"
             ],
             [
              0.1111111111111111,
              "#46039f"
             ],
             [
              0.2222222222222222,
              "#7201a8"
             ],
             [
              0.3333333333333333,
              "#9c179e"
             ],
             [
              0.4444444444444444,
              "#bd3786"
             ],
             [
              0.5555555555555556,
              "#d8576b"
             ],
             [
              0.6666666666666666,
              "#ed7953"
             ],
             [
              0.7777777777777778,
              "#fb9f3a"
             ],
             [
              0.8888888888888888,
              "#fdca26"
             ],
             [
              1,
              "#f0f921"
             ]
            ],
            "type": "heatmapgl"
           }
          ],
          "histogram": [
           {
            "marker": {
             "colorbar": {
              "outlinewidth": 0,
              "ticks": ""
             }
            },
            "type": "histogram"
           }
          ],
          "histogram2d": [
           {
            "colorbar": {
             "outlinewidth": 0,
             "ticks": ""
            },
            "colorscale": [
             [
              0,
              "#0d0887"
             ],
             [
              0.1111111111111111,
              "#46039f"
             ],
             [
              0.2222222222222222,
              "#7201a8"
             ],
             [
              0.3333333333333333,
              "#9c179e"
             ],
             [
              0.4444444444444444,
              "#bd3786"
             ],
             [
              0.5555555555555556,
              "#d8576b"
             ],
             [
              0.6666666666666666,
              "#ed7953"
             ],
             [
              0.7777777777777778,
              "#fb9f3a"
             ],
             [
              0.8888888888888888,
              "#fdca26"
             ],
             [
              1,
              "#f0f921"
             ]
            ],
            "type": "histogram2d"
           }
          ],
          "histogram2dcontour": [
           {
            "colorbar": {
             "outlinewidth": 0,
             "ticks": ""
            },
            "colorscale": [
             [
              0,
              "#0d0887"
             ],
             [
              0.1111111111111111,
              "#46039f"
             ],
             [
              0.2222222222222222,
              "#7201a8"
             ],
             [
              0.3333333333333333,
              "#9c179e"
             ],
             [
              0.4444444444444444,
              "#bd3786"
             ],
             [
              0.5555555555555556,
              "#d8576b"
             ],
             [
              0.6666666666666666,
              "#ed7953"
             ],
             [
              0.7777777777777778,
              "#fb9f3a"
             ],
             [
              0.8888888888888888,
              "#fdca26"
             ],
             [
              1,
              "#f0f921"
             ]
            ],
            "type": "histogram2dcontour"
           }
          ],
          "mesh3d": [
           {
            "colorbar": {
             "outlinewidth": 0,
             "ticks": ""
            },
            "type": "mesh3d"
           }
          ],
          "parcoords": [
           {
            "line": {
             "colorbar": {
              "outlinewidth": 0,
              "ticks": ""
             }
            },
            "type": "parcoords"
           }
          ],
          "pie": [
           {
            "automargin": true,
            "type": "pie"
           }
          ],
          "scatter": [
           {
            "marker": {
             "colorbar": {
              "outlinewidth": 0,
              "ticks": ""
             }
            },
            "type": "scatter"
           }
          ],
          "scatter3d": [
           {
            "line": {
             "colorbar": {
              "outlinewidth": 0,
              "ticks": ""
             }
            },
            "marker": {
             "colorbar": {
              "outlinewidth": 0,
              "ticks": ""
             }
            },
            "type": "scatter3d"
           }
          ],
          "scattercarpet": [
           {
            "marker": {
             "colorbar": {
              "outlinewidth": 0,
              "ticks": ""
             }
            },
            "type": "scattercarpet"
           }
          ],
          "scattergeo": [
           {
            "marker": {
             "colorbar": {
              "outlinewidth": 0,
              "ticks": ""
             }
            },
            "type": "scattergeo"
           }
          ],
          "scattergl": [
           {
            "marker": {
             "colorbar": {
              "outlinewidth": 0,
              "ticks": ""
             }
            },
            "type": "scattergl"
           }
          ],
          "scattermapbox": [
           {
            "marker": {
             "colorbar": {
              "outlinewidth": 0,
              "ticks": ""
             }
            },
            "type": "scattermapbox"
           }
          ],
          "scatterpolar": [
           {
            "marker": {
             "colorbar": {
              "outlinewidth": 0,
              "ticks": ""
             }
            },
            "type": "scatterpolar"
           }
          ],
          "scatterpolargl": [
           {
            "marker": {
             "colorbar": {
              "outlinewidth": 0,
              "ticks": ""
             }
            },
            "type": "scatterpolargl"
           }
          ],
          "scatterternary": [
           {
            "marker": {
             "colorbar": {
              "outlinewidth": 0,
              "ticks": ""
             }
            },
            "type": "scatterternary"
           }
          ],
          "surface": [
           {
            "colorbar": {
             "outlinewidth": 0,
             "ticks": ""
            },
            "colorscale": [
             [
              0,
              "#0d0887"
             ],
             [
              0.1111111111111111,
              "#46039f"
             ],
             [
              0.2222222222222222,
              "#7201a8"
             ],
             [
              0.3333333333333333,
              "#9c179e"
             ],
             [
              0.4444444444444444,
              "#bd3786"
             ],
             [
              0.5555555555555556,
              "#d8576b"
             ],
             [
              0.6666666666666666,
              "#ed7953"
             ],
             [
              0.7777777777777778,
              "#fb9f3a"
             ],
             [
              0.8888888888888888,
              "#fdca26"
             ],
             [
              1,
              "#f0f921"
             ]
            ],
            "type": "surface"
           }
          ],
          "table": [
           {
            "cells": {
             "fill": {
              "color": "#EBF0F8"
             },
             "line": {
              "color": "white"
             }
            },
            "header": {
             "fill": {
              "color": "#C8D4E3"
             },
             "line": {
              "color": "white"
             }
            },
            "type": "table"
           }
          ]
         },
         "layout": {
          "annotationdefaults": {
           "arrowcolor": "#2a3f5f",
           "arrowhead": 0,
           "arrowwidth": 1
          },
          "coloraxis": {
           "colorbar": {
            "outlinewidth": 0,
            "ticks": ""
           }
          },
          "colorscale": {
           "diverging": [
            [
             0,
             "#8e0152"
            ],
            [
             0.1,
             "#c51b7d"
            ],
            [
             0.2,
             "#de77ae"
            ],
            [
             0.3,
             "#f1b6da"
            ],
            [
             0.4,
             "#fde0ef"
            ],
            [
             0.5,
             "#f7f7f7"
            ],
            [
             0.6,
             "#e6f5d0"
            ],
            [
             0.7,
             "#b8e186"
            ],
            [
             0.8,
             "#7fbc41"
            ],
            [
             0.9,
             "#4d9221"
            ],
            [
             1,
             "#276419"
            ]
           ],
           "sequential": [
            [
             0,
             "#0d0887"
            ],
            [
             0.1111111111111111,
             "#46039f"
            ],
            [
             0.2222222222222222,
             "#7201a8"
            ],
            [
             0.3333333333333333,
             "#9c179e"
            ],
            [
             0.4444444444444444,
             "#bd3786"
            ],
            [
             0.5555555555555556,
             "#d8576b"
            ],
            [
             0.6666666666666666,
             "#ed7953"
            ],
            [
             0.7777777777777778,
             "#fb9f3a"
            ],
            [
             0.8888888888888888,
             "#fdca26"
            ],
            [
             1,
             "#f0f921"
            ]
           ],
           "sequentialminus": [
            [
             0,
             "#0d0887"
            ],
            [
             0.1111111111111111,
             "#46039f"
            ],
            [
             0.2222222222222222,
             "#7201a8"
            ],
            [
             0.3333333333333333,
             "#9c179e"
            ],
            [
             0.4444444444444444,
             "#bd3786"
            ],
            [
             0.5555555555555556,
             "#d8576b"
            ],
            [
             0.6666666666666666,
             "#ed7953"
            ],
            [
             0.7777777777777778,
             "#fb9f3a"
            ],
            [
             0.8888888888888888,
             "#fdca26"
            ],
            [
             1,
             "#f0f921"
            ]
           ]
          },
          "colorway": [
           "#636efa",
           "#EF553B",
           "#00cc96",
           "#ab63fa",
           "#FFA15A",
           "#19d3f3",
           "#FF6692",
           "#B6E880",
           "#FF97FF",
           "#FECB52"
          ],
          "font": {
           "color": "#2a3f5f"
          },
          "geo": {
           "bgcolor": "white",
           "lakecolor": "white",
           "landcolor": "#E5ECF6",
           "showlakes": true,
           "showland": true,
           "subunitcolor": "white"
          },
          "hoverlabel": {
           "align": "left"
          },
          "hovermode": "closest",
          "mapbox": {
           "style": "light"
          },
          "paper_bgcolor": "white",
          "plot_bgcolor": "#E5ECF6",
          "polar": {
           "angularaxis": {
            "gridcolor": "white",
            "linecolor": "white",
            "ticks": ""
           },
           "bgcolor": "#E5ECF6",
           "radialaxis": {
            "gridcolor": "white",
            "linecolor": "white",
            "ticks": ""
           }
          },
          "scene": {
           "xaxis": {
            "backgroundcolor": "#E5ECF6",
            "gridcolor": "white",
            "gridwidth": 2,
            "linecolor": "white",
            "showbackground": true,
            "ticks": "",
            "zerolinecolor": "white"
           },
           "yaxis": {
            "backgroundcolor": "#E5ECF6",
            "gridcolor": "white",
            "gridwidth": 2,
            "linecolor": "white",
            "showbackground": true,
            "ticks": "",
            "zerolinecolor": "white"
           },
           "zaxis": {
            "backgroundcolor": "#E5ECF6",
            "gridcolor": "white",
            "gridwidth": 2,
            "linecolor": "white",
            "showbackground": true,
            "ticks": "",
            "zerolinecolor": "white"
           }
          },
          "shapedefaults": {
           "line": {
            "color": "#2a3f5f"
           }
          },
          "ternary": {
           "aaxis": {
            "gridcolor": "white",
            "linecolor": "white",
            "ticks": ""
           },
           "baxis": {
            "gridcolor": "white",
            "linecolor": "white",
            "ticks": ""
           },
           "bgcolor": "#E5ECF6",
           "caxis": {
            "gridcolor": "white",
            "linecolor": "white",
            "ticks": ""
           }
          },
          "title": {
           "x": 0.05
          },
          "xaxis": {
           "automargin": true,
           "gridcolor": "white",
           "linecolor": "white",
           "ticks": "",
           "title": {
            "standoff": 15
           },
           "zerolinecolor": "white",
           "zerolinewidth": 2
          },
          "yaxis": {
           "automargin": true,
           "gridcolor": "white",
           "linecolor": "white",
           "ticks": "",
           "title": {
            "standoff": 15
           },
           "zerolinecolor": "white",
           "zerolinewidth": 2
          }
         }
        },
        "title": {
         "font": {
          "color": "#4D5663"
         }
        },
        "xaxis": {
         "gridcolor": "#E1E5ED",
         "showgrid": true,
         "tickfont": {
          "color": "#4D5663"
         },
         "title": {
          "font": {
           "color": "#4D5663"
          },
          "text": ""
         },
         "zerolinecolor": "#E1E5ED"
        },
        "yaxis": {
         "gridcolor": "#E1E5ED",
         "showgrid": true,
         "tickfont": {
          "color": "#4D5663"
         },
         "title": {
          "font": {
           "color": "#4D5663"
          },
          "text": ""
         },
         "zerolinecolor": "#E1E5ED"
        }
       }
      },
      "text/html": [
       "<div>\n",
       "        \n",
       "        \n",
       "            <div id=\"7135337f-67b3-4999-8123-755632536747\" class=\"plotly-graph-div\" style=\"height:525px; width:100%;\"></div>\n",
       "            <script type=\"text/javascript\">\n",
       "                require([\"plotly\"], function(Plotly) {\n",
       "                    window.PLOTLYENV=window.PLOTLYENV || {};\n",
       "                    window.PLOTLYENV.BASE_URL='https://plot.ly';\n",
       "                    \n",
       "                if (document.getElementById(\"7135337f-67b3-4999-8123-755632536747\")) {\n",
       "                    Plotly.newPlot(\n",
       "                        '7135337f-67b3-4999-8123-755632536747',\n",
       "                        [{\"line\": {\"color\": \"rgba(255, 153, 51, 1.0)\", \"dash\": \"solid\", \"shape\": \"linear\", \"width\": 1.3}, \"marker\": {\"size\": 10, \"symbol\": \"circle\"}, \"mode\": \"markers\", \"name\": \"B\", \"text\": \"\", \"type\": \"scatter\", \"x\": [-0.47323338372044216, 0.391342125956041, -1.3930192517983035, -0.7583764463384806, 0.030560247015788796, -0.42222897997487735, 0.3419507372052493, -0.6530728726886348, 0.4911743583401989, -0.6399410387909096, 1.252348795213839, 2.79565887203688, 1.0216953549398935, -0.6760681475071038, 1.9153287675036414, -0.8574194766794743, 0.03971198334552156, 1.5575886718822547, -0.41104371136749807, 0.45423026955435997, 1.37682200922694, -0.49097371261325123, -1.103902239392601, 1.209088156671042, -0.12929287076995005, -1.3546787992622251, 0.741078850974195, 0.17579127326631125, -0.01674344571807809, 1.1428979827099823, 0.012233952698504845, -0.8741512129967439, 0.1427194853744033, 1.1058161773053639, 0.12295872208272311, -0.5856164378476567, 0.21613129771727468, -1.8690770920771833, -0.6898825134758376, -0.05458461743161419, -0.15759841027243723, -0.6117912504899256, -0.696867769386093, -0.3274933689874018, -0.735725361990674, -0.006292612703083734, -0.4783007321809796, 0.46136717463820837, 1.1050679917684179, -0.8742044025984583, -0.7822275024460555, 0.19428282921115408, -1.599183119108615, 0.16519098965643408, 1.1233298071638333, 0.25714148321550806, -0.4491728069771753, 0.3286657772584293, 0.4223585017724842, -1.3447552904968874, 0.23535742165332924, -0.7746665058691453, -0.49249988794559896, -0.3916749224744794, -1.5427041968534043, 0.33574744449984323, 0.28716634919374984, -0.5396371694147453, 1.5186938958656993, -0.16730775070513196, 0.7986916318539317, -1.8076154055395393, 0.8449677715018729, 1.4994351030509954, 0.3761440759664159, 0.02032831851069565, -0.25420286262412284, 0.5915923846119849, 0.031343181368975785, 0.8924389509972139, 0.14696198272413175, -0.3383806308837403, -0.8167067803331302, 0.8375097350413139, -1.844697334868694, -0.47583161834498267, 0.3993116744743492, 1.5196641994432958, -2.149826871045154, -0.5054434625221709, 0.9568329180805797, -1.1772979939147825, 0.12495847641314985, 2.489394225157195, 0.8167825718121651, -1.541048250898501, 1.3836463003138744, -0.030213786772967887, 0.6891482660718707, 0.22201933593073467], \"y\": [-0.7863556269567842, -0.3934319050293995, -0.8659569932604896, 0.30666746365172154, -2.5335810728661774, 0.08560385128773612, 0.7707462351268122, -0.1532090031592984, 1.1286258467424628, -0.5825286450266112, 0.39862414075985675, 0.22258314683488725, 1.0537570365862137, -0.8159525977081468, -0.5061916446714905, -0.26061714680962556, -2.254049905642298, 0.29318800193968925, 2.3094028981793846, -0.048968716571239, 0.06985565178494063, -1.274260090264892, -1.41004308259798, 2.002966383137955, -0.7586585236309823, 1.835932532756517, -0.6629902504136792, 0.3189347126535099, 0.5065766796579961, 2.1881591681018104, -0.5091713331664507, 0.6461027072133978, -0.9858139943365096, 0.8352212513237809, 0.7678917985915251, -0.5720013372834474, 0.4597669525366794, 0.0010371046198402512, -0.20491356648425588, 0.9328866567283997, 2.176018941163229, -0.9163567131417804, 0.8099443703746437, 1.378718852814666, -0.0959067798324056, 0.3055517084481643, 0.9479911188482862, -1.8741975653115122, 1.4659130901080561, 0.9689652756893685, -1.5009623827195906, 2.8872697466472643, 0.06706261098262112, 0.017536891671529827, 1.6155683878161462, -0.06803490307878995, -1.0926381642910077, 0.7340270358115923, 0.517571964274028, 0.667005891920211, -2.112386962226195, -0.13579269137096708, 0.1207994583196543, -0.5254973507764424, -1.2886398814889086, -2.0279168784246986, 1.1485673851045588, -0.20190822632409647, -0.5969951426556726, 0.22088014731203623, 1.1376723087755327, 0.5738714744704506, 0.7451691218808038, 0.5844226957724005, -0.9813236939291822, -1.045116851602681, -1.234923056082786, -1.0708041340168966, 1.4658002080355017, -0.761499576905759, -3.1524089631556804, 0.8339745187847174, -0.8736506796302141, 0.19033242925434002, 1.5338359061015892, -0.4971111409720753, 0.6914248925254357, 1.1375771610666334, 1.2200375084760924, 0.4138867568586993, -2.8980380292726386, 0.04456869526355736, -1.081971961542821, 1.0623667326027297, 0.31280558134076863, -0.03546302545284578, -1.9668831578809485, 0.051637491391016394, 1.2239694666936947, 0.39670028159886306]}],\n",
       "                        {\"legend\": {\"bgcolor\": \"#F5F6F9\", \"font\": {\"color\": \"#4D5663\"}}, \"paper_bgcolor\": \"#F5F6F9\", \"plot_bgcolor\": \"#F5F6F9\", \"template\": {\"data\": {\"bar\": [{\"error_x\": {\"color\": \"#2a3f5f\"}, \"error_y\": {\"color\": \"#2a3f5f\"}, \"marker\": {\"line\": {\"color\": \"#E5ECF6\", \"width\": 0.5}}, \"type\": \"bar\"}], \"barpolar\": [{\"marker\": {\"line\": {\"color\": \"#E5ECF6\", \"width\": 0.5}}, \"type\": \"barpolar\"}], \"carpet\": [{\"aaxis\": {\"endlinecolor\": \"#2a3f5f\", \"gridcolor\": \"white\", \"linecolor\": \"white\", \"minorgridcolor\": \"white\", \"startlinecolor\": \"#2a3f5f\"}, \"baxis\": {\"endlinecolor\": \"#2a3f5f\", \"gridcolor\": \"white\", \"linecolor\": \"white\", \"minorgridcolor\": \"white\", \"startlinecolor\": \"#2a3f5f\"}, \"type\": \"carpet\"}], \"choropleth\": [{\"colorbar\": {\"outlinewidth\": 0, \"ticks\": \"\"}, \"type\": \"choropleth\"}], \"contour\": [{\"colorbar\": {\"outlinewidth\": 0, \"ticks\": \"\"}, \"colorscale\": [[0.0, \"#0d0887\"], [0.1111111111111111, \"#46039f\"], [0.2222222222222222, \"#7201a8\"], [0.3333333333333333, \"#9c179e\"], [0.4444444444444444, \"#bd3786\"], [0.5555555555555556, \"#d8576b\"], [0.6666666666666666, \"#ed7953\"], [0.7777777777777778, \"#fb9f3a\"], [0.8888888888888888, \"#fdca26\"], [1.0, \"#f0f921\"]], \"type\": \"contour\"}], \"contourcarpet\": [{\"colorbar\": {\"outlinewidth\": 0, \"ticks\": \"\"}, \"type\": \"contourcarpet\"}], \"heatmap\": [{\"colorbar\": {\"outlinewidth\": 0, \"ticks\": \"\"}, \"colorscale\": [[0.0, \"#0d0887\"], [0.1111111111111111, \"#46039f\"], [0.2222222222222222, \"#7201a8\"], [0.3333333333333333, \"#9c179e\"], [0.4444444444444444, \"#bd3786\"], [0.5555555555555556, \"#d8576b\"], [0.6666666666666666, \"#ed7953\"], [0.7777777777777778, \"#fb9f3a\"], [0.8888888888888888, \"#fdca26\"], [1.0, \"#f0f921\"]], \"type\": \"heatmap\"}], \"heatmapgl\": [{\"colorbar\": {\"outlinewidth\": 0, \"ticks\": \"\"}, \"colorscale\": [[0.0, \"#0d0887\"], [0.1111111111111111, \"#46039f\"], [0.2222222222222222, \"#7201a8\"], [0.3333333333333333, \"#9c179e\"], [0.4444444444444444, \"#bd3786\"], [0.5555555555555556, \"#d8576b\"], [0.6666666666666666, \"#ed7953\"], [0.7777777777777778, \"#fb9f3a\"], [0.8888888888888888, \"#fdca26\"], [1.0, \"#f0f921\"]], \"type\": \"heatmapgl\"}], \"histogram\": [{\"marker\": {\"colorbar\": {\"outlinewidth\": 0, \"ticks\": \"\"}}, \"type\": \"histogram\"}], \"histogram2d\": [{\"colorbar\": {\"outlinewidth\": 0, \"ticks\": \"\"}, \"colorscale\": [[0.0, \"#0d0887\"], [0.1111111111111111, \"#46039f\"], [0.2222222222222222, \"#7201a8\"], [0.3333333333333333, \"#9c179e\"], [0.4444444444444444, \"#bd3786\"], [0.5555555555555556, \"#d8576b\"], [0.6666666666666666, \"#ed7953\"], [0.7777777777777778, \"#fb9f3a\"], [0.8888888888888888, \"#fdca26\"], [1.0, \"#f0f921\"]], \"type\": \"histogram2d\"}], \"histogram2dcontour\": [{\"colorbar\": {\"outlinewidth\": 0, \"ticks\": \"\"}, \"colorscale\": [[0.0, \"#0d0887\"], [0.1111111111111111, \"#46039f\"], [0.2222222222222222, \"#7201a8\"], [0.3333333333333333, \"#9c179e\"], [0.4444444444444444, \"#bd3786\"], [0.5555555555555556, \"#d8576b\"], [0.6666666666666666, \"#ed7953\"], [0.7777777777777778, \"#fb9f3a\"], [0.8888888888888888, \"#fdca26\"], [1.0, \"#f0f921\"]], \"type\": \"histogram2dcontour\"}], \"mesh3d\": [{\"colorbar\": {\"outlinewidth\": 0, \"ticks\": \"\"}, \"type\": \"mesh3d\"}], \"parcoords\": [{\"line\": {\"colorbar\": {\"outlinewidth\": 0, \"ticks\": \"\"}}, \"type\": \"parcoords\"}], \"pie\": [{\"automargin\": true, \"type\": \"pie\"}], \"scatter\": [{\"marker\": {\"colorbar\": {\"outlinewidth\": 0, \"ticks\": \"\"}}, \"type\": \"scatter\"}], \"scatter3d\": [{\"line\": {\"colorbar\": {\"outlinewidth\": 0, \"ticks\": \"\"}}, \"marker\": {\"colorbar\": {\"outlinewidth\": 0, \"ticks\": \"\"}}, \"type\": \"scatter3d\"}], \"scattercarpet\": [{\"marker\": {\"colorbar\": {\"outlinewidth\": 0, \"ticks\": \"\"}}, \"type\": \"scattercarpet\"}], \"scattergeo\": [{\"marker\": {\"colorbar\": {\"outlinewidth\": 0, \"ticks\": \"\"}}, \"type\": \"scattergeo\"}], \"scattergl\": [{\"marker\": {\"colorbar\": {\"outlinewidth\": 0, \"ticks\": \"\"}}, \"type\": \"scattergl\"}], \"scattermapbox\": [{\"marker\": {\"colorbar\": {\"outlinewidth\": 0, \"ticks\": \"\"}}, \"type\": \"scattermapbox\"}], \"scatterpolar\": [{\"marker\": {\"colorbar\": {\"outlinewidth\": 0, \"ticks\": \"\"}}, \"type\": \"scatterpolar\"}], \"scatterpolargl\": [{\"marker\": {\"colorbar\": {\"outlinewidth\": 0, \"ticks\": \"\"}}, \"type\": \"scatterpolargl\"}], \"scatterternary\": [{\"marker\": {\"colorbar\": {\"outlinewidth\": 0, \"ticks\": \"\"}}, \"type\": \"scatterternary\"}], \"surface\": [{\"colorbar\": {\"outlinewidth\": 0, \"ticks\": \"\"}, \"colorscale\": [[0.0, \"#0d0887\"], [0.1111111111111111, \"#46039f\"], [0.2222222222222222, \"#7201a8\"], [0.3333333333333333, \"#9c179e\"], [0.4444444444444444, \"#bd3786\"], [0.5555555555555556, \"#d8576b\"], [0.6666666666666666, \"#ed7953\"], [0.7777777777777778, \"#fb9f3a\"], [0.8888888888888888, \"#fdca26\"], [1.0, \"#f0f921\"]], \"type\": \"surface\"}], \"table\": [{\"cells\": {\"fill\": {\"color\": \"#EBF0F8\"}, \"line\": {\"color\": \"white\"}}, \"header\": {\"fill\": {\"color\": \"#C8D4E3\"}, \"line\": {\"color\": \"white\"}}, \"type\": \"table\"}]}, \"layout\": {\"annotationdefaults\": {\"arrowcolor\": \"#2a3f5f\", \"arrowhead\": 0, \"arrowwidth\": 1}, \"coloraxis\": {\"colorbar\": {\"outlinewidth\": 0, \"ticks\": \"\"}}, \"colorscale\": {\"diverging\": [[0, \"#8e0152\"], [0.1, \"#c51b7d\"], [0.2, \"#de77ae\"], [0.3, \"#f1b6da\"], [0.4, \"#fde0ef\"], [0.5, \"#f7f7f7\"], [0.6, \"#e6f5d0\"], [0.7, \"#b8e186\"], [0.8, \"#7fbc41\"], [0.9, \"#4d9221\"], [1, \"#276419\"]], \"sequential\": [[0.0, \"#0d0887\"], [0.1111111111111111, \"#46039f\"], [0.2222222222222222, \"#7201a8\"], [0.3333333333333333, \"#9c179e\"], [0.4444444444444444, \"#bd3786\"], [0.5555555555555556, \"#d8576b\"], [0.6666666666666666, \"#ed7953\"], [0.7777777777777778, \"#fb9f3a\"], [0.8888888888888888, \"#fdca26\"], [1.0, \"#f0f921\"]], \"sequentialminus\": [[0.0, \"#0d0887\"], [0.1111111111111111, \"#46039f\"], [0.2222222222222222, \"#7201a8\"], [0.3333333333333333, \"#9c179e\"], [0.4444444444444444, \"#bd3786\"], [0.5555555555555556, \"#d8576b\"], [0.6666666666666666, \"#ed7953\"], [0.7777777777777778, \"#fb9f3a\"], [0.8888888888888888, \"#fdca26\"], [1.0, \"#f0f921\"]]}, \"colorway\": [\"#636efa\", \"#EF553B\", \"#00cc96\", \"#ab63fa\", \"#FFA15A\", \"#19d3f3\", \"#FF6692\", \"#B6E880\", \"#FF97FF\", \"#FECB52\"], \"font\": {\"color\": \"#2a3f5f\"}, \"geo\": {\"bgcolor\": \"white\", \"lakecolor\": \"white\", \"landcolor\": \"#E5ECF6\", \"showlakes\": true, \"showland\": true, \"subunitcolor\": \"white\"}, \"hoverlabel\": {\"align\": \"left\"}, \"hovermode\": \"closest\", \"mapbox\": {\"style\": \"light\"}, \"paper_bgcolor\": \"white\", \"plot_bgcolor\": \"#E5ECF6\", \"polar\": {\"angularaxis\": {\"gridcolor\": \"white\", \"linecolor\": \"white\", \"ticks\": \"\"}, \"bgcolor\": \"#E5ECF6\", \"radialaxis\": {\"gridcolor\": \"white\", \"linecolor\": \"white\", \"ticks\": \"\"}}, \"scene\": {\"xaxis\": {\"backgroundcolor\": \"#E5ECF6\", \"gridcolor\": \"white\", \"gridwidth\": 2, \"linecolor\": \"white\", \"showbackground\": true, \"ticks\": \"\", \"zerolinecolor\": \"white\"}, \"yaxis\": {\"backgroundcolor\": \"#E5ECF6\", \"gridcolor\": \"white\", \"gridwidth\": 2, \"linecolor\": \"white\", \"showbackground\": true, \"ticks\": \"\", \"zerolinecolor\": \"white\"}, \"zaxis\": {\"backgroundcolor\": \"#E5ECF6\", \"gridcolor\": \"white\", \"gridwidth\": 2, \"linecolor\": \"white\", \"showbackground\": true, \"ticks\": \"\", \"zerolinecolor\": \"white\"}}, \"shapedefaults\": {\"line\": {\"color\": \"#2a3f5f\"}}, \"ternary\": {\"aaxis\": {\"gridcolor\": \"white\", \"linecolor\": \"white\", \"ticks\": \"\"}, \"baxis\": {\"gridcolor\": \"white\", \"linecolor\": \"white\", \"ticks\": \"\"}, \"bgcolor\": \"#E5ECF6\", \"caxis\": {\"gridcolor\": \"white\", \"linecolor\": \"white\", \"ticks\": \"\"}}, \"title\": {\"x\": 0.05}, \"xaxis\": {\"automargin\": true, \"gridcolor\": \"white\", \"linecolor\": \"white\", \"ticks\": \"\", \"title\": {\"standoff\": 15}, \"zerolinecolor\": \"white\", \"zerolinewidth\": 2}, \"yaxis\": {\"automargin\": true, \"gridcolor\": \"white\", \"linecolor\": \"white\", \"ticks\": \"\", \"title\": {\"standoff\": 15}, \"zerolinecolor\": \"white\", \"zerolinewidth\": 2}}}, \"title\": {\"font\": {\"color\": \"#4D5663\"}}, \"xaxis\": {\"gridcolor\": \"#E1E5ED\", \"showgrid\": true, \"tickfont\": {\"color\": \"#4D5663\"}, \"title\": {\"font\": {\"color\": \"#4D5663\"}, \"text\": \"\"}, \"zerolinecolor\": \"#E1E5ED\"}, \"yaxis\": {\"gridcolor\": \"#E1E5ED\", \"showgrid\": true, \"tickfont\": {\"color\": \"#4D5663\"}, \"title\": {\"font\": {\"color\": \"#4D5663\"}, \"text\": \"\"}, \"zerolinecolor\": \"#E1E5ED\"}},\n",
       "                        {\"showLink\": true, \"linkText\": \"Export to plot.ly\", \"plotlyServerURL\": \"https://plot.ly\", \"responsive\": true}\n",
       "                    ).then(function(){\n",
       "                            \n",
       "var gd = document.getElementById('7135337f-67b3-4999-8123-755632536747');\n",
       "var x = new MutationObserver(function (mutations, observer) {{\n",
       "        var display = window.getComputedStyle(gd).display;\n",
       "        if (!display || display === 'none') {{\n",
       "            console.log([gd, 'removed!']);\n",
       "            Plotly.purge(gd);\n",
       "            observer.disconnect();\n",
       "        }}\n",
       "}});\n",
       "\n",
       "// Listen for the removal of the full notebook cells\n",
       "var notebookContainer = gd.closest('#notebook-container');\n",
       "if (notebookContainer) {{\n",
       "    x.observe(notebookContainer, {childList: true});\n",
       "}}\n",
       "\n",
       "// Listen for the clearing of the current output cell\n",
       "var outputEl = gd.closest('.output');\n",
       "if (outputEl) {{\n",
       "    x.observe(outputEl, {childList: true});\n",
       "}}\n",
       "\n",
       "                        })\n",
       "                };\n",
       "                });\n",
       "            </script>\n",
       "        </div>"
      ]
     },
     "metadata": {},
     "output_type": "display_data"
    }
   ],
   "source": [
    "df.iplot(kind='scatter',x='A',y='B',mode='markers',size=10)"
   ]
  },
  {
   "cell_type": "markdown",
   "metadata": {},
   "source": [
    "## Bar Plots"
   ]
  },
  {
   "cell_type": "code",
   "execution_count": 13,
   "metadata": {},
   "outputs": [
    {
     "data": {
      "application/vnd.plotly.v1+json": {
       "config": {
        "linkText": "Export to plot.ly",
        "plotlyServerURL": "https://plot.ly",
        "showLink": true
       },
       "data": [
        {
         "marker": {
          "color": "rgba(255, 153, 51, 0.6)",
          "line": {
           "color": "rgba(255, 153, 51, 1.0)",
           "width": 1
          }
         },
         "name": "Values",
         "orientation": "v",
         "text": "",
         "type": "bar",
         "x": [
          "A",
          "B",
          "C"
         ],
         "y": [
          32,
          43,
          50
         ]
        }
       ],
       "layout": {
        "legend": {
         "bgcolor": "#F5F6F9",
         "font": {
          "color": "#4D5663"
         }
        },
        "paper_bgcolor": "#F5F6F9",
        "plot_bgcolor": "#F5F6F9",
        "template": {
         "data": {
          "bar": [
           {
            "error_x": {
             "color": "#2a3f5f"
            },
            "error_y": {
             "color": "#2a3f5f"
            },
            "marker": {
             "line": {
              "color": "#E5ECF6",
              "width": 0.5
             }
            },
            "type": "bar"
           }
          ],
          "barpolar": [
           {
            "marker": {
             "line": {
              "color": "#E5ECF6",
              "width": 0.5
             }
            },
            "type": "barpolar"
           }
          ],
          "carpet": [
           {
            "aaxis": {
             "endlinecolor": "#2a3f5f",
             "gridcolor": "white",
             "linecolor": "white",
             "minorgridcolor": "white",
             "startlinecolor": "#2a3f5f"
            },
            "baxis": {
             "endlinecolor": "#2a3f5f",
             "gridcolor": "white",
             "linecolor": "white",
             "minorgridcolor": "white",
             "startlinecolor": "#2a3f5f"
            },
            "type": "carpet"
           }
          ],
          "choropleth": [
           {
            "colorbar": {
             "outlinewidth": 0,
             "ticks": ""
            },
            "type": "choropleth"
           }
          ],
          "contour": [
           {
            "colorbar": {
             "outlinewidth": 0,
             "ticks": ""
            },
            "colorscale": [
             [
              0,
              "#0d0887"
             ],
             [
              0.1111111111111111,
              "#46039f"
             ],
             [
              0.2222222222222222,
              "#7201a8"
             ],
             [
              0.3333333333333333,
              "#9c179e"
             ],
             [
              0.4444444444444444,
              "#bd3786"
             ],
             [
              0.5555555555555556,
              "#d8576b"
             ],
             [
              0.6666666666666666,
              "#ed7953"
             ],
             [
              0.7777777777777778,
              "#fb9f3a"
             ],
             [
              0.8888888888888888,
              "#fdca26"
             ],
             [
              1,
              "#f0f921"
             ]
            ],
            "type": "contour"
           }
          ],
          "contourcarpet": [
           {
            "colorbar": {
             "outlinewidth": 0,
             "ticks": ""
            },
            "type": "contourcarpet"
           }
          ],
          "heatmap": [
           {
            "colorbar": {
             "outlinewidth": 0,
             "ticks": ""
            },
            "colorscale": [
             [
              0,
              "#0d0887"
             ],
             [
              0.1111111111111111,
              "#46039f"
             ],
             [
              0.2222222222222222,
              "#7201a8"
             ],
             [
              0.3333333333333333,
              "#9c179e"
             ],
             [
              0.4444444444444444,
              "#bd3786"
             ],
             [
              0.5555555555555556,
              "#d8576b"
             ],
             [
              0.6666666666666666,
              "#ed7953"
             ],
             [
              0.7777777777777778,
              "#fb9f3a"
             ],
             [
              0.8888888888888888,
              "#fdca26"
             ],
             [
              1,
              "#f0f921"
             ]
            ],
            "type": "heatmap"
           }
          ],
          "heatmapgl": [
           {
            "colorbar": {
             "outlinewidth": 0,
             "ticks": ""
            },
            "colorscale": [
             [
              0,
              "#0d0887"
             ],
             [
              0.1111111111111111,
              "#46039f"
             ],
             [
              0.2222222222222222,
              "#7201a8"
             ],
             [
              0.3333333333333333,
              "#9c179e"
             ],
             [
              0.4444444444444444,
              "#bd3786"
             ],
             [
              0.5555555555555556,
              "#d8576b"
             ],
             [
              0.6666666666666666,
              "#ed7953"
             ],
             [
              0.7777777777777778,
              "#fb9f3a"
             ],
             [
              0.8888888888888888,
              "#fdca26"
             ],
             [
              1,
              "#f0f921"
             ]
            ],
            "type": "heatmapgl"
           }
          ],
          "histogram": [
           {
            "marker": {
             "colorbar": {
              "outlinewidth": 0,
              "ticks": ""
             }
            },
            "type": "histogram"
           }
          ],
          "histogram2d": [
           {
            "colorbar": {
             "outlinewidth": 0,
             "ticks": ""
            },
            "colorscale": [
             [
              0,
              "#0d0887"
             ],
             [
              0.1111111111111111,
              "#46039f"
             ],
             [
              0.2222222222222222,
              "#7201a8"
             ],
             [
              0.3333333333333333,
              "#9c179e"
             ],
             [
              0.4444444444444444,
              "#bd3786"
             ],
             [
              0.5555555555555556,
              "#d8576b"
             ],
             [
              0.6666666666666666,
              "#ed7953"
             ],
             [
              0.7777777777777778,
              "#fb9f3a"
             ],
             [
              0.8888888888888888,
              "#fdca26"
             ],
             [
              1,
              "#f0f921"
             ]
            ],
            "type": "histogram2d"
           }
          ],
          "histogram2dcontour": [
           {
            "colorbar": {
             "outlinewidth": 0,
             "ticks": ""
            },
            "colorscale": [
             [
              0,
              "#0d0887"
             ],
             [
              0.1111111111111111,
              "#46039f"
             ],
             [
              0.2222222222222222,
              "#7201a8"
             ],
             [
              0.3333333333333333,
              "#9c179e"
             ],
             [
              0.4444444444444444,
              "#bd3786"
             ],
             [
              0.5555555555555556,
              "#d8576b"
             ],
             [
              0.6666666666666666,
              "#ed7953"
             ],
             [
              0.7777777777777778,
              "#fb9f3a"
             ],
             [
              0.8888888888888888,
              "#fdca26"
             ],
             [
              1,
              "#f0f921"
             ]
            ],
            "type": "histogram2dcontour"
           }
          ],
          "mesh3d": [
           {
            "colorbar": {
             "outlinewidth": 0,
             "ticks": ""
            },
            "type": "mesh3d"
           }
          ],
          "parcoords": [
           {
            "line": {
             "colorbar": {
              "outlinewidth": 0,
              "ticks": ""
             }
            },
            "type": "parcoords"
           }
          ],
          "pie": [
           {
            "automargin": true,
            "type": "pie"
           }
          ],
          "scatter": [
           {
            "marker": {
             "colorbar": {
              "outlinewidth": 0,
              "ticks": ""
             }
            },
            "type": "scatter"
           }
          ],
          "scatter3d": [
           {
            "line": {
             "colorbar": {
              "outlinewidth": 0,
              "ticks": ""
             }
            },
            "marker": {
             "colorbar": {
              "outlinewidth": 0,
              "ticks": ""
             }
            },
            "type": "scatter3d"
           }
          ],
          "scattercarpet": [
           {
            "marker": {
             "colorbar": {
              "outlinewidth": 0,
              "ticks": ""
             }
            },
            "type": "scattercarpet"
           }
          ],
          "scattergeo": [
           {
            "marker": {
             "colorbar": {
              "outlinewidth": 0,
              "ticks": ""
             }
            },
            "type": "scattergeo"
           }
          ],
          "scattergl": [
           {
            "marker": {
             "colorbar": {
              "outlinewidth": 0,
              "ticks": ""
             }
            },
            "type": "scattergl"
           }
          ],
          "scattermapbox": [
           {
            "marker": {
             "colorbar": {
              "outlinewidth": 0,
              "ticks": ""
             }
            },
            "type": "scattermapbox"
           }
          ],
          "scatterpolar": [
           {
            "marker": {
             "colorbar": {
              "outlinewidth": 0,
              "ticks": ""
             }
            },
            "type": "scatterpolar"
           }
          ],
          "scatterpolargl": [
           {
            "marker": {
             "colorbar": {
              "outlinewidth": 0,
              "ticks": ""
             }
            },
            "type": "scatterpolargl"
           }
          ],
          "scatterternary": [
           {
            "marker": {
             "colorbar": {
              "outlinewidth": 0,
              "ticks": ""
             }
            },
            "type": "scatterternary"
           }
          ],
          "surface": [
           {
            "colorbar": {
             "outlinewidth": 0,
             "ticks": ""
            },
            "colorscale": [
             [
              0,
              "#0d0887"
             ],
             [
              0.1111111111111111,
              "#46039f"
             ],
             [
              0.2222222222222222,
              "#7201a8"
             ],
             [
              0.3333333333333333,
              "#9c179e"
             ],
             [
              0.4444444444444444,
              "#bd3786"
             ],
             [
              0.5555555555555556,
              "#d8576b"
             ],
             [
              0.6666666666666666,
              "#ed7953"
             ],
             [
              0.7777777777777778,
              "#fb9f3a"
             ],
             [
              0.8888888888888888,
              "#fdca26"
             ],
             [
              1,
              "#f0f921"
             ]
            ],
            "type": "surface"
           }
          ],
          "table": [
           {
            "cells": {
             "fill": {
              "color": "#EBF0F8"
             },
             "line": {
              "color": "white"
             }
            },
            "header": {
             "fill": {
              "color": "#C8D4E3"
             },
             "line": {
              "color": "white"
             }
            },
            "type": "table"
           }
          ]
         },
         "layout": {
          "annotationdefaults": {
           "arrowcolor": "#2a3f5f",
           "arrowhead": 0,
           "arrowwidth": 1
          },
          "coloraxis": {
           "colorbar": {
            "outlinewidth": 0,
            "ticks": ""
           }
          },
          "colorscale": {
           "diverging": [
            [
             0,
             "#8e0152"
            ],
            [
             0.1,
             "#c51b7d"
            ],
            [
             0.2,
             "#de77ae"
            ],
            [
             0.3,
             "#f1b6da"
            ],
            [
             0.4,
             "#fde0ef"
            ],
            [
             0.5,
             "#f7f7f7"
            ],
            [
             0.6,
             "#e6f5d0"
            ],
            [
             0.7,
             "#b8e186"
            ],
            [
             0.8,
             "#7fbc41"
            ],
            [
             0.9,
             "#4d9221"
            ],
            [
             1,
             "#276419"
            ]
           ],
           "sequential": [
            [
             0,
             "#0d0887"
            ],
            [
             0.1111111111111111,
             "#46039f"
            ],
            [
             0.2222222222222222,
             "#7201a8"
            ],
            [
             0.3333333333333333,
             "#9c179e"
            ],
            [
             0.4444444444444444,
             "#bd3786"
            ],
            [
             0.5555555555555556,
             "#d8576b"
            ],
            [
             0.6666666666666666,
             "#ed7953"
            ],
            [
             0.7777777777777778,
             "#fb9f3a"
            ],
            [
             0.8888888888888888,
             "#fdca26"
            ],
            [
             1,
             "#f0f921"
            ]
           ],
           "sequentialminus": [
            [
             0,
             "#0d0887"
            ],
            [
             0.1111111111111111,
             "#46039f"
            ],
            [
             0.2222222222222222,
             "#7201a8"
            ],
            [
             0.3333333333333333,
             "#9c179e"
            ],
            [
             0.4444444444444444,
             "#bd3786"
            ],
            [
             0.5555555555555556,
             "#d8576b"
            ],
            [
             0.6666666666666666,
             "#ed7953"
            ],
            [
             0.7777777777777778,
             "#fb9f3a"
            ],
            [
             0.8888888888888888,
             "#fdca26"
            ],
            [
             1,
             "#f0f921"
            ]
           ]
          },
          "colorway": [
           "#636efa",
           "#EF553B",
           "#00cc96",
           "#ab63fa",
           "#FFA15A",
           "#19d3f3",
           "#FF6692",
           "#B6E880",
           "#FF97FF",
           "#FECB52"
          ],
          "font": {
           "color": "#2a3f5f"
          },
          "geo": {
           "bgcolor": "white",
           "lakecolor": "white",
           "landcolor": "#E5ECF6",
           "showlakes": true,
           "showland": true,
           "subunitcolor": "white"
          },
          "hoverlabel": {
           "align": "left"
          },
          "hovermode": "closest",
          "mapbox": {
           "style": "light"
          },
          "paper_bgcolor": "white",
          "plot_bgcolor": "#E5ECF6",
          "polar": {
           "angularaxis": {
            "gridcolor": "white",
            "linecolor": "white",
            "ticks": ""
           },
           "bgcolor": "#E5ECF6",
           "radialaxis": {
            "gridcolor": "white",
            "linecolor": "white",
            "ticks": ""
           }
          },
          "scene": {
           "xaxis": {
            "backgroundcolor": "#E5ECF6",
            "gridcolor": "white",
            "gridwidth": 2,
            "linecolor": "white",
            "showbackground": true,
            "ticks": "",
            "zerolinecolor": "white"
           },
           "yaxis": {
            "backgroundcolor": "#E5ECF6",
            "gridcolor": "white",
            "gridwidth": 2,
            "linecolor": "white",
            "showbackground": true,
            "ticks": "",
            "zerolinecolor": "white"
           },
           "zaxis": {
            "backgroundcolor": "#E5ECF6",
            "gridcolor": "white",
            "gridwidth": 2,
            "linecolor": "white",
            "showbackground": true,
            "ticks": "",
            "zerolinecolor": "white"
           }
          },
          "shapedefaults": {
           "line": {
            "color": "#2a3f5f"
           }
          },
          "ternary": {
           "aaxis": {
            "gridcolor": "white",
            "linecolor": "white",
            "ticks": ""
           },
           "baxis": {
            "gridcolor": "white",
            "linecolor": "white",
            "ticks": ""
           },
           "bgcolor": "#E5ECF6",
           "caxis": {
            "gridcolor": "white",
            "linecolor": "white",
            "ticks": ""
           }
          },
          "title": {
           "x": 0.05
          },
          "xaxis": {
           "automargin": true,
           "gridcolor": "white",
           "linecolor": "white",
           "ticks": "",
           "title": {
            "standoff": 15
           },
           "zerolinecolor": "white",
           "zerolinewidth": 2
          },
          "yaxis": {
           "automargin": true,
           "gridcolor": "white",
           "linecolor": "white",
           "ticks": "",
           "title": {
            "standoff": 15
           },
           "zerolinecolor": "white",
           "zerolinewidth": 2
          }
         }
        },
        "title": {
         "font": {
          "color": "#4D5663"
         }
        },
        "xaxis": {
         "gridcolor": "#E1E5ED",
         "showgrid": true,
         "tickfont": {
          "color": "#4D5663"
         },
         "title": {
          "font": {
           "color": "#4D5663"
          },
          "text": ""
         },
         "zerolinecolor": "#E1E5ED"
        },
        "yaxis": {
         "gridcolor": "#E1E5ED",
         "showgrid": true,
         "tickfont": {
          "color": "#4D5663"
         },
         "title": {
          "font": {
           "color": "#4D5663"
          },
          "text": ""
         },
         "zerolinecolor": "#E1E5ED"
        }
       }
      },
      "text/html": [
       "<div>\n",
       "        \n",
       "        \n",
       "            <div id=\"487a83e1-3458-4bdd-9048-95ce92967e70\" class=\"plotly-graph-div\" style=\"height:525px; width:100%;\"></div>\n",
       "            <script type=\"text/javascript\">\n",
       "                require([\"plotly\"], function(Plotly) {\n",
       "                    window.PLOTLYENV=window.PLOTLYENV || {};\n",
       "                    window.PLOTLYENV.BASE_URL='https://plot.ly';\n",
       "                    \n",
       "                if (document.getElementById(\"487a83e1-3458-4bdd-9048-95ce92967e70\")) {\n",
       "                    Plotly.newPlot(\n",
       "                        '487a83e1-3458-4bdd-9048-95ce92967e70',\n",
       "                        [{\"marker\": {\"color\": \"rgba(255, 153, 51, 0.6)\", \"line\": {\"color\": \"rgba(255, 153, 51, 1.0)\", \"width\": 1}}, \"name\": \"Values\", \"orientation\": \"v\", \"text\": \"\", \"type\": \"bar\", \"x\": [\"A\", \"B\", \"C\"], \"y\": [32, 43, 50]}],\n",
       "                        {\"legend\": {\"bgcolor\": \"#F5F6F9\", \"font\": {\"color\": \"#4D5663\"}}, \"paper_bgcolor\": \"#F5F6F9\", \"plot_bgcolor\": \"#F5F6F9\", \"template\": {\"data\": {\"bar\": [{\"error_x\": {\"color\": \"#2a3f5f\"}, \"error_y\": {\"color\": \"#2a3f5f\"}, \"marker\": {\"line\": {\"color\": \"#E5ECF6\", \"width\": 0.5}}, \"type\": \"bar\"}], \"barpolar\": [{\"marker\": {\"line\": {\"color\": \"#E5ECF6\", \"width\": 0.5}}, \"type\": \"barpolar\"}], \"carpet\": [{\"aaxis\": {\"endlinecolor\": \"#2a3f5f\", \"gridcolor\": \"white\", \"linecolor\": \"white\", \"minorgridcolor\": \"white\", \"startlinecolor\": \"#2a3f5f\"}, \"baxis\": {\"endlinecolor\": \"#2a3f5f\", \"gridcolor\": \"white\", \"linecolor\": \"white\", \"minorgridcolor\": \"white\", \"startlinecolor\": \"#2a3f5f\"}, \"type\": \"carpet\"}], \"choropleth\": [{\"colorbar\": {\"outlinewidth\": 0, \"ticks\": \"\"}, \"type\": \"choropleth\"}], \"contour\": [{\"colorbar\": {\"outlinewidth\": 0, \"ticks\": \"\"}, \"colorscale\": [[0.0, \"#0d0887\"], [0.1111111111111111, \"#46039f\"], [0.2222222222222222, \"#7201a8\"], [0.3333333333333333, \"#9c179e\"], [0.4444444444444444, \"#bd3786\"], [0.5555555555555556, \"#d8576b\"], [0.6666666666666666, \"#ed7953\"], [0.7777777777777778, \"#fb9f3a\"], [0.8888888888888888, \"#fdca26\"], [1.0, \"#f0f921\"]], \"type\": \"contour\"}], \"contourcarpet\": [{\"colorbar\": {\"outlinewidth\": 0, \"ticks\": \"\"}, \"type\": \"contourcarpet\"}], \"heatmap\": [{\"colorbar\": {\"outlinewidth\": 0, \"ticks\": \"\"}, \"colorscale\": [[0.0, \"#0d0887\"], [0.1111111111111111, \"#46039f\"], [0.2222222222222222, \"#7201a8\"], [0.3333333333333333, \"#9c179e\"], [0.4444444444444444, \"#bd3786\"], [0.5555555555555556, \"#d8576b\"], [0.6666666666666666, \"#ed7953\"], [0.7777777777777778, \"#fb9f3a\"], [0.8888888888888888, \"#fdca26\"], [1.0, \"#f0f921\"]], \"type\": \"heatmap\"}], \"heatmapgl\": [{\"colorbar\": {\"outlinewidth\": 0, \"ticks\": \"\"}, \"colorscale\": [[0.0, \"#0d0887\"], [0.1111111111111111, \"#46039f\"], [0.2222222222222222, \"#7201a8\"], [0.3333333333333333, \"#9c179e\"], [0.4444444444444444, \"#bd3786\"], [0.5555555555555556, \"#d8576b\"], [0.6666666666666666, \"#ed7953\"], [0.7777777777777778, \"#fb9f3a\"], [0.8888888888888888, \"#fdca26\"], [1.0, \"#f0f921\"]], \"type\": \"heatmapgl\"}], \"histogram\": [{\"marker\": {\"colorbar\": {\"outlinewidth\": 0, \"ticks\": \"\"}}, \"type\": \"histogram\"}], \"histogram2d\": [{\"colorbar\": {\"outlinewidth\": 0, \"ticks\": \"\"}, \"colorscale\": [[0.0, \"#0d0887\"], [0.1111111111111111, \"#46039f\"], [0.2222222222222222, \"#7201a8\"], [0.3333333333333333, \"#9c179e\"], [0.4444444444444444, \"#bd3786\"], [0.5555555555555556, \"#d8576b\"], [0.6666666666666666, \"#ed7953\"], [0.7777777777777778, \"#fb9f3a\"], [0.8888888888888888, \"#fdca26\"], [1.0, \"#f0f921\"]], \"type\": \"histogram2d\"}], \"histogram2dcontour\": [{\"colorbar\": {\"outlinewidth\": 0, \"ticks\": \"\"}, \"colorscale\": [[0.0, \"#0d0887\"], [0.1111111111111111, \"#46039f\"], [0.2222222222222222, \"#7201a8\"], [0.3333333333333333, \"#9c179e\"], [0.4444444444444444, \"#bd3786\"], [0.5555555555555556, \"#d8576b\"], [0.6666666666666666, \"#ed7953\"], [0.7777777777777778, \"#fb9f3a\"], [0.8888888888888888, \"#fdca26\"], [1.0, \"#f0f921\"]], \"type\": \"histogram2dcontour\"}], \"mesh3d\": [{\"colorbar\": {\"outlinewidth\": 0, \"ticks\": \"\"}, \"type\": \"mesh3d\"}], \"parcoords\": [{\"line\": {\"colorbar\": {\"outlinewidth\": 0, \"ticks\": \"\"}}, \"type\": \"parcoords\"}], \"pie\": [{\"automargin\": true, \"type\": \"pie\"}], \"scatter\": [{\"marker\": {\"colorbar\": {\"outlinewidth\": 0, \"ticks\": \"\"}}, \"type\": \"scatter\"}], \"scatter3d\": [{\"line\": {\"colorbar\": {\"outlinewidth\": 0, \"ticks\": \"\"}}, \"marker\": {\"colorbar\": {\"outlinewidth\": 0, \"ticks\": \"\"}}, \"type\": \"scatter3d\"}], \"scattercarpet\": [{\"marker\": {\"colorbar\": {\"outlinewidth\": 0, \"ticks\": \"\"}}, \"type\": \"scattercarpet\"}], \"scattergeo\": [{\"marker\": {\"colorbar\": {\"outlinewidth\": 0, \"ticks\": \"\"}}, \"type\": \"scattergeo\"}], \"scattergl\": [{\"marker\": {\"colorbar\": {\"outlinewidth\": 0, \"ticks\": \"\"}}, \"type\": \"scattergl\"}], \"scattermapbox\": [{\"marker\": {\"colorbar\": {\"outlinewidth\": 0, \"ticks\": \"\"}}, \"type\": \"scattermapbox\"}], \"scatterpolar\": [{\"marker\": {\"colorbar\": {\"outlinewidth\": 0, \"ticks\": \"\"}}, \"type\": \"scatterpolar\"}], \"scatterpolargl\": [{\"marker\": {\"colorbar\": {\"outlinewidth\": 0, \"ticks\": \"\"}}, \"type\": \"scatterpolargl\"}], \"scatterternary\": [{\"marker\": {\"colorbar\": {\"outlinewidth\": 0, \"ticks\": \"\"}}, \"type\": \"scatterternary\"}], \"surface\": [{\"colorbar\": {\"outlinewidth\": 0, \"ticks\": \"\"}, \"colorscale\": [[0.0, \"#0d0887\"], [0.1111111111111111, \"#46039f\"], [0.2222222222222222, \"#7201a8\"], [0.3333333333333333, \"#9c179e\"], [0.4444444444444444, \"#bd3786\"], [0.5555555555555556, \"#d8576b\"], [0.6666666666666666, \"#ed7953\"], [0.7777777777777778, \"#fb9f3a\"], [0.8888888888888888, \"#fdca26\"], [1.0, \"#f0f921\"]], \"type\": \"surface\"}], \"table\": [{\"cells\": {\"fill\": {\"color\": \"#EBF0F8\"}, \"line\": {\"color\": \"white\"}}, \"header\": {\"fill\": {\"color\": \"#C8D4E3\"}, \"line\": {\"color\": \"white\"}}, \"type\": \"table\"}]}, \"layout\": {\"annotationdefaults\": {\"arrowcolor\": \"#2a3f5f\", \"arrowhead\": 0, \"arrowwidth\": 1}, \"coloraxis\": {\"colorbar\": {\"outlinewidth\": 0, \"ticks\": \"\"}}, \"colorscale\": {\"diverging\": [[0, \"#8e0152\"], [0.1, \"#c51b7d\"], [0.2, \"#de77ae\"], [0.3, \"#f1b6da\"], [0.4, \"#fde0ef\"], [0.5, \"#f7f7f7\"], [0.6, \"#e6f5d0\"], [0.7, \"#b8e186\"], [0.8, \"#7fbc41\"], [0.9, \"#4d9221\"], [1, \"#276419\"]], \"sequential\": [[0.0, \"#0d0887\"], [0.1111111111111111, \"#46039f\"], [0.2222222222222222, \"#7201a8\"], [0.3333333333333333, \"#9c179e\"], [0.4444444444444444, \"#bd3786\"], [0.5555555555555556, \"#d8576b\"], [0.6666666666666666, \"#ed7953\"], [0.7777777777777778, \"#fb9f3a\"], [0.8888888888888888, \"#fdca26\"], [1.0, \"#f0f921\"]], \"sequentialminus\": [[0.0, \"#0d0887\"], [0.1111111111111111, \"#46039f\"], [0.2222222222222222, \"#7201a8\"], [0.3333333333333333, \"#9c179e\"], [0.4444444444444444, \"#bd3786\"], [0.5555555555555556, \"#d8576b\"], [0.6666666666666666, \"#ed7953\"], [0.7777777777777778, \"#fb9f3a\"], [0.8888888888888888, \"#fdca26\"], [1.0, \"#f0f921\"]]}, \"colorway\": [\"#636efa\", \"#EF553B\", \"#00cc96\", \"#ab63fa\", \"#FFA15A\", \"#19d3f3\", \"#FF6692\", \"#B6E880\", \"#FF97FF\", \"#FECB52\"], \"font\": {\"color\": \"#2a3f5f\"}, \"geo\": {\"bgcolor\": \"white\", \"lakecolor\": \"white\", \"landcolor\": \"#E5ECF6\", \"showlakes\": true, \"showland\": true, \"subunitcolor\": \"white\"}, \"hoverlabel\": {\"align\": \"left\"}, \"hovermode\": \"closest\", \"mapbox\": {\"style\": \"light\"}, \"paper_bgcolor\": \"white\", \"plot_bgcolor\": \"#E5ECF6\", \"polar\": {\"angularaxis\": {\"gridcolor\": \"white\", \"linecolor\": \"white\", \"ticks\": \"\"}, \"bgcolor\": \"#E5ECF6\", \"radialaxis\": {\"gridcolor\": \"white\", \"linecolor\": \"white\", \"ticks\": \"\"}}, \"scene\": {\"xaxis\": {\"backgroundcolor\": \"#E5ECF6\", \"gridcolor\": \"white\", \"gridwidth\": 2, \"linecolor\": \"white\", \"showbackground\": true, \"ticks\": \"\", \"zerolinecolor\": \"white\"}, \"yaxis\": {\"backgroundcolor\": \"#E5ECF6\", \"gridcolor\": \"white\", \"gridwidth\": 2, \"linecolor\": \"white\", \"showbackground\": true, \"ticks\": \"\", \"zerolinecolor\": \"white\"}, \"zaxis\": {\"backgroundcolor\": \"#E5ECF6\", \"gridcolor\": \"white\", \"gridwidth\": 2, \"linecolor\": \"white\", \"showbackground\": true, \"ticks\": \"\", \"zerolinecolor\": \"white\"}}, \"shapedefaults\": {\"line\": {\"color\": \"#2a3f5f\"}}, \"ternary\": {\"aaxis\": {\"gridcolor\": \"white\", \"linecolor\": \"white\", \"ticks\": \"\"}, \"baxis\": {\"gridcolor\": \"white\", \"linecolor\": \"white\", \"ticks\": \"\"}, \"bgcolor\": \"#E5ECF6\", \"caxis\": {\"gridcolor\": \"white\", \"linecolor\": \"white\", \"ticks\": \"\"}}, \"title\": {\"x\": 0.05}, \"xaxis\": {\"automargin\": true, \"gridcolor\": \"white\", \"linecolor\": \"white\", \"ticks\": \"\", \"title\": {\"standoff\": 15}, \"zerolinecolor\": \"white\", \"zerolinewidth\": 2}, \"yaxis\": {\"automargin\": true, \"gridcolor\": \"white\", \"linecolor\": \"white\", \"ticks\": \"\", \"title\": {\"standoff\": 15}, \"zerolinecolor\": \"white\", \"zerolinewidth\": 2}}}, \"title\": {\"font\": {\"color\": \"#4D5663\"}}, \"xaxis\": {\"gridcolor\": \"#E1E5ED\", \"showgrid\": true, \"tickfont\": {\"color\": \"#4D5663\"}, \"title\": {\"font\": {\"color\": \"#4D5663\"}, \"text\": \"\"}, \"zerolinecolor\": \"#E1E5ED\"}, \"yaxis\": {\"gridcolor\": \"#E1E5ED\", \"showgrid\": true, \"tickfont\": {\"color\": \"#4D5663\"}, \"title\": {\"font\": {\"color\": \"#4D5663\"}, \"text\": \"\"}, \"zerolinecolor\": \"#E1E5ED\"}},\n",
       "                        {\"showLink\": true, \"linkText\": \"Export to plot.ly\", \"plotlyServerURL\": \"https://plot.ly\", \"responsive\": true}\n",
       "                    ).then(function(){\n",
       "                            \n",
       "var gd = document.getElementById('487a83e1-3458-4bdd-9048-95ce92967e70');\n",
       "var x = new MutationObserver(function (mutations, observer) {{\n",
       "        var display = window.getComputedStyle(gd).display;\n",
       "        if (!display || display === 'none') {{\n",
       "            console.log([gd, 'removed!']);\n",
       "            Plotly.purge(gd);\n",
       "            observer.disconnect();\n",
       "        }}\n",
       "}});\n",
       "\n",
       "// Listen for the removal of the full notebook cells\n",
       "var notebookContainer = gd.closest('#notebook-container');\n",
       "if (notebookContainer) {{\n",
       "    x.observe(notebookContainer, {childList: true});\n",
       "}}\n",
       "\n",
       "// Listen for the clearing of the current output cell\n",
       "var outputEl = gd.closest('.output');\n",
       "if (outputEl) {{\n",
       "    x.observe(outputEl, {childList: true});\n",
       "}}\n",
       "\n",
       "                        })\n",
       "                };\n",
       "                });\n",
       "            </script>\n",
       "        </div>"
      ]
     },
     "metadata": {},
     "output_type": "display_data"
    }
   ],
   "source": [
    "df2.iplot(kind='bar',x='Category',y='Values')"
   ]
  },
  {
   "cell_type": "code",
   "execution_count": 33,
   "metadata": {},
   "outputs": [
    {
     "data": {
      "text/html": [
       "<div id=\"0f3d8847-73f9-4d83-a41a-ea5e36c6d128\" style=\"height: 525px; width: 100%;\" class=\"plotly-graph-div\"></div><script type=\"text/javascript\">require([\"plotly\"], function(Plotly) { window.PLOTLYENV=window.PLOTLYENV || {};window.PLOTLYENV.BASE_URL=\"https://plot.ly\";Plotly.newPlot(\"0f3d8847-73f9-4d83-a41a-ea5e36c6d128\", [{\"x\": [\"A\", \"B\", \"C\", \"D\"], \"text\": \"\", \"orientation\": \"v\", \"name\": \"None\", \"type\": \"bar\", \"marker\": {\"line\": {\"width\": 1, \"color\": \"rgba(226, 74, 51, 1.0)\"}, \"color\": \"rgba(226, 74, 51, 0.6)\"}, \"y\": [100, 100, 100, 100]}], {\"legend\": {\"font\": {\"color\": \"#666666\"}, \"bgcolor\": \"#FFFFFF\"}, \"titlefont\": {\"color\": \"#151516\"}, \"xaxis1\": {\"titlefont\": {\"color\": \"#666666\"}, \"zerolinecolor\": \"#F6F6F6\", \"title\": \"\", \"tickfont\": {\"color\": \"#666666\"}, \"showgrid\": true, \"gridcolor\": \"#F6F6F6\"}, \"paper_bgcolor\": \"#FFFFFF\", \"plot_bgcolor\": \"#E5E5E5\", \"yaxis1\": {\"titlefont\": {\"color\": \"#666666\"}, \"zerolinecolor\": \"#F6F6F6\", \"title\": \"\", \"tickfont\": {\"color\": \"#666666\"}, \"showgrid\": true, \"gridcolor\": \"#F6F6F6\"}}, {\"showLink\": true, \"linkText\": \"Export to plot.ly\"})});</script>"
      ],
      "text/plain": [
       "<IPython.core.display.HTML object>"
      ]
     },
     "metadata": {},
     "output_type": "display_data"
    }
   ],
   "source": [
    "df.count().iplot(kind='bar')"
   ]
  },
  {
   "cell_type": "markdown",
   "metadata": {},
   "source": [
    "## Boxplots"
   ]
  },
  {
   "cell_type": "code",
   "execution_count": 14,
   "metadata": {},
   "outputs": [
    {
     "data": {
      "application/vnd.plotly.v1+json": {
       "config": {
        "linkText": "Export to plot.ly",
        "plotlyServerURL": "https://plot.ly",
        "showLink": true
       },
       "data": [
        {
         "boxpoints": false,
         "line": {
          "width": 1.3
         },
         "marker": {
          "color": "rgba(255, 153, 51, 1.0)"
         },
         "name": "A",
         "orientation": "v",
         "type": "box",
         "y": [
          -0.47323338372044216,
          0.391342125956041,
          -1.3930192517983035,
          -0.7583764463384806,
          0.030560247015788796,
          -0.42222897997487735,
          0.3419507372052493,
          -0.6530728726886348,
          0.4911743583401989,
          -0.6399410387909096,
          1.252348795213839,
          2.79565887203688,
          1.0216953549398935,
          -0.6760681475071038,
          1.9153287675036414,
          -0.8574194766794743,
          0.03971198334552156,
          1.5575886718822547,
          -0.41104371136749807,
          0.45423026955435997,
          1.37682200922694,
          -0.49097371261325123,
          -1.103902239392601,
          1.209088156671042,
          -0.12929287076995005,
          -1.3546787992622251,
          0.741078850974195,
          0.17579127326631125,
          -0.01674344571807809,
          1.1428979827099823,
          0.012233952698504845,
          -0.8741512129967439,
          0.1427194853744033,
          1.1058161773053639,
          0.12295872208272311,
          -0.5856164378476567,
          0.21613129771727468,
          -1.8690770920771833,
          -0.6898825134758376,
          -0.05458461743161419,
          -0.15759841027243723,
          -0.6117912504899256,
          -0.696867769386093,
          -0.3274933689874018,
          -0.735725361990674,
          -0.006292612703083734,
          -0.4783007321809796,
          0.46136717463820837,
          1.1050679917684179,
          -0.8742044025984583,
          -0.7822275024460555,
          0.19428282921115408,
          -1.599183119108615,
          0.16519098965643408,
          1.1233298071638333,
          0.25714148321550806,
          -0.4491728069771753,
          0.3286657772584293,
          0.4223585017724842,
          -1.3447552904968874,
          0.23535742165332924,
          -0.7746665058691453,
          -0.49249988794559896,
          -0.3916749224744794,
          -1.5427041968534043,
          0.33574744449984323,
          0.28716634919374984,
          -0.5396371694147453,
          1.5186938958656993,
          -0.16730775070513196,
          0.7986916318539317,
          -1.8076154055395393,
          0.8449677715018729,
          1.4994351030509954,
          0.3761440759664159,
          0.02032831851069565,
          -0.25420286262412284,
          0.5915923846119849,
          0.031343181368975785,
          0.8924389509972139,
          0.14696198272413175,
          -0.3383806308837403,
          -0.8167067803331302,
          0.8375097350413139,
          -1.844697334868694,
          -0.47583161834498267,
          0.3993116744743492,
          1.5196641994432958,
          -2.149826871045154,
          -0.5054434625221709,
          0.9568329180805797,
          -1.1772979939147825,
          0.12495847641314985,
          2.489394225157195,
          0.8167825718121651,
          -1.541048250898501,
          1.3836463003138744,
          -0.030213786772967887,
          0.6891482660718707,
          0.22201933593073467
         ]
        },
        {
         "boxpoints": false,
         "line": {
          "width": 1.3
         },
         "marker": {
          "color": "rgba(55, 128, 191, 1.0)"
         },
         "name": "B",
         "orientation": "v",
         "type": "box",
         "y": [
          -0.7863556269567842,
          -0.3934319050293995,
          -0.8659569932604896,
          0.30666746365172154,
          -2.5335810728661774,
          0.08560385128773612,
          0.7707462351268122,
          -0.1532090031592984,
          1.1286258467424628,
          -0.5825286450266112,
          0.39862414075985675,
          0.22258314683488725,
          1.0537570365862137,
          -0.8159525977081468,
          -0.5061916446714905,
          -0.26061714680962556,
          -2.254049905642298,
          0.29318800193968925,
          2.3094028981793846,
          -0.048968716571239,
          0.06985565178494063,
          -1.274260090264892,
          -1.41004308259798,
          2.002966383137955,
          -0.7586585236309823,
          1.835932532756517,
          -0.6629902504136792,
          0.3189347126535099,
          0.5065766796579961,
          2.1881591681018104,
          -0.5091713331664507,
          0.6461027072133978,
          -0.9858139943365096,
          0.8352212513237809,
          0.7678917985915251,
          -0.5720013372834474,
          0.4597669525366794,
          0.0010371046198402512,
          -0.20491356648425588,
          0.9328866567283997,
          2.176018941163229,
          -0.9163567131417804,
          0.8099443703746437,
          1.378718852814666,
          -0.0959067798324056,
          0.3055517084481643,
          0.9479911188482862,
          -1.8741975653115122,
          1.4659130901080561,
          0.9689652756893685,
          -1.5009623827195906,
          2.8872697466472643,
          0.06706261098262112,
          0.017536891671529827,
          1.6155683878161462,
          -0.06803490307878995,
          -1.0926381642910077,
          0.7340270358115923,
          0.517571964274028,
          0.667005891920211,
          -2.112386962226195,
          -0.13579269137096708,
          0.1207994583196543,
          -0.5254973507764424,
          -1.2886398814889086,
          -2.0279168784246986,
          1.1485673851045588,
          -0.20190822632409647,
          -0.5969951426556726,
          0.22088014731203623,
          1.1376723087755327,
          0.5738714744704506,
          0.7451691218808038,
          0.5844226957724005,
          -0.9813236939291822,
          -1.045116851602681,
          -1.234923056082786,
          -1.0708041340168966,
          1.4658002080355017,
          -0.761499576905759,
          -3.1524089631556804,
          0.8339745187847174,
          -0.8736506796302141,
          0.19033242925434002,
          1.5338359061015892,
          -0.4971111409720753,
          0.6914248925254357,
          1.1375771610666334,
          1.2200375084760924,
          0.4138867568586993,
          -2.8980380292726386,
          0.04456869526355736,
          -1.081971961542821,
          1.0623667326027297,
          0.31280558134076863,
          -0.03546302545284578,
          -1.9668831578809485,
          0.051637491391016394,
          1.2239694666936947,
          0.39670028159886306
         ]
        },
        {
         "boxpoints": false,
         "line": {
          "width": 1.3
         },
         "marker": {
          "color": "rgba(50, 171, 96, 1.0)"
         },
         "name": "C",
         "orientation": "v",
         "type": "box",
         "y": [
          -0.6030994144415659,
          -0.28672966749573653,
          0.3392637081777703,
          0.19498541876018885,
          0.169856216447392,
          -0.8749694780455577,
          -0.9037667138370488,
          -1.4381153415660453,
          -1.611429323292964,
          1.2275259939998584,
          -0.4858796352778617,
          0.10993686372980101,
          0.20322138240469867,
          0.1639814859986579,
          -1.5008126480132573,
          0.24064956919564173,
          0.24874153648798175,
          0.48339678956485715,
          1.1362626939240847,
          0.16480533957003732,
          1.1998740666841663,
          -1.894446916413578,
          -1.1551781086385031,
          1.7792300072882297,
          -0.7485633694457982,
          -0.06244651162480217,
          0.7093620135952354,
          -0.12436000336714008,
          0.9671118726820398,
          -2.6419234339480364,
          0.49854865498424145,
          -1.9036608481825092,
          0.5992055389881571,
          -0.10728490763426868,
          -0.39122604266358013,
          0.029322228284007927,
          -0.6501617325268471,
          0.2714198367550461,
          0.028780351738951576,
          2.1229609299052474,
          -0.9588036175503883,
          -0.20756397019008022,
          0.49397847739770884,
          -0.16123035986796494,
          0.4766336596254507,
          0.049356656031718196,
          -1.2124496158290319,
          -0.8476034152623768,
          0.019054165369579677,
          -1.0130380351582837,
          -1.1330208742362609,
          0.0009183525475209432,
          -0.2736613745187976,
          0.9614992187615407,
          -1.491892771696647,
          -1.4614254205853954,
          0.25673598803179254,
          0.935584725011274,
          0.8096285786801392,
          -0.13912365853936803,
          1.912731992298654,
          1.1190324211744875,
          -0.920831175711935,
          -0.21931909366331578,
          0.7179848558775562,
          -0.2520014213426082,
          1.3555036502188451,
          -0.15249069905308443,
          0.6925437667865846,
          0.10388302518501544,
          -1.6541881857809821,
          -1.4285036846332086,
          0.2611101191670557,
          -0.10076774448316933,
          1.0593516810244787,
          -0.5690499889222228,
          -0.518083514239968,
          2.2529691304874313,
          -2.601375231121356,
          0.8848370561955524,
          -0.27551785238018295,
          -1.1658476120039192,
          -1.855448441952235,
          -0.26045859408597405,
          -2.717549064811967,
          -1.6228203033155657,
          -0.9442729761856262,
          -1.2411985580208704,
          0.19991879291346518,
          0.4100108728266116,
          -2.0666599259905927,
          -1.0860975839367148,
          0.27883688445685023,
          0.41597048365954387,
          0.10051276298124265,
          0.8428888067029818,
          0.5253094751462503,
          0.6812504479817608,
          0.8334538568617702,
          -0.651327253602928
         ]
        },
        {
         "boxpoints": false,
         "line": {
          "width": 1.3
         },
         "marker": {
          "color": "rgba(128, 0, 128, 1.0)"
         },
         "name": "D",
         "orientation": "v",
         "type": "box",
         "y": [
          -1.7565027787248992,
          2.142820692662946,
          0.44804922083164167,
          -0.9292887228981889,
          1.2852654232447904,
          0.3592152554023984,
          -1.8863365255560671,
          0.04800082653789518,
          0.37379051941980707,
          0.6555565219767131,
          -1.2532599770407524,
          -0.729589980032634,
          1.1534309225754797,
          1.0071263960475942,
          -1.2592619068510083,
          1.6844980995861003,
          -0.0745813296922144,
          0.5890987426786111,
          -0.8305981968245615,
          -1.1164979024238735,
          -1.1839481761910884,
          1.5595397033067833,
          0.3152942346576389,
          -0.44301311221403156,
          0.8236198522427761,
          -1.2019190641126138,
          1.5336120474207988,
          -0.4930318694411702,
          -0.8165159477581593,
          -1.8044899411202082,
          1.3334137074506227,
          0.49796139348785573,
          -0.20191598475039563,
          -0.4205233100966402,
          0.9911930167414926,
          2.393893679798556,
          0.5251465939094997,
          0.22728035079259354,
          -1.0995338065390503,
          1.0766360097392675,
          -0.14643211620316618,
          1.6151454182208635,
          1.687775473165265,
          -0.9117556207966099,
          -0.8130207857548152,
          0.6989510051408686,
          -1.109266580434571,
          0.5969756080602681,
          1.2507996821742322,
          -0.557680792577814,
          0.8506430503044562,
          0.02302688820406108,
          0.4054445756316907,
          -0.9785041751692184,
          0.3288605622268137,
          -0.7135953714720429,
          -0.3389226671442458,
          -1.0541842619388624,
          1.0350510964267012,
          -0.16314351167121433,
          0.4058551237326383,
          -1.0669714141072002,
          0.10180444308349802,
          -1.8897516411765771,
          0.6456515374470266,
          0.6250397753660706,
          -0.5729397033258652,
          1.5152701643620212,
          0.04916473944408896,
          -0.5639933417491443,
          0.06788285449455125,
          1.1485714179111128,
          -0.18264282303613275,
          -0.4801838916503548,
          -1.0183615555908196,
          -0.2110804976775807,
          -0.14315379079001916,
          -0.15697499984868937,
          -0.7739327762251197,
          -0.07444562294946552,
          -1.309676621933601,
          -0.7895104334903577,
          -1.4340777025447515,
          -0.35150157980575714,
          -0.48564836846214743,
          0.3512924471678498,
          -0.14631372262507386,
          -1.6132013191615706,
          -0.20510670937090764,
          1.2693650571758979,
          -0.4870260249990171,
          -1.0577699232778213,
          -0.9032213107714546,
          1.3388221980487656,
          -0.053311743566603474,
          0.8107899853388832,
          2.8124786778647857,
          0.39495366874029125,
          0.6107039258145395,
          -0.7200977824296632
         ]
        }
       ],
       "layout": {
        "legend": {
         "bgcolor": "#F5F6F9",
         "font": {
          "color": "#4D5663"
         }
        },
        "paper_bgcolor": "#F5F6F9",
        "plot_bgcolor": "#F5F6F9",
        "template": {
         "data": {
          "bar": [
           {
            "error_x": {
             "color": "#2a3f5f"
            },
            "error_y": {
             "color": "#2a3f5f"
            },
            "marker": {
             "line": {
              "color": "#E5ECF6",
              "width": 0.5
             }
            },
            "type": "bar"
           }
          ],
          "barpolar": [
           {
            "marker": {
             "line": {
              "color": "#E5ECF6",
              "width": 0.5
             }
            },
            "type": "barpolar"
           }
          ],
          "carpet": [
           {
            "aaxis": {
             "endlinecolor": "#2a3f5f",
             "gridcolor": "white",
             "linecolor": "white",
             "minorgridcolor": "white",
             "startlinecolor": "#2a3f5f"
            },
            "baxis": {
             "endlinecolor": "#2a3f5f",
             "gridcolor": "white",
             "linecolor": "white",
             "minorgridcolor": "white",
             "startlinecolor": "#2a3f5f"
            },
            "type": "carpet"
           }
          ],
          "choropleth": [
           {
            "colorbar": {
             "outlinewidth": 0,
             "ticks": ""
            },
            "type": "choropleth"
           }
          ],
          "contour": [
           {
            "colorbar": {
             "outlinewidth": 0,
             "ticks": ""
            },
            "colorscale": [
             [
              0,
              "#0d0887"
             ],
             [
              0.1111111111111111,
              "#46039f"
             ],
             [
              0.2222222222222222,
              "#7201a8"
             ],
             [
              0.3333333333333333,
              "#9c179e"
             ],
             [
              0.4444444444444444,
              "#bd3786"
             ],
             [
              0.5555555555555556,
              "#d8576b"
             ],
             [
              0.6666666666666666,
              "#ed7953"
             ],
             [
              0.7777777777777778,
              "#fb9f3a"
             ],
             [
              0.8888888888888888,
              "#fdca26"
             ],
             [
              1,
              "#f0f921"
             ]
            ],
            "type": "contour"
           }
          ],
          "contourcarpet": [
           {
            "colorbar": {
             "outlinewidth": 0,
             "ticks": ""
            },
            "type": "contourcarpet"
           }
          ],
          "heatmap": [
           {
            "colorbar": {
             "outlinewidth": 0,
             "ticks": ""
            },
            "colorscale": [
             [
              0,
              "#0d0887"
             ],
             [
              0.1111111111111111,
              "#46039f"
             ],
             [
              0.2222222222222222,
              "#7201a8"
             ],
             [
              0.3333333333333333,
              "#9c179e"
             ],
             [
              0.4444444444444444,
              "#bd3786"
             ],
             [
              0.5555555555555556,
              "#d8576b"
             ],
             [
              0.6666666666666666,
              "#ed7953"
             ],
             [
              0.7777777777777778,
              "#fb9f3a"
             ],
             [
              0.8888888888888888,
              "#fdca26"
             ],
             [
              1,
              "#f0f921"
             ]
            ],
            "type": "heatmap"
           }
          ],
          "heatmapgl": [
           {
            "colorbar": {
             "outlinewidth": 0,
             "ticks": ""
            },
            "colorscale": [
             [
              0,
              "#0d0887"
             ],
             [
              0.1111111111111111,
              "#46039f"
             ],
             [
              0.2222222222222222,
              "#7201a8"
             ],
             [
              0.3333333333333333,
              "#9c179e"
             ],
             [
              0.4444444444444444,
              "#bd3786"
             ],
             [
              0.5555555555555556,
              "#d8576b"
             ],
             [
              0.6666666666666666,
              "#ed7953"
             ],
             [
              0.7777777777777778,
              "#fb9f3a"
             ],
             [
              0.8888888888888888,
              "#fdca26"
             ],
             [
              1,
              "#f0f921"
             ]
            ],
            "type": "heatmapgl"
           }
          ],
          "histogram": [
           {
            "marker": {
             "colorbar": {
              "outlinewidth": 0,
              "ticks": ""
             }
            },
            "type": "histogram"
           }
          ],
          "histogram2d": [
           {
            "colorbar": {
             "outlinewidth": 0,
             "ticks": ""
            },
            "colorscale": [
             [
              0,
              "#0d0887"
             ],
             [
              0.1111111111111111,
              "#46039f"
             ],
             [
              0.2222222222222222,
              "#7201a8"
             ],
             [
              0.3333333333333333,
              "#9c179e"
             ],
             [
              0.4444444444444444,
              "#bd3786"
             ],
             [
              0.5555555555555556,
              "#d8576b"
             ],
             [
              0.6666666666666666,
              "#ed7953"
             ],
             [
              0.7777777777777778,
              "#fb9f3a"
             ],
             [
              0.8888888888888888,
              "#fdca26"
             ],
             [
              1,
              "#f0f921"
             ]
            ],
            "type": "histogram2d"
           }
          ],
          "histogram2dcontour": [
           {
            "colorbar": {
             "outlinewidth": 0,
             "ticks": ""
            },
            "colorscale": [
             [
              0,
              "#0d0887"
             ],
             [
              0.1111111111111111,
              "#46039f"
             ],
             [
              0.2222222222222222,
              "#7201a8"
             ],
             [
              0.3333333333333333,
              "#9c179e"
             ],
             [
              0.4444444444444444,
              "#bd3786"
             ],
             [
              0.5555555555555556,
              "#d8576b"
             ],
             [
              0.6666666666666666,
              "#ed7953"
             ],
             [
              0.7777777777777778,
              "#fb9f3a"
             ],
             [
              0.8888888888888888,
              "#fdca26"
             ],
             [
              1,
              "#f0f921"
             ]
            ],
            "type": "histogram2dcontour"
           }
          ],
          "mesh3d": [
           {
            "colorbar": {
             "outlinewidth": 0,
             "ticks": ""
            },
            "type": "mesh3d"
           }
          ],
          "parcoords": [
           {
            "line": {
             "colorbar": {
              "outlinewidth": 0,
              "ticks": ""
             }
            },
            "type": "parcoords"
           }
          ],
          "pie": [
           {
            "automargin": true,
            "type": "pie"
           }
          ],
          "scatter": [
           {
            "marker": {
             "colorbar": {
              "outlinewidth": 0,
              "ticks": ""
             }
            },
            "type": "scatter"
           }
          ],
          "scatter3d": [
           {
            "line": {
             "colorbar": {
              "outlinewidth": 0,
              "ticks": ""
             }
            },
            "marker": {
             "colorbar": {
              "outlinewidth": 0,
              "ticks": ""
             }
            },
            "type": "scatter3d"
           }
          ],
          "scattercarpet": [
           {
            "marker": {
             "colorbar": {
              "outlinewidth": 0,
              "ticks": ""
             }
            },
            "type": "scattercarpet"
           }
          ],
          "scattergeo": [
           {
            "marker": {
             "colorbar": {
              "outlinewidth": 0,
              "ticks": ""
             }
            },
            "type": "scattergeo"
           }
          ],
          "scattergl": [
           {
            "marker": {
             "colorbar": {
              "outlinewidth": 0,
              "ticks": ""
             }
            },
            "type": "scattergl"
           }
          ],
          "scattermapbox": [
           {
            "marker": {
             "colorbar": {
              "outlinewidth": 0,
              "ticks": ""
             }
            },
            "type": "scattermapbox"
           }
          ],
          "scatterpolar": [
           {
            "marker": {
             "colorbar": {
              "outlinewidth": 0,
              "ticks": ""
             }
            },
            "type": "scatterpolar"
           }
          ],
          "scatterpolargl": [
           {
            "marker": {
             "colorbar": {
              "outlinewidth": 0,
              "ticks": ""
             }
            },
            "type": "scatterpolargl"
           }
          ],
          "scatterternary": [
           {
            "marker": {
             "colorbar": {
              "outlinewidth": 0,
              "ticks": ""
             }
            },
            "type": "scatterternary"
           }
          ],
          "surface": [
           {
            "colorbar": {
             "outlinewidth": 0,
             "ticks": ""
            },
            "colorscale": [
             [
              0,
              "#0d0887"
             ],
             [
              0.1111111111111111,
              "#46039f"
             ],
             [
              0.2222222222222222,
              "#7201a8"
             ],
             [
              0.3333333333333333,
              "#9c179e"
             ],
             [
              0.4444444444444444,
              "#bd3786"
             ],
             [
              0.5555555555555556,
              "#d8576b"
             ],
             [
              0.6666666666666666,
              "#ed7953"
             ],
             [
              0.7777777777777778,
              "#fb9f3a"
             ],
             [
              0.8888888888888888,
              "#fdca26"
             ],
             [
              1,
              "#f0f921"
             ]
            ],
            "type": "surface"
           }
          ],
          "table": [
           {
            "cells": {
             "fill": {
              "color": "#EBF0F8"
             },
             "line": {
              "color": "white"
             }
            },
            "header": {
             "fill": {
              "color": "#C8D4E3"
             },
             "line": {
              "color": "white"
             }
            },
            "type": "table"
           }
          ]
         },
         "layout": {
          "annotationdefaults": {
           "arrowcolor": "#2a3f5f",
           "arrowhead": 0,
           "arrowwidth": 1
          },
          "coloraxis": {
           "colorbar": {
            "outlinewidth": 0,
            "ticks": ""
           }
          },
          "colorscale": {
           "diverging": [
            [
             0,
             "#8e0152"
            ],
            [
             0.1,
             "#c51b7d"
            ],
            [
             0.2,
             "#de77ae"
            ],
            [
             0.3,
             "#f1b6da"
            ],
            [
             0.4,
             "#fde0ef"
            ],
            [
             0.5,
             "#f7f7f7"
            ],
            [
             0.6,
             "#e6f5d0"
            ],
            [
             0.7,
             "#b8e186"
            ],
            [
             0.8,
             "#7fbc41"
            ],
            [
             0.9,
             "#4d9221"
            ],
            [
             1,
             "#276419"
            ]
           ],
           "sequential": [
            [
             0,
             "#0d0887"
            ],
            [
             0.1111111111111111,
             "#46039f"
            ],
            [
             0.2222222222222222,
             "#7201a8"
            ],
            [
             0.3333333333333333,
             "#9c179e"
            ],
            [
             0.4444444444444444,
             "#bd3786"
            ],
            [
             0.5555555555555556,
             "#d8576b"
            ],
            [
             0.6666666666666666,
             "#ed7953"
            ],
            [
             0.7777777777777778,
             "#fb9f3a"
            ],
            [
             0.8888888888888888,
             "#fdca26"
            ],
            [
             1,
             "#f0f921"
            ]
           ],
           "sequentialminus": [
            [
             0,
             "#0d0887"
            ],
            [
             0.1111111111111111,
             "#46039f"
            ],
            [
             0.2222222222222222,
             "#7201a8"
            ],
            [
             0.3333333333333333,
             "#9c179e"
            ],
            [
             0.4444444444444444,
             "#bd3786"
            ],
            [
             0.5555555555555556,
             "#d8576b"
            ],
            [
             0.6666666666666666,
             "#ed7953"
            ],
            [
             0.7777777777777778,
             "#fb9f3a"
            ],
            [
             0.8888888888888888,
             "#fdca26"
            ],
            [
             1,
             "#f0f921"
            ]
           ]
          },
          "colorway": [
           "#636efa",
           "#EF553B",
           "#00cc96",
           "#ab63fa",
           "#FFA15A",
           "#19d3f3",
           "#FF6692",
           "#B6E880",
           "#FF97FF",
           "#FECB52"
          ],
          "font": {
           "color": "#2a3f5f"
          },
          "geo": {
           "bgcolor": "white",
           "lakecolor": "white",
           "landcolor": "#E5ECF6",
           "showlakes": true,
           "showland": true,
           "subunitcolor": "white"
          },
          "hoverlabel": {
           "align": "left"
          },
          "hovermode": "closest",
          "mapbox": {
           "style": "light"
          },
          "paper_bgcolor": "white",
          "plot_bgcolor": "#E5ECF6",
          "polar": {
           "angularaxis": {
            "gridcolor": "white",
            "linecolor": "white",
            "ticks": ""
           },
           "bgcolor": "#E5ECF6",
           "radialaxis": {
            "gridcolor": "white",
            "linecolor": "white",
            "ticks": ""
           }
          },
          "scene": {
           "xaxis": {
            "backgroundcolor": "#E5ECF6",
            "gridcolor": "white",
            "gridwidth": 2,
            "linecolor": "white",
            "showbackground": true,
            "ticks": "",
            "zerolinecolor": "white"
           },
           "yaxis": {
            "backgroundcolor": "#E5ECF6",
            "gridcolor": "white",
            "gridwidth": 2,
            "linecolor": "white",
            "showbackground": true,
            "ticks": "",
            "zerolinecolor": "white"
           },
           "zaxis": {
            "backgroundcolor": "#E5ECF6",
            "gridcolor": "white",
            "gridwidth": 2,
            "linecolor": "white",
            "showbackground": true,
            "ticks": "",
            "zerolinecolor": "white"
           }
          },
          "shapedefaults": {
           "line": {
            "color": "#2a3f5f"
           }
          },
          "ternary": {
           "aaxis": {
            "gridcolor": "white",
            "linecolor": "white",
            "ticks": ""
           },
           "baxis": {
            "gridcolor": "white",
            "linecolor": "white",
            "ticks": ""
           },
           "bgcolor": "#E5ECF6",
           "caxis": {
            "gridcolor": "white",
            "linecolor": "white",
            "ticks": ""
           }
          },
          "title": {
           "x": 0.05
          },
          "xaxis": {
           "automargin": true,
           "gridcolor": "white",
           "linecolor": "white",
           "ticks": "",
           "title": {
            "standoff": 15
           },
           "zerolinecolor": "white",
           "zerolinewidth": 2
          },
          "yaxis": {
           "automargin": true,
           "gridcolor": "white",
           "linecolor": "white",
           "ticks": "",
           "title": {
            "standoff": 15
           },
           "zerolinecolor": "white",
           "zerolinewidth": 2
          }
         }
        },
        "title": {
         "font": {
          "color": "#4D5663"
         }
        },
        "xaxis": {
         "gridcolor": "#E1E5ED",
         "showgrid": true,
         "tickfont": {
          "color": "#4D5663"
         },
         "title": {
          "font": {
           "color": "#4D5663"
          },
          "text": ""
         },
         "zerolinecolor": "#E1E5ED"
        },
        "yaxis": {
         "gridcolor": "#E1E5ED",
         "showgrid": true,
         "tickfont": {
          "color": "#4D5663"
         },
         "title": {
          "font": {
           "color": "#4D5663"
          },
          "text": ""
         },
         "zerolinecolor": "#E1E5ED"
        }
       }
      },
      "text/html": [
       "<div>\n",
       "        \n",
       "        \n",
       "            <div id=\"7d0a59ac-5739-487b-ab80-a5ca775e1757\" class=\"plotly-graph-div\" style=\"height:525px; width:100%;\"></div>\n",
       "            <script type=\"text/javascript\">\n",
       "                require([\"plotly\"], function(Plotly) {\n",
       "                    window.PLOTLYENV=window.PLOTLYENV || {};\n",
       "                    window.PLOTLYENV.BASE_URL='https://plot.ly';\n",
       "                    \n",
       "                if (document.getElementById(\"7d0a59ac-5739-487b-ab80-a5ca775e1757\")) {\n",
       "                    Plotly.newPlot(\n",
       "                        '7d0a59ac-5739-487b-ab80-a5ca775e1757',\n",
       "                        [{\"boxpoints\": false, \"line\": {\"width\": 1.3}, \"marker\": {\"color\": \"rgba(255, 153, 51, 1.0)\"}, \"name\": \"A\", \"orientation\": \"v\", \"type\": \"box\", \"y\": [-0.47323338372044216, 0.391342125956041, -1.3930192517983035, -0.7583764463384806, 0.030560247015788796, -0.42222897997487735, 0.3419507372052493, -0.6530728726886348, 0.4911743583401989, -0.6399410387909096, 1.252348795213839, 2.79565887203688, 1.0216953549398935, -0.6760681475071038, 1.9153287675036414, -0.8574194766794743, 0.03971198334552156, 1.5575886718822547, -0.41104371136749807, 0.45423026955435997, 1.37682200922694, -0.49097371261325123, -1.103902239392601, 1.209088156671042, -0.12929287076995005, -1.3546787992622251, 0.741078850974195, 0.17579127326631125, -0.01674344571807809, 1.1428979827099823, 0.012233952698504845, -0.8741512129967439, 0.1427194853744033, 1.1058161773053639, 0.12295872208272311, -0.5856164378476567, 0.21613129771727468, -1.8690770920771833, -0.6898825134758376, -0.05458461743161419, -0.15759841027243723, -0.6117912504899256, -0.696867769386093, -0.3274933689874018, -0.735725361990674, -0.006292612703083734, -0.4783007321809796, 0.46136717463820837, 1.1050679917684179, -0.8742044025984583, -0.7822275024460555, 0.19428282921115408, -1.599183119108615, 0.16519098965643408, 1.1233298071638333, 0.25714148321550806, -0.4491728069771753, 0.3286657772584293, 0.4223585017724842, -1.3447552904968874, 0.23535742165332924, -0.7746665058691453, -0.49249988794559896, -0.3916749224744794, -1.5427041968534043, 0.33574744449984323, 0.28716634919374984, -0.5396371694147453, 1.5186938958656993, -0.16730775070513196, 0.7986916318539317, -1.8076154055395393, 0.8449677715018729, 1.4994351030509954, 0.3761440759664159, 0.02032831851069565, -0.25420286262412284, 0.5915923846119849, 0.031343181368975785, 0.8924389509972139, 0.14696198272413175, -0.3383806308837403, -0.8167067803331302, 0.8375097350413139, -1.844697334868694, -0.47583161834498267, 0.3993116744743492, 1.5196641994432958, -2.149826871045154, -0.5054434625221709, 0.9568329180805797, -1.1772979939147825, 0.12495847641314985, 2.489394225157195, 0.8167825718121651, -1.541048250898501, 1.3836463003138744, -0.030213786772967887, 0.6891482660718707, 0.22201933593073467]}, {\"boxpoints\": false, \"line\": {\"width\": 1.3}, \"marker\": {\"color\": \"rgba(55, 128, 191, 1.0)\"}, \"name\": \"B\", \"orientation\": \"v\", \"type\": \"box\", \"y\": [-0.7863556269567842, -0.3934319050293995, -0.8659569932604896, 0.30666746365172154, -2.5335810728661774, 0.08560385128773612, 0.7707462351268122, -0.1532090031592984, 1.1286258467424628, -0.5825286450266112, 0.39862414075985675, 0.22258314683488725, 1.0537570365862137, -0.8159525977081468, -0.5061916446714905, -0.26061714680962556, -2.254049905642298, 0.29318800193968925, 2.3094028981793846, -0.048968716571239, 0.06985565178494063, -1.274260090264892, -1.41004308259798, 2.002966383137955, -0.7586585236309823, 1.835932532756517, -0.6629902504136792, 0.3189347126535099, 0.5065766796579961, 2.1881591681018104, -0.5091713331664507, 0.6461027072133978, -0.9858139943365096, 0.8352212513237809, 0.7678917985915251, -0.5720013372834474, 0.4597669525366794, 0.0010371046198402512, -0.20491356648425588, 0.9328866567283997, 2.176018941163229, -0.9163567131417804, 0.8099443703746437, 1.378718852814666, -0.0959067798324056, 0.3055517084481643, 0.9479911188482862, -1.8741975653115122, 1.4659130901080561, 0.9689652756893685, -1.5009623827195906, 2.8872697466472643, 0.06706261098262112, 0.017536891671529827, 1.6155683878161462, -0.06803490307878995, -1.0926381642910077, 0.7340270358115923, 0.517571964274028, 0.667005891920211, -2.112386962226195, -0.13579269137096708, 0.1207994583196543, -0.5254973507764424, -1.2886398814889086, -2.0279168784246986, 1.1485673851045588, -0.20190822632409647, -0.5969951426556726, 0.22088014731203623, 1.1376723087755327, 0.5738714744704506, 0.7451691218808038, 0.5844226957724005, -0.9813236939291822, -1.045116851602681, -1.234923056082786, -1.0708041340168966, 1.4658002080355017, -0.761499576905759, -3.1524089631556804, 0.8339745187847174, -0.8736506796302141, 0.19033242925434002, 1.5338359061015892, -0.4971111409720753, 0.6914248925254357, 1.1375771610666334, 1.2200375084760924, 0.4138867568586993, -2.8980380292726386, 0.04456869526355736, -1.081971961542821, 1.0623667326027297, 0.31280558134076863, -0.03546302545284578, -1.9668831578809485, 0.051637491391016394, 1.2239694666936947, 0.39670028159886306]}, {\"boxpoints\": false, \"line\": {\"width\": 1.3}, \"marker\": {\"color\": \"rgba(50, 171, 96, 1.0)\"}, \"name\": \"C\", \"orientation\": \"v\", \"type\": \"box\", \"y\": [-0.6030994144415659, -0.28672966749573653, 0.3392637081777703, 0.19498541876018885, 0.169856216447392, -0.8749694780455577, -0.9037667138370488, -1.4381153415660453, -1.611429323292964, 1.2275259939998584, -0.4858796352778617, 0.10993686372980101, 0.20322138240469867, 0.1639814859986579, -1.5008126480132573, 0.24064956919564173, 0.24874153648798175, 0.48339678956485715, 1.1362626939240847, 0.16480533957003732, 1.1998740666841663, -1.894446916413578, -1.1551781086385031, 1.7792300072882297, -0.7485633694457982, -0.06244651162480217, 0.7093620135952354, -0.12436000336714008, 0.9671118726820398, -2.6419234339480364, 0.49854865498424145, -1.9036608481825092, 0.5992055389881571, -0.10728490763426868, -0.39122604266358013, 0.029322228284007927, -0.6501617325268471, 0.2714198367550461, 0.028780351738951576, 2.1229609299052474, -0.9588036175503883, -0.20756397019008022, 0.49397847739770884, -0.16123035986796494, 0.4766336596254507, 0.049356656031718196, -1.2124496158290319, -0.8476034152623768, 0.019054165369579677, -1.0130380351582837, -1.1330208742362609, 0.0009183525475209432, -0.2736613745187976, 0.9614992187615407, -1.491892771696647, -1.4614254205853954, 0.25673598803179254, 0.935584725011274, 0.8096285786801392, -0.13912365853936803, 1.912731992298654, 1.1190324211744875, -0.920831175711935, -0.21931909366331578, 0.7179848558775562, -0.2520014213426082, 1.3555036502188451, -0.15249069905308443, 0.6925437667865846, 0.10388302518501544, -1.6541881857809821, -1.4285036846332086, 0.2611101191670557, -0.10076774448316933, 1.0593516810244787, -0.5690499889222228, -0.518083514239968, 2.2529691304874313, -2.601375231121356, 0.8848370561955524, -0.27551785238018295, -1.1658476120039192, -1.855448441952235, -0.26045859408597405, -2.717549064811967, -1.6228203033155657, -0.9442729761856262, -1.2411985580208704, 0.19991879291346518, 0.4100108728266116, -2.0666599259905927, -1.0860975839367148, 0.27883688445685023, 0.41597048365954387, 0.10051276298124265, 0.8428888067029818, 0.5253094751462503, 0.6812504479817608, 0.8334538568617702, -0.651327253602928]}, {\"boxpoints\": false, \"line\": {\"width\": 1.3}, \"marker\": {\"color\": \"rgba(128, 0, 128, 1.0)\"}, \"name\": \"D\", \"orientation\": \"v\", \"type\": \"box\", \"y\": [-1.7565027787248992, 2.142820692662946, 0.44804922083164167, -0.9292887228981889, 1.2852654232447904, 0.3592152554023984, -1.8863365255560671, 0.04800082653789518, 0.37379051941980707, 0.6555565219767131, -1.2532599770407524, -0.729589980032634, 1.1534309225754797, 1.0071263960475942, -1.2592619068510083, 1.6844980995861003, -0.0745813296922144, 0.5890987426786111, -0.8305981968245615, -1.1164979024238735, -1.1839481761910884, 1.5595397033067833, 0.3152942346576389, -0.44301311221403156, 0.8236198522427761, -1.2019190641126138, 1.5336120474207988, -0.4930318694411702, -0.8165159477581593, -1.8044899411202082, 1.3334137074506227, 0.49796139348785573, -0.20191598475039563, -0.4205233100966402, 0.9911930167414926, 2.393893679798556, 0.5251465939094997, 0.22728035079259354, -1.0995338065390503, 1.0766360097392675, -0.14643211620316618, 1.6151454182208635, 1.687775473165265, -0.9117556207966099, -0.8130207857548152, 0.6989510051408686, -1.109266580434571, 0.5969756080602681, 1.2507996821742322, -0.557680792577814, 0.8506430503044562, 0.02302688820406108, 0.4054445756316907, -0.9785041751692184, 0.3288605622268137, -0.7135953714720429, -0.3389226671442458, -1.0541842619388624, 1.0350510964267012, -0.16314351167121433, 0.4058551237326383, -1.0669714141072002, 0.10180444308349802, -1.8897516411765771, 0.6456515374470266, 0.6250397753660706, -0.5729397033258652, 1.5152701643620212, 0.04916473944408896, -0.5639933417491443, 0.06788285449455125, 1.1485714179111128, -0.18264282303613275, -0.4801838916503548, -1.0183615555908196, -0.2110804976775807, -0.14315379079001916, -0.15697499984868937, -0.7739327762251197, -0.07444562294946552, -1.309676621933601, -0.7895104334903577, -1.4340777025447515, -0.35150157980575714, -0.48564836846214743, 0.3512924471678498, -0.14631372262507386, -1.6132013191615706, -0.20510670937090764, 1.2693650571758979, -0.4870260249990171, -1.0577699232778213, -0.9032213107714546, 1.3388221980487656, -0.053311743566603474, 0.8107899853388832, 2.8124786778647857, 0.39495366874029125, 0.6107039258145395, -0.7200977824296632]}],\n",
       "                        {\"legend\": {\"bgcolor\": \"#F5F6F9\", \"font\": {\"color\": \"#4D5663\"}}, \"paper_bgcolor\": \"#F5F6F9\", \"plot_bgcolor\": \"#F5F6F9\", \"template\": {\"data\": {\"bar\": [{\"error_x\": {\"color\": \"#2a3f5f\"}, \"error_y\": {\"color\": \"#2a3f5f\"}, \"marker\": {\"line\": {\"color\": \"#E5ECF6\", \"width\": 0.5}}, \"type\": \"bar\"}], \"barpolar\": [{\"marker\": {\"line\": {\"color\": \"#E5ECF6\", \"width\": 0.5}}, \"type\": \"barpolar\"}], \"carpet\": [{\"aaxis\": {\"endlinecolor\": \"#2a3f5f\", \"gridcolor\": \"white\", \"linecolor\": \"white\", \"minorgridcolor\": \"white\", \"startlinecolor\": \"#2a3f5f\"}, \"baxis\": {\"endlinecolor\": \"#2a3f5f\", \"gridcolor\": \"white\", \"linecolor\": \"white\", \"minorgridcolor\": \"white\", \"startlinecolor\": \"#2a3f5f\"}, \"type\": \"carpet\"}], \"choropleth\": [{\"colorbar\": {\"outlinewidth\": 0, \"ticks\": \"\"}, \"type\": \"choropleth\"}], \"contour\": [{\"colorbar\": {\"outlinewidth\": 0, \"ticks\": \"\"}, \"colorscale\": [[0.0, \"#0d0887\"], [0.1111111111111111, \"#46039f\"], [0.2222222222222222, \"#7201a8\"], [0.3333333333333333, \"#9c179e\"], [0.4444444444444444, \"#bd3786\"], [0.5555555555555556, \"#d8576b\"], [0.6666666666666666, \"#ed7953\"], [0.7777777777777778, \"#fb9f3a\"], [0.8888888888888888, \"#fdca26\"], [1.0, \"#f0f921\"]], \"type\": \"contour\"}], \"contourcarpet\": [{\"colorbar\": {\"outlinewidth\": 0, \"ticks\": \"\"}, \"type\": \"contourcarpet\"}], \"heatmap\": [{\"colorbar\": {\"outlinewidth\": 0, \"ticks\": \"\"}, \"colorscale\": [[0.0, \"#0d0887\"], [0.1111111111111111, \"#46039f\"], [0.2222222222222222, \"#7201a8\"], [0.3333333333333333, \"#9c179e\"], [0.4444444444444444, \"#bd3786\"], [0.5555555555555556, \"#d8576b\"], [0.6666666666666666, \"#ed7953\"], [0.7777777777777778, \"#fb9f3a\"], [0.8888888888888888, \"#fdca26\"], [1.0, \"#f0f921\"]], \"type\": \"heatmap\"}], \"heatmapgl\": [{\"colorbar\": {\"outlinewidth\": 0, \"ticks\": \"\"}, \"colorscale\": [[0.0, \"#0d0887\"], [0.1111111111111111, \"#46039f\"], [0.2222222222222222, \"#7201a8\"], [0.3333333333333333, \"#9c179e\"], [0.4444444444444444, \"#bd3786\"], [0.5555555555555556, \"#d8576b\"], [0.6666666666666666, \"#ed7953\"], [0.7777777777777778, \"#fb9f3a\"], [0.8888888888888888, \"#fdca26\"], [1.0, \"#f0f921\"]], \"type\": \"heatmapgl\"}], \"histogram\": [{\"marker\": {\"colorbar\": {\"outlinewidth\": 0, \"ticks\": \"\"}}, \"type\": \"histogram\"}], \"histogram2d\": [{\"colorbar\": {\"outlinewidth\": 0, \"ticks\": \"\"}, \"colorscale\": [[0.0, \"#0d0887\"], [0.1111111111111111, \"#46039f\"], [0.2222222222222222, \"#7201a8\"], [0.3333333333333333, \"#9c179e\"], [0.4444444444444444, \"#bd3786\"], [0.5555555555555556, \"#d8576b\"], [0.6666666666666666, \"#ed7953\"], [0.7777777777777778, \"#fb9f3a\"], [0.8888888888888888, \"#fdca26\"], [1.0, \"#f0f921\"]], \"type\": \"histogram2d\"}], \"histogram2dcontour\": [{\"colorbar\": {\"outlinewidth\": 0, \"ticks\": \"\"}, \"colorscale\": [[0.0, \"#0d0887\"], [0.1111111111111111, \"#46039f\"], [0.2222222222222222, \"#7201a8\"], [0.3333333333333333, \"#9c179e\"], [0.4444444444444444, \"#bd3786\"], [0.5555555555555556, \"#d8576b\"], [0.6666666666666666, \"#ed7953\"], [0.7777777777777778, \"#fb9f3a\"], [0.8888888888888888, \"#fdca26\"], [1.0, \"#f0f921\"]], \"type\": \"histogram2dcontour\"}], \"mesh3d\": [{\"colorbar\": {\"outlinewidth\": 0, \"ticks\": \"\"}, \"type\": \"mesh3d\"}], \"parcoords\": [{\"line\": {\"colorbar\": {\"outlinewidth\": 0, \"ticks\": \"\"}}, \"type\": \"parcoords\"}], \"pie\": [{\"automargin\": true, \"type\": \"pie\"}], \"scatter\": [{\"marker\": {\"colorbar\": {\"outlinewidth\": 0, \"ticks\": \"\"}}, \"type\": \"scatter\"}], \"scatter3d\": [{\"line\": {\"colorbar\": {\"outlinewidth\": 0, \"ticks\": \"\"}}, \"marker\": {\"colorbar\": {\"outlinewidth\": 0, \"ticks\": \"\"}}, \"type\": \"scatter3d\"}], \"scattercarpet\": [{\"marker\": {\"colorbar\": {\"outlinewidth\": 0, \"ticks\": \"\"}}, \"type\": \"scattercarpet\"}], \"scattergeo\": [{\"marker\": {\"colorbar\": {\"outlinewidth\": 0, \"ticks\": \"\"}}, \"type\": \"scattergeo\"}], \"scattergl\": [{\"marker\": {\"colorbar\": {\"outlinewidth\": 0, \"ticks\": \"\"}}, \"type\": \"scattergl\"}], \"scattermapbox\": [{\"marker\": {\"colorbar\": {\"outlinewidth\": 0, \"ticks\": \"\"}}, \"type\": \"scattermapbox\"}], \"scatterpolar\": [{\"marker\": {\"colorbar\": {\"outlinewidth\": 0, \"ticks\": \"\"}}, \"type\": \"scatterpolar\"}], \"scatterpolargl\": [{\"marker\": {\"colorbar\": {\"outlinewidth\": 0, \"ticks\": \"\"}}, \"type\": \"scatterpolargl\"}], \"scatterternary\": [{\"marker\": {\"colorbar\": {\"outlinewidth\": 0, \"ticks\": \"\"}}, \"type\": \"scatterternary\"}], \"surface\": [{\"colorbar\": {\"outlinewidth\": 0, \"ticks\": \"\"}, \"colorscale\": [[0.0, \"#0d0887\"], [0.1111111111111111, \"#46039f\"], [0.2222222222222222, \"#7201a8\"], [0.3333333333333333, \"#9c179e\"], [0.4444444444444444, \"#bd3786\"], [0.5555555555555556, \"#d8576b\"], [0.6666666666666666, \"#ed7953\"], [0.7777777777777778, \"#fb9f3a\"], [0.8888888888888888, \"#fdca26\"], [1.0, \"#f0f921\"]], \"type\": \"surface\"}], \"table\": [{\"cells\": {\"fill\": {\"color\": \"#EBF0F8\"}, \"line\": {\"color\": \"white\"}}, \"header\": {\"fill\": {\"color\": \"#C8D4E3\"}, \"line\": {\"color\": \"white\"}}, \"type\": \"table\"}]}, \"layout\": {\"annotationdefaults\": {\"arrowcolor\": \"#2a3f5f\", \"arrowhead\": 0, \"arrowwidth\": 1}, \"coloraxis\": {\"colorbar\": {\"outlinewidth\": 0, \"ticks\": \"\"}}, \"colorscale\": {\"diverging\": [[0, \"#8e0152\"], [0.1, \"#c51b7d\"], [0.2, \"#de77ae\"], [0.3, \"#f1b6da\"], [0.4, \"#fde0ef\"], [0.5, \"#f7f7f7\"], [0.6, \"#e6f5d0\"], [0.7, \"#b8e186\"], [0.8, \"#7fbc41\"], [0.9, \"#4d9221\"], [1, \"#276419\"]], \"sequential\": [[0.0, \"#0d0887\"], [0.1111111111111111, \"#46039f\"], [0.2222222222222222, \"#7201a8\"], [0.3333333333333333, \"#9c179e\"], [0.4444444444444444, \"#bd3786\"], [0.5555555555555556, \"#d8576b\"], [0.6666666666666666, \"#ed7953\"], [0.7777777777777778, \"#fb9f3a\"], [0.8888888888888888, \"#fdca26\"], [1.0, \"#f0f921\"]], \"sequentialminus\": [[0.0, \"#0d0887\"], [0.1111111111111111, \"#46039f\"], [0.2222222222222222, \"#7201a8\"], [0.3333333333333333, \"#9c179e\"], [0.4444444444444444, \"#bd3786\"], [0.5555555555555556, \"#d8576b\"], [0.6666666666666666, \"#ed7953\"], [0.7777777777777778, \"#fb9f3a\"], [0.8888888888888888, \"#fdca26\"], [1.0, \"#f0f921\"]]}, \"colorway\": [\"#636efa\", \"#EF553B\", \"#00cc96\", \"#ab63fa\", \"#FFA15A\", \"#19d3f3\", \"#FF6692\", \"#B6E880\", \"#FF97FF\", \"#FECB52\"], \"font\": {\"color\": \"#2a3f5f\"}, \"geo\": {\"bgcolor\": \"white\", \"lakecolor\": \"white\", \"landcolor\": \"#E5ECF6\", \"showlakes\": true, \"showland\": true, \"subunitcolor\": \"white\"}, \"hoverlabel\": {\"align\": \"left\"}, \"hovermode\": \"closest\", \"mapbox\": {\"style\": \"light\"}, \"paper_bgcolor\": \"white\", \"plot_bgcolor\": \"#E5ECF6\", \"polar\": {\"angularaxis\": {\"gridcolor\": \"white\", \"linecolor\": \"white\", \"ticks\": \"\"}, \"bgcolor\": \"#E5ECF6\", \"radialaxis\": {\"gridcolor\": \"white\", \"linecolor\": \"white\", \"ticks\": \"\"}}, \"scene\": {\"xaxis\": {\"backgroundcolor\": \"#E5ECF6\", \"gridcolor\": \"white\", \"gridwidth\": 2, \"linecolor\": \"white\", \"showbackground\": true, \"ticks\": \"\", \"zerolinecolor\": \"white\"}, \"yaxis\": {\"backgroundcolor\": \"#E5ECF6\", \"gridcolor\": \"white\", \"gridwidth\": 2, \"linecolor\": \"white\", \"showbackground\": true, \"ticks\": \"\", \"zerolinecolor\": \"white\"}, \"zaxis\": {\"backgroundcolor\": \"#E5ECF6\", \"gridcolor\": \"white\", \"gridwidth\": 2, \"linecolor\": \"white\", \"showbackground\": true, \"ticks\": \"\", \"zerolinecolor\": \"white\"}}, \"shapedefaults\": {\"line\": {\"color\": \"#2a3f5f\"}}, \"ternary\": {\"aaxis\": {\"gridcolor\": \"white\", \"linecolor\": \"white\", \"ticks\": \"\"}, \"baxis\": {\"gridcolor\": \"white\", \"linecolor\": \"white\", \"ticks\": \"\"}, \"bgcolor\": \"#E5ECF6\", \"caxis\": {\"gridcolor\": \"white\", \"linecolor\": \"white\", \"ticks\": \"\"}}, \"title\": {\"x\": 0.05}, \"xaxis\": {\"automargin\": true, \"gridcolor\": \"white\", \"linecolor\": \"white\", \"ticks\": \"\", \"title\": {\"standoff\": 15}, \"zerolinecolor\": \"white\", \"zerolinewidth\": 2}, \"yaxis\": {\"automargin\": true, \"gridcolor\": \"white\", \"linecolor\": \"white\", \"ticks\": \"\", \"title\": {\"standoff\": 15}, \"zerolinecolor\": \"white\", \"zerolinewidth\": 2}}}, \"title\": {\"font\": {\"color\": \"#4D5663\"}}, \"xaxis\": {\"gridcolor\": \"#E1E5ED\", \"showgrid\": true, \"tickfont\": {\"color\": \"#4D5663\"}, \"title\": {\"font\": {\"color\": \"#4D5663\"}, \"text\": \"\"}, \"zerolinecolor\": \"#E1E5ED\"}, \"yaxis\": {\"gridcolor\": \"#E1E5ED\", \"showgrid\": true, \"tickfont\": {\"color\": \"#4D5663\"}, \"title\": {\"font\": {\"color\": \"#4D5663\"}, \"text\": \"\"}, \"zerolinecolor\": \"#E1E5ED\"}},\n",
       "                        {\"showLink\": true, \"linkText\": \"Export to plot.ly\", \"plotlyServerURL\": \"https://plot.ly\", \"responsive\": true}\n",
       "                    ).then(function(){\n",
       "                            \n",
       "var gd = document.getElementById('7d0a59ac-5739-487b-ab80-a5ca775e1757');\n",
       "var x = new MutationObserver(function (mutations, observer) {{\n",
       "        var display = window.getComputedStyle(gd).display;\n",
       "        if (!display || display === 'none') {{\n",
       "            console.log([gd, 'removed!']);\n",
       "            Plotly.purge(gd);\n",
       "            observer.disconnect();\n",
       "        }}\n",
       "}});\n",
       "\n",
       "// Listen for the removal of the full notebook cells\n",
       "var notebookContainer = gd.closest('#notebook-container');\n",
       "if (notebookContainer) {{\n",
       "    x.observe(notebookContainer, {childList: true});\n",
       "}}\n",
       "\n",
       "// Listen for the clearing of the current output cell\n",
       "var outputEl = gd.closest('.output');\n",
       "if (outputEl) {{\n",
       "    x.observe(outputEl, {childList: true});\n",
       "}}\n",
       "\n",
       "                        })\n",
       "                };\n",
       "                });\n",
       "            </script>\n",
       "        </div>"
      ]
     },
     "metadata": {},
     "output_type": "display_data"
    }
   ],
   "source": [
    "df.iplot(kind='box')"
   ]
  },
  {
   "cell_type": "markdown",
   "metadata": {},
   "source": [
    "## 3d Surface"
   ]
  },
  {
   "cell_type": "code",
   "execution_count": 15,
   "metadata": {},
   "outputs": [
    {
     "data": {
      "application/vnd.plotly.v1+json": {
       "config": {
        "linkText": "Export to plot.ly",
        "plotlyServerURL": "https://plot.ly",
        "showLink": true
       },
       "data": [
        {
         "colorscale": [
          [
           0,
           "rgb(165,0,38)"
          ],
          [
           0.1,
           "rgb(215,48,39)"
          ],
          [
           0.2,
           "rgb(244,109,67)"
          ],
          [
           0.3,
           "rgb(253,174,97)"
          ],
          [
           0.4,
           "rgb(254,224,144)"
          ],
          [
           0.5,
           "rgb(255,255,191)"
          ],
          [
           0.6,
           "rgb(224,243,248)"
          ],
          [
           0.7,
           "rgb(171,217,233)"
          ],
          [
           0.8,
           "rgb(116,173,209)"
          ],
          [
           0.9,
           "rgb(69,117,180)"
          ],
          [
           1,
           "rgb(49,54,149)"
          ]
         ],
         "type": "surface",
         "x": [
          0,
          1,
          2,
          3,
          4
         ],
         "y": [
          "x",
          "y",
          "z"
         ],
         "z": [
          [
           1,
           2,
           3,
           4,
           5
          ],
          [
           10,
           20,
           30,
           20,
           10
          ],
          [
           5,
           4,
           3,
           2,
           1
          ]
         ]
        }
       ],
       "layout": {
        "legend": {
         "bgcolor": "#F5F6F9",
         "font": {
          "color": "#4D5663"
         }
        },
        "paper_bgcolor": "#F5F6F9",
        "plot_bgcolor": "#F5F6F9",
        "template": {
         "data": {
          "bar": [
           {
            "error_x": {
             "color": "#2a3f5f"
            },
            "error_y": {
             "color": "#2a3f5f"
            },
            "marker": {
             "line": {
              "color": "#E5ECF6",
              "width": 0.5
             }
            },
            "type": "bar"
           }
          ],
          "barpolar": [
           {
            "marker": {
             "line": {
              "color": "#E5ECF6",
              "width": 0.5
             }
            },
            "type": "barpolar"
           }
          ],
          "carpet": [
           {
            "aaxis": {
             "endlinecolor": "#2a3f5f",
             "gridcolor": "white",
             "linecolor": "white",
             "minorgridcolor": "white",
             "startlinecolor": "#2a3f5f"
            },
            "baxis": {
             "endlinecolor": "#2a3f5f",
             "gridcolor": "white",
             "linecolor": "white",
             "minorgridcolor": "white",
             "startlinecolor": "#2a3f5f"
            },
            "type": "carpet"
           }
          ],
          "choropleth": [
           {
            "colorbar": {
             "outlinewidth": 0,
             "ticks": ""
            },
            "type": "choropleth"
           }
          ],
          "contour": [
           {
            "colorbar": {
             "outlinewidth": 0,
             "ticks": ""
            },
            "colorscale": [
             [
              0,
              "#0d0887"
             ],
             [
              0.1111111111111111,
              "#46039f"
             ],
             [
              0.2222222222222222,
              "#7201a8"
             ],
             [
              0.3333333333333333,
              "#9c179e"
             ],
             [
              0.4444444444444444,
              "#bd3786"
             ],
             [
              0.5555555555555556,
              "#d8576b"
             ],
             [
              0.6666666666666666,
              "#ed7953"
             ],
             [
              0.7777777777777778,
              "#fb9f3a"
             ],
             [
              0.8888888888888888,
              "#fdca26"
             ],
             [
              1,
              "#f0f921"
             ]
            ],
            "type": "contour"
           }
          ],
          "contourcarpet": [
           {
            "colorbar": {
             "outlinewidth": 0,
             "ticks": ""
            },
            "type": "contourcarpet"
           }
          ],
          "heatmap": [
           {
            "colorbar": {
             "outlinewidth": 0,
             "ticks": ""
            },
            "colorscale": [
             [
              0,
              "#0d0887"
             ],
             [
              0.1111111111111111,
              "#46039f"
             ],
             [
              0.2222222222222222,
              "#7201a8"
             ],
             [
              0.3333333333333333,
              "#9c179e"
             ],
             [
              0.4444444444444444,
              "#bd3786"
             ],
             [
              0.5555555555555556,
              "#d8576b"
             ],
             [
              0.6666666666666666,
              "#ed7953"
             ],
             [
              0.7777777777777778,
              "#fb9f3a"
             ],
             [
              0.8888888888888888,
              "#fdca26"
             ],
             [
              1,
              "#f0f921"
             ]
            ],
            "type": "heatmap"
           }
          ],
          "heatmapgl": [
           {
            "colorbar": {
             "outlinewidth": 0,
             "ticks": ""
            },
            "colorscale": [
             [
              0,
              "#0d0887"
             ],
             [
              0.1111111111111111,
              "#46039f"
             ],
             [
              0.2222222222222222,
              "#7201a8"
             ],
             [
              0.3333333333333333,
              "#9c179e"
             ],
             [
              0.4444444444444444,
              "#bd3786"
             ],
             [
              0.5555555555555556,
              "#d8576b"
             ],
             [
              0.6666666666666666,
              "#ed7953"
             ],
             [
              0.7777777777777778,
              "#fb9f3a"
             ],
             [
              0.8888888888888888,
              "#fdca26"
             ],
             [
              1,
              "#f0f921"
             ]
            ],
            "type": "heatmapgl"
           }
          ],
          "histogram": [
           {
            "marker": {
             "colorbar": {
              "outlinewidth": 0,
              "ticks": ""
             }
            },
            "type": "histogram"
           }
          ],
          "histogram2d": [
           {
            "colorbar": {
             "outlinewidth": 0,
             "ticks": ""
            },
            "colorscale": [
             [
              0,
              "#0d0887"
             ],
             [
              0.1111111111111111,
              "#46039f"
             ],
             [
              0.2222222222222222,
              "#7201a8"
             ],
             [
              0.3333333333333333,
              "#9c179e"
             ],
             [
              0.4444444444444444,
              "#bd3786"
             ],
             [
              0.5555555555555556,
              "#d8576b"
             ],
             [
              0.6666666666666666,
              "#ed7953"
             ],
             [
              0.7777777777777778,
              "#fb9f3a"
             ],
             [
              0.8888888888888888,
              "#fdca26"
             ],
             [
              1,
              "#f0f921"
             ]
            ],
            "type": "histogram2d"
           }
          ],
          "histogram2dcontour": [
           {
            "colorbar": {
             "outlinewidth": 0,
             "ticks": ""
            },
            "colorscale": [
             [
              0,
              "#0d0887"
             ],
             [
              0.1111111111111111,
              "#46039f"
             ],
             [
              0.2222222222222222,
              "#7201a8"
             ],
             [
              0.3333333333333333,
              "#9c179e"
             ],
             [
              0.4444444444444444,
              "#bd3786"
             ],
             [
              0.5555555555555556,
              "#d8576b"
             ],
             [
              0.6666666666666666,
              "#ed7953"
             ],
             [
              0.7777777777777778,
              "#fb9f3a"
             ],
             [
              0.8888888888888888,
              "#fdca26"
             ],
             [
              1,
              "#f0f921"
             ]
            ],
            "type": "histogram2dcontour"
           }
          ],
          "mesh3d": [
           {
            "colorbar": {
             "outlinewidth": 0,
             "ticks": ""
            },
            "type": "mesh3d"
           }
          ],
          "parcoords": [
           {
            "line": {
             "colorbar": {
              "outlinewidth": 0,
              "ticks": ""
             }
            },
            "type": "parcoords"
           }
          ],
          "pie": [
           {
            "automargin": true,
            "type": "pie"
           }
          ],
          "scatter": [
           {
            "marker": {
             "colorbar": {
              "outlinewidth": 0,
              "ticks": ""
             }
            },
            "type": "scatter"
           }
          ],
          "scatter3d": [
           {
            "line": {
             "colorbar": {
              "outlinewidth": 0,
              "ticks": ""
             }
            },
            "marker": {
             "colorbar": {
              "outlinewidth": 0,
              "ticks": ""
             }
            },
            "type": "scatter3d"
           }
          ],
          "scattercarpet": [
           {
            "marker": {
             "colorbar": {
              "outlinewidth": 0,
              "ticks": ""
             }
            },
            "type": "scattercarpet"
           }
          ],
          "scattergeo": [
           {
            "marker": {
             "colorbar": {
              "outlinewidth": 0,
              "ticks": ""
             }
            },
            "type": "scattergeo"
           }
          ],
          "scattergl": [
           {
            "marker": {
             "colorbar": {
              "outlinewidth": 0,
              "ticks": ""
             }
            },
            "type": "scattergl"
           }
          ],
          "scattermapbox": [
           {
            "marker": {
             "colorbar": {
              "outlinewidth": 0,
              "ticks": ""
             }
            },
            "type": "scattermapbox"
           }
          ],
          "scatterpolar": [
           {
            "marker": {
             "colorbar": {
              "outlinewidth": 0,
              "ticks": ""
             }
            },
            "type": "scatterpolar"
           }
          ],
          "scatterpolargl": [
           {
            "marker": {
             "colorbar": {
              "outlinewidth": 0,
              "ticks": ""
             }
            },
            "type": "scatterpolargl"
           }
          ],
          "scatterternary": [
           {
            "marker": {
             "colorbar": {
              "outlinewidth": 0,
              "ticks": ""
             }
            },
            "type": "scatterternary"
           }
          ],
          "surface": [
           {
            "colorbar": {
             "outlinewidth": 0,
             "ticks": ""
            },
            "colorscale": [
             [
              0,
              "#0d0887"
             ],
             [
              0.1111111111111111,
              "#46039f"
             ],
             [
              0.2222222222222222,
              "#7201a8"
             ],
             [
              0.3333333333333333,
              "#9c179e"
             ],
             [
              0.4444444444444444,
              "#bd3786"
             ],
             [
              0.5555555555555556,
              "#d8576b"
             ],
             [
              0.6666666666666666,
              "#ed7953"
             ],
             [
              0.7777777777777778,
              "#fb9f3a"
             ],
             [
              0.8888888888888888,
              "#fdca26"
             ],
             [
              1,
              "#f0f921"
             ]
            ],
            "type": "surface"
           }
          ],
          "table": [
           {
            "cells": {
             "fill": {
              "color": "#EBF0F8"
             },
             "line": {
              "color": "white"
             }
            },
            "header": {
             "fill": {
              "color": "#C8D4E3"
             },
             "line": {
              "color": "white"
             }
            },
            "type": "table"
           }
          ]
         },
         "layout": {
          "annotationdefaults": {
           "arrowcolor": "#2a3f5f",
           "arrowhead": 0,
           "arrowwidth": 1
          },
          "coloraxis": {
           "colorbar": {
            "outlinewidth": 0,
            "ticks": ""
           }
          },
          "colorscale": {
           "diverging": [
            [
             0,
             "#8e0152"
            ],
            [
             0.1,
             "#c51b7d"
            ],
            [
             0.2,
             "#de77ae"
            ],
            [
             0.3,
             "#f1b6da"
            ],
            [
             0.4,
             "#fde0ef"
            ],
            [
             0.5,
             "#f7f7f7"
            ],
            [
             0.6,
             "#e6f5d0"
            ],
            [
             0.7,
             "#b8e186"
            ],
            [
             0.8,
             "#7fbc41"
            ],
            [
             0.9,
             "#4d9221"
            ],
            [
             1,
             "#276419"
            ]
           ],
           "sequential": [
            [
             0,
             "#0d0887"
            ],
            [
             0.1111111111111111,
             "#46039f"
            ],
            [
             0.2222222222222222,
             "#7201a8"
            ],
            [
             0.3333333333333333,
             "#9c179e"
            ],
            [
             0.4444444444444444,
             "#bd3786"
            ],
            [
             0.5555555555555556,
             "#d8576b"
            ],
            [
             0.6666666666666666,
             "#ed7953"
            ],
            [
             0.7777777777777778,
             "#fb9f3a"
            ],
            [
             0.8888888888888888,
             "#fdca26"
            ],
            [
             1,
             "#f0f921"
            ]
           ],
           "sequentialminus": [
            [
             0,
             "#0d0887"
            ],
            [
             0.1111111111111111,
             "#46039f"
            ],
            [
             0.2222222222222222,
             "#7201a8"
            ],
            [
             0.3333333333333333,
             "#9c179e"
            ],
            [
             0.4444444444444444,
             "#bd3786"
            ],
            [
             0.5555555555555556,
             "#d8576b"
            ],
            [
             0.6666666666666666,
             "#ed7953"
            ],
            [
             0.7777777777777778,
             "#fb9f3a"
            ],
            [
             0.8888888888888888,
             "#fdca26"
            ],
            [
             1,
             "#f0f921"
            ]
           ]
          },
          "colorway": [
           "#636efa",
           "#EF553B",
           "#00cc96",
           "#ab63fa",
           "#FFA15A",
           "#19d3f3",
           "#FF6692",
           "#B6E880",
           "#FF97FF",
           "#FECB52"
          ],
          "font": {
           "color": "#2a3f5f"
          },
          "geo": {
           "bgcolor": "white",
           "lakecolor": "white",
           "landcolor": "#E5ECF6",
           "showlakes": true,
           "showland": true,
           "subunitcolor": "white"
          },
          "hoverlabel": {
           "align": "left"
          },
          "hovermode": "closest",
          "mapbox": {
           "style": "light"
          },
          "paper_bgcolor": "white",
          "plot_bgcolor": "#E5ECF6",
          "polar": {
           "angularaxis": {
            "gridcolor": "white",
            "linecolor": "white",
            "ticks": ""
           },
           "bgcolor": "#E5ECF6",
           "radialaxis": {
            "gridcolor": "white",
            "linecolor": "white",
            "ticks": ""
           }
          },
          "scene": {
           "xaxis": {
            "backgroundcolor": "#E5ECF6",
            "gridcolor": "white",
            "gridwidth": 2,
            "linecolor": "white",
            "showbackground": true,
            "ticks": "",
            "zerolinecolor": "white"
           },
           "yaxis": {
            "backgroundcolor": "#E5ECF6",
            "gridcolor": "white",
            "gridwidth": 2,
            "linecolor": "white",
            "showbackground": true,
            "ticks": "",
            "zerolinecolor": "white"
           },
           "zaxis": {
            "backgroundcolor": "#E5ECF6",
            "gridcolor": "white",
            "gridwidth": 2,
            "linecolor": "white",
            "showbackground": true,
            "ticks": "",
            "zerolinecolor": "white"
           }
          },
          "shapedefaults": {
           "line": {
            "color": "#2a3f5f"
           }
          },
          "ternary": {
           "aaxis": {
            "gridcolor": "white",
            "linecolor": "white",
            "ticks": ""
           },
           "baxis": {
            "gridcolor": "white",
            "linecolor": "white",
            "ticks": ""
           },
           "bgcolor": "#E5ECF6",
           "caxis": {
            "gridcolor": "white",
            "linecolor": "white",
            "ticks": ""
           }
          },
          "title": {
           "x": 0.05
          },
          "xaxis": {
           "automargin": true,
           "gridcolor": "white",
           "linecolor": "white",
           "ticks": "",
           "title": {
            "standoff": 15
           },
           "zerolinecolor": "white",
           "zerolinewidth": 2
          },
          "yaxis": {
           "automargin": true,
           "gridcolor": "white",
           "linecolor": "white",
           "ticks": "",
           "title": {
            "standoff": 15
           },
           "zerolinecolor": "white",
           "zerolinewidth": 2
          }
         }
        },
        "title": {
         "font": {
          "color": "#4D5663"
         }
        },
        "xaxis": {
         "gridcolor": "#E1E5ED",
         "showgrid": true,
         "tickfont": {
          "color": "#4D5663"
         },
         "title": {
          "font": {
           "color": "#4D5663"
          },
          "text": ""
         },
         "zerolinecolor": "#E1E5ED"
        },
        "yaxis": {
         "gridcolor": "#E1E5ED",
         "showgrid": true,
         "tickfont": {
          "color": "#4D5663"
         },
         "title": {
          "font": {
           "color": "#4D5663"
          },
          "text": ""
         },
         "zerolinecolor": "#E1E5ED"
        }
       }
      },
      "text/html": [
       "<div>\n",
       "        \n",
       "        \n",
       "            <div id=\"e1269f1f-6d09-49ec-bf83-0af2dd7d2845\" class=\"plotly-graph-div\" style=\"height:525px; width:100%;\"></div>\n",
       "            <script type=\"text/javascript\">\n",
       "                require([\"plotly\"], function(Plotly) {\n",
       "                    window.PLOTLYENV=window.PLOTLYENV || {};\n",
       "                    window.PLOTLYENV.BASE_URL='https://plot.ly';\n",
       "                    \n",
       "                if (document.getElementById(\"e1269f1f-6d09-49ec-bf83-0af2dd7d2845\")) {\n",
       "                    Plotly.newPlot(\n",
       "                        'e1269f1f-6d09-49ec-bf83-0af2dd7d2845',\n",
       "                        [{\"colorscale\": [[0.0, \"rgb(165,0,38)\"], [0.1, \"rgb(215,48,39)\"], [0.2, \"rgb(244,109,67)\"], [0.3, \"rgb(253,174,97)\"], [0.4, \"rgb(254,224,144)\"], [0.5, \"rgb(255,255,191)\"], [0.6, \"rgb(224,243,248)\"], [0.7, \"rgb(171,217,233)\"], [0.8, \"rgb(116,173,209)\"], [0.9, \"rgb(69,117,180)\"], [1.0, \"rgb(49,54,149)\"]], \"type\": \"surface\", \"x\": [0, 1, 2, 3, 4], \"y\": [\"x\", \"y\", \"z\"], \"z\": [[1, 2, 3, 4, 5], [10, 20, 30, 20, 10], [5, 4, 3, 2, 1]]}],\n",
       "                        {\"legend\": {\"bgcolor\": \"#F5F6F9\", \"font\": {\"color\": \"#4D5663\"}}, \"paper_bgcolor\": \"#F5F6F9\", \"plot_bgcolor\": \"#F5F6F9\", \"template\": {\"data\": {\"bar\": [{\"error_x\": {\"color\": \"#2a3f5f\"}, \"error_y\": {\"color\": \"#2a3f5f\"}, \"marker\": {\"line\": {\"color\": \"#E5ECF6\", \"width\": 0.5}}, \"type\": \"bar\"}], \"barpolar\": [{\"marker\": {\"line\": {\"color\": \"#E5ECF6\", \"width\": 0.5}}, \"type\": \"barpolar\"}], \"carpet\": [{\"aaxis\": {\"endlinecolor\": \"#2a3f5f\", \"gridcolor\": \"white\", \"linecolor\": \"white\", \"minorgridcolor\": \"white\", \"startlinecolor\": \"#2a3f5f\"}, \"baxis\": {\"endlinecolor\": \"#2a3f5f\", \"gridcolor\": \"white\", \"linecolor\": \"white\", \"minorgridcolor\": \"white\", \"startlinecolor\": \"#2a3f5f\"}, \"type\": \"carpet\"}], \"choropleth\": [{\"colorbar\": {\"outlinewidth\": 0, \"ticks\": \"\"}, \"type\": \"choropleth\"}], \"contour\": [{\"colorbar\": {\"outlinewidth\": 0, \"ticks\": \"\"}, \"colorscale\": [[0.0, \"#0d0887\"], [0.1111111111111111, \"#46039f\"], [0.2222222222222222, \"#7201a8\"], [0.3333333333333333, \"#9c179e\"], [0.4444444444444444, \"#bd3786\"], [0.5555555555555556, \"#d8576b\"], [0.6666666666666666, \"#ed7953\"], [0.7777777777777778, \"#fb9f3a\"], [0.8888888888888888, \"#fdca26\"], [1.0, \"#f0f921\"]], \"type\": \"contour\"}], \"contourcarpet\": [{\"colorbar\": {\"outlinewidth\": 0, \"ticks\": \"\"}, \"type\": \"contourcarpet\"}], \"heatmap\": [{\"colorbar\": {\"outlinewidth\": 0, \"ticks\": \"\"}, \"colorscale\": [[0.0, \"#0d0887\"], [0.1111111111111111, \"#46039f\"], [0.2222222222222222, \"#7201a8\"], [0.3333333333333333, \"#9c179e\"], [0.4444444444444444, \"#bd3786\"], [0.5555555555555556, \"#d8576b\"], [0.6666666666666666, \"#ed7953\"], [0.7777777777777778, \"#fb9f3a\"], [0.8888888888888888, \"#fdca26\"], [1.0, \"#f0f921\"]], \"type\": \"heatmap\"}], \"heatmapgl\": [{\"colorbar\": {\"outlinewidth\": 0, \"ticks\": \"\"}, \"colorscale\": [[0.0, \"#0d0887\"], [0.1111111111111111, \"#46039f\"], [0.2222222222222222, \"#7201a8\"], [0.3333333333333333, \"#9c179e\"], [0.4444444444444444, \"#bd3786\"], [0.5555555555555556, \"#d8576b\"], [0.6666666666666666, \"#ed7953\"], [0.7777777777777778, \"#fb9f3a\"], [0.8888888888888888, \"#fdca26\"], [1.0, \"#f0f921\"]], \"type\": \"heatmapgl\"}], \"histogram\": [{\"marker\": {\"colorbar\": {\"outlinewidth\": 0, \"ticks\": \"\"}}, \"type\": \"histogram\"}], \"histogram2d\": [{\"colorbar\": {\"outlinewidth\": 0, \"ticks\": \"\"}, \"colorscale\": [[0.0, \"#0d0887\"], [0.1111111111111111, \"#46039f\"], [0.2222222222222222, \"#7201a8\"], [0.3333333333333333, \"#9c179e\"], [0.4444444444444444, \"#bd3786\"], [0.5555555555555556, \"#d8576b\"], [0.6666666666666666, \"#ed7953\"], [0.7777777777777778, \"#fb9f3a\"], [0.8888888888888888, \"#fdca26\"], [1.0, \"#f0f921\"]], \"type\": \"histogram2d\"}], \"histogram2dcontour\": [{\"colorbar\": {\"outlinewidth\": 0, \"ticks\": \"\"}, \"colorscale\": [[0.0, \"#0d0887\"], [0.1111111111111111, \"#46039f\"], [0.2222222222222222, \"#7201a8\"], [0.3333333333333333, \"#9c179e\"], [0.4444444444444444, \"#bd3786\"], [0.5555555555555556, \"#d8576b\"], [0.6666666666666666, \"#ed7953\"], [0.7777777777777778, \"#fb9f3a\"], [0.8888888888888888, \"#fdca26\"], [1.0, \"#f0f921\"]], \"type\": \"histogram2dcontour\"}], \"mesh3d\": [{\"colorbar\": {\"outlinewidth\": 0, \"ticks\": \"\"}, \"type\": \"mesh3d\"}], \"parcoords\": [{\"line\": {\"colorbar\": {\"outlinewidth\": 0, \"ticks\": \"\"}}, \"type\": \"parcoords\"}], \"pie\": [{\"automargin\": true, \"type\": \"pie\"}], \"scatter\": [{\"marker\": {\"colorbar\": {\"outlinewidth\": 0, \"ticks\": \"\"}}, \"type\": \"scatter\"}], \"scatter3d\": [{\"line\": {\"colorbar\": {\"outlinewidth\": 0, \"ticks\": \"\"}}, \"marker\": {\"colorbar\": {\"outlinewidth\": 0, \"ticks\": \"\"}}, \"type\": \"scatter3d\"}], \"scattercarpet\": [{\"marker\": {\"colorbar\": {\"outlinewidth\": 0, \"ticks\": \"\"}}, \"type\": \"scattercarpet\"}], \"scattergeo\": [{\"marker\": {\"colorbar\": {\"outlinewidth\": 0, \"ticks\": \"\"}}, \"type\": \"scattergeo\"}], \"scattergl\": [{\"marker\": {\"colorbar\": {\"outlinewidth\": 0, \"ticks\": \"\"}}, \"type\": \"scattergl\"}], \"scattermapbox\": [{\"marker\": {\"colorbar\": {\"outlinewidth\": 0, \"ticks\": \"\"}}, \"type\": \"scattermapbox\"}], \"scatterpolar\": [{\"marker\": {\"colorbar\": {\"outlinewidth\": 0, \"ticks\": \"\"}}, \"type\": \"scatterpolar\"}], \"scatterpolargl\": [{\"marker\": {\"colorbar\": {\"outlinewidth\": 0, \"ticks\": \"\"}}, \"type\": \"scatterpolargl\"}], \"scatterternary\": [{\"marker\": {\"colorbar\": {\"outlinewidth\": 0, \"ticks\": \"\"}}, \"type\": \"scatterternary\"}], \"surface\": [{\"colorbar\": {\"outlinewidth\": 0, \"ticks\": \"\"}, \"colorscale\": [[0.0, \"#0d0887\"], [0.1111111111111111, \"#46039f\"], [0.2222222222222222, \"#7201a8\"], [0.3333333333333333, \"#9c179e\"], [0.4444444444444444, \"#bd3786\"], [0.5555555555555556, \"#d8576b\"], [0.6666666666666666, \"#ed7953\"], [0.7777777777777778, \"#fb9f3a\"], [0.8888888888888888, \"#fdca26\"], [1.0, \"#f0f921\"]], \"type\": \"surface\"}], \"table\": [{\"cells\": {\"fill\": {\"color\": \"#EBF0F8\"}, \"line\": {\"color\": \"white\"}}, \"header\": {\"fill\": {\"color\": \"#C8D4E3\"}, \"line\": {\"color\": \"white\"}}, \"type\": \"table\"}]}, \"layout\": {\"annotationdefaults\": {\"arrowcolor\": \"#2a3f5f\", \"arrowhead\": 0, \"arrowwidth\": 1}, \"coloraxis\": {\"colorbar\": {\"outlinewidth\": 0, \"ticks\": \"\"}}, \"colorscale\": {\"diverging\": [[0, \"#8e0152\"], [0.1, \"#c51b7d\"], [0.2, \"#de77ae\"], [0.3, \"#f1b6da\"], [0.4, \"#fde0ef\"], [0.5, \"#f7f7f7\"], [0.6, \"#e6f5d0\"], [0.7, \"#b8e186\"], [0.8, \"#7fbc41\"], [0.9, \"#4d9221\"], [1, \"#276419\"]], \"sequential\": [[0.0, \"#0d0887\"], [0.1111111111111111, \"#46039f\"], [0.2222222222222222, \"#7201a8\"], [0.3333333333333333, \"#9c179e\"], [0.4444444444444444, \"#bd3786\"], [0.5555555555555556, \"#d8576b\"], [0.6666666666666666, \"#ed7953\"], [0.7777777777777778, \"#fb9f3a\"], [0.8888888888888888, \"#fdca26\"], [1.0, \"#f0f921\"]], \"sequentialminus\": [[0.0, \"#0d0887\"], [0.1111111111111111, \"#46039f\"], [0.2222222222222222, \"#7201a8\"], [0.3333333333333333, \"#9c179e\"], [0.4444444444444444, \"#bd3786\"], [0.5555555555555556, \"#d8576b\"], [0.6666666666666666, \"#ed7953\"], [0.7777777777777778, \"#fb9f3a\"], [0.8888888888888888, \"#fdca26\"], [1.0, \"#f0f921\"]]}, \"colorway\": [\"#636efa\", \"#EF553B\", \"#00cc96\", \"#ab63fa\", \"#FFA15A\", \"#19d3f3\", \"#FF6692\", \"#B6E880\", \"#FF97FF\", \"#FECB52\"], \"font\": {\"color\": \"#2a3f5f\"}, \"geo\": {\"bgcolor\": \"white\", \"lakecolor\": \"white\", \"landcolor\": \"#E5ECF6\", \"showlakes\": true, \"showland\": true, \"subunitcolor\": \"white\"}, \"hoverlabel\": {\"align\": \"left\"}, \"hovermode\": \"closest\", \"mapbox\": {\"style\": \"light\"}, \"paper_bgcolor\": \"white\", \"plot_bgcolor\": \"#E5ECF6\", \"polar\": {\"angularaxis\": {\"gridcolor\": \"white\", \"linecolor\": \"white\", \"ticks\": \"\"}, \"bgcolor\": \"#E5ECF6\", \"radialaxis\": {\"gridcolor\": \"white\", \"linecolor\": \"white\", \"ticks\": \"\"}}, \"scene\": {\"xaxis\": {\"backgroundcolor\": \"#E5ECF6\", \"gridcolor\": \"white\", \"gridwidth\": 2, \"linecolor\": \"white\", \"showbackground\": true, \"ticks\": \"\", \"zerolinecolor\": \"white\"}, \"yaxis\": {\"backgroundcolor\": \"#E5ECF6\", \"gridcolor\": \"white\", \"gridwidth\": 2, \"linecolor\": \"white\", \"showbackground\": true, \"ticks\": \"\", \"zerolinecolor\": \"white\"}, \"zaxis\": {\"backgroundcolor\": \"#E5ECF6\", \"gridcolor\": \"white\", \"gridwidth\": 2, \"linecolor\": \"white\", \"showbackground\": true, \"ticks\": \"\", \"zerolinecolor\": \"white\"}}, \"shapedefaults\": {\"line\": {\"color\": \"#2a3f5f\"}}, \"ternary\": {\"aaxis\": {\"gridcolor\": \"white\", \"linecolor\": \"white\", \"ticks\": \"\"}, \"baxis\": {\"gridcolor\": \"white\", \"linecolor\": \"white\", \"ticks\": \"\"}, \"bgcolor\": \"#E5ECF6\", \"caxis\": {\"gridcolor\": \"white\", \"linecolor\": \"white\", \"ticks\": \"\"}}, \"title\": {\"x\": 0.05}, \"xaxis\": {\"automargin\": true, \"gridcolor\": \"white\", \"linecolor\": \"white\", \"ticks\": \"\", \"title\": {\"standoff\": 15}, \"zerolinecolor\": \"white\", \"zerolinewidth\": 2}, \"yaxis\": {\"automargin\": true, \"gridcolor\": \"white\", \"linecolor\": \"white\", \"ticks\": \"\", \"title\": {\"standoff\": 15}, \"zerolinecolor\": \"white\", \"zerolinewidth\": 2}}}, \"title\": {\"font\": {\"color\": \"#4D5663\"}}, \"xaxis\": {\"gridcolor\": \"#E1E5ED\", \"showgrid\": true, \"tickfont\": {\"color\": \"#4D5663\"}, \"title\": {\"font\": {\"color\": \"#4D5663\"}, \"text\": \"\"}, \"zerolinecolor\": \"#E1E5ED\"}, \"yaxis\": {\"gridcolor\": \"#E1E5ED\", \"showgrid\": true, \"tickfont\": {\"color\": \"#4D5663\"}, \"title\": {\"font\": {\"color\": \"#4D5663\"}, \"text\": \"\"}, \"zerolinecolor\": \"#E1E5ED\"}},\n",
       "                        {\"showLink\": true, \"linkText\": \"Export to plot.ly\", \"plotlyServerURL\": \"https://plot.ly\", \"responsive\": true}\n",
       "                    ).then(function(){\n",
       "                            \n",
       "var gd = document.getElementById('e1269f1f-6d09-49ec-bf83-0af2dd7d2845');\n",
       "var x = new MutationObserver(function (mutations, observer) {{\n",
       "        var display = window.getComputedStyle(gd).display;\n",
       "        if (!display || display === 'none') {{\n",
       "            console.log([gd, 'removed!']);\n",
       "            Plotly.purge(gd);\n",
       "            observer.disconnect();\n",
       "        }}\n",
       "}});\n",
       "\n",
       "// Listen for the removal of the full notebook cells\n",
       "var notebookContainer = gd.closest('#notebook-container');\n",
       "if (notebookContainer) {{\n",
       "    x.observe(notebookContainer, {childList: true});\n",
       "}}\n",
       "\n",
       "// Listen for the clearing of the current output cell\n",
       "var outputEl = gd.closest('.output');\n",
       "if (outputEl) {{\n",
       "    x.observe(outputEl, {childList: true});\n",
       "}}\n",
       "\n",
       "                        })\n",
       "                };\n",
       "                });\n",
       "            </script>\n",
       "        </div>"
      ]
     },
     "metadata": {},
     "output_type": "display_data"
    }
   ],
   "source": [
    "df3 = pd.DataFrame({'x':[1,2,3,4,5],'y':[10,20,30,20,10],'z':[5,4,3,2,1]})\n",
    "df3.iplot(kind='surface',colorscale='rdylbu')"
   ]
  },
  {
   "cell_type": "markdown",
   "metadata": {},
   "source": [
    "## Spread"
   ]
  },
  {
   "cell_type": "code",
   "execution_count": 16,
   "metadata": {},
   "outputs": [
    {
     "name": "stderr",
     "output_type": "stream",
     "text": [
      "/Users/oliver.naaris/opt/anaconda3/lib/python3.8/site-packages/cufflinks/plotlytools.py:849: FutureWarning:\n",
      "\n",
      "The pandas.np module is deprecated and will be removed from pandas in a future version. Import numpy directly instead\n",
      "\n",
      "/Users/oliver.naaris/opt/anaconda3/lib/python3.8/site-packages/cufflinks/plotlytools.py:850: FutureWarning:\n",
      "\n",
      "The pandas.np module is deprecated and will be removed from pandas in a future version. Import numpy directly instead\n",
      "\n"
     ]
    },
    {
     "data": {
      "application/vnd.plotly.v1+json": {
       "config": {
        "linkText": "Export to plot.ly",
        "plotlyServerURL": "https://plot.ly",
        "showLink": true
       },
       "data": [
        {
         "line": {
          "color": "rgba(255, 153, 51, 1.0)",
          "dash": "solid",
          "shape": "linear",
          "width": 1.3
         },
         "mode": "lines",
         "name": "A",
         "text": "",
         "type": "scatter",
         "x": [
          0,
          1,
          2,
          3,
          4,
          5,
          6,
          7,
          8,
          9,
          10,
          11,
          12,
          13,
          14,
          15,
          16,
          17,
          18,
          19,
          20,
          21,
          22,
          23,
          24,
          25,
          26,
          27,
          28,
          29,
          30,
          31,
          32,
          33,
          34,
          35,
          36,
          37,
          38,
          39,
          40,
          41,
          42,
          43,
          44,
          45,
          46,
          47,
          48,
          49,
          50,
          51,
          52,
          53,
          54,
          55,
          56,
          57,
          58,
          59,
          60,
          61,
          62,
          63,
          64,
          65,
          66,
          67,
          68,
          69,
          70,
          71,
          72,
          73,
          74,
          75,
          76,
          77,
          78,
          79,
          80,
          81,
          82,
          83,
          84,
          85,
          86,
          87,
          88,
          89,
          90,
          91,
          92,
          93,
          94,
          95,
          96,
          97,
          98,
          99
         ],
         "y": [
          -0.47323338372044216,
          0.391342125956041,
          -1.3930192517983035,
          -0.7583764463384806,
          0.030560247015788796,
          -0.42222897997487735,
          0.3419507372052493,
          -0.6530728726886348,
          0.4911743583401989,
          -0.6399410387909096,
          1.252348795213839,
          2.79565887203688,
          1.0216953549398935,
          -0.6760681475071038,
          1.9153287675036414,
          -0.8574194766794743,
          0.03971198334552156,
          1.5575886718822547,
          -0.41104371136749807,
          0.45423026955435997,
          1.37682200922694,
          -0.49097371261325123,
          -1.103902239392601,
          1.209088156671042,
          -0.12929287076995005,
          -1.3546787992622251,
          0.741078850974195,
          0.17579127326631125,
          -0.01674344571807809,
          1.1428979827099823,
          0.012233952698504845,
          -0.8741512129967439,
          0.1427194853744033,
          1.1058161773053639,
          0.12295872208272311,
          -0.5856164378476567,
          0.21613129771727468,
          -1.8690770920771833,
          -0.6898825134758376,
          -0.05458461743161419,
          -0.15759841027243723,
          -0.6117912504899256,
          -0.696867769386093,
          -0.3274933689874018,
          -0.735725361990674,
          -0.006292612703083734,
          -0.4783007321809796,
          0.46136717463820837,
          1.1050679917684179,
          -0.8742044025984583,
          -0.7822275024460555,
          0.19428282921115408,
          -1.599183119108615,
          0.16519098965643408,
          1.1233298071638333,
          0.25714148321550806,
          -0.4491728069771753,
          0.3286657772584293,
          0.4223585017724842,
          -1.3447552904968874,
          0.23535742165332924,
          -0.7746665058691453,
          -0.49249988794559896,
          -0.3916749224744794,
          -1.5427041968534043,
          0.33574744449984323,
          0.28716634919374984,
          -0.5396371694147453,
          1.5186938958656993,
          -0.16730775070513196,
          0.7986916318539317,
          -1.8076154055395393,
          0.8449677715018729,
          1.4994351030509954,
          0.3761440759664159,
          0.02032831851069565,
          -0.25420286262412284,
          0.5915923846119849,
          0.031343181368975785,
          0.8924389509972139,
          0.14696198272413175,
          -0.3383806308837403,
          -0.8167067803331302,
          0.8375097350413139,
          -1.844697334868694,
          -0.47583161834498267,
          0.3993116744743492,
          1.5196641994432958,
          -2.149826871045154,
          -0.5054434625221709,
          0.9568329180805797,
          -1.1772979939147825,
          0.12495847641314985,
          2.489394225157195,
          0.8167825718121651,
          -1.541048250898501,
          1.3836463003138744,
          -0.030213786772967887,
          0.6891482660718707,
          0.22201933593073467
         ]
        },
        {
         "line": {
          "color": "rgba(55, 128, 191, 1.0)",
          "dash": "solid",
          "shape": "linear",
          "width": 1.3
         },
         "mode": "lines",
         "name": "B",
         "text": "",
         "type": "scatter",
         "x": [
          0,
          1,
          2,
          3,
          4,
          5,
          6,
          7,
          8,
          9,
          10,
          11,
          12,
          13,
          14,
          15,
          16,
          17,
          18,
          19,
          20,
          21,
          22,
          23,
          24,
          25,
          26,
          27,
          28,
          29,
          30,
          31,
          32,
          33,
          34,
          35,
          36,
          37,
          38,
          39,
          40,
          41,
          42,
          43,
          44,
          45,
          46,
          47,
          48,
          49,
          50,
          51,
          52,
          53,
          54,
          55,
          56,
          57,
          58,
          59,
          60,
          61,
          62,
          63,
          64,
          65,
          66,
          67,
          68,
          69,
          70,
          71,
          72,
          73,
          74,
          75,
          76,
          77,
          78,
          79,
          80,
          81,
          82,
          83,
          84,
          85,
          86,
          87,
          88,
          89,
          90,
          91,
          92,
          93,
          94,
          95,
          96,
          97,
          98,
          99
         ],
         "y": [
          -0.7863556269567842,
          -0.3934319050293995,
          -0.8659569932604896,
          0.30666746365172154,
          -2.5335810728661774,
          0.08560385128773612,
          0.7707462351268122,
          -0.1532090031592984,
          1.1286258467424628,
          -0.5825286450266112,
          0.39862414075985675,
          0.22258314683488725,
          1.0537570365862137,
          -0.8159525977081468,
          -0.5061916446714905,
          -0.26061714680962556,
          -2.254049905642298,
          0.29318800193968925,
          2.3094028981793846,
          -0.048968716571239,
          0.06985565178494063,
          -1.274260090264892,
          -1.41004308259798,
          2.002966383137955,
          -0.7586585236309823,
          1.835932532756517,
          -0.6629902504136792,
          0.3189347126535099,
          0.5065766796579961,
          2.1881591681018104,
          -0.5091713331664507,
          0.6461027072133978,
          -0.9858139943365096,
          0.8352212513237809,
          0.7678917985915251,
          -0.5720013372834474,
          0.4597669525366794,
          0.0010371046198402512,
          -0.20491356648425588,
          0.9328866567283997,
          2.176018941163229,
          -0.9163567131417804,
          0.8099443703746437,
          1.378718852814666,
          -0.0959067798324056,
          0.3055517084481643,
          0.9479911188482862,
          -1.8741975653115122,
          1.4659130901080561,
          0.9689652756893685,
          -1.5009623827195906,
          2.8872697466472643,
          0.06706261098262112,
          0.017536891671529827,
          1.6155683878161462,
          -0.06803490307878995,
          -1.0926381642910077,
          0.7340270358115923,
          0.517571964274028,
          0.667005891920211,
          -2.112386962226195,
          -0.13579269137096708,
          0.1207994583196543,
          -0.5254973507764424,
          -1.2886398814889086,
          -2.0279168784246986,
          1.1485673851045588,
          -0.20190822632409647,
          -0.5969951426556726,
          0.22088014731203623,
          1.1376723087755327,
          0.5738714744704506,
          0.7451691218808038,
          0.5844226957724005,
          -0.9813236939291822,
          -1.045116851602681,
          -1.234923056082786,
          -1.0708041340168966,
          1.4658002080355017,
          -0.761499576905759,
          -3.1524089631556804,
          0.8339745187847174,
          -0.8736506796302141,
          0.19033242925434002,
          1.5338359061015892,
          -0.4971111409720753,
          0.6914248925254357,
          1.1375771610666334,
          1.2200375084760924,
          0.4138867568586993,
          -2.8980380292726386,
          0.04456869526355736,
          -1.081971961542821,
          1.0623667326027297,
          0.31280558134076863,
          -0.03546302545284578,
          -1.9668831578809485,
          0.051637491391016394,
          1.2239694666936947,
          0.39670028159886306
         ]
        },
        {
         "connectgaps": false,
         "fill": "tozeroy",
         "line": {
          "color": "green",
          "dash": "solid",
          "shape": "linear",
          "width": 0.5
         },
         "mode": "lines",
         "name": "Spread",
         "showlegend": false,
         "type": "scatter",
         "x": [
          0,
          1,
          2,
          3,
          4,
          5,
          6,
          7,
          8,
          9,
          10,
          11,
          12,
          13,
          14,
          15,
          16,
          17,
          18,
          19,
          20,
          21,
          22,
          23,
          24,
          25,
          26,
          27,
          28,
          29,
          30,
          31,
          32,
          33,
          34,
          35,
          36,
          37,
          38,
          39,
          40,
          41,
          42,
          43,
          44,
          45,
          46,
          47,
          48,
          49,
          50,
          51,
          52,
          53,
          54,
          55,
          56,
          57,
          58,
          59,
          60,
          61,
          62,
          63,
          64,
          65,
          66,
          67,
          68,
          69,
          70,
          71,
          72,
          73,
          74,
          75,
          76,
          77,
          78,
          79,
          80,
          81,
          82,
          83,
          84,
          85,
          86,
          87,
          88,
          89,
          90,
          91,
          92,
          93,
          94,
          95,
          96,
          97,
          98,
          99
         ],
         "xaxis": "x2",
         "y": [
          0.313122243236342,
          0.7847740309854405,
          "",
          "",
          2.564141319881966,
          "",
          "",
          "",
          "",
          "",
          0.8537246544539823,
          2.573075725201993,
          "",
          0.139884450201043,
          2.421520412175132,
          "",
          2.2937618889878193,
          1.2644006699425654,
          "",
          0.503198986125599,
          1.3069663574419994,
          0.7832863776516408,
          0.30614084320537893,
          "",
          0.6293656528610323,
          "",
          1.4040691013878743,
          "",
          "",
          "",
          0.5214052858649555,
          "",
          1.128533479710913,
          0.27059492598158297,
          "",
          "",
          "",
          "",
          "",
          "",
          "",
          0.3045654626518548,
          "",
          "",
          "",
          "",
          "",
          2.3355647399497204,
          "",
          "",
          0.718734880273535,
          "",
          "",
          0.14765409798490425,
          "",
          0.325176386294298,
          0.6434653573138324,
          "",
          "",
          "",
          2.347744383879524,
          "",
          "",
          0.13382242830196306,
          "",
          2.3636643229245418,
          "",
          "",
          2.1156890385213716,
          "",
          "",
          "",
          0.0997986496210691,
          0.9150124072785949,
          1.3574677698955981,
          1.0654451701133767,
          0.9807201934586631,
          1.6623965186288814,
          "",
          1.653938527902973,
          3.2993709458798124,
          "",
          0.05694389929708399,
          0.6471773057869739,
          "",
          0.02127952262709265,
          "",
          0.38208703837666236,
          "",
          "",
          3.854870947353218,
          "",
          1.2069304379559709,
          1.4270274925544653,
          0.5039769904713964,
          "",
          3.350529458194823,
          "",
          "",
          ""
         ],
         "yaxis": "y2"
        },
        {
         "connectgaps": false,
         "fill": "tozeroy",
         "line": {
          "color": "red",
          "dash": "solid",
          "shape": "linear",
          "width": 0.5
         },
         "mode": "lines",
         "name": "Spread",
         "showlegend": false,
         "type": "scatter",
         "x": [
          0,
          1,
          2,
          3,
          4,
          5,
          6,
          7,
          8,
          9,
          10,
          11,
          12,
          13,
          14,
          15,
          16,
          17,
          18,
          19,
          20,
          21,
          22,
          23,
          24,
          25,
          26,
          27,
          28,
          29,
          30,
          31,
          32,
          33,
          34,
          35,
          36,
          37,
          38,
          39,
          40,
          41,
          42,
          43,
          44,
          45,
          46,
          47,
          48,
          49,
          50,
          51,
          52,
          53,
          54,
          55,
          56,
          57,
          58,
          59,
          60,
          61,
          62,
          63,
          64,
          65,
          66,
          67,
          68,
          69,
          70,
          71,
          72,
          73,
          74,
          75,
          76,
          77,
          78,
          79,
          80,
          81,
          82,
          83,
          84,
          85,
          86,
          87,
          88,
          89,
          90,
          91,
          92,
          93,
          94,
          95,
          96,
          97,
          98,
          99
         ],
         "xaxis": "x2",
         "y": [
          "",
          "",
          -0.527062258537814,
          -1.065043909990202,
          "",
          -0.5078328312626135,
          -0.42879549792156285,
          -0.49986386952933637,
          -0.637451488402264,
          -0.05741239376429841,
          "",
          "",
          -0.03206168164632017,
          "",
          "",
          -0.5968023298698487,
          "",
          "",
          -2.7204466095468827,
          "",
          "",
          "",
          "",
          -0.7938782264669129,
          "",
          -3.190611332018742,
          "",
          -0.14314343938719867,
          -0.5233201253760742,
          -1.045261185391828,
          "",
          -1.5202539202101417,
          "",
          "",
          -0.644933076508802,
          -0.013615100564209337,
          -0.2436356548194047,
          -1.8701141966970236,
          -0.4849689469915818,
          -0.9874712741600138,
          -2.333617351435666,
          "",
          -1.5068121397607368,
          -1.7062122218020679,
          -0.6398185821582684,
          -0.31184432115124805,
          -1.426291851029266,
          "",
          -0.3608450983396383,
          -1.8431696782878269,
          "",
          -2.69298691743611,
          -1.666245730091236,
          "",
          -0.49223858065231285,
          "",
          "",
          -0.405361258553163,
          -0.09521346250154378,
          -2.0117611824170982,
          "",
          -0.6388738144981783,
          -0.6132993462652533,
          "",
          -0.2540643153644957,
          "",
          -0.861401035910809,
          -0.3377289430906488,
          "",
          -0.3881878980171682,
          -0.33898067692160105,
          -2.38148688000999,
          "",
          "",
          "",
          "",
          "",
          "",
          -1.434457026666526,
          "",
          "",
          -1.1723551496684577,
          "",
          "",
          -3.378533240970283,
          "",
          -0.29211321805108653,
          "",
          -3.369864379521246,
          -0.9193302193808701,
          "",
          -1.2218666891783398,
          "",
          "",
          "",
          -1.5055852254456552,
          "",
          -0.08185127816398428,
          -0.5348212006218239,
          -0.1746809456681284
         ],
         "yaxis": "y2"
        }
       ],
       "layout": {
        "hovermode": "x",
        "legend": {
         "bgcolor": "#F5F6F9",
         "font": {
          "color": "#4D5663"
         }
        },
        "paper_bgcolor": "#F5F6F9",
        "plot_bgcolor": "#F5F6F9",
        "template": {
         "data": {
          "bar": [
           {
            "error_x": {
             "color": "#2a3f5f"
            },
            "error_y": {
             "color": "#2a3f5f"
            },
            "marker": {
             "line": {
              "color": "#E5ECF6",
              "width": 0.5
             }
            },
            "type": "bar"
           }
          ],
          "barpolar": [
           {
            "marker": {
             "line": {
              "color": "#E5ECF6",
              "width": 0.5
             }
            },
            "type": "barpolar"
           }
          ],
          "carpet": [
           {
            "aaxis": {
             "endlinecolor": "#2a3f5f",
             "gridcolor": "white",
             "linecolor": "white",
             "minorgridcolor": "white",
             "startlinecolor": "#2a3f5f"
            },
            "baxis": {
             "endlinecolor": "#2a3f5f",
             "gridcolor": "white",
             "linecolor": "white",
             "minorgridcolor": "white",
             "startlinecolor": "#2a3f5f"
            },
            "type": "carpet"
           }
          ],
          "choropleth": [
           {
            "colorbar": {
             "outlinewidth": 0,
             "ticks": ""
            },
            "type": "choropleth"
           }
          ],
          "contour": [
           {
            "colorbar": {
             "outlinewidth": 0,
             "ticks": ""
            },
            "colorscale": [
             [
              0,
              "#0d0887"
             ],
             [
              0.1111111111111111,
              "#46039f"
             ],
             [
              0.2222222222222222,
              "#7201a8"
             ],
             [
              0.3333333333333333,
              "#9c179e"
             ],
             [
              0.4444444444444444,
              "#bd3786"
             ],
             [
              0.5555555555555556,
              "#d8576b"
             ],
             [
              0.6666666666666666,
              "#ed7953"
             ],
             [
              0.7777777777777778,
              "#fb9f3a"
             ],
             [
              0.8888888888888888,
              "#fdca26"
             ],
             [
              1,
              "#f0f921"
             ]
            ],
            "type": "contour"
           }
          ],
          "contourcarpet": [
           {
            "colorbar": {
             "outlinewidth": 0,
             "ticks": ""
            },
            "type": "contourcarpet"
           }
          ],
          "heatmap": [
           {
            "colorbar": {
             "outlinewidth": 0,
             "ticks": ""
            },
            "colorscale": [
             [
              0,
              "#0d0887"
             ],
             [
              0.1111111111111111,
              "#46039f"
             ],
             [
              0.2222222222222222,
              "#7201a8"
             ],
             [
              0.3333333333333333,
              "#9c179e"
             ],
             [
              0.4444444444444444,
              "#bd3786"
             ],
             [
              0.5555555555555556,
              "#d8576b"
             ],
             [
              0.6666666666666666,
              "#ed7953"
             ],
             [
              0.7777777777777778,
              "#fb9f3a"
             ],
             [
              0.8888888888888888,
              "#fdca26"
             ],
             [
              1,
              "#f0f921"
             ]
            ],
            "type": "heatmap"
           }
          ],
          "heatmapgl": [
           {
            "colorbar": {
             "outlinewidth": 0,
             "ticks": ""
            },
            "colorscale": [
             [
              0,
              "#0d0887"
             ],
             [
              0.1111111111111111,
              "#46039f"
             ],
             [
              0.2222222222222222,
              "#7201a8"
             ],
             [
              0.3333333333333333,
              "#9c179e"
             ],
             [
              0.4444444444444444,
              "#bd3786"
             ],
             [
              0.5555555555555556,
              "#d8576b"
             ],
             [
              0.6666666666666666,
              "#ed7953"
             ],
             [
              0.7777777777777778,
              "#fb9f3a"
             ],
             [
              0.8888888888888888,
              "#fdca26"
             ],
             [
              1,
              "#f0f921"
             ]
            ],
            "type": "heatmapgl"
           }
          ],
          "histogram": [
           {
            "marker": {
             "colorbar": {
              "outlinewidth": 0,
              "ticks": ""
             }
            },
            "type": "histogram"
           }
          ],
          "histogram2d": [
           {
            "colorbar": {
             "outlinewidth": 0,
             "ticks": ""
            },
            "colorscale": [
             [
              0,
              "#0d0887"
             ],
             [
              0.1111111111111111,
              "#46039f"
             ],
             [
              0.2222222222222222,
              "#7201a8"
             ],
             [
              0.3333333333333333,
              "#9c179e"
             ],
             [
              0.4444444444444444,
              "#bd3786"
             ],
             [
              0.5555555555555556,
              "#d8576b"
             ],
             [
              0.6666666666666666,
              "#ed7953"
             ],
             [
              0.7777777777777778,
              "#fb9f3a"
             ],
             [
              0.8888888888888888,
              "#fdca26"
             ],
             [
              1,
              "#f0f921"
             ]
            ],
            "type": "histogram2d"
           }
          ],
          "histogram2dcontour": [
           {
            "colorbar": {
             "outlinewidth": 0,
             "ticks": ""
            },
            "colorscale": [
             [
              0,
              "#0d0887"
             ],
             [
              0.1111111111111111,
              "#46039f"
             ],
             [
              0.2222222222222222,
              "#7201a8"
             ],
             [
              0.3333333333333333,
              "#9c179e"
             ],
             [
              0.4444444444444444,
              "#bd3786"
             ],
             [
              0.5555555555555556,
              "#d8576b"
             ],
             [
              0.6666666666666666,
              "#ed7953"
             ],
             [
              0.7777777777777778,
              "#fb9f3a"
             ],
             [
              0.8888888888888888,
              "#fdca26"
             ],
             [
              1,
              "#f0f921"
             ]
            ],
            "type": "histogram2dcontour"
           }
          ],
          "mesh3d": [
           {
            "colorbar": {
             "outlinewidth": 0,
             "ticks": ""
            },
            "type": "mesh3d"
           }
          ],
          "parcoords": [
           {
            "line": {
             "colorbar": {
              "outlinewidth": 0,
              "ticks": ""
             }
            },
            "type": "parcoords"
           }
          ],
          "pie": [
           {
            "automargin": true,
            "type": "pie"
           }
          ],
          "scatter": [
           {
            "marker": {
             "colorbar": {
              "outlinewidth": 0,
              "ticks": ""
             }
            },
            "type": "scatter"
           }
          ],
          "scatter3d": [
           {
            "line": {
             "colorbar": {
              "outlinewidth": 0,
              "ticks": ""
             }
            },
            "marker": {
             "colorbar": {
              "outlinewidth": 0,
              "ticks": ""
             }
            },
            "type": "scatter3d"
           }
          ],
          "scattercarpet": [
           {
            "marker": {
             "colorbar": {
              "outlinewidth": 0,
              "ticks": ""
             }
            },
            "type": "scattercarpet"
           }
          ],
          "scattergeo": [
           {
            "marker": {
             "colorbar": {
              "outlinewidth": 0,
              "ticks": ""
             }
            },
            "type": "scattergeo"
           }
          ],
          "scattergl": [
           {
            "marker": {
             "colorbar": {
              "outlinewidth": 0,
              "ticks": ""
             }
            },
            "type": "scattergl"
           }
          ],
          "scattermapbox": [
           {
            "marker": {
             "colorbar": {
              "outlinewidth": 0,
              "ticks": ""
             }
            },
            "type": "scattermapbox"
           }
          ],
          "scatterpolar": [
           {
            "marker": {
             "colorbar": {
              "outlinewidth": 0,
              "ticks": ""
             }
            },
            "type": "scatterpolar"
           }
          ],
          "scatterpolargl": [
           {
            "marker": {
             "colorbar": {
              "outlinewidth": 0,
              "ticks": ""
             }
            },
            "type": "scatterpolargl"
           }
          ],
          "scatterternary": [
           {
            "marker": {
             "colorbar": {
              "outlinewidth": 0,
              "ticks": ""
             }
            },
            "type": "scatterternary"
           }
          ],
          "surface": [
           {
            "colorbar": {
             "outlinewidth": 0,
             "ticks": ""
            },
            "colorscale": [
             [
              0,
              "#0d0887"
             ],
             [
              0.1111111111111111,
              "#46039f"
             ],
             [
              0.2222222222222222,
              "#7201a8"
             ],
             [
              0.3333333333333333,
              "#9c179e"
             ],
             [
              0.4444444444444444,
              "#bd3786"
             ],
             [
              0.5555555555555556,
              "#d8576b"
             ],
             [
              0.6666666666666666,
              "#ed7953"
             ],
             [
              0.7777777777777778,
              "#fb9f3a"
             ],
             [
              0.8888888888888888,
              "#fdca26"
             ],
             [
              1,
              "#f0f921"
             ]
            ],
            "type": "surface"
           }
          ],
          "table": [
           {
            "cells": {
             "fill": {
              "color": "#EBF0F8"
             },
             "line": {
              "color": "white"
             }
            },
            "header": {
             "fill": {
              "color": "#C8D4E3"
             },
             "line": {
              "color": "white"
             }
            },
            "type": "table"
           }
          ]
         },
         "layout": {
          "annotationdefaults": {
           "arrowcolor": "#2a3f5f",
           "arrowhead": 0,
           "arrowwidth": 1
          },
          "coloraxis": {
           "colorbar": {
            "outlinewidth": 0,
            "ticks": ""
           }
          },
          "colorscale": {
           "diverging": [
            [
             0,
             "#8e0152"
            ],
            [
             0.1,
             "#c51b7d"
            ],
            [
             0.2,
             "#de77ae"
            ],
            [
             0.3,
             "#f1b6da"
            ],
            [
             0.4,
             "#fde0ef"
            ],
            [
             0.5,
             "#f7f7f7"
            ],
            [
             0.6,
             "#e6f5d0"
            ],
            [
             0.7,
             "#b8e186"
            ],
            [
             0.8,
             "#7fbc41"
            ],
            [
             0.9,
             "#4d9221"
            ],
            [
             1,
             "#276419"
            ]
           ],
           "sequential": [
            [
             0,
             "#0d0887"
            ],
            [
             0.1111111111111111,
             "#46039f"
            ],
            [
             0.2222222222222222,
             "#7201a8"
            ],
            [
             0.3333333333333333,
             "#9c179e"
            ],
            [
             0.4444444444444444,
             "#bd3786"
            ],
            [
             0.5555555555555556,
             "#d8576b"
            ],
            [
             0.6666666666666666,
             "#ed7953"
            ],
            [
             0.7777777777777778,
             "#fb9f3a"
            ],
            [
             0.8888888888888888,
             "#fdca26"
            ],
            [
             1,
             "#f0f921"
            ]
           ],
           "sequentialminus": [
            [
             0,
             "#0d0887"
            ],
            [
             0.1111111111111111,
             "#46039f"
            ],
            [
             0.2222222222222222,
             "#7201a8"
            ],
            [
             0.3333333333333333,
             "#9c179e"
            ],
            [
             0.4444444444444444,
             "#bd3786"
            ],
            [
             0.5555555555555556,
             "#d8576b"
            ],
            [
             0.6666666666666666,
             "#ed7953"
            ],
            [
             0.7777777777777778,
             "#fb9f3a"
            ],
            [
             0.8888888888888888,
             "#fdca26"
            ],
            [
             1,
             "#f0f921"
            ]
           ]
          },
          "colorway": [
           "#636efa",
           "#EF553B",
           "#00cc96",
           "#ab63fa",
           "#FFA15A",
           "#19d3f3",
           "#FF6692",
           "#B6E880",
           "#FF97FF",
           "#FECB52"
          ],
          "font": {
           "color": "#2a3f5f"
          },
          "geo": {
           "bgcolor": "white",
           "lakecolor": "white",
           "landcolor": "#E5ECF6",
           "showlakes": true,
           "showland": true,
           "subunitcolor": "white"
          },
          "hoverlabel": {
           "align": "left"
          },
          "hovermode": "closest",
          "mapbox": {
           "style": "light"
          },
          "paper_bgcolor": "white",
          "plot_bgcolor": "#E5ECF6",
          "polar": {
           "angularaxis": {
            "gridcolor": "white",
            "linecolor": "white",
            "ticks": ""
           },
           "bgcolor": "#E5ECF6",
           "radialaxis": {
            "gridcolor": "white",
            "linecolor": "white",
            "ticks": ""
           }
          },
          "scene": {
           "xaxis": {
            "backgroundcolor": "#E5ECF6",
            "gridcolor": "white",
            "gridwidth": 2,
            "linecolor": "white",
            "showbackground": true,
            "ticks": "",
            "zerolinecolor": "white"
           },
           "yaxis": {
            "backgroundcolor": "#E5ECF6",
            "gridcolor": "white",
            "gridwidth": 2,
            "linecolor": "white",
            "showbackground": true,
            "ticks": "",
            "zerolinecolor": "white"
           },
           "zaxis": {
            "backgroundcolor": "#E5ECF6",
            "gridcolor": "white",
            "gridwidth": 2,
            "linecolor": "white",
            "showbackground": true,
            "ticks": "",
            "zerolinecolor": "white"
           }
          },
          "shapedefaults": {
           "line": {
            "color": "#2a3f5f"
           }
          },
          "ternary": {
           "aaxis": {
            "gridcolor": "white",
            "linecolor": "white",
            "ticks": ""
           },
           "baxis": {
            "gridcolor": "white",
            "linecolor": "white",
            "ticks": ""
           },
           "bgcolor": "#E5ECF6",
           "caxis": {
            "gridcolor": "white",
            "linecolor": "white",
            "ticks": ""
           }
          },
          "title": {
           "x": 0.05
          },
          "xaxis": {
           "automargin": true,
           "gridcolor": "white",
           "linecolor": "white",
           "ticks": "",
           "title": {
            "standoff": 15
           },
           "zerolinecolor": "white",
           "zerolinewidth": 2
          },
          "yaxis": {
           "automargin": true,
           "gridcolor": "white",
           "linecolor": "white",
           "ticks": "",
           "title": {
            "standoff": 15
           },
           "zerolinecolor": "white",
           "zerolinewidth": 2
          }
         }
        },
        "title": {
         "font": {
          "color": "#4D5663"
         }
        },
        "xaxis": {
         "gridcolor": "#E1E5ED",
         "showgrid": true,
         "tickfont": {
          "color": "#4D5663"
         },
         "title": {
          "font": {
           "color": "#4D5663"
          },
          "text": ""
         },
         "zerolinecolor": "#E1E5ED"
        },
        "xaxis2": {
         "anchor": "y2",
         "gridcolor": "#E1E5ED",
         "showgrid": true,
         "showticklabels": false,
         "tickfont": {
          "color": "#4D5663"
         },
         "title": {
          "font": {
           "color": "#4D5663"
          },
          "text": ""
         },
         "zerolinecolor": "#E1E5ED"
        },
        "yaxis": {
         "domain": [
          0.3,
          1
         ],
         "gridcolor": "#E1E5ED",
         "showgrid": true,
         "tickfont": {
          "color": "#4D5663"
         },
         "title": {
          "font": {
           "color": "#4D5663"
          },
          "text": ""
         },
         "zerolinecolor": "#E1E5ED"
        },
        "yaxis2": {
         "domain": [
          0,
          0.25
         ],
         "gridcolor": "#E1E5ED",
         "showgrid": true,
         "tickfont": {
          "color": "#4D5663"
         },
         "title": {
          "font": {
           "color": "#4D5663"
          },
          "text": "Spread"
         },
         "zerolinecolor": "#E1E5ED"
        }
       }
      },
      "text/html": [
       "<div>\n",
       "        \n",
       "        \n",
       "            <div id=\"9faa642c-97b3-4347-8c17-fa5fa51a241f\" class=\"plotly-graph-div\" style=\"height:525px; width:100%;\"></div>\n",
       "            <script type=\"text/javascript\">\n",
       "                require([\"plotly\"], function(Plotly) {\n",
       "                    window.PLOTLYENV=window.PLOTLYENV || {};\n",
       "                    window.PLOTLYENV.BASE_URL='https://plot.ly';\n",
       "                    \n",
       "                if (document.getElementById(\"9faa642c-97b3-4347-8c17-fa5fa51a241f\")) {\n",
       "                    Plotly.newPlot(\n",
       "                        '9faa642c-97b3-4347-8c17-fa5fa51a241f',\n",
       "                        [{\"line\": {\"color\": \"rgba(255, 153, 51, 1.0)\", \"dash\": \"solid\", \"shape\": \"linear\", \"width\": 1.3}, \"mode\": \"lines\", \"name\": \"A\", \"text\": \"\", \"type\": \"scatter\", \"x\": [0, 1, 2, 3, 4, 5, 6, 7, 8, 9, 10, 11, 12, 13, 14, 15, 16, 17, 18, 19, 20, 21, 22, 23, 24, 25, 26, 27, 28, 29, 30, 31, 32, 33, 34, 35, 36, 37, 38, 39, 40, 41, 42, 43, 44, 45, 46, 47, 48, 49, 50, 51, 52, 53, 54, 55, 56, 57, 58, 59, 60, 61, 62, 63, 64, 65, 66, 67, 68, 69, 70, 71, 72, 73, 74, 75, 76, 77, 78, 79, 80, 81, 82, 83, 84, 85, 86, 87, 88, 89, 90, 91, 92, 93, 94, 95, 96, 97, 98, 99], \"y\": [-0.47323338372044216, 0.391342125956041, -1.3930192517983035, -0.7583764463384806, 0.030560247015788796, -0.42222897997487735, 0.3419507372052493, -0.6530728726886348, 0.4911743583401989, -0.6399410387909096, 1.252348795213839, 2.79565887203688, 1.0216953549398935, -0.6760681475071038, 1.9153287675036414, -0.8574194766794743, 0.03971198334552156, 1.5575886718822547, -0.41104371136749807, 0.45423026955435997, 1.37682200922694, -0.49097371261325123, -1.103902239392601, 1.209088156671042, -0.12929287076995005, -1.3546787992622251, 0.741078850974195, 0.17579127326631125, -0.01674344571807809, 1.1428979827099823, 0.012233952698504845, -0.8741512129967439, 0.1427194853744033, 1.1058161773053639, 0.12295872208272311, -0.5856164378476567, 0.21613129771727468, -1.8690770920771833, -0.6898825134758376, -0.05458461743161419, -0.15759841027243723, -0.6117912504899256, -0.696867769386093, -0.3274933689874018, -0.735725361990674, -0.006292612703083734, -0.4783007321809796, 0.46136717463820837, 1.1050679917684179, -0.8742044025984583, -0.7822275024460555, 0.19428282921115408, -1.599183119108615, 0.16519098965643408, 1.1233298071638333, 0.25714148321550806, -0.4491728069771753, 0.3286657772584293, 0.4223585017724842, -1.3447552904968874, 0.23535742165332924, -0.7746665058691453, -0.49249988794559896, -0.3916749224744794, -1.5427041968534043, 0.33574744449984323, 0.28716634919374984, -0.5396371694147453, 1.5186938958656993, -0.16730775070513196, 0.7986916318539317, -1.8076154055395393, 0.8449677715018729, 1.4994351030509954, 0.3761440759664159, 0.02032831851069565, -0.25420286262412284, 0.5915923846119849, 0.031343181368975785, 0.8924389509972139, 0.14696198272413175, -0.3383806308837403, -0.8167067803331302, 0.8375097350413139, -1.844697334868694, -0.47583161834498267, 0.3993116744743492, 1.5196641994432958, -2.149826871045154, -0.5054434625221709, 0.9568329180805797, -1.1772979939147825, 0.12495847641314985, 2.489394225157195, 0.8167825718121651, -1.541048250898501, 1.3836463003138744, -0.030213786772967887, 0.6891482660718707, 0.22201933593073467]}, {\"line\": {\"color\": \"rgba(55, 128, 191, 1.0)\", \"dash\": \"solid\", \"shape\": \"linear\", \"width\": 1.3}, \"mode\": \"lines\", \"name\": \"B\", \"text\": \"\", \"type\": \"scatter\", \"x\": [0, 1, 2, 3, 4, 5, 6, 7, 8, 9, 10, 11, 12, 13, 14, 15, 16, 17, 18, 19, 20, 21, 22, 23, 24, 25, 26, 27, 28, 29, 30, 31, 32, 33, 34, 35, 36, 37, 38, 39, 40, 41, 42, 43, 44, 45, 46, 47, 48, 49, 50, 51, 52, 53, 54, 55, 56, 57, 58, 59, 60, 61, 62, 63, 64, 65, 66, 67, 68, 69, 70, 71, 72, 73, 74, 75, 76, 77, 78, 79, 80, 81, 82, 83, 84, 85, 86, 87, 88, 89, 90, 91, 92, 93, 94, 95, 96, 97, 98, 99], \"y\": [-0.7863556269567842, -0.3934319050293995, -0.8659569932604896, 0.30666746365172154, -2.5335810728661774, 0.08560385128773612, 0.7707462351268122, -0.1532090031592984, 1.1286258467424628, -0.5825286450266112, 0.39862414075985675, 0.22258314683488725, 1.0537570365862137, -0.8159525977081468, -0.5061916446714905, -0.26061714680962556, -2.254049905642298, 0.29318800193968925, 2.3094028981793846, -0.048968716571239, 0.06985565178494063, -1.274260090264892, -1.41004308259798, 2.002966383137955, -0.7586585236309823, 1.835932532756517, -0.6629902504136792, 0.3189347126535099, 0.5065766796579961, 2.1881591681018104, -0.5091713331664507, 0.6461027072133978, -0.9858139943365096, 0.8352212513237809, 0.7678917985915251, -0.5720013372834474, 0.4597669525366794, 0.0010371046198402512, -0.20491356648425588, 0.9328866567283997, 2.176018941163229, -0.9163567131417804, 0.8099443703746437, 1.378718852814666, -0.0959067798324056, 0.3055517084481643, 0.9479911188482862, -1.8741975653115122, 1.4659130901080561, 0.9689652756893685, -1.5009623827195906, 2.8872697466472643, 0.06706261098262112, 0.017536891671529827, 1.6155683878161462, -0.06803490307878995, -1.0926381642910077, 0.7340270358115923, 0.517571964274028, 0.667005891920211, -2.112386962226195, -0.13579269137096708, 0.1207994583196543, -0.5254973507764424, -1.2886398814889086, -2.0279168784246986, 1.1485673851045588, -0.20190822632409647, -0.5969951426556726, 0.22088014731203623, 1.1376723087755327, 0.5738714744704506, 0.7451691218808038, 0.5844226957724005, -0.9813236939291822, -1.045116851602681, -1.234923056082786, -1.0708041340168966, 1.4658002080355017, -0.761499576905759, -3.1524089631556804, 0.8339745187847174, -0.8736506796302141, 0.19033242925434002, 1.5338359061015892, -0.4971111409720753, 0.6914248925254357, 1.1375771610666334, 1.2200375084760924, 0.4138867568586993, -2.8980380292726386, 0.04456869526355736, -1.081971961542821, 1.0623667326027297, 0.31280558134076863, -0.03546302545284578, -1.9668831578809485, 0.051637491391016394, 1.2239694666936947, 0.39670028159886306]}, {\"connectgaps\": false, \"fill\": \"tozeroy\", \"line\": {\"color\": \"green\", \"dash\": \"solid\", \"shape\": \"linear\", \"width\": 0.5}, \"mode\": \"lines\", \"name\": \"Spread\", \"showlegend\": false, \"type\": \"scatter\", \"x\": [0, 1, 2, 3, 4, 5, 6, 7, 8, 9, 10, 11, 12, 13, 14, 15, 16, 17, 18, 19, 20, 21, 22, 23, 24, 25, 26, 27, 28, 29, 30, 31, 32, 33, 34, 35, 36, 37, 38, 39, 40, 41, 42, 43, 44, 45, 46, 47, 48, 49, 50, 51, 52, 53, 54, 55, 56, 57, 58, 59, 60, 61, 62, 63, 64, 65, 66, 67, 68, 69, 70, 71, 72, 73, 74, 75, 76, 77, 78, 79, 80, 81, 82, 83, 84, 85, 86, 87, 88, 89, 90, 91, 92, 93, 94, 95, 96, 97, 98, 99], \"xaxis\": \"x2\", \"y\": [0.313122243236342, 0.7847740309854405, \"\", \"\", 2.564141319881966, \"\", \"\", \"\", \"\", \"\", 0.8537246544539823, 2.573075725201993, \"\", 0.139884450201043, 2.421520412175132, \"\", 2.2937618889878193, 1.2644006699425654, \"\", 0.503198986125599, 1.3069663574419994, 0.7832863776516408, 0.30614084320537893, \"\", 0.6293656528610323, \"\", 1.4040691013878743, \"\", \"\", \"\", 0.5214052858649555, \"\", 1.128533479710913, 0.27059492598158297, \"\", \"\", \"\", \"\", \"\", \"\", \"\", 0.3045654626518548, \"\", \"\", \"\", \"\", \"\", 2.3355647399497204, \"\", \"\", 0.718734880273535, \"\", \"\", 0.14765409798490425, \"\", 0.325176386294298, 0.6434653573138324, \"\", \"\", \"\", 2.347744383879524, \"\", \"\", 0.13382242830196306, \"\", 2.3636643229245418, \"\", \"\", 2.1156890385213716, \"\", \"\", \"\", 0.0997986496210691, 0.9150124072785949, 1.3574677698955981, 1.0654451701133767, 0.9807201934586631, 1.6623965186288814, \"\", 1.653938527902973, 3.2993709458798124, \"\", 0.05694389929708399, 0.6471773057869739, \"\", 0.02127952262709265, \"\", 0.38208703837666236, \"\", \"\", 3.854870947353218, \"\", 1.2069304379559709, 1.4270274925544653, 0.5039769904713964, \"\", 3.350529458194823, \"\", \"\", \"\"], \"yaxis\": \"y2\"}, {\"connectgaps\": false, \"fill\": \"tozeroy\", \"line\": {\"color\": \"red\", \"dash\": \"solid\", \"shape\": \"linear\", \"width\": 0.5}, \"mode\": \"lines\", \"name\": \"Spread\", \"showlegend\": false, \"type\": \"scatter\", \"x\": [0, 1, 2, 3, 4, 5, 6, 7, 8, 9, 10, 11, 12, 13, 14, 15, 16, 17, 18, 19, 20, 21, 22, 23, 24, 25, 26, 27, 28, 29, 30, 31, 32, 33, 34, 35, 36, 37, 38, 39, 40, 41, 42, 43, 44, 45, 46, 47, 48, 49, 50, 51, 52, 53, 54, 55, 56, 57, 58, 59, 60, 61, 62, 63, 64, 65, 66, 67, 68, 69, 70, 71, 72, 73, 74, 75, 76, 77, 78, 79, 80, 81, 82, 83, 84, 85, 86, 87, 88, 89, 90, 91, 92, 93, 94, 95, 96, 97, 98, 99], \"xaxis\": \"x2\", \"y\": [\"\", \"\", -0.527062258537814, -1.065043909990202, \"\", -0.5078328312626135, -0.42879549792156285, -0.49986386952933637, -0.637451488402264, -0.05741239376429841, \"\", \"\", -0.03206168164632017, \"\", \"\", -0.5968023298698487, \"\", \"\", -2.7204466095468827, \"\", \"\", \"\", \"\", -0.7938782264669129, \"\", -3.190611332018742, \"\", -0.14314343938719867, -0.5233201253760742, -1.045261185391828, \"\", -1.5202539202101417, \"\", \"\", -0.644933076508802, -0.013615100564209337, -0.2436356548194047, -1.8701141966970236, -0.4849689469915818, -0.9874712741600138, -2.333617351435666, \"\", -1.5068121397607368, -1.7062122218020679, -0.6398185821582684, -0.31184432115124805, -1.426291851029266, \"\", -0.3608450983396383, -1.8431696782878269, \"\", -2.69298691743611, -1.666245730091236, \"\", -0.49223858065231285, \"\", \"\", -0.405361258553163, -0.09521346250154378, -2.0117611824170982, \"\", -0.6388738144981783, -0.6132993462652533, \"\", -0.2540643153644957, \"\", -0.861401035910809, -0.3377289430906488, \"\", -0.3881878980171682, -0.33898067692160105, -2.38148688000999, \"\", \"\", \"\", \"\", \"\", \"\", -1.434457026666526, \"\", \"\", -1.1723551496684577, \"\", \"\", -3.378533240970283, \"\", -0.29211321805108653, \"\", -3.369864379521246, -0.9193302193808701, \"\", -1.2218666891783398, \"\", \"\", \"\", -1.5055852254456552, \"\", -0.08185127816398428, -0.5348212006218239, -0.1746809456681284], \"yaxis\": \"y2\"}],\n",
       "                        {\"hovermode\": \"x\", \"legend\": {\"bgcolor\": \"#F5F6F9\", \"font\": {\"color\": \"#4D5663\"}}, \"paper_bgcolor\": \"#F5F6F9\", \"plot_bgcolor\": \"#F5F6F9\", \"template\": {\"data\": {\"bar\": [{\"error_x\": {\"color\": \"#2a3f5f\"}, \"error_y\": {\"color\": \"#2a3f5f\"}, \"marker\": {\"line\": {\"color\": \"#E5ECF6\", \"width\": 0.5}}, \"type\": \"bar\"}], \"barpolar\": [{\"marker\": {\"line\": {\"color\": \"#E5ECF6\", \"width\": 0.5}}, \"type\": \"barpolar\"}], \"carpet\": [{\"aaxis\": {\"endlinecolor\": \"#2a3f5f\", \"gridcolor\": \"white\", \"linecolor\": \"white\", \"minorgridcolor\": \"white\", \"startlinecolor\": \"#2a3f5f\"}, \"baxis\": {\"endlinecolor\": \"#2a3f5f\", \"gridcolor\": \"white\", \"linecolor\": \"white\", \"minorgridcolor\": \"white\", \"startlinecolor\": \"#2a3f5f\"}, \"type\": \"carpet\"}], \"choropleth\": [{\"colorbar\": {\"outlinewidth\": 0, \"ticks\": \"\"}, \"type\": \"choropleth\"}], \"contour\": [{\"colorbar\": {\"outlinewidth\": 0, \"ticks\": \"\"}, \"colorscale\": [[0.0, \"#0d0887\"], [0.1111111111111111, \"#46039f\"], [0.2222222222222222, \"#7201a8\"], [0.3333333333333333, \"#9c179e\"], [0.4444444444444444, \"#bd3786\"], [0.5555555555555556, \"#d8576b\"], [0.6666666666666666, \"#ed7953\"], [0.7777777777777778, \"#fb9f3a\"], [0.8888888888888888, \"#fdca26\"], [1.0, \"#f0f921\"]], \"type\": \"contour\"}], \"contourcarpet\": [{\"colorbar\": {\"outlinewidth\": 0, \"ticks\": \"\"}, \"type\": \"contourcarpet\"}], \"heatmap\": [{\"colorbar\": {\"outlinewidth\": 0, \"ticks\": \"\"}, \"colorscale\": [[0.0, \"#0d0887\"], [0.1111111111111111, \"#46039f\"], [0.2222222222222222, \"#7201a8\"], [0.3333333333333333, \"#9c179e\"], [0.4444444444444444, \"#bd3786\"], [0.5555555555555556, \"#d8576b\"], [0.6666666666666666, \"#ed7953\"], [0.7777777777777778, \"#fb9f3a\"], [0.8888888888888888, \"#fdca26\"], [1.0, \"#f0f921\"]], \"type\": \"heatmap\"}], \"heatmapgl\": [{\"colorbar\": {\"outlinewidth\": 0, \"ticks\": \"\"}, \"colorscale\": [[0.0, \"#0d0887\"], [0.1111111111111111, \"#46039f\"], [0.2222222222222222, \"#7201a8\"], [0.3333333333333333, \"#9c179e\"], [0.4444444444444444, \"#bd3786\"], [0.5555555555555556, \"#d8576b\"], [0.6666666666666666, \"#ed7953\"], [0.7777777777777778, \"#fb9f3a\"], [0.8888888888888888, \"#fdca26\"], [1.0, \"#f0f921\"]], \"type\": \"heatmapgl\"}], \"histogram\": [{\"marker\": {\"colorbar\": {\"outlinewidth\": 0, \"ticks\": \"\"}}, \"type\": \"histogram\"}], \"histogram2d\": [{\"colorbar\": {\"outlinewidth\": 0, \"ticks\": \"\"}, \"colorscale\": [[0.0, \"#0d0887\"], [0.1111111111111111, \"#46039f\"], [0.2222222222222222, \"#7201a8\"], [0.3333333333333333, \"#9c179e\"], [0.4444444444444444, \"#bd3786\"], [0.5555555555555556, \"#d8576b\"], [0.6666666666666666, \"#ed7953\"], [0.7777777777777778, \"#fb9f3a\"], [0.8888888888888888, \"#fdca26\"], [1.0, \"#f0f921\"]], \"type\": \"histogram2d\"}], \"histogram2dcontour\": [{\"colorbar\": {\"outlinewidth\": 0, \"ticks\": \"\"}, \"colorscale\": [[0.0, \"#0d0887\"], [0.1111111111111111, \"#46039f\"], [0.2222222222222222, \"#7201a8\"], [0.3333333333333333, \"#9c179e\"], [0.4444444444444444, \"#bd3786\"], [0.5555555555555556, \"#d8576b\"], [0.6666666666666666, \"#ed7953\"], [0.7777777777777778, \"#fb9f3a\"], [0.8888888888888888, \"#fdca26\"], [1.0, \"#f0f921\"]], \"type\": \"histogram2dcontour\"}], \"mesh3d\": [{\"colorbar\": {\"outlinewidth\": 0, \"ticks\": \"\"}, \"type\": \"mesh3d\"}], \"parcoords\": [{\"line\": {\"colorbar\": {\"outlinewidth\": 0, \"ticks\": \"\"}}, \"type\": \"parcoords\"}], \"pie\": [{\"automargin\": true, \"type\": \"pie\"}], \"scatter\": [{\"marker\": {\"colorbar\": {\"outlinewidth\": 0, \"ticks\": \"\"}}, \"type\": \"scatter\"}], \"scatter3d\": [{\"line\": {\"colorbar\": {\"outlinewidth\": 0, \"ticks\": \"\"}}, \"marker\": {\"colorbar\": {\"outlinewidth\": 0, \"ticks\": \"\"}}, \"type\": \"scatter3d\"}], \"scattercarpet\": [{\"marker\": {\"colorbar\": {\"outlinewidth\": 0, \"ticks\": \"\"}}, \"type\": \"scattercarpet\"}], \"scattergeo\": [{\"marker\": {\"colorbar\": {\"outlinewidth\": 0, \"ticks\": \"\"}}, \"type\": \"scattergeo\"}], \"scattergl\": [{\"marker\": {\"colorbar\": {\"outlinewidth\": 0, \"ticks\": \"\"}}, \"type\": \"scattergl\"}], \"scattermapbox\": [{\"marker\": {\"colorbar\": {\"outlinewidth\": 0, \"ticks\": \"\"}}, \"type\": \"scattermapbox\"}], \"scatterpolar\": [{\"marker\": {\"colorbar\": {\"outlinewidth\": 0, \"ticks\": \"\"}}, \"type\": \"scatterpolar\"}], \"scatterpolargl\": [{\"marker\": {\"colorbar\": {\"outlinewidth\": 0, \"ticks\": \"\"}}, \"type\": \"scatterpolargl\"}], \"scatterternary\": [{\"marker\": {\"colorbar\": {\"outlinewidth\": 0, \"ticks\": \"\"}}, \"type\": \"scatterternary\"}], \"surface\": [{\"colorbar\": {\"outlinewidth\": 0, \"ticks\": \"\"}, \"colorscale\": [[0.0, \"#0d0887\"], [0.1111111111111111, \"#46039f\"], [0.2222222222222222, \"#7201a8\"], [0.3333333333333333, \"#9c179e\"], [0.4444444444444444, \"#bd3786\"], [0.5555555555555556, \"#d8576b\"], [0.6666666666666666, \"#ed7953\"], [0.7777777777777778, \"#fb9f3a\"], [0.8888888888888888, \"#fdca26\"], [1.0, \"#f0f921\"]], \"type\": \"surface\"}], \"table\": [{\"cells\": {\"fill\": {\"color\": \"#EBF0F8\"}, \"line\": {\"color\": \"white\"}}, \"header\": {\"fill\": {\"color\": \"#C8D4E3\"}, \"line\": {\"color\": \"white\"}}, \"type\": \"table\"}]}, \"layout\": {\"annotationdefaults\": {\"arrowcolor\": \"#2a3f5f\", \"arrowhead\": 0, \"arrowwidth\": 1}, \"coloraxis\": {\"colorbar\": {\"outlinewidth\": 0, \"ticks\": \"\"}}, \"colorscale\": {\"diverging\": [[0, \"#8e0152\"], [0.1, \"#c51b7d\"], [0.2, \"#de77ae\"], [0.3, \"#f1b6da\"], [0.4, \"#fde0ef\"], [0.5, \"#f7f7f7\"], [0.6, \"#e6f5d0\"], [0.7, \"#b8e186\"], [0.8, \"#7fbc41\"], [0.9, \"#4d9221\"], [1, \"#276419\"]], \"sequential\": [[0.0, \"#0d0887\"], [0.1111111111111111, \"#46039f\"], [0.2222222222222222, \"#7201a8\"], [0.3333333333333333, \"#9c179e\"], [0.4444444444444444, \"#bd3786\"], [0.5555555555555556, \"#d8576b\"], [0.6666666666666666, \"#ed7953\"], [0.7777777777777778, \"#fb9f3a\"], [0.8888888888888888, \"#fdca26\"], [1.0, \"#f0f921\"]], \"sequentialminus\": [[0.0, \"#0d0887\"], [0.1111111111111111, \"#46039f\"], [0.2222222222222222, \"#7201a8\"], [0.3333333333333333, \"#9c179e\"], [0.4444444444444444, \"#bd3786\"], [0.5555555555555556, \"#d8576b\"], [0.6666666666666666, \"#ed7953\"], [0.7777777777777778, \"#fb9f3a\"], [0.8888888888888888, \"#fdca26\"], [1.0, \"#f0f921\"]]}, \"colorway\": [\"#636efa\", \"#EF553B\", \"#00cc96\", \"#ab63fa\", \"#FFA15A\", \"#19d3f3\", \"#FF6692\", \"#B6E880\", \"#FF97FF\", \"#FECB52\"], \"font\": {\"color\": \"#2a3f5f\"}, \"geo\": {\"bgcolor\": \"white\", \"lakecolor\": \"white\", \"landcolor\": \"#E5ECF6\", \"showlakes\": true, \"showland\": true, \"subunitcolor\": \"white\"}, \"hoverlabel\": {\"align\": \"left\"}, \"hovermode\": \"closest\", \"mapbox\": {\"style\": \"light\"}, \"paper_bgcolor\": \"white\", \"plot_bgcolor\": \"#E5ECF6\", \"polar\": {\"angularaxis\": {\"gridcolor\": \"white\", \"linecolor\": \"white\", \"ticks\": \"\"}, \"bgcolor\": \"#E5ECF6\", \"radialaxis\": {\"gridcolor\": \"white\", \"linecolor\": \"white\", \"ticks\": \"\"}}, \"scene\": {\"xaxis\": {\"backgroundcolor\": \"#E5ECF6\", \"gridcolor\": \"white\", \"gridwidth\": 2, \"linecolor\": \"white\", \"showbackground\": true, \"ticks\": \"\", \"zerolinecolor\": \"white\"}, \"yaxis\": {\"backgroundcolor\": \"#E5ECF6\", \"gridcolor\": \"white\", \"gridwidth\": 2, \"linecolor\": \"white\", \"showbackground\": true, \"ticks\": \"\", \"zerolinecolor\": \"white\"}, \"zaxis\": {\"backgroundcolor\": \"#E5ECF6\", \"gridcolor\": \"white\", \"gridwidth\": 2, \"linecolor\": \"white\", \"showbackground\": true, \"ticks\": \"\", \"zerolinecolor\": \"white\"}}, \"shapedefaults\": {\"line\": {\"color\": \"#2a3f5f\"}}, \"ternary\": {\"aaxis\": {\"gridcolor\": \"white\", \"linecolor\": \"white\", \"ticks\": \"\"}, \"baxis\": {\"gridcolor\": \"white\", \"linecolor\": \"white\", \"ticks\": \"\"}, \"bgcolor\": \"#E5ECF6\", \"caxis\": {\"gridcolor\": \"white\", \"linecolor\": \"white\", \"ticks\": \"\"}}, \"title\": {\"x\": 0.05}, \"xaxis\": {\"automargin\": true, \"gridcolor\": \"white\", \"linecolor\": \"white\", \"ticks\": \"\", \"title\": {\"standoff\": 15}, \"zerolinecolor\": \"white\", \"zerolinewidth\": 2}, \"yaxis\": {\"automargin\": true, \"gridcolor\": \"white\", \"linecolor\": \"white\", \"ticks\": \"\", \"title\": {\"standoff\": 15}, \"zerolinecolor\": \"white\", \"zerolinewidth\": 2}}}, \"title\": {\"font\": {\"color\": \"#4D5663\"}}, \"xaxis\": {\"gridcolor\": \"#E1E5ED\", \"showgrid\": true, \"tickfont\": {\"color\": \"#4D5663\"}, \"title\": {\"font\": {\"color\": \"#4D5663\"}, \"text\": \"\"}, \"zerolinecolor\": \"#E1E5ED\"}, \"xaxis2\": {\"anchor\": \"y2\", \"gridcolor\": \"#E1E5ED\", \"showgrid\": true, \"showticklabels\": false, \"tickfont\": {\"color\": \"#4D5663\"}, \"title\": {\"font\": {\"color\": \"#4D5663\"}, \"text\": \"\"}, \"zerolinecolor\": \"#E1E5ED\"}, \"yaxis\": {\"domain\": [0.3, 1], \"gridcolor\": \"#E1E5ED\", \"showgrid\": true, \"tickfont\": {\"color\": \"#4D5663\"}, \"title\": {\"font\": {\"color\": \"#4D5663\"}, \"text\": \"\"}, \"zerolinecolor\": \"#E1E5ED\"}, \"yaxis2\": {\"domain\": [0, 0.25], \"gridcolor\": \"#E1E5ED\", \"showgrid\": true, \"tickfont\": {\"color\": \"#4D5663\"}, \"title\": {\"font\": {\"color\": \"#4D5663\"}, \"text\": \"Spread\"}, \"zerolinecolor\": \"#E1E5ED\"}},\n",
       "                        {\"showLink\": true, \"linkText\": \"Export to plot.ly\", \"plotlyServerURL\": \"https://plot.ly\", \"responsive\": true}\n",
       "                    ).then(function(){\n",
       "                            \n",
       "var gd = document.getElementById('9faa642c-97b3-4347-8c17-fa5fa51a241f');\n",
       "var x = new MutationObserver(function (mutations, observer) {{\n",
       "        var display = window.getComputedStyle(gd).display;\n",
       "        if (!display || display === 'none') {{\n",
       "            console.log([gd, 'removed!']);\n",
       "            Plotly.purge(gd);\n",
       "            observer.disconnect();\n",
       "        }}\n",
       "}});\n",
       "\n",
       "// Listen for the removal of the full notebook cells\n",
       "var notebookContainer = gd.closest('#notebook-container');\n",
       "if (notebookContainer) {{\n",
       "    x.observe(notebookContainer, {childList: true});\n",
       "}}\n",
       "\n",
       "// Listen for the clearing of the current output cell\n",
       "var outputEl = gd.closest('.output');\n",
       "if (outputEl) {{\n",
       "    x.observe(outputEl, {childList: true});\n",
       "}}\n",
       "\n",
       "                        })\n",
       "                };\n",
       "                });\n",
       "            </script>\n",
       "        </div>"
      ]
     },
     "metadata": {},
     "output_type": "display_data"
    }
   ],
   "source": [
    "df[['A','B']].iplot(kind='spread')"
   ]
  },
  {
   "cell_type": "markdown",
   "metadata": {},
   "source": [
    "## histogram"
   ]
  },
  {
   "cell_type": "code",
   "execution_count": 17,
   "metadata": {},
   "outputs": [
    {
     "data": {
      "application/vnd.plotly.v1+json": {
       "config": {
        "linkText": "Export to plot.ly",
        "plotlyServerURL": "https://plot.ly",
        "showLink": true
       },
       "data": [
        {
         "histfunc": "count",
         "histnorm": "",
         "marker": {
          "color": "rgba(255, 153, 51, 1.0)",
          "line": {
           "color": "#4D5663",
           "width": 1.3
          }
         },
         "name": "A",
         "nbinsx": 25,
         "opacity": 0.8,
         "orientation": "v",
         "type": "histogram",
         "x": [
          -0.47323338372044216,
          0.391342125956041,
          -1.3930192517983035,
          -0.7583764463384806,
          0.030560247015788796,
          -0.42222897997487735,
          0.3419507372052493,
          -0.6530728726886348,
          0.4911743583401989,
          -0.6399410387909096,
          1.252348795213839,
          2.79565887203688,
          1.0216953549398935,
          -0.6760681475071038,
          1.9153287675036414,
          -0.8574194766794743,
          0.03971198334552156,
          1.5575886718822547,
          -0.41104371136749807,
          0.45423026955435997,
          1.37682200922694,
          -0.49097371261325123,
          -1.103902239392601,
          1.209088156671042,
          -0.12929287076995005,
          -1.3546787992622251,
          0.741078850974195,
          0.17579127326631125,
          -0.01674344571807809,
          1.1428979827099823,
          0.012233952698504845,
          -0.8741512129967439,
          0.1427194853744033,
          1.1058161773053639,
          0.12295872208272311,
          -0.5856164378476567,
          0.21613129771727468,
          -1.8690770920771833,
          -0.6898825134758376,
          -0.05458461743161419,
          -0.15759841027243723,
          -0.6117912504899256,
          -0.696867769386093,
          -0.3274933689874018,
          -0.735725361990674,
          -0.006292612703083734,
          -0.4783007321809796,
          0.46136717463820837,
          1.1050679917684179,
          -0.8742044025984583,
          -0.7822275024460555,
          0.19428282921115408,
          -1.599183119108615,
          0.16519098965643408,
          1.1233298071638333,
          0.25714148321550806,
          -0.4491728069771753,
          0.3286657772584293,
          0.4223585017724842,
          -1.3447552904968874,
          0.23535742165332924,
          -0.7746665058691453,
          -0.49249988794559896,
          -0.3916749224744794,
          -1.5427041968534043,
          0.33574744449984323,
          0.28716634919374984,
          -0.5396371694147453,
          1.5186938958656993,
          -0.16730775070513196,
          0.7986916318539317,
          -1.8076154055395393,
          0.8449677715018729,
          1.4994351030509954,
          0.3761440759664159,
          0.02032831851069565,
          -0.25420286262412284,
          0.5915923846119849,
          0.031343181368975785,
          0.8924389509972139,
          0.14696198272413175,
          -0.3383806308837403,
          -0.8167067803331302,
          0.8375097350413139,
          -1.844697334868694,
          -0.47583161834498267,
          0.3993116744743492,
          1.5196641994432958,
          -2.149826871045154,
          -0.5054434625221709,
          0.9568329180805797,
          -1.1772979939147825,
          0.12495847641314985,
          2.489394225157195,
          0.8167825718121651,
          -1.541048250898501,
          1.3836463003138744,
          -0.030213786772967887,
          0.6891482660718707,
          0.22201933593073467
         ]
        }
       ],
       "layout": {
        "barmode": "overlay",
        "legend": {
         "bgcolor": "#F5F6F9",
         "font": {
          "color": "#4D5663"
         }
        },
        "paper_bgcolor": "#F5F6F9",
        "plot_bgcolor": "#F5F6F9",
        "template": {
         "data": {
          "bar": [
           {
            "error_x": {
             "color": "#2a3f5f"
            },
            "error_y": {
             "color": "#2a3f5f"
            },
            "marker": {
             "line": {
              "color": "#E5ECF6",
              "width": 0.5
             }
            },
            "type": "bar"
           }
          ],
          "barpolar": [
           {
            "marker": {
             "line": {
              "color": "#E5ECF6",
              "width": 0.5
             }
            },
            "type": "barpolar"
           }
          ],
          "carpet": [
           {
            "aaxis": {
             "endlinecolor": "#2a3f5f",
             "gridcolor": "white",
             "linecolor": "white",
             "minorgridcolor": "white",
             "startlinecolor": "#2a3f5f"
            },
            "baxis": {
             "endlinecolor": "#2a3f5f",
             "gridcolor": "white",
             "linecolor": "white",
             "minorgridcolor": "white",
             "startlinecolor": "#2a3f5f"
            },
            "type": "carpet"
           }
          ],
          "choropleth": [
           {
            "colorbar": {
             "outlinewidth": 0,
             "ticks": ""
            },
            "type": "choropleth"
           }
          ],
          "contour": [
           {
            "colorbar": {
             "outlinewidth": 0,
             "ticks": ""
            },
            "colorscale": [
             [
              0,
              "#0d0887"
             ],
             [
              0.1111111111111111,
              "#46039f"
             ],
             [
              0.2222222222222222,
              "#7201a8"
             ],
             [
              0.3333333333333333,
              "#9c179e"
             ],
             [
              0.4444444444444444,
              "#bd3786"
             ],
             [
              0.5555555555555556,
              "#d8576b"
             ],
             [
              0.6666666666666666,
              "#ed7953"
             ],
             [
              0.7777777777777778,
              "#fb9f3a"
             ],
             [
              0.8888888888888888,
              "#fdca26"
             ],
             [
              1,
              "#f0f921"
             ]
            ],
            "type": "contour"
           }
          ],
          "contourcarpet": [
           {
            "colorbar": {
             "outlinewidth": 0,
             "ticks": ""
            },
            "type": "contourcarpet"
           }
          ],
          "heatmap": [
           {
            "colorbar": {
             "outlinewidth": 0,
             "ticks": ""
            },
            "colorscale": [
             [
              0,
              "#0d0887"
             ],
             [
              0.1111111111111111,
              "#46039f"
             ],
             [
              0.2222222222222222,
              "#7201a8"
             ],
             [
              0.3333333333333333,
              "#9c179e"
             ],
             [
              0.4444444444444444,
              "#bd3786"
             ],
             [
              0.5555555555555556,
              "#d8576b"
             ],
             [
              0.6666666666666666,
              "#ed7953"
             ],
             [
              0.7777777777777778,
              "#fb9f3a"
             ],
             [
              0.8888888888888888,
              "#fdca26"
             ],
             [
              1,
              "#f0f921"
             ]
            ],
            "type": "heatmap"
           }
          ],
          "heatmapgl": [
           {
            "colorbar": {
             "outlinewidth": 0,
             "ticks": ""
            },
            "colorscale": [
             [
              0,
              "#0d0887"
             ],
             [
              0.1111111111111111,
              "#46039f"
             ],
             [
              0.2222222222222222,
              "#7201a8"
             ],
             [
              0.3333333333333333,
              "#9c179e"
             ],
             [
              0.4444444444444444,
              "#bd3786"
             ],
             [
              0.5555555555555556,
              "#d8576b"
             ],
             [
              0.6666666666666666,
              "#ed7953"
             ],
             [
              0.7777777777777778,
              "#fb9f3a"
             ],
             [
              0.8888888888888888,
              "#fdca26"
             ],
             [
              1,
              "#f0f921"
             ]
            ],
            "type": "heatmapgl"
           }
          ],
          "histogram": [
           {
            "marker": {
             "colorbar": {
              "outlinewidth": 0,
              "ticks": ""
             }
            },
            "type": "histogram"
           }
          ],
          "histogram2d": [
           {
            "colorbar": {
             "outlinewidth": 0,
             "ticks": ""
            },
            "colorscale": [
             [
              0,
              "#0d0887"
             ],
             [
              0.1111111111111111,
              "#46039f"
             ],
             [
              0.2222222222222222,
              "#7201a8"
             ],
             [
              0.3333333333333333,
              "#9c179e"
             ],
             [
              0.4444444444444444,
              "#bd3786"
             ],
             [
              0.5555555555555556,
              "#d8576b"
             ],
             [
              0.6666666666666666,
              "#ed7953"
             ],
             [
              0.7777777777777778,
              "#fb9f3a"
             ],
             [
              0.8888888888888888,
              "#fdca26"
             ],
             [
              1,
              "#f0f921"
             ]
            ],
            "type": "histogram2d"
           }
          ],
          "histogram2dcontour": [
           {
            "colorbar": {
             "outlinewidth": 0,
             "ticks": ""
            },
            "colorscale": [
             [
              0,
              "#0d0887"
             ],
             [
              0.1111111111111111,
              "#46039f"
             ],
             [
              0.2222222222222222,
              "#7201a8"
             ],
             [
              0.3333333333333333,
              "#9c179e"
             ],
             [
              0.4444444444444444,
              "#bd3786"
             ],
             [
              0.5555555555555556,
              "#d8576b"
             ],
             [
              0.6666666666666666,
              "#ed7953"
             ],
             [
              0.7777777777777778,
              "#fb9f3a"
             ],
             [
              0.8888888888888888,
              "#fdca26"
             ],
             [
              1,
              "#f0f921"
             ]
            ],
            "type": "histogram2dcontour"
           }
          ],
          "mesh3d": [
           {
            "colorbar": {
             "outlinewidth": 0,
             "ticks": ""
            },
            "type": "mesh3d"
           }
          ],
          "parcoords": [
           {
            "line": {
             "colorbar": {
              "outlinewidth": 0,
              "ticks": ""
             }
            },
            "type": "parcoords"
           }
          ],
          "pie": [
           {
            "automargin": true,
            "type": "pie"
           }
          ],
          "scatter": [
           {
            "marker": {
             "colorbar": {
              "outlinewidth": 0,
              "ticks": ""
             }
            },
            "type": "scatter"
           }
          ],
          "scatter3d": [
           {
            "line": {
             "colorbar": {
              "outlinewidth": 0,
              "ticks": ""
             }
            },
            "marker": {
             "colorbar": {
              "outlinewidth": 0,
              "ticks": ""
             }
            },
            "type": "scatter3d"
           }
          ],
          "scattercarpet": [
           {
            "marker": {
             "colorbar": {
              "outlinewidth": 0,
              "ticks": ""
             }
            },
            "type": "scattercarpet"
           }
          ],
          "scattergeo": [
           {
            "marker": {
             "colorbar": {
              "outlinewidth": 0,
              "ticks": ""
             }
            },
            "type": "scattergeo"
           }
          ],
          "scattergl": [
           {
            "marker": {
             "colorbar": {
              "outlinewidth": 0,
              "ticks": ""
             }
            },
            "type": "scattergl"
           }
          ],
          "scattermapbox": [
           {
            "marker": {
             "colorbar": {
              "outlinewidth": 0,
              "ticks": ""
             }
            },
            "type": "scattermapbox"
           }
          ],
          "scatterpolar": [
           {
            "marker": {
             "colorbar": {
              "outlinewidth": 0,
              "ticks": ""
             }
            },
            "type": "scatterpolar"
           }
          ],
          "scatterpolargl": [
           {
            "marker": {
             "colorbar": {
              "outlinewidth": 0,
              "ticks": ""
             }
            },
            "type": "scatterpolargl"
           }
          ],
          "scatterternary": [
           {
            "marker": {
             "colorbar": {
              "outlinewidth": 0,
              "ticks": ""
             }
            },
            "type": "scatterternary"
           }
          ],
          "surface": [
           {
            "colorbar": {
             "outlinewidth": 0,
             "ticks": ""
            },
            "colorscale": [
             [
              0,
              "#0d0887"
             ],
             [
              0.1111111111111111,
              "#46039f"
             ],
             [
              0.2222222222222222,
              "#7201a8"
             ],
             [
              0.3333333333333333,
              "#9c179e"
             ],
             [
              0.4444444444444444,
              "#bd3786"
             ],
             [
              0.5555555555555556,
              "#d8576b"
             ],
             [
              0.6666666666666666,
              "#ed7953"
             ],
             [
              0.7777777777777778,
              "#fb9f3a"
             ],
             [
              0.8888888888888888,
              "#fdca26"
             ],
             [
              1,
              "#f0f921"
             ]
            ],
            "type": "surface"
           }
          ],
          "table": [
           {
            "cells": {
             "fill": {
              "color": "#EBF0F8"
             },
             "line": {
              "color": "white"
             }
            },
            "header": {
             "fill": {
              "color": "#C8D4E3"
             },
             "line": {
              "color": "white"
             }
            },
            "type": "table"
           }
          ]
         },
         "layout": {
          "annotationdefaults": {
           "arrowcolor": "#2a3f5f",
           "arrowhead": 0,
           "arrowwidth": 1
          },
          "coloraxis": {
           "colorbar": {
            "outlinewidth": 0,
            "ticks": ""
           }
          },
          "colorscale": {
           "diverging": [
            [
             0,
             "#8e0152"
            ],
            [
             0.1,
             "#c51b7d"
            ],
            [
             0.2,
             "#de77ae"
            ],
            [
             0.3,
             "#f1b6da"
            ],
            [
             0.4,
             "#fde0ef"
            ],
            [
             0.5,
             "#f7f7f7"
            ],
            [
             0.6,
             "#e6f5d0"
            ],
            [
             0.7,
             "#b8e186"
            ],
            [
             0.8,
             "#7fbc41"
            ],
            [
             0.9,
             "#4d9221"
            ],
            [
             1,
             "#276419"
            ]
           ],
           "sequential": [
            [
             0,
             "#0d0887"
            ],
            [
             0.1111111111111111,
             "#46039f"
            ],
            [
             0.2222222222222222,
             "#7201a8"
            ],
            [
             0.3333333333333333,
             "#9c179e"
            ],
            [
             0.4444444444444444,
             "#bd3786"
            ],
            [
             0.5555555555555556,
             "#d8576b"
            ],
            [
             0.6666666666666666,
             "#ed7953"
            ],
            [
             0.7777777777777778,
             "#fb9f3a"
            ],
            [
             0.8888888888888888,
             "#fdca26"
            ],
            [
             1,
             "#f0f921"
            ]
           ],
           "sequentialminus": [
            [
             0,
             "#0d0887"
            ],
            [
             0.1111111111111111,
             "#46039f"
            ],
            [
             0.2222222222222222,
             "#7201a8"
            ],
            [
             0.3333333333333333,
             "#9c179e"
            ],
            [
             0.4444444444444444,
             "#bd3786"
            ],
            [
             0.5555555555555556,
             "#d8576b"
            ],
            [
             0.6666666666666666,
             "#ed7953"
            ],
            [
             0.7777777777777778,
             "#fb9f3a"
            ],
            [
             0.8888888888888888,
             "#fdca26"
            ],
            [
             1,
             "#f0f921"
            ]
           ]
          },
          "colorway": [
           "#636efa",
           "#EF553B",
           "#00cc96",
           "#ab63fa",
           "#FFA15A",
           "#19d3f3",
           "#FF6692",
           "#B6E880",
           "#FF97FF",
           "#FECB52"
          ],
          "font": {
           "color": "#2a3f5f"
          },
          "geo": {
           "bgcolor": "white",
           "lakecolor": "white",
           "landcolor": "#E5ECF6",
           "showlakes": true,
           "showland": true,
           "subunitcolor": "white"
          },
          "hoverlabel": {
           "align": "left"
          },
          "hovermode": "closest",
          "mapbox": {
           "style": "light"
          },
          "paper_bgcolor": "white",
          "plot_bgcolor": "#E5ECF6",
          "polar": {
           "angularaxis": {
            "gridcolor": "white",
            "linecolor": "white",
            "ticks": ""
           },
           "bgcolor": "#E5ECF6",
           "radialaxis": {
            "gridcolor": "white",
            "linecolor": "white",
            "ticks": ""
           }
          },
          "scene": {
           "xaxis": {
            "backgroundcolor": "#E5ECF6",
            "gridcolor": "white",
            "gridwidth": 2,
            "linecolor": "white",
            "showbackground": true,
            "ticks": "",
            "zerolinecolor": "white"
           },
           "yaxis": {
            "backgroundcolor": "#E5ECF6",
            "gridcolor": "white",
            "gridwidth": 2,
            "linecolor": "white",
            "showbackground": true,
            "ticks": "",
            "zerolinecolor": "white"
           },
           "zaxis": {
            "backgroundcolor": "#E5ECF6",
            "gridcolor": "white",
            "gridwidth": 2,
            "linecolor": "white",
            "showbackground": true,
            "ticks": "",
            "zerolinecolor": "white"
           }
          },
          "shapedefaults": {
           "line": {
            "color": "#2a3f5f"
           }
          },
          "ternary": {
           "aaxis": {
            "gridcolor": "white",
            "linecolor": "white",
            "ticks": ""
           },
           "baxis": {
            "gridcolor": "white",
            "linecolor": "white",
            "ticks": ""
           },
           "bgcolor": "#E5ECF6",
           "caxis": {
            "gridcolor": "white",
            "linecolor": "white",
            "ticks": ""
           }
          },
          "title": {
           "x": 0.05
          },
          "xaxis": {
           "automargin": true,
           "gridcolor": "white",
           "linecolor": "white",
           "ticks": "",
           "title": {
            "standoff": 15
           },
           "zerolinecolor": "white",
           "zerolinewidth": 2
          },
          "yaxis": {
           "automargin": true,
           "gridcolor": "white",
           "linecolor": "white",
           "ticks": "",
           "title": {
            "standoff": 15
           },
           "zerolinecolor": "white",
           "zerolinewidth": 2
          }
         }
        },
        "title": {
         "font": {
          "color": "#4D5663"
         }
        },
        "xaxis": {
         "gridcolor": "#E1E5ED",
         "showgrid": true,
         "tickfont": {
          "color": "#4D5663"
         },
         "title": {
          "font": {
           "color": "#4D5663"
          },
          "text": ""
         },
         "zerolinecolor": "#E1E5ED"
        },
        "yaxis": {
         "gridcolor": "#E1E5ED",
         "showgrid": true,
         "tickfont": {
          "color": "#4D5663"
         },
         "title": {
          "font": {
           "color": "#4D5663"
          },
          "text": ""
         },
         "zerolinecolor": "#E1E5ED"
        }
       }
      },
      "text/html": [
       "<div>\n",
       "        \n",
       "        \n",
       "            <div id=\"7763ed6d-e634-415e-ade9-f33c7481e12c\" class=\"plotly-graph-div\" style=\"height:525px; width:100%;\"></div>\n",
       "            <script type=\"text/javascript\">\n",
       "                require([\"plotly\"], function(Plotly) {\n",
       "                    window.PLOTLYENV=window.PLOTLYENV || {};\n",
       "                    window.PLOTLYENV.BASE_URL='https://plot.ly';\n",
       "                    \n",
       "                if (document.getElementById(\"7763ed6d-e634-415e-ade9-f33c7481e12c\")) {\n",
       "                    Plotly.newPlot(\n",
       "                        '7763ed6d-e634-415e-ade9-f33c7481e12c',\n",
       "                        [{\"histfunc\": \"count\", \"histnorm\": \"\", \"marker\": {\"color\": \"rgba(255, 153, 51, 1.0)\", \"line\": {\"color\": \"#4D5663\", \"width\": 1.3}}, \"name\": \"A\", \"nbinsx\": 25, \"opacity\": 0.8, \"orientation\": \"v\", \"type\": \"histogram\", \"x\": [-0.47323338372044216, 0.391342125956041, -1.3930192517983035, -0.7583764463384806, 0.030560247015788796, -0.42222897997487735, 0.3419507372052493, -0.6530728726886348, 0.4911743583401989, -0.6399410387909096, 1.252348795213839, 2.79565887203688, 1.0216953549398935, -0.6760681475071038, 1.9153287675036414, -0.8574194766794743, 0.03971198334552156, 1.5575886718822547, -0.41104371136749807, 0.45423026955435997, 1.37682200922694, -0.49097371261325123, -1.103902239392601, 1.209088156671042, -0.12929287076995005, -1.3546787992622251, 0.741078850974195, 0.17579127326631125, -0.01674344571807809, 1.1428979827099823, 0.012233952698504845, -0.8741512129967439, 0.1427194853744033, 1.1058161773053639, 0.12295872208272311, -0.5856164378476567, 0.21613129771727468, -1.8690770920771833, -0.6898825134758376, -0.05458461743161419, -0.15759841027243723, -0.6117912504899256, -0.696867769386093, -0.3274933689874018, -0.735725361990674, -0.006292612703083734, -0.4783007321809796, 0.46136717463820837, 1.1050679917684179, -0.8742044025984583, -0.7822275024460555, 0.19428282921115408, -1.599183119108615, 0.16519098965643408, 1.1233298071638333, 0.25714148321550806, -0.4491728069771753, 0.3286657772584293, 0.4223585017724842, -1.3447552904968874, 0.23535742165332924, -0.7746665058691453, -0.49249988794559896, -0.3916749224744794, -1.5427041968534043, 0.33574744449984323, 0.28716634919374984, -0.5396371694147453, 1.5186938958656993, -0.16730775070513196, 0.7986916318539317, -1.8076154055395393, 0.8449677715018729, 1.4994351030509954, 0.3761440759664159, 0.02032831851069565, -0.25420286262412284, 0.5915923846119849, 0.031343181368975785, 0.8924389509972139, 0.14696198272413175, -0.3383806308837403, -0.8167067803331302, 0.8375097350413139, -1.844697334868694, -0.47583161834498267, 0.3993116744743492, 1.5196641994432958, -2.149826871045154, -0.5054434625221709, 0.9568329180805797, -1.1772979939147825, 0.12495847641314985, 2.489394225157195, 0.8167825718121651, -1.541048250898501, 1.3836463003138744, -0.030213786772967887, 0.6891482660718707, 0.22201933593073467]}],\n",
       "                        {\"barmode\": \"overlay\", \"legend\": {\"bgcolor\": \"#F5F6F9\", \"font\": {\"color\": \"#4D5663\"}}, \"paper_bgcolor\": \"#F5F6F9\", \"plot_bgcolor\": \"#F5F6F9\", \"template\": {\"data\": {\"bar\": [{\"error_x\": {\"color\": \"#2a3f5f\"}, \"error_y\": {\"color\": \"#2a3f5f\"}, \"marker\": {\"line\": {\"color\": \"#E5ECF6\", \"width\": 0.5}}, \"type\": \"bar\"}], \"barpolar\": [{\"marker\": {\"line\": {\"color\": \"#E5ECF6\", \"width\": 0.5}}, \"type\": \"barpolar\"}], \"carpet\": [{\"aaxis\": {\"endlinecolor\": \"#2a3f5f\", \"gridcolor\": \"white\", \"linecolor\": \"white\", \"minorgridcolor\": \"white\", \"startlinecolor\": \"#2a3f5f\"}, \"baxis\": {\"endlinecolor\": \"#2a3f5f\", \"gridcolor\": \"white\", \"linecolor\": \"white\", \"minorgridcolor\": \"white\", \"startlinecolor\": \"#2a3f5f\"}, \"type\": \"carpet\"}], \"choropleth\": [{\"colorbar\": {\"outlinewidth\": 0, \"ticks\": \"\"}, \"type\": \"choropleth\"}], \"contour\": [{\"colorbar\": {\"outlinewidth\": 0, \"ticks\": \"\"}, \"colorscale\": [[0.0, \"#0d0887\"], [0.1111111111111111, \"#46039f\"], [0.2222222222222222, \"#7201a8\"], [0.3333333333333333, \"#9c179e\"], [0.4444444444444444, \"#bd3786\"], [0.5555555555555556, \"#d8576b\"], [0.6666666666666666, \"#ed7953\"], [0.7777777777777778, \"#fb9f3a\"], [0.8888888888888888, \"#fdca26\"], [1.0, \"#f0f921\"]], \"type\": \"contour\"}], \"contourcarpet\": [{\"colorbar\": {\"outlinewidth\": 0, \"ticks\": \"\"}, \"type\": \"contourcarpet\"}], \"heatmap\": [{\"colorbar\": {\"outlinewidth\": 0, \"ticks\": \"\"}, \"colorscale\": [[0.0, \"#0d0887\"], [0.1111111111111111, \"#46039f\"], [0.2222222222222222, \"#7201a8\"], [0.3333333333333333, \"#9c179e\"], [0.4444444444444444, \"#bd3786\"], [0.5555555555555556, \"#d8576b\"], [0.6666666666666666, \"#ed7953\"], [0.7777777777777778, \"#fb9f3a\"], [0.8888888888888888, \"#fdca26\"], [1.0, \"#f0f921\"]], \"type\": \"heatmap\"}], \"heatmapgl\": [{\"colorbar\": {\"outlinewidth\": 0, \"ticks\": \"\"}, \"colorscale\": [[0.0, \"#0d0887\"], [0.1111111111111111, \"#46039f\"], [0.2222222222222222, \"#7201a8\"], [0.3333333333333333, \"#9c179e\"], [0.4444444444444444, \"#bd3786\"], [0.5555555555555556, \"#d8576b\"], [0.6666666666666666, \"#ed7953\"], [0.7777777777777778, \"#fb9f3a\"], [0.8888888888888888, \"#fdca26\"], [1.0, \"#f0f921\"]], \"type\": \"heatmapgl\"}], \"histogram\": [{\"marker\": {\"colorbar\": {\"outlinewidth\": 0, \"ticks\": \"\"}}, \"type\": \"histogram\"}], \"histogram2d\": [{\"colorbar\": {\"outlinewidth\": 0, \"ticks\": \"\"}, \"colorscale\": [[0.0, \"#0d0887\"], [0.1111111111111111, \"#46039f\"], [0.2222222222222222, \"#7201a8\"], [0.3333333333333333, \"#9c179e\"], [0.4444444444444444, \"#bd3786\"], [0.5555555555555556, \"#d8576b\"], [0.6666666666666666, \"#ed7953\"], [0.7777777777777778, \"#fb9f3a\"], [0.8888888888888888, \"#fdca26\"], [1.0, \"#f0f921\"]], \"type\": \"histogram2d\"}], \"histogram2dcontour\": [{\"colorbar\": {\"outlinewidth\": 0, \"ticks\": \"\"}, \"colorscale\": [[0.0, \"#0d0887\"], [0.1111111111111111, \"#46039f\"], [0.2222222222222222, \"#7201a8\"], [0.3333333333333333, \"#9c179e\"], [0.4444444444444444, \"#bd3786\"], [0.5555555555555556, \"#d8576b\"], [0.6666666666666666, \"#ed7953\"], [0.7777777777777778, \"#fb9f3a\"], [0.8888888888888888, \"#fdca26\"], [1.0, \"#f0f921\"]], \"type\": \"histogram2dcontour\"}], \"mesh3d\": [{\"colorbar\": {\"outlinewidth\": 0, \"ticks\": \"\"}, \"type\": \"mesh3d\"}], \"parcoords\": [{\"line\": {\"colorbar\": {\"outlinewidth\": 0, \"ticks\": \"\"}}, \"type\": \"parcoords\"}], \"pie\": [{\"automargin\": true, \"type\": \"pie\"}], \"scatter\": [{\"marker\": {\"colorbar\": {\"outlinewidth\": 0, \"ticks\": \"\"}}, \"type\": \"scatter\"}], \"scatter3d\": [{\"line\": {\"colorbar\": {\"outlinewidth\": 0, \"ticks\": \"\"}}, \"marker\": {\"colorbar\": {\"outlinewidth\": 0, \"ticks\": \"\"}}, \"type\": \"scatter3d\"}], \"scattercarpet\": [{\"marker\": {\"colorbar\": {\"outlinewidth\": 0, \"ticks\": \"\"}}, \"type\": \"scattercarpet\"}], \"scattergeo\": [{\"marker\": {\"colorbar\": {\"outlinewidth\": 0, \"ticks\": \"\"}}, \"type\": \"scattergeo\"}], \"scattergl\": [{\"marker\": {\"colorbar\": {\"outlinewidth\": 0, \"ticks\": \"\"}}, \"type\": \"scattergl\"}], \"scattermapbox\": [{\"marker\": {\"colorbar\": {\"outlinewidth\": 0, \"ticks\": \"\"}}, \"type\": \"scattermapbox\"}], \"scatterpolar\": [{\"marker\": {\"colorbar\": {\"outlinewidth\": 0, \"ticks\": \"\"}}, \"type\": \"scatterpolar\"}], \"scatterpolargl\": [{\"marker\": {\"colorbar\": {\"outlinewidth\": 0, \"ticks\": \"\"}}, \"type\": \"scatterpolargl\"}], \"scatterternary\": [{\"marker\": {\"colorbar\": {\"outlinewidth\": 0, \"ticks\": \"\"}}, \"type\": \"scatterternary\"}], \"surface\": [{\"colorbar\": {\"outlinewidth\": 0, \"ticks\": \"\"}, \"colorscale\": [[0.0, \"#0d0887\"], [0.1111111111111111, \"#46039f\"], [0.2222222222222222, \"#7201a8\"], [0.3333333333333333, \"#9c179e\"], [0.4444444444444444, \"#bd3786\"], [0.5555555555555556, \"#d8576b\"], [0.6666666666666666, \"#ed7953\"], [0.7777777777777778, \"#fb9f3a\"], [0.8888888888888888, \"#fdca26\"], [1.0, \"#f0f921\"]], \"type\": \"surface\"}], \"table\": [{\"cells\": {\"fill\": {\"color\": \"#EBF0F8\"}, \"line\": {\"color\": \"white\"}}, \"header\": {\"fill\": {\"color\": \"#C8D4E3\"}, \"line\": {\"color\": \"white\"}}, \"type\": \"table\"}]}, \"layout\": {\"annotationdefaults\": {\"arrowcolor\": \"#2a3f5f\", \"arrowhead\": 0, \"arrowwidth\": 1}, \"coloraxis\": {\"colorbar\": {\"outlinewidth\": 0, \"ticks\": \"\"}}, \"colorscale\": {\"diverging\": [[0, \"#8e0152\"], [0.1, \"#c51b7d\"], [0.2, \"#de77ae\"], [0.3, \"#f1b6da\"], [0.4, \"#fde0ef\"], [0.5, \"#f7f7f7\"], [0.6, \"#e6f5d0\"], [0.7, \"#b8e186\"], [0.8, \"#7fbc41\"], [0.9, \"#4d9221\"], [1, \"#276419\"]], \"sequential\": [[0.0, \"#0d0887\"], [0.1111111111111111, \"#46039f\"], [0.2222222222222222, \"#7201a8\"], [0.3333333333333333, \"#9c179e\"], [0.4444444444444444, \"#bd3786\"], [0.5555555555555556, \"#d8576b\"], [0.6666666666666666, \"#ed7953\"], [0.7777777777777778, \"#fb9f3a\"], [0.8888888888888888, \"#fdca26\"], [1.0, \"#f0f921\"]], \"sequentialminus\": [[0.0, \"#0d0887\"], [0.1111111111111111, \"#46039f\"], [0.2222222222222222, \"#7201a8\"], [0.3333333333333333, \"#9c179e\"], [0.4444444444444444, \"#bd3786\"], [0.5555555555555556, \"#d8576b\"], [0.6666666666666666, \"#ed7953\"], [0.7777777777777778, \"#fb9f3a\"], [0.8888888888888888, \"#fdca26\"], [1.0, \"#f0f921\"]]}, \"colorway\": [\"#636efa\", \"#EF553B\", \"#00cc96\", \"#ab63fa\", \"#FFA15A\", \"#19d3f3\", \"#FF6692\", \"#B6E880\", \"#FF97FF\", \"#FECB52\"], \"font\": {\"color\": \"#2a3f5f\"}, \"geo\": {\"bgcolor\": \"white\", \"lakecolor\": \"white\", \"landcolor\": \"#E5ECF6\", \"showlakes\": true, \"showland\": true, \"subunitcolor\": \"white\"}, \"hoverlabel\": {\"align\": \"left\"}, \"hovermode\": \"closest\", \"mapbox\": {\"style\": \"light\"}, \"paper_bgcolor\": \"white\", \"plot_bgcolor\": \"#E5ECF6\", \"polar\": {\"angularaxis\": {\"gridcolor\": \"white\", \"linecolor\": \"white\", \"ticks\": \"\"}, \"bgcolor\": \"#E5ECF6\", \"radialaxis\": {\"gridcolor\": \"white\", \"linecolor\": \"white\", \"ticks\": \"\"}}, \"scene\": {\"xaxis\": {\"backgroundcolor\": \"#E5ECF6\", \"gridcolor\": \"white\", \"gridwidth\": 2, \"linecolor\": \"white\", \"showbackground\": true, \"ticks\": \"\", \"zerolinecolor\": \"white\"}, \"yaxis\": {\"backgroundcolor\": \"#E5ECF6\", \"gridcolor\": \"white\", \"gridwidth\": 2, \"linecolor\": \"white\", \"showbackground\": true, \"ticks\": \"\", \"zerolinecolor\": \"white\"}, \"zaxis\": {\"backgroundcolor\": \"#E5ECF6\", \"gridcolor\": \"white\", \"gridwidth\": 2, \"linecolor\": \"white\", \"showbackground\": true, \"ticks\": \"\", \"zerolinecolor\": \"white\"}}, \"shapedefaults\": {\"line\": {\"color\": \"#2a3f5f\"}}, \"ternary\": {\"aaxis\": {\"gridcolor\": \"white\", \"linecolor\": \"white\", \"ticks\": \"\"}, \"baxis\": {\"gridcolor\": \"white\", \"linecolor\": \"white\", \"ticks\": \"\"}, \"bgcolor\": \"#E5ECF6\", \"caxis\": {\"gridcolor\": \"white\", \"linecolor\": \"white\", \"ticks\": \"\"}}, \"title\": {\"x\": 0.05}, \"xaxis\": {\"automargin\": true, \"gridcolor\": \"white\", \"linecolor\": \"white\", \"ticks\": \"\", \"title\": {\"standoff\": 15}, \"zerolinecolor\": \"white\", \"zerolinewidth\": 2}, \"yaxis\": {\"automargin\": true, \"gridcolor\": \"white\", \"linecolor\": \"white\", \"ticks\": \"\", \"title\": {\"standoff\": 15}, \"zerolinecolor\": \"white\", \"zerolinewidth\": 2}}}, \"title\": {\"font\": {\"color\": \"#4D5663\"}}, \"xaxis\": {\"gridcolor\": \"#E1E5ED\", \"showgrid\": true, \"tickfont\": {\"color\": \"#4D5663\"}, \"title\": {\"font\": {\"color\": \"#4D5663\"}, \"text\": \"\"}, \"zerolinecolor\": \"#E1E5ED\"}, \"yaxis\": {\"gridcolor\": \"#E1E5ED\", \"showgrid\": true, \"tickfont\": {\"color\": \"#4D5663\"}, \"title\": {\"font\": {\"color\": \"#4D5663\"}, \"text\": \"\"}, \"zerolinecolor\": \"#E1E5ED\"}},\n",
       "                        {\"showLink\": true, \"linkText\": \"Export to plot.ly\", \"plotlyServerURL\": \"https://plot.ly\", \"responsive\": true}\n",
       "                    ).then(function(){\n",
       "                            \n",
       "var gd = document.getElementById('7763ed6d-e634-415e-ade9-f33c7481e12c');\n",
       "var x = new MutationObserver(function (mutations, observer) {{\n",
       "        var display = window.getComputedStyle(gd).display;\n",
       "        if (!display || display === 'none') {{\n",
       "            console.log([gd, 'removed!']);\n",
       "            Plotly.purge(gd);\n",
       "            observer.disconnect();\n",
       "        }}\n",
       "}});\n",
       "\n",
       "// Listen for the removal of the full notebook cells\n",
       "var notebookContainer = gd.closest('#notebook-container');\n",
       "if (notebookContainer) {{\n",
       "    x.observe(notebookContainer, {childList: true});\n",
       "}}\n",
       "\n",
       "// Listen for the clearing of the current output cell\n",
       "var outputEl = gd.closest('.output');\n",
       "if (outputEl) {{\n",
       "    x.observe(outputEl, {childList: true});\n",
       "}}\n",
       "\n",
       "                        })\n",
       "                };\n",
       "                });\n",
       "            </script>\n",
       "        </div>"
      ]
     },
     "metadata": {},
     "output_type": "display_data"
    }
   ],
   "source": [
    "df['A'].iplot(kind='hist',bins=25)"
   ]
  },
  {
   "cell_type": "code",
   "execution_count": 60,
   "metadata": {},
   "outputs": [
    {
     "data": {
      "text/html": [
       "<div id=\"e508143e-bcba-4c40-9488-bfdc4040e078\" style=\"height: 525px; width: 100%;\" class=\"plotly-graph-div\"></div><script type=\"text/javascript\">require([\"plotly\"], function(Plotly) { window.PLOTLYENV=window.PLOTLYENV || {};window.PLOTLYENV.BASE_URL=\"https://plot.ly\";Plotly.newPlot(\"e508143e-bcba-4c40-9488-bfdc4040e078\", [{\"mode\": \"markers\", \"text\": \"\", \"y\": [0.6887194376286498, 0.1040535242504629, 0.38792642015276635, 1.3934230260395444, -0.5375976688704683, -1.1493608786796612, 0.01342890849383506, -0.47231861415738574, 0.24793169472844812, -0.6232083144122951, -1.2121596694710122, -2.4542371001007464, 0.29855785553142483, 1.2997620162676498, 0.9168047366909585, -0.41040614900130634, 1.3147531456519106, -0.12455263569370086, 0.9366143523054554, 0.23573463729990726, -0.8244746170540388, -0.32685668230128845, 1.501781503113865, 0.9830012153240587, 0.6020112305361386, 0.3688304138086671, 1.0090827131320237, -0.5811720111587422, 0.0512884505619472, -1.6917643070157176, -0.25322144257612356, -0.2937357494665306, 0.7368726362448421, 0.5763424997076779, 0.16472110066593693, -0.374254076023172, 1.1280304809680426, 0.6455371548668151, -0.18000225503004413, -0.9128911232313937, -0.5670695205365133, 0.16138491502455474, 1.2118733837294762, 0.4444506280024997, 0.6834767601409083, 1.8020727241195935, 2.4230878273709062, 0.27701889696287213, 1.4067122280705426, -0.33728919328412016, 0.5154870435338148, 0.7751019637809062, 1.400130435077449, 0.8276591566099151, 1.1268119555303864, 0.7016118169589718, 0.476169530704683, -0.5261125753709399, -1.2129692872143456, 0.6126338497954396, 1.5825905557818922, -0.8173630045970658, 0.1075602248072928, 1.2716988894407462, -0.15615948990467535, -0.2968566839654392, 1.7204934641303604, -0.869876624137026, 0.28935077735906545, -1.2052876742800458, -0.263979336251353, -0.02815365780209253, -0.04062347728476395, 0.943760296027789, -1.7797735906553165, 0.4485755919087686, 0.14778332986993048, 0.5305019463041807, 1.6359913516932165, -0.3437427119285297, 1.9109783094330681, 0.6818924480193401, -0.42214824562337705, 0.8935317581184008, 1.2587495288352297, -0.5992845246668753, 2.7851237345776405, -1.5158096238899554, 0.04177421570103183, 0.48980398157362903, 1.063643861677667, -0.8486329162129157, -1.86936339853131, 0.24761777046722996, 1.290606988097702, 0.17046338292604407, 0.14181179559597848, 0.6505415244850333, -2.5850581533594545, -0.30813091794721653], \"x\": [1.8787246669561561, 0.028733616663923985, -0.1587931161277573, -1.2219723462024636, 1.2531523973363488, 0.8312132082951045, 1.1740170898586173, -0.24393002059589958, -0.296966543277261, 0.7621695759158762, 0.04210347865555278, -0.7791970481917073, 0.3943032396655093, -1.0146190736152443, -0.4841710096782867, 0.5522466668361006, -2.77187556758784, -0.5181226698708166, -0.49722040792422156, -1.6534757596659548, -0.06027439377033132, 1.4769243769038323, 1.1796346669498379, -0.7816898015019265, 0.8630132212967984, 0.6590246731638996, -1.1013906677685679, -0.9446804895542242, -1.788022470413331, 0.8775002821729455, 0.3546715768521251, -0.16532125735222183, 1.8914747239632839, -1.1251772915449791, 0.8888981026894395, -0.6066117727706714, 0.8314777742724779, 0.3830457069359529, -0.937459527593053, -0.844561047334305, 1.1280232245052606, -1.640427972598561, 0.8971269652786067, 0.4848047458342485, 0.19373507090654035, -0.7387091317560727, -0.3566733282792827, -0.43158335134818315, -0.4899640124314907, 0.5488715658495908, 0.2821768987731658, -0.8832439438038343, 1.271863067044618, 0.10680856505919414, 0.8269478103679717, -0.03266751467505833, -0.34021520002722894, -0.6769186069469743, 0.7126188256918854, 1.8871150025438166, -0.06742662656190869, -1.4789736197389265, 0.346978601690099, -0.3757389938313092, 0.715285859520045, 1.5994858611908638, -0.3692558358591885, 0.13827360227735647, -0.40690530542342296, 0.636973800943974, 0.14658752987818605, -0.3949906255692418, 1.5076392623927681, -0.15486042602397807, 0.22159940179664614, -1.0878244818277978, -0.03354417910293162, 1.2258839316932069, -0.048951028800266715, -1.1089870994157809, 0.021452684803338333, 1.2548854256528554, -1.0913797662237141, -0.539059741192553, 0.6901269187662552, -1.4810451728120602, -0.8468654201203714, 0.3763927872506507, 0.8120568488462931, 0.0031767062628090745, 0.697742291538818, -0.7429703118062226, -0.842231117346612, -0.0666718362166121, 1.8829720647783421, 1.320112956074407, 0.42394324402947475, 0.466299928509142, 0.9415282138953815, -0.7707938096473991], \"type\": \"scatter\", \"marker\": {\"size\": [90, 70, 57, 64, 75, 45, 79, 60, 101, 50, 41, 59, 68, 84, 87, 12, 62, 71, 75, 47, 64, 96, 63, 84, 80, 61, 54, 67, 83, 52, 81, 66, 72, 68, 86, 86, 74, 46, 88, 88, 74, 51, 66, 62, 79, 60, 27, 109, 80, 90, 64, 72, 50, 112, 67, 77, 84, 56, 54, 74, 94, 88, 64, 61, 44, 87, 109, 74, 86, 77, 75, 88, 77, 90, 96, 66, 52, 75, 77, 52, 37, 69, 49, 60, 77, 71, 55, 66, 78, 32, 40, 85, 69, 80, 61, 67, 67, 67, 56, 64], \"line\": {\"width\": 1.3}, \"color\": [\"rgb(226, 74, 51)\", \"rgb(226, 74, 51)\", \"rgb(226, 74, 51)\", \"rgb(226, 74, 51)\", \"rgb(226, 74, 51)\", \"rgb(226, 74, 51)\", \"rgb(226, 74, 51)\", \"rgb(226, 74, 51)\", \"rgb(226, 74, 51)\", \"rgb(226, 74, 51)\", \"rgb(226, 74, 51)\", \"rgb(226, 74, 51)\", \"rgb(226, 74, 51)\", \"rgb(226, 74, 51)\", \"rgb(226, 74, 51)\", \"rgb(226, 74, 51)\", \"rgb(226, 74, 51)\", \"rgb(226, 74, 51)\", \"rgb(226, 74, 51)\", \"rgb(226, 74, 51)\", \"rgb(226, 74, 51)\", \"rgb(226, 74, 51)\", \"rgb(226, 74, 51)\", \"rgb(226, 74, 51)\", \"rgb(226, 74, 51)\", \"rgb(226, 74, 51)\", \"rgb(226, 74, 51)\", \"rgb(226, 74, 51)\", \"rgb(226, 74, 51)\", \"rgb(226, 74, 51)\", \"rgb(226, 74, 51)\", \"rgb(226, 74, 51)\", \"rgb(226, 74, 51)\", \"rgb(226, 74, 51)\", \"rgb(226, 74, 51)\", \"rgb(226, 74, 51)\", \"rgb(226, 74, 51)\", \"rgb(226, 74, 51)\", \"rgb(226, 74, 51)\", \"rgb(226, 74, 51)\", \"rgb(226, 74, 51)\", \"rgb(226, 74, 51)\", \"rgb(226, 74, 51)\", \"rgb(226, 74, 51)\", \"rgb(226, 74, 51)\", \"rgb(226, 74, 51)\", \"rgb(226, 74, 51)\", \"rgb(226, 74, 51)\", \"rgb(226, 74, 51)\", \"rgb(226, 74, 51)\", \"rgb(226, 74, 51)\", \"rgb(226, 74, 51)\", \"rgb(226, 74, 51)\", \"rgb(226, 74, 51)\", \"rgb(226, 74, 51)\", \"rgb(226, 74, 51)\", \"rgb(226, 74, 51)\", \"rgb(226, 74, 51)\", \"rgb(226, 74, 51)\", \"rgb(226, 74, 51)\", \"rgb(226, 74, 51)\", \"rgb(226, 74, 51)\", \"rgb(226, 74, 51)\", \"rgb(226, 74, 51)\", \"rgb(226, 74, 51)\", \"rgb(226, 74, 51)\", \"rgb(226, 74, 51)\", \"rgb(226, 74, 51)\", \"rgb(226, 74, 51)\", \"rgb(226, 74, 51)\", \"rgb(226, 74, 51)\", \"rgb(226, 74, 51)\", \"rgb(226, 74, 51)\", \"rgb(226, 74, 51)\", \"rgb(226, 74, 51)\", \"rgb(226, 74, 51)\", \"rgb(226, 74, 51)\", \"rgb(226, 74, 51)\", \"rgb(226, 74, 51)\", \"rgb(226, 74, 51)\", \"rgb(226, 74, 51)\", \"rgb(226, 74, 51)\", \"rgb(226, 74, 51)\", \"rgb(226, 74, 51)\", \"rgb(226, 74, 51)\", \"rgb(226, 74, 51)\", \"rgb(226, 74, 51)\", \"rgb(226, 74, 51)\", \"rgb(226, 74, 51)\", \"rgb(226, 74, 51)\", \"rgb(226, 74, 51)\", \"rgb(226, 74, 51)\", \"rgb(226, 74, 51)\", \"rgb(226, 74, 51)\", \"rgb(226, 74, 51)\", \"rgb(226, 74, 51)\", \"rgb(226, 74, 51)\", \"rgb(226, 74, 51)\", \"rgb(226, 74, 51)\", \"rgb(226, 74, 51)\"], \"symbol\": \"dot\"}}], {\"legend\": {\"font\": {\"color\": \"#666666\"}, \"bgcolor\": \"#FFFFFF\"}, \"titlefont\": {\"color\": \"#151516\"}, \"xaxis1\": {\"titlefont\": {\"color\": \"#666666\"}, \"zerolinecolor\": \"#F6F6F6\", \"title\": \"\", \"tickfont\": {\"color\": \"#666666\"}, \"showgrid\": true, \"gridcolor\": \"#F6F6F6\"}, \"paper_bgcolor\": \"#FFFFFF\", \"plot_bgcolor\": \"#E5E5E5\", \"yaxis1\": {\"titlefont\": {\"color\": \"#666666\"}, \"zerolinecolor\": \"#F6F6F6\", \"title\": \"\", \"tickfont\": {\"color\": \"#666666\"}, \"showgrid\": true, \"gridcolor\": \"#F6F6F6\"}}, {\"showLink\": true, \"linkText\": \"Export to plot.ly\"})});</script>"
      ],
      "text/plain": [
       "<IPython.core.display.HTML object>"
      ]
     },
     "metadata": {},
     "output_type": "display_data"
    }
   ],
   "source": [
    "df.iplot(kind='bubble',x='A',y='B',size='C')"
   ]
  },
  {
   "cell_type": "markdown",
   "metadata": {},
   "source": [
    "## scatter_matrix()\n",
    "\n",
    "Similar to sns.pairplot()"
   ]
  },
  {
   "cell_type": "code",
   "execution_count": 18,
   "metadata": {},
   "outputs": [
    {
     "data": {
      "application/vnd.plotly.v1+json": {
       "config": {
        "linkText": "Export to plot.ly",
        "plotlyServerURL": "https://plot.ly",
        "showLink": true
       },
       "data": [
        {
         "histfunc": "count",
         "histnorm": "",
         "marker": {
          "color": "rgba(255, 153, 51, 1.0)",
          "line": {
           "color": "#4D5663",
           "width": 1.3
          }
         },
         "name": "A",
         "nbinsx": 10,
         "opacity": 0.8,
         "orientation": "v",
         "type": "histogram",
         "x": [
          -0.47323338372044216,
          0.391342125956041,
          -1.3930192517983035,
          -0.7583764463384806,
          0.030560247015788796,
          -0.42222897997487735,
          0.3419507372052493,
          -0.6530728726886348,
          0.4911743583401989,
          -0.6399410387909096,
          1.252348795213839,
          2.79565887203688,
          1.0216953549398935,
          -0.6760681475071038,
          1.9153287675036414,
          -0.8574194766794743,
          0.03971198334552156,
          1.5575886718822547,
          -0.41104371136749807,
          0.45423026955435997,
          1.37682200922694,
          -0.49097371261325123,
          -1.103902239392601,
          1.209088156671042,
          -0.12929287076995005,
          -1.3546787992622251,
          0.741078850974195,
          0.17579127326631125,
          -0.01674344571807809,
          1.1428979827099823,
          0.012233952698504845,
          -0.8741512129967439,
          0.1427194853744033,
          1.1058161773053639,
          0.12295872208272311,
          -0.5856164378476567,
          0.21613129771727468,
          -1.8690770920771833,
          -0.6898825134758376,
          -0.05458461743161419,
          -0.15759841027243723,
          -0.6117912504899256,
          -0.696867769386093,
          -0.3274933689874018,
          -0.735725361990674,
          -0.006292612703083734,
          -0.4783007321809796,
          0.46136717463820837,
          1.1050679917684179,
          -0.8742044025984583,
          -0.7822275024460555,
          0.19428282921115408,
          -1.599183119108615,
          0.16519098965643408,
          1.1233298071638333,
          0.25714148321550806,
          -0.4491728069771753,
          0.3286657772584293,
          0.4223585017724842,
          -1.3447552904968874,
          0.23535742165332924,
          -0.7746665058691453,
          -0.49249988794559896,
          -0.3916749224744794,
          -1.5427041968534043,
          0.33574744449984323,
          0.28716634919374984,
          -0.5396371694147453,
          1.5186938958656993,
          -0.16730775070513196,
          0.7986916318539317,
          -1.8076154055395393,
          0.8449677715018729,
          1.4994351030509954,
          0.3761440759664159,
          0.02032831851069565,
          -0.25420286262412284,
          0.5915923846119849,
          0.031343181368975785,
          0.8924389509972139,
          0.14696198272413175,
          -0.3383806308837403,
          -0.8167067803331302,
          0.8375097350413139,
          -1.844697334868694,
          -0.47583161834498267,
          0.3993116744743492,
          1.5196641994432958,
          -2.149826871045154,
          -0.5054434625221709,
          0.9568329180805797,
          -1.1772979939147825,
          0.12495847641314985,
          2.489394225157195,
          0.8167825718121651,
          -1.541048250898501,
          1.3836463003138744,
          -0.030213786772967887,
          0.6891482660718707,
          0.22201933593073467
         ],
         "xaxis": "x",
         "yaxis": "y"
        },
        {
         "line": {
          "color": "rgba(128, 128, 128, 1.0)",
          "dash": "solid",
          "shape": "linear",
          "width": 1.3
         },
         "marker": {
          "size": 2,
          "symbol": "circle"
         },
         "mode": "markers",
         "name": "A",
         "text": "",
         "type": "scatter",
         "x": [
          -0.7863556269567842,
          -0.3934319050293995,
          -0.8659569932604896,
          0.30666746365172154,
          -2.5335810728661774,
          0.08560385128773612,
          0.7707462351268122,
          -0.1532090031592984,
          1.1286258467424628,
          -0.5825286450266112,
          0.39862414075985675,
          0.22258314683488725,
          1.0537570365862137,
          -0.8159525977081468,
          -0.5061916446714905,
          -0.26061714680962556,
          -2.254049905642298,
          0.29318800193968925,
          2.3094028981793846,
          -0.048968716571239,
          0.06985565178494063,
          -1.274260090264892,
          -1.41004308259798,
          2.002966383137955,
          -0.7586585236309823,
          1.835932532756517,
          -0.6629902504136792,
          0.3189347126535099,
          0.5065766796579961,
          2.1881591681018104,
          -0.5091713331664507,
          0.6461027072133978,
          -0.9858139943365096,
          0.8352212513237809,
          0.7678917985915251,
          -0.5720013372834474,
          0.4597669525366794,
          0.0010371046198402512,
          -0.20491356648425588,
          0.9328866567283997,
          2.176018941163229,
          -0.9163567131417804,
          0.8099443703746437,
          1.378718852814666,
          -0.0959067798324056,
          0.3055517084481643,
          0.9479911188482862,
          -1.8741975653115122,
          1.4659130901080561,
          0.9689652756893685,
          -1.5009623827195906,
          2.8872697466472643,
          0.06706261098262112,
          0.017536891671529827,
          1.6155683878161462,
          -0.06803490307878995,
          -1.0926381642910077,
          0.7340270358115923,
          0.517571964274028,
          0.667005891920211,
          -2.112386962226195,
          -0.13579269137096708,
          0.1207994583196543,
          -0.5254973507764424,
          -1.2886398814889086,
          -2.0279168784246986,
          1.1485673851045588,
          -0.20190822632409647,
          -0.5969951426556726,
          0.22088014731203623,
          1.1376723087755327,
          0.5738714744704506,
          0.7451691218808038,
          0.5844226957724005,
          -0.9813236939291822,
          -1.045116851602681,
          -1.234923056082786,
          -1.0708041340168966,
          1.4658002080355017,
          -0.761499576905759,
          -3.1524089631556804,
          0.8339745187847174,
          -0.8736506796302141,
          0.19033242925434002,
          1.5338359061015892,
          -0.4971111409720753,
          0.6914248925254357,
          1.1375771610666334,
          1.2200375084760924,
          0.4138867568586993,
          -2.8980380292726386,
          0.04456869526355736,
          -1.081971961542821,
          1.0623667326027297,
          0.31280558134076863,
          -0.03546302545284578,
          -1.9668831578809485,
          0.051637491391016394,
          1.2239694666936947,
          0.39670028159886306
         ],
         "xaxis": "x2",
         "y": [
          -0.47323338372044216,
          0.391342125956041,
          -1.3930192517983035,
          -0.7583764463384806,
          0.030560247015788796,
          -0.42222897997487735,
          0.3419507372052493,
          -0.6530728726886348,
          0.4911743583401989,
          -0.6399410387909096,
          1.252348795213839,
          2.79565887203688,
          1.0216953549398935,
          -0.6760681475071038,
          1.9153287675036414,
          -0.8574194766794743,
          0.03971198334552156,
          1.5575886718822547,
          -0.41104371136749807,
          0.45423026955435997,
          1.37682200922694,
          -0.49097371261325123,
          -1.103902239392601,
          1.209088156671042,
          -0.12929287076995005,
          -1.3546787992622251,
          0.741078850974195,
          0.17579127326631125,
          -0.01674344571807809,
          1.1428979827099823,
          0.012233952698504845,
          -0.8741512129967439,
          0.1427194853744033,
          1.1058161773053639,
          0.12295872208272311,
          -0.5856164378476567,
          0.21613129771727468,
          -1.8690770920771833,
          -0.6898825134758376,
          -0.05458461743161419,
          -0.15759841027243723,
          -0.6117912504899256,
          -0.696867769386093,
          -0.3274933689874018,
          -0.735725361990674,
          -0.006292612703083734,
          -0.4783007321809796,
          0.46136717463820837,
          1.1050679917684179,
          -0.8742044025984583,
          -0.7822275024460555,
          0.19428282921115408,
          -1.599183119108615,
          0.16519098965643408,
          1.1233298071638333,
          0.25714148321550806,
          -0.4491728069771753,
          0.3286657772584293,
          0.4223585017724842,
          -1.3447552904968874,
          0.23535742165332924,
          -0.7746665058691453,
          -0.49249988794559896,
          -0.3916749224744794,
          -1.5427041968534043,
          0.33574744449984323,
          0.28716634919374984,
          -0.5396371694147453,
          1.5186938958656993,
          -0.16730775070513196,
          0.7986916318539317,
          -1.8076154055395393,
          0.8449677715018729,
          1.4994351030509954,
          0.3761440759664159,
          0.02032831851069565,
          -0.25420286262412284,
          0.5915923846119849,
          0.031343181368975785,
          0.8924389509972139,
          0.14696198272413175,
          -0.3383806308837403,
          -0.8167067803331302,
          0.8375097350413139,
          -1.844697334868694,
          -0.47583161834498267,
          0.3993116744743492,
          1.5196641994432958,
          -2.149826871045154,
          -0.5054434625221709,
          0.9568329180805797,
          -1.1772979939147825,
          0.12495847641314985,
          2.489394225157195,
          0.8167825718121651,
          -1.541048250898501,
          1.3836463003138744,
          -0.030213786772967887,
          0.6891482660718707,
          0.22201933593073467
         ],
         "yaxis": "y2"
        },
        {
         "line": {
          "color": "rgba(128, 128, 128, 1.0)",
          "dash": "solid",
          "shape": "linear",
          "width": 1.3
         },
         "marker": {
          "size": 2,
          "symbol": "circle"
         },
         "mode": "markers",
         "name": "A",
         "text": "",
         "type": "scatter",
         "x": [
          -0.6030994144415659,
          -0.28672966749573653,
          0.3392637081777703,
          0.19498541876018885,
          0.169856216447392,
          -0.8749694780455577,
          -0.9037667138370488,
          -1.4381153415660453,
          -1.611429323292964,
          1.2275259939998584,
          -0.4858796352778617,
          0.10993686372980101,
          0.20322138240469867,
          0.1639814859986579,
          -1.5008126480132573,
          0.24064956919564173,
          0.24874153648798175,
          0.48339678956485715,
          1.1362626939240847,
          0.16480533957003732,
          1.1998740666841663,
          -1.894446916413578,
          -1.1551781086385031,
          1.7792300072882297,
          -0.7485633694457982,
          -0.06244651162480217,
          0.7093620135952354,
          -0.12436000336714008,
          0.9671118726820398,
          -2.6419234339480364,
          0.49854865498424145,
          -1.9036608481825092,
          0.5992055389881571,
          -0.10728490763426868,
          -0.39122604266358013,
          0.029322228284007927,
          -0.6501617325268471,
          0.2714198367550461,
          0.028780351738951576,
          2.1229609299052474,
          -0.9588036175503883,
          -0.20756397019008022,
          0.49397847739770884,
          -0.16123035986796494,
          0.4766336596254507,
          0.049356656031718196,
          -1.2124496158290319,
          -0.8476034152623768,
          0.019054165369579677,
          -1.0130380351582837,
          -1.1330208742362609,
          0.0009183525475209432,
          -0.2736613745187976,
          0.9614992187615407,
          -1.491892771696647,
          -1.4614254205853954,
          0.25673598803179254,
          0.935584725011274,
          0.8096285786801392,
          -0.13912365853936803,
          1.912731992298654,
          1.1190324211744875,
          -0.920831175711935,
          -0.21931909366331578,
          0.7179848558775562,
          -0.2520014213426082,
          1.3555036502188451,
          -0.15249069905308443,
          0.6925437667865846,
          0.10388302518501544,
          -1.6541881857809821,
          -1.4285036846332086,
          0.2611101191670557,
          -0.10076774448316933,
          1.0593516810244787,
          -0.5690499889222228,
          -0.518083514239968,
          2.2529691304874313,
          -2.601375231121356,
          0.8848370561955524,
          -0.27551785238018295,
          -1.1658476120039192,
          -1.855448441952235,
          -0.26045859408597405,
          -2.717549064811967,
          -1.6228203033155657,
          -0.9442729761856262,
          -1.2411985580208704,
          0.19991879291346518,
          0.4100108728266116,
          -2.0666599259905927,
          -1.0860975839367148,
          0.27883688445685023,
          0.41597048365954387,
          0.10051276298124265,
          0.8428888067029818,
          0.5253094751462503,
          0.6812504479817608,
          0.8334538568617702,
          -0.651327253602928
         ],
         "xaxis": "x3",
         "y": [
          -0.47323338372044216,
          0.391342125956041,
          -1.3930192517983035,
          -0.7583764463384806,
          0.030560247015788796,
          -0.42222897997487735,
          0.3419507372052493,
          -0.6530728726886348,
          0.4911743583401989,
          -0.6399410387909096,
          1.252348795213839,
          2.79565887203688,
          1.0216953549398935,
          -0.6760681475071038,
          1.9153287675036414,
          -0.8574194766794743,
          0.03971198334552156,
          1.5575886718822547,
          -0.41104371136749807,
          0.45423026955435997,
          1.37682200922694,
          -0.49097371261325123,
          -1.103902239392601,
          1.209088156671042,
          -0.12929287076995005,
          -1.3546787992622251,
          0.741078850974195,
          0.17579127326631125,
          -0.01674344571807809,
          1.1428979827099823,
          0.012233952698504845,
          -0.8741512129967439,
          0.1427194853744033,
          1.1058161773053639,
          0.12295872208272311,
          -0.5856164378476567,
          0.21613129771727468,
          -1.8690770920771833,
          -0.6898825134758376,
          -0.05458461743161419,
          -0.15759841027243723,
          -0.6117912504899256,
          -0.696867769386093,
          -0.3274933689874018,
          -0.735725361990674,
          -0.006292612703083734,
          -0.4783007321809796,
          0.46136717463820837,
          1.1050679917684179,
          -0.8742044025984583,
          -0.7822275024460555,
          0.19428282921115408,
          -1.599183119108615,
          0.16519098965643408,
          1.1233298071638333,
          0.25714148321550806,
          -0.4491728069771753,
          0.3286657772584293,
          0.4223585017724842,
          -1.3447552904968874,
          0.23535742165332924,
          -0.7746665058691453,
          -0.49249988794559896,
          -0.3916749224744794,
          -1.5427041968534043,
          0.33574744449984323,
          0.28716634919374984,
          -0.5396371694147453,
          1.5186938958656993,
          -0.16730775070513196,
          0.7986916318539317,
          -1.8076154055395393,
          0.8449677715018729,
          1.4994351030509954,
          0.3761440759664159,
          0.02032831851069565,
          -0.25420286262412284,
          0.5915923846119849,
          0.031343181368975785,
          0.8924389509972139,
          0.14696198272413175,
          -0.3383806308837403,
          -0.8167067803331302,
          0.8375097350413139,
          -1.844697334868694,
          -0.47583161834498267,
          0.3993116744743492,
          1.5196641994432958,
          -2.149826871045154,
          -0.5054434625221709,
          0.9568329180805797,
          -1.1772979939147825,
          0.12495847641314985,
          2.489394225157195,
          0.8167825718121651,
          -1.541048250898501,
          1.3836463003138744,
          -0.030213786772967887,
          0.6891482660718707,
          0.22201933593073467
         ],
         "yaxis": "y3"
        },
        {
         "line": {
          "color": "rgba(128, 128, 128, 1.0)",
          "dash": "solid",
          "shape": "linear",
          "width": 1.3
         },
         "marker": {
          "size": 2,
          "symbol": "circle"
         },
         "mode": "markers",
         "name": "A",
         "text": "",
         "type": "scatter",
         "x": [
          -1.7565027787248992,
          2.142820692662946,
          0.44804922083164167,
          -0.9292887228981889,
          1.2852654232447904,
          0.3592152554023984,
          -1.8863365255560671,
          0.04800082653789518,
          0.37379051941980707,
          0.6555565219767131,
          -1.2532599770407524,
          -0.729589980032634,
          1.1534309225754797,
          1.0071263960475942,
          -1.2592619068510083,
          1.6844980995861003,
          -0.0745813296922144,
          0.5890987426786111,
          -0.8305981968245615,
          -1.1164979024238735,
          -1.1839481761910884,
          1.5595397033067833,
          0.3152942346576389,
          -0.44301311221403156,
          0.8236198522427761,
          -1.2019190641126138,
          1.5336120474207988,
          -0.4930318694411702,
          -0.8165159477581593,
          -1.8044899411202082,
          1.3334137074506227,
          0.49796139348785573,
          -0.20191598475039563,
          -0.4205233100966402,
          0.9911930167414926,
          2.393893679798556,
          0.5251465939094997,
          0.22728035079259354,
          -1.0995338065390503,
          1.0766360097392675,
          -0.14643211620316618,
          1.6151454182208635,
          1.687775473165265,
          -0.9117556207966099,
          -0.8130207857548152,
          0.6989510051408686,
          -1.109266580434571,
          0.5969756080602681,
          1.2507996821742322,
          -0.557680792577814,
          0.8506430503044562,
          0.02302688820406108,
          0.4054445756316907,
          -0.9785041751692184,
          0.3288605622268137,
          -0.7135953714720429,
          -0.3389226671442458,
          -1.0541842619388624,
          1.0350510964267012,
          -0.16314351167121433,
          0.4058551237326383,
          -1.0669714141072002,
          0.10180444308349802,
          -1.8897516411765771,
          0.6456515374470266,
          0.6250397753660706,
          -0.5729397033258652,
          1.5152701643620212,
          0.04916473944408896,
          -0.5639933417491443,
          0.06788285449455125,
          1.1485714179111128,
          -0.18264282303613275,
          -0.4801838916503548,
          -1.0183615555908196,
          -0.2110804976775807,
          -0.14315379079001916,
          -0.15697499984868937,
          -0.7739327762251197,
          -0.07444562294946552,
          -1.309676621933601,
          -0.7895104334903577,
          -1.4340777025447515,
          -0.35150157980575714,
          -0.48564836846214743,
          0.3512924471678498,
          -0.14631372262507386,
          -1.6132013191615706,
          -0.20510670937090764,
          1.2693650571758979,
          -0.4870260249990171,
          -1.0577699232778213,
          -0.9032213107714546,
          1.3388221980487656,
          -0.053311743566603474,
          0.8107899853388832,
          2.8124786778647857,
          0.39495366874029125,
          0.6107039258145395,
          -0.7200977824296632
         ],
         "xaxis": "x4",
         "y": [
          -0.47323338372044216,
          0.391342125956041,
          -1.3930192517983035,
          -0.7583764463384806,
          0.030560247015788796,
          -0.42222897997487735,
          0.3419507372052493,
          -0.6530728726886348,
          0.4911743583401989,
          -0.6399410387909096,
          1.252348795213839,
          2.79565887203688,
          1.0216953549398935,
          -0.6760681475071038,
          1.9153287675036414,
          -0.8574194766794743,
          0.03971198334552156,
          1.5575886718822547,
          -0.41104371136749807,
          0.45423026955435997,
          1.37682200922694,
          -0.49097371261325123,
          -1.103902239392601,
          1.209088156671042,
          -0.12929287076995005,
          -1.3546787992622251,
          0.741078850974195,
          0.17579127326631125,
          -0.01674344571807809,
          1.1428979827099823,
          0.012233952698504845,
          -0.8741512129967439,
          0.1427194853744033,
          1.1058161773053639,
          0.12295872208272311,
          -0.5856164378476567,
          0.21613129771727468,
          -1.8690770920771833,
          -0.6898825134758376,
          -0.05458461743161419,
          -0.15759841027243723,
          -0.6117912504899256,
          -0.696867769386093,
          -0.3274933689874018,
          -0.735725361990674,
          -0.006292612703083734,
          -0.4783007321809796,
          0.46136717463820837,
          1.1050679917684179,
          -0.8742044025984583,
          -0.7822275024460555,
          0.19428282921115408,
          -1.599183119108615,
          0.16519098965643408,
          1.1233298071638333,
          0.25714148321550806,
          -0.4491728069771753,
          0.3286657772584293,
          0.4223585017724842,
          -1.3447552904968874,
          0.23535742165332924,
          -0.7746665058691453,
          -0.49249988794559896,
          -0.3916749224744794,
          -1.5427041968534043,
          0.33574744449984323,
          0.28716634919374984,
          -0.5396371694147453,
          1.5186938958656993,
          -0.16730775070513196,
          0.7986916318539317,
          -1.8076154055395393,
          0.8449677715018729,
          1.4994351030509954,
          0.3761440759664159,
          0.02032831851069565,
          -0.25420286262412284,
          0.5915923846119849,
          0.031343181368975785,
          0.8924389509972139,
          0.14696198272413175,
          -0.3383806308837403,
          -0.8167067803331302,
          0.8375097350413139,
          -1.844697334868694,
          -0.47583161834498267,
          0.3993116744743492,
          1.5196641994432958,
          -2.149826871045154,
          -0.5054434625221709,
          0.9568329180805797,
          -1.1772979939147825,
          0.12495847641314985,
          2.489394225157195,
          0.8167825718121651,
          -1.541048250898501,
          1.3836463003138744,
          -0.030213786772967887,
          0.6891482660718707,
          0.22201933593073467
         ],
         "yaxis": "y4"
        },
        {
         "line": {
          "color": "rgba(128, 128, 128, 1.0)",
          "dash": "solid",
          "shape": "linear",
          "width": 1.3
         },
         "marker": {
          "size": 2,
          "symbol": "circle"
         },
         "mode": "markers",
         "name": "B",
         "text": "",
         "type": "scatter",
         "x": [
          -0.47323338372044216,
          0.391342125956041,
          -1.3930192517983035,
          -0.7583764463384806,
          0.030560247015788796,
          -0.42222897997487735,
          0.3419507372052493,
          -0.6530728726886348,
          0.4911743583401989,
          -0.6399410387909096,
          1.252348795213839,
          2.79565887203688,
          1.0216953549398935,
          -0.6760681475071038,
          1.9153287675036414,
          -0.8574194766794743,
          0.03971198334552156,
          1.5575886718822547,
          -0.41104371136749807,
          0.45423026955435997,
          1.37682200922694,
          -0.49097371261325123,
          -1.103902239392601,
          1.209088156671042,
          -0.12929287076995005,
          -1.3546787992622251,
          0.741078850974195,
          0.17579127326631125,
          -0.01674344571807809,
          1.1428979827099823,
          0.012233952698504845,
          -0.8741512129967439,
          0.1427194853744033,
          1.1058161773053639,
          0.12295872208272311,
          -0.5856164378476567,
          0.21613129771727468,
          -1.8690770920771833,
          -0.6898825134758376,
          -0.05458461743161419,
          -0.15759841027243723,
          -0.6117912504899256,
          -0.696867769386093,
          -0.3274933689874018,
          -0.735725361990674,
          -0.006292612703083734,
          -0.4783007321809796,
          0.46136717463820837,
          1.1050679917684179,
          -0.8742044025984583,
          -0.7822275024460555,
          0.19428282921115408,
          -1.599183119108615,
          0.16519098965643408,
          1.1233298071638333,
          0.25714148321550806,
          -0.4491728069771753,
          0.3286657772584293,
          0.4223585017724842,
          -1.3447552904968874,
          0.23535742165332924,
          -0.7746665058691453,
          -0.49249988794559896,
          -0.3916749224744794,
          -1.5427041968534043,
          0.33574744449984323,
          0.28716634919374984,
          -0.5396371694147453,
          1.5186938958656993,
          -0.16730775070513196,
          0.7986916318539317,
          -1.8076154055395393,
          0.8449677715018729,
          1.4994351030509954,
          0.3761440759664159,
          0.02032831851069565,
          -0.25420286262412284,
          0.5915923846119849,
          0.031343181368975785,
          0.8924389509972139,
          0.14696198272413175,
          -0.3383806308837403,
          -0.8167067803331302,
          0.8375097350413139,
          -1.844697334868694,
          -0.47583161834498267,
          0.3993116744743492,
          1.5196641994432958,
          -2.149826871045154,
          -0.5054434625221709,
          0.9568329180805797,
          -1.1772979939147825,
          0.12495847641314985,
          2.489394225157195,
          0.8167825718121651,
          -1.541048250898501,
          1.3836463003138744,
          -0.030213786772967887,
          0.6891482660718707,
          0.22201933593073467
         ],
         "xaxis": "x5",
         "y": [
          -0.7863556269567842,
          -0.3934319050293995,
          -0.8659569932604896,
          0.30666746365172154,
          -2.5335810728661774,
          0.08560385128773612,
          0.7707462351268122,
          -0.1532090031592984,
          1.1286258467424628,
          -0.5825286450266112,
          0.39862414075985675,
          0.22258314683488725,
          1.0537570365862137,
          -0.8159525977081468,
          -0.5061916446714905,
          -0.26061714680962556,
          -2.254049905642298,
          0.29318800193968925,
          2.3094028981793846,
          -0.048968716571239,
          0.06985565178494063,
          -1.274260090264892,
          -1.41004308259798,
          2.002966383137955,
          -0.7586585236309823,
          1.835932532756517,
          -0.6629902504136792,
          0.3189347126535099,
          0.5065766796579961,
          2.1881591681018104,
          -0.5091713331664507,
          0.6461027072133978,
          -0.9858139943365096,
          0.8352212513237809,
          0.7678917985915251,
          -0.5720013372834474,
          0.4597669525366794,
          0.0010371046198402512,
          -0.20491356648425588,
          0.9328866567283997,
          2.176018941163229,
          -0.9163567131417804,
          0.8099443703746437,
          1.378718852814666,
          -0.0959067798324056,
          0.3055517084481643,
          0.9479911188482862,
          -1.8741975653115122,
          1.4659130901080561,
          0.9689652756893685,
          -1.5009623827195906,
          2.8872697466472643,
          0.06706261098262112,
          0.017536891671529827,
          1.6155683878161462,
          -0.06803490307878995,
          -1.0926381642910077,
          0.7340270358115923,
          0.517571964274028,
          0.667005891920211,
          -2.112386962226195,
          -0.13579269137096708,
          0.1207994583196543,
          -0.5254973507764424,
          -1.2886398814889086,
          -2.0279168784246986,
          1.1485673851045588,
          -0.20190822632409647,
          -0.5969951426556726,
          0.22088014731203623,
          1.1376723087755327,
          0.5738714744704506,
          0.7451691218808038,
          0.5844226957724005,
          -0.9813236939291822,
          -1.045116851602681,
          -1.234923056082786,
          -1.0708041340168966,
          1.4658002080355017,
          -0.761499576905759,
          -3.1524089631556804,
          0.8339745187847174,
          -0.8736506796302141,
          0.19033242925434002,
          1.5338359061015892,
          -0.4971111409720753,
          0.6914248925254357,
          1.1375771610666334,
          1.2200375084760924,
          0.4138867568586993,
          -2.8980380292726386,
          0.04456869526355736,
          -1.081971961542821,
          1.0623667326027297,
          0.31280558134076863,
          -0.03546302545284578,
          -1.9668831578809485,
          0.051637491391016394,
          1.2239694666936947,
          0.39670028159886306
         ],
         "yaxis": "y5"
        },
        {
         "histfunc": "count",
         "histnorm": "",
         "marker": {
          "color": "rgba(55, 128, 191, 1.0)",
          "line": {
           "color": "#4D5663",
           "width": 1.3
          }
         },
         "name": "B",
         "nbinsx": 10,
         "opacity": 0.8,
         "orientation": "v",
         "type": "histogram",
         "x": [
          -0.7863556269567842,
          -0.3934319050293995,
          -0.8659569932604896,
          0.30666746365172154,
          -2.5335810728661774,
          0.08560385128773612,
          0.7707462351268122,
          -0.1532090031592984,
          1.1286258467424628,
          -0.5825286450266112,
          0.39862414075985675,
          0.22258314683488725,
          1.0537570365862137,
          -0.8159525977081468,
          -0.5061916446714905,
          -0.26061714680962556,
          -2.254049905642298,
          0.29318800193968925,
          2.3094028981793846,
          -0.048968716571239,
          0.06985565178494063,
          -1.274260090264892,
          -1.41004308259798,
          2.002966383137955,
          -0.7586585236309823,
          1.835932532756517,
          -0.6629902504136792,
          0.3189347126535099,
          0.5065766796579961,
          2.1881591681018104,
          -0.5091713331664507,
          0.6461027072133978,
          -0.9858139943365096,
          0.8352212513237809,
          0.7678917985915251,
          -0.5720013372834474,
          0.4597669525366794,
          0.0010371046198402512,
          -0.20491356648425588,
          0.9328866567283997,
          2.176018941163229,
          -0.9163567131417804,
          0.8099443703746437,
          1.378718852814666,
          -0.0959067798324056,
          0.3055517084481643,
          0.9479911188482862,
          -1.8741975653115122,
          1.4659130901080561,
          0.9689652756893685,
          -1.5009623827195906,
          2.8872697466472643,
          0.06706261098262112,
          0.017536891671529827,
          1.6155683878161462,
          -0.06803490307878995,
          -1.0926381642910077,
          0.7340270358115923,
          0.517571964274028,
          0.667005891920211,
          -2.112386962226195,
          -0.13579269137096708,
          0.1207994583196543,
          -0.5254973507764424,
          -1.2886398814889086,
          -2.0279168784246986,
          1.1485673851045588,
          -0.20190822632409647,
          -0.5969951426556726,
          0.22088014731203623,
          1.1376723087755327,
          0.5738714744704506,
          0.7451691218808038,
          0.5844226957724005,
          -0.9813236939291822,
          -1.045116851602681,
          -1.234923056082786,
          -1.0708041340168966,
          1.4658002080355017,
          -0.761499576905759,
          -3.1524089631556804,
          0.8339745187847174,
          -0.8736506796302141,
          0.19033242925434002,
          1.5338359061015892,
          -0.4971111409720753,
          0.6914248925254357,
          1.1375771610666334,
          1.2200375084760924,
          0.4138867568586993,
          -2.8980380292726386,
          0.04456869526355736,
          -1.081971961542821,
          1.0623667326027297,
          0.31280558134076863,
          -0.03546302545284578,
          -1.9668831578809485,
          0.051637491391016394,
          1.2239694666936947,
          0.39670028159886306
         ],
         "xaxis": "x6",
         "yaxis": "y6"
        },
        {
         "line": {
          "color": "rgba(128, 128, 128, 1.0)",
          "dash": "solid",
          "shape": "linear",
          "width": 1.3
         },
         "marker": {
          "size": 2,
          "symbol": "circle"
         },
         "mode": "markers",
         "name": "B",
         "text": "",
         "type": "scatter",
         "x": [
          -0.6030994144415659,
          -0.28672966749573653,
          0.3392637081777703,
          0.19498541876018885,
          0.169856216447392,
          -0.8749694780455577,
          -0.9037667138370488,
          -1.4381153415660453,
          -1.611429323292964,
          1.2275259939998584,
          -0.4858796352778617,
          0.10993686372980101,
          0.20322138240469867,
          0.1639814859986579,
          -1.5008126480132573,
          0.24064956919564173,
          0.24874153648798175,
          0.48339678956485715,
          1.1362626939240847,
          0.16480533957003732,
          1.1998740666841663,
          -1.894446916413578,
          -1.1551781086385031,
          1.7792300072882297,
          -0.7485633694457982,
          -0.06244651162480217,
          0.7093620135952354,
          -0.12436000336714008,
          0.9671118726820398,
          -2.6419234339480364,
          0.49854865498424145,
          -1.9036608481825092,
          0.5992055389881571,
          -0.10728490763426868,
          -0.39122604266358013,
          0.029322228284007927,
          -0.6501617325268471,
          0.2714198367550461,
          0.028780351738951576,
          2.1229609299052474,
          -0.9588036175503883,
          -0.20756397019008022,
          0.49397847739770884,
          -0.16123035986796494,
          0.4766336596254507,
          0.049356656031718196,
          -1.2124496158290319,
          -0.8476034152623768,
          0.019054165369579677,
          -1.0130380351582837,
          -1.1330208742362609,
          0.0009183525475209432,
          -0.2736613745187976,
          0.9614992187615407,
          -1.491892771696647,
          -1.4614254205853954,
          0.25673598803179254,
          0.935584725011274,
          0.8096285786801392,
          -0.13912365853936803,
          1.912731992298654,
          1.1190324211744875,
          -0.920831175711935,
          -0.21931909366331578,
          0.7179848558775562,
          -0.2520014213426082,
          1.3555036502188451,
          -0.15249069905308443,
          0.6925437667865846,
          0.10388302518501544,
          -1.6541881857809821,
          -1.4285036846332086,
          0.2611101191670557,
          -0.10076774448316933,
          1.0593516810244787,
          -0.5690499889222228,
          -0.518083514239968,
          2.2529691304874313,
          -2.601375231121356,
          0.8848370561955524,
          -0.27551785238018295,
          -1.1658476120039192,
          -1.855448441952235,
          -0.26045859408597405,
          -2.717549064811967,
          -1.6228203033155657,
          -0.9442729761856262,
          -1.2411985580208704,
          0.19991879291346518,
          0.4100108728266116,
          -2.0666599259905927,
          -1.0860975839367148,
          0.27883688445685023,
          0.41597048365954387,
          0.10051276298124265,
          0.8428888067029818,
          0.5253094751462503,
          0.6812504479817608,
          0.8334538568617702,
          -0.651327253602928
         ],
         "xaxis": "x7",
         "y": [
          -0.7863556269567842,
          -0.3934319050293995,
          -0.8659569932604896,
          0.30666746365172154,
          -2.5335810728661774,
          0.08560385128773612,
          0.7707462351268122,
          -0.1532090031592984,
          1.1286258467424628,
          -0.5825286450266112,
          0.39862414075985675,
          0.22258314683488725,
          1.0537570365862137,
          -0.8159525977081468,
          -0.5061916446714905,
          -0.26061714680962556,
          -2.254049905642298,
          0.29318800193968925,
          2.3094028981793846,
          -0.048968716571239,
          0.06985565178494063,
          -1.274260090264892,
          -1.41004308259798,
          2.002966383137955,
          -0.7586585236309823,
          1.835932532756517,
          -0.6629902504136792,
          0.3189347126535099,
          0.5065766796579961,
          2.1881591681018104,
          -0.5091713331664507,
          0.6461027072133978,
          -0.9858139943365096,
          0.8352212513237809,
          0.7678917985915251,
          -0.5720013372834474,
          0.4597669525366794,
          0.0010371046198402512,
          -0.20491356648425588,
          0.9328866567283997,
          2.176018941163229,
          -0.9163567131417804,
          0.8099443703746437,
          1.378718852814666,
          -0.0959067798324056,
          0.3055517084481643,
          0.9479911188482862,
          -1.8741975653115122,
          1.4659130901080561,
          0.9689652756893685,
          -1.5009623827195906,
          2.8872697466472643,
          0.06706261098262112,
          0.017536891671529827,
          1.6155683878161462,
          -0.06803490307878995,
          -1.0926381642910077,
          0.7340270358115923,
          0.517571964274028,
          0.667005891920211,
          -2.112386962226195,
          -0.13579269137096708,
          0.1207994583196543,
          -0.5254973507764424,
          -1.2886398814889086,
          -2.0279168784246986,
          1.1485673851045588,
          -0.20190822632409647,
          -0.5969951426556726,
          0.22088014731203623,
          1.1376723087755327,
          0.5738714744704506,
          0.7451691218808038,
          0.5844226957724005,
          -0.9813236939291822,
          -1.045116851602681,
          -1.234923056082786,
          -1.0708041340168966,
          1.4658002080355017,
          -0.761499576905759,
          -3.1524089631556804,
          0.8339745187847174,
          -0.8736506796302141,
          0.19033242925434002,
          1.5338359061015892,
          -0.4971111409720753,
          0.6914248925254357,
          1.1375771610666334,
          1.2200375084760924,
          0.4138867568586993,
          -2.8980380292726386,
          0.04456869526355736,
          -1.081971961542821,
          1.0623667326027297,
          0.31280558134076863,
          -0.03546302545284578,
          -1.9668831578809485,
          0.051637491391016394,
          1.2239694666936947,
          0.39670028159886306
         ],
         "yaxis": "y7"
        },
        {
         "line": {
          "color": "rgba(128, 128, 128, 1.0)",
          "dash": "solid",
          "shape": "linear",
          "width": 1.3
         },
         "marker": {
          "size": 2,
          "symbol": "circle"
         },
         "mode": "markers",
         "name": "B",
         "text": "",
         "type": "scatter",
         "x": [
          -1.7565027787248992,
          2.142820692662946,
          0.44804922083164167,
          -0.9292887228981889,
          1.2852654232447904,
          0.3592152554023984,
          -1.8863365255560671,
          0.04800082653789518,
          0.37379051941980707,
          0.6555565219767131,
          -1.2532599770407524,
          -0.729589980032634,
          1.1534309225754797,
          1.0071263960475942,
          -1.2592619068510083,
          1.6844980995861003,
          -0.0745813296922144,
          0.5890987426786111,
          -0.8305981968245615,
          -1.1164979024238735,
          -1.1839481761910884,
          1.5595397033067833,
          0.3152942346576389,
          -0.44301311221403156,
          0.8236198522427761,
          -1.2019190641126138,
          1.5336120474207988,
          -0.4930318694411702,
          -0.8165159477581593,
          -1.8044899411202082,
          1.3334137074506227,
          0.49796139348785573,
          -0.20191598475039563,
          -0.4205233100966402,
          0.9911930167414926,
          2.393893679798556,
          0.5251465939094997,
          0.22728035079259354,
          -1.0995338065390503,
          1.0766360097392675,
          -0.14643211620316618,
          1.6151454182208635,
          1.687775473165265,
          -0.9117556207966099,
          -0.8130207857548152,
          0.6989510051408686,
          -1.109266580434571,
          0.5969756080602681,
          1.2507996821742322,
          -0.557680792577814,
          0.8506430503044562,
          0.02302688820406108,
          0.4054445756316907,
          -0.9785041751692184,
          0.3288605622268137,
          -0.7135953714720429,
          -0.3389226671442458,
          -1.0541842619388624,
          1.0350510964267012,
          -0.16314351167121433,
          0.4058551237326383,
          -1.0669714141072002,
          0.10180444308349802,
          -1.8897516411765771,
          0.6456515374470266,
          0.6250397753660706,
          -0.5729397033258652,
          1.5152701643620212,
          0.04916473944408896,
          -0.5639933417491443,
          0.06788285449455125,
          1.1485714179111128,
          -0.18264282303613275,
          -0.4801838916503548,
          -1.0183615555908196,
          -0.2110804976775807,
          -0.14315379079001916,
          -0.15697499984868937,
          -0.7739327762251197,
          -0.07444562294946552,
          -1.309676621933601,
          -0.7895104334903577,
          -1.4340777025447515,
          -0.35150157980575714,
          -0.48564836846214743,
          0.3512924471678498,
          -0.14631372262507386,
          -1.6132013191615706,
          -0.20510670937090764,
          1.2693650571758979,
          -0.4870260249990171,
          -1.0577699232778213,
          -0.9032213107714546,
          1.3388221980487656,
          -0.053311743566603474,
          0.8107899853388832,
          2.8124786778647857,
          0.39495366874029125,
          0.6107039258145395,
          -0.7200977824296632
         ],
         "xaxis": "x8",
         "y": [
          -0.7863556269567842,
          -0.3934319050293995,
          -0.8659569932604896,
          0.30666746365172154,
          -2.5335810728661774,
          0.08560385128773612,
          0.7707462351268122,
          -0.1532090031592984,
          1.1286258467424628,
          -0.5825286450266112,
          0.39862414075985675,
          0.22258314683488725,
          1.0537570365862137,
          -0.8159525977081468,
          -0.5061916446714905,
          -0.26061714680962556,
          -2.254049905642298,
          0.29318800193968925,
          2.3094028981793846,
          -0.048968716571239,
          0.06985565178494063,
          -1.274260090264892,
          -1.41004308259798,
          2.002966383137955,
          -0.7586585236309823,
          1.835932532756517,
          -0.6629902504136792,
          0.3189347126535099,
          0.5065766796579961,
          2.1881591681018104,
          -0.5091713331664507,
          0.6461027072133978,
          -0.9858139943365096,
          0.8352212513237809,
          0.7678917985915251,
          -0.5720013372834474,
          0.4597669525366794,
          0.0010371046198402512,
          -0.20491356648425588,
          0.9328866567283997,
          2.176018941163229,
          -0.9163567131417804,
          0.8099443703746437,
          1.378718852814666,
          -0.0959067798324056,
          0.3055517084481643,
          0.9479911188482862,
          -1.8741975653115122,
          1.4659130901080561,
          0.9689652756893685,
          -1.5009623827195906,
          2.8872697466472643,
          0.06706261098262112,
          0.017536891671529827,
          1.6155683878161462,
          -0.06803490307878995,
          -1.0926381642910077,
          0.7340270358115923,
          0.517571964274028,
          0.667005891920211,
          -2.112386962226195,
          -0.13579269137096708,
          0.1207994583196543,
          -0.5254973507764424,
          -1.2886398814889086,
          -2.0279168784246986,
          1.1485673851045588,
          -0.20190822632409647,
          -0.5969951426556726,
          0.22088014731203623,
          1.1376723087755327,
          0.5738714744704506,
          0.7451691218808038,
          0.5844226957724005,
          -0.9813236939291822,
          -1.045116851602681,
          -1.234923056082786,
          -1.0708041340168966,
          1.4658002080355017,
          -0.761499576905759,
          -3.1524089631556804,
          0.8339745187847174,
          -0.8736506796302141,
          0.19033242925434002,
          1.5338359061015892,
          -0.4971111409720753,
          0.6914248925254357,
          1.1375771610666334,
          1.2200375084760924,
          0.4138867568586993,
          -2.8980380292726386,
          0.04456869526355736,
          -1.081971961542821,
          1.0623667326027297,
          0.31280558134076863,
          -0.03546302545284578,
          -1.9668831578809485,
          0.051637491391016394,
          1.2239694666936947,
          0.39670028159886306
         ],
         "yaxis": "y8"
        },
        {
         "line": {
          "color": "rgba(128, 128, 128, 1.0)",
          "dash": "solid",
          "shape": "linear",
          "width": 1.3
         },
         "marker": {
          "size": 2,
          "symbol": "circle"
         },
         "mode": "markers",
         "name": "C",
         "text": "",
         "type": "scatter",
         "x": [
          -0.47323338372044216,
          0.391342125956041,
          -1.3930192517983035,
          -0.7583764463384806,
          0.030560247015788796,
          -0.42222897997487735,
          0.3419507372052493,
          -0.6530728726886348,
          0.4911743583401989,
          -0.6399410387909096,
          1.252348795213839,
          2.79565887203688,
          1.0216953549398935,
          -0.6760681475071038,
          1.9153287675036414,
          -0.8574194766794743,
          0.03971198334552156,
          1.5575886718822547,
          -0.41104371136749807,
          0.45423026955435997,
          1.37682200922694,
          -0.49097371261325123,
          -1.103902239392601,
          1.209088156671042,
          -0.12929287076995005,
          -1.3546787992622251,
          0.741078850974195,
          0.17579127326631125,
          -0.01674344571807809,
          1.1428979827099823,
          0.012233952698504845,
          -0.8741512129967439,
          0.1427194853744033,
          1.1058161773053639,
          0.12295872208272311,
          -0.5856164378476567,
          0.21613129771727468,
          -1.8690770920771833,
          -0.6898825134758376,
          -0.05458461743161419,
          -0.15759841027243723,
          -0.6117912504899256,
          -0.696867769386093,
          -0.3274933689874018,
          -0.735725361990674,
          -0.006292612703083734,
          -0.4783007321809796,
          0.46136717463820837,
          1.1050679917684179,
          -0.8742044025984583,
          -0.7822275024460555,
          0.19428282921115408,
          -1.599183119108615,
          0.16519098965643408,
          1.1233298071638333,
          0.25714148321550806,
          -0.4491728069771753,
          0.3286657772584293,
          0.4223585017724842,
          -1.3447552904968874,
          0.23535742165332924,
          -0.7746665058691453,
          -0.49249988794559896,
          -0.3916749224744794,
          -1.5427041968534043,
          0.33574744449984323,
          0.28716634919374984,
          -0.5396371694147453,
          1.5186938958656993,
          -0.16730775070513196,
          0.7986916318539317,
          -1.8076154055395393,
          0.8449677715018729,
          1.4994351030509954,
          0.3761440759664159,
          0.02032831851069565,
          -0.25420286262412284,
          0.5915923846119849,
          0.031343181368975785,
          0.8924389509972139,
          0.14696198272413175,
          -0.3383806308837403,
          -0.8167067803331302,
          0.8375097350413139,
          -1.844697334868694,
          -0.47583161834498267,
          0.3993116744743492,
          1.5196641994432958,
          -2.149826871045154,
          -0.5054434625221709,
          0.9568329180805797,
          -1.1772979939147825,
          0.12495847641314985,
          2.489394225157195,
          0.8167825718121651,
          -1.541048250898501,
          1.3836463003138744,
          -0.030213786772967887,
          0.6891482660718707,
          0.22201933593073467
         ],
         "xaxis": "x9",
         "y": [
          -0.6030994144415659,
          -0.28672966749573653,
          0.3392637081777703,
          0.19498541876018885,
          0.169856216447392,
          -0.8749694780455577,
          -0.9037667138370488,
          -1.4381153415660453,
          -1.611429323292964,
          1.2275259939998584,
          -0.4858796352778617,
          0.10993686372980101,
          0.20322138240469867,
          0.1639814859986579,
          -1.5008126480132573,
          0.24064956919564173,
          0.24874153648798175,
          0.48339678956485715,
          1.1362626939240847,
          0.16480533957003732,
          1.1998740666841663,
          -1.894446916413578,
          -1.1551781086385031,
          1.7792300072882297,
          -0.7485633694457982,
          -0.06244651162480217,
          0.7093620135952354,
          -0.12436000336714008,
          0.9671118726820398,
          -2.6419234339480364,
          0.49854865498424145,
          -1.9036608481825092,
          0.5992055389881571,
          -0.10728490763426868,
          -0.39122604266358013,
          0.029322228284007927,
          -0.6501617325268471,
          0.2714198367550461,
          0.028780351738951576,
          2.1229609299052474,
          -0.9588036175503883,
          -0.20756397019008022,
          0.49397847739770884,
          -0.16123035986796494,
          0.4766336596254507,
          0.049356656031718196,
          -1.2124496158290319,
          -0.8476034152623768,
          0.019054165369579677,
          -1.0130380351582837,
          -1.1330208742362609,
          0.0009183525475209432,
          -0.2736613745187976,
          0.9614992187615407,
          -1.491892771696647,
          -1.4614254205853954,
          0.25673598803179254,
          0.935584725011274,
          0.8096285786801392,
          -0.13912365853936803,
          1.912731992298654,
          1.1190324211744875,
          -0.920831175711935,
          -0.21931909366331578,
          0.7179848558775562,
          -0.2520014213426082,
          1.3555036502188451,
          -0.15249069905308443,
          0.6925437667865846,
          0.10388302518501544,
          -1.6541881857809821,
          -1.4285036846332086,
          0.2611101191670557,
          -0.10076774448316933,
          1.0593516810244787,
          -0.5690499889222228,
          -0.518083514239968,
          2.2529691304874313,
          -2.601375231121356,
          0.8848370561955524,
          -0.27551785238018295,
          -1.1658476120039192,
          -1.855448441952235,
          -0.26045859408597405,
          -2.717549064811967,
          -1.6228203033155657,
          -0.9442729761856262,
          -1.2411985580208704,
          0.19991879291346518,
          0.4100108728266116,
          -2.0666599259905927,
          -1.0860975839367148,
          0.27883688445685023,
          0.41597048365954387,
          0.10051276298124265,
          0.8428888067029818,
          0.5253094751462503,
          0.6812504479817608,
          0.8334538568617702,
          -0.651327253602928
         ],
         "yaxis": "y9"
        },
        {
         "line": {
          "color": "rgba(128, 128, 128, 1.0)",
          "dash": "solid",
          "shape": "linear",
          "width": 1.3
         },
         "marker": {
          "size": 2,
          "symbol": "circle"
         },
         "mode": "markers",
         "name": "C",
         "text": "",
         "type": "scatter",
         "x": [
          -0.7863556269567842,
          -0.3934319050293995,
          -0.8659569932604896,
          0.30666746365172154,
          -2.5335810728661774,
          0.08560385128773612,
          0.7707462351268122,
          -0.1532090031592984,
          1.1286258467424628,
          -0.5825286450266112,
          0.39862414075985675,
          0.22258314683488725,
          1.0537570365862137,
          -0.8159525977081468,
          -0.5061916446714905,
          -0.26061714680962556,
          -2.254049905642298,
          0.29318800193968925,
          2.3094028981793846,
          -0.048968716571239,
          0.06985565178494063,
          -1.274260090264892,
          -1.41004308259798,
          2.002966383137955,
          -0.7586585236309823,
          1.835932532756517,
          -0.6629902504136792,
          0.3189347126535099,
          0.5065766796579961,
          2.1881591681018104,
          -0.5091713331664507,
          0.6461027072133978,
          -0.9858139943365096,
          0.8352212513237809,
          0.7678917985915251,
          -0.5720013372834474,
          0.4597669525366794,
          0.0010371046198402512,
          -0.20491356648425588,
          0.9328866567283997,
          2.176018941163229,
          -0.9163567131417804,
          0.8099443703746437,
          1.378718852814666,
          -0.0959067798324056,
          0.3055517084481643,
          0.9479911188482862,
          -1.8741975653115122,
          1.4659130901080561,
          0.9689652756893685,
          -1.5009623827195906,
          2.8872697466472643,
          0.06706261098262112,
          0.017536891671529827,
          1.6155683878161462,
          -0.06803490307878995,
          -1.0926381642910077,
          0.7340270358115923,
          0.517571964274028,
          0.667005891920211,
          -2.112386962226195,
          -0.13579269137096708,
          0.1207994583196543,
          -0.5254973507764424,
          -1.2886398814889086,
          -2.0279168784246986,
          1.1485673851045588,
          -0.20190822632409647,
          -0.5969951426556726,
          0.22088014731203623,
          1.1376723087755327,
          0.5738714744704506,
          0.7451691218808038,
          0.5844226957724005,
          -0.9813236939291822,
          -1.045116851602681,
          -1.234923056082786,
          -1.0708041340168966,
          1.4658002080355017,
          -0.761499576905759,
          -3.1524089631556804,
          0.8339745187847174,
          -0.8736506796302141,
          0.19033242925434002,
          1.5338359061015892,
          -0.4971111409720753,
          0.6914248925254357,
          1.1375771610666334,
          1.2200375084760924,
          0.4138867568586993,
          -2.8980380292726386,
          0.04456869526355736,
          -1.081971961542821,
          1.0623667326027297,
          0.31280558134076863,
          -0.03546302545284578,
          -1.9668831578809485,
          0.051637491391016394,
          1.2239694666936947,
          0.39670028159886306
         ],
         "xaxis": "x10",
         "y": [
          -0.6030994144415659,
          -0.28672966749573653,
          0.3392637081777703,
          0.19498541876018885,
          0.169856216447392,
          -0.8749694780455577,
          -0.9037667138370488,
          -1.4381153415660453,
          -1.611429323292964,
          1.2275259939998584,
          -0.4858796352778617,
          0.10993686372980101,
          0.20322138240469867,
          0.1639814859986579,
          -1.5008126480132573,
          0.24064956919564173,
          0.24874153648798175,
          0.48339678956485715,
          1.1362626939240847,
          0.16480533957003732,
          1.1998740666841663,
          -1.894446916413578,
          -1.1551781086385031,
          1.7792300072882297,
          -0.7485633694457982,
          -0.06244651162480217,
          0.7093620135952354,
          -0.12436000336714008,
          0.9671118726820398,
          -2.6419234339480364,
          0.49854865498424145,
          -1.9036608481825092,
          0.5992055389881571,
          -0.10728490763426868,
          -0.39122604266358013,
          0.029322228284007927,
          -0.6501617325268471,
          0.2714198367550461,
          0.028780351738951576,
          2.1229609299052474,
          -0.9588036175503883,
          -0.20756397019008022,
          0.49397847739770884,
          -0.16123035986796494,
          0.4766336596254507,
          0.049356656031718196,
          -1.2124496158290319,
          -0.8476034152623768,
          0.019054165369579677,
          -1.0130380351582837,
          -1.1330208742362609,
          0.0009183525475209432,
          -0.2736613745187976,
          0.9614992187615407,
          -1.491892771696647,
          -1.4614254205853954,
          0.25673598803179254,
          0.935584725011274,
          0.8096285786801392,
          -0.13912365853936803,
          1.912731992298654,
          1.1190324211744875,
          -0.920831175711935,
          -0.21931909366331578,
          0.7179848558775562,
          -0.2520014213426082,
          1.3555036502188451,
          -0.15249069905308443,
          0.6925437667865846,
          0.10388302518501544,
          -1.6541881857809821,
          -1.4285036846332086,
          0.2611101191670557,
          -0.10076774448316933,
          1.0593516810244787,
          -0.5690499889222228,
          -0.518083514239968,
          2.2529691304874313,
          -2.601375231121356,
          0.8848370561955524,
          -0.27551785238018295,
          -1.1658476120039192,
          -1.855448441952235,
          -0.26045859408597405,
          -2.717549064811967,
          -1.6228203033155657,
          -0.9442729761856262,
          -1.2411985580208704,
          0.19991879291346518,
          0.4100108728266116,
          -2.0666599259905927,
          -1.0860975839367148,
          0.27883688445685023,
          0.41597048365954387,
          0.10051276298124265,
          0.8428888067029818,
          0.5253094751462503,
          0.6812504479817608,
          0.8334538568617702,
          -0.651327253602928
         ],
         "yaxis": "y10"
        },
        {
         "histfunc": "count",
         "histnorm": "",
         "marker": {
          "color": "rgba(50, 171, 96, 1.0)",
          "line": {
           "color": "#4D5663",
           "width": 1.3
          }
         },
         "name": "C",
         "nbinsx": 10,
         "opacity": 0.8,
         "orientation": "v",
         "type": "histogram",
         "x": [
          -0.6030994144415659,
          -0.28672966749573653,
          0.3392637081777703,
          0.19498541876018885,
          0.169856216447392,
          -0.8749694780455577,
          -0.9037667138370488,
          -1.4381153415660453,
          -1.611429323292964,
          1.2275259939998584,
          -0.4858796352778617,
          0.10993686372980101,
          0.20322138240469867,
          0.1639814859986579,
          -1.5008126480132573,
          0.24064956919564173,
          0.24874153648798175,
          0.48339678956485715,
          1.1362626939240847,
          0.16480533957003732,
          1.1998740666841663,
          -1.894446916413578,
          -1.1551781086385031,
          1.7792300072882297,
          -0.7485633694457982,
          -0.06244651162480217,
          0.7093620135952354,
          -0.12436000336714008,
          0.9671118726820398,
          -2.6419234339480364,
          0.49854865498424145,
          -1.9036608481825092,
          0.5992055389881571,
          -0.10728490763426868,
          -0.39122604266358013,
          0.029322228284007927,
          -0.6501617325268471,
          0.2714198367550461,
          0.028780351738951576,
          2.1229609299052474,
          -0.9588036175503883,
          -0.20756397019008022,
          0.49397847739770884,
          -0.16123035986796494,
          0.4766336596254507,
          0.049356656031718196,
          -1.2124496158290319,
          -0.8476034152623768,
          0.019054165369579677,
          -1.0130380351582837,
          -1.1330208742362609,
          0.0009183525475209432,
          -0.2736613745187976,
          0.9614992187615407,
          -1.491892771696647,
          -1.4614254205853954,
          0.25673598803179254,
          0.935584725011274,
          0.8096285786801392,
          -0.13912365853936803,
          1.912731992298654,
          1.1190324211744875,
          -0.920831175711935,
          -0.21931909366331578,
          0.7179848558775562,
          -0.2520014213426082,
          1.3555036502188451,
          -0.15249069905308443,
          0.6925437667865846,
          0.10388302518501544,
          -1.6541881857809821,
          -1.4285036846332086,
          0.2611101191670557,
          -0.10076774448316933,
          1.0593516810244787,
          -0.5690499889222228,
          -0.518083514239968,
          2.2529691304874313,
          -2.601375231121356,
          0.8848370561955524,
          -0.27551785238018295,
          -1.1658476120039192,
          -1.855448441952235,
          -0.26045859408597405,
          -2.717549064811967,
          -1.6228203033155657,
          -0.9442729761856262,
          -1.2411985580208704,
          0.19991879291346518,
          0.4100108728266116,
          -2.0666599259905927,
          -1.0860975839367148,
          0.27883688445685023,
          0.41597048365954387,
          0.10051276298124265,
          0.8428888067029818,
          0.5253094751462503,
          0.6812504479817608,
          0.8334538568617702,
          -0.651327253602928
         ],
         "xaxis": "x11",
         "yaxis": "y11"
        },
        {
         "line": {
          "color": "rgba(128, 128, 128, 1.0)",
          "dash": "solid",
          "shape": "linear",
          "width": 1.3
         },
         "marker": {
          "size": 2,
          "symbol": "circle"
         },
         "mode": "markers",
         "name": "C",
         "text": "",
         "type": "scatter",
         "x": [
          -1.7565027787248992,
          2.142820692662946,
          0.44804922083164167,
          -0.9292887228981889,
          1.2852654232447904,
          0.3592152554023984,
          -1.8863365255560671,
          0.04800082653789518,
          0.37379051941980707,
          0.6555565219767131,
          -1.2532599770407524,
          -0.729589980032634,
          1.1534309225754797,
          1.0071263960475942,
          -1.2592619068510083,
          1.6844980995861003,
          -0.0745813296922144,
          0.5890987426786111,
          -0.8305981968245615,
          -1.1164979024238735,
          -1.1839481761910884,
          1.5595397033067833,
          0.3152942346576389,
          -0.44301311221403156,
          0.8236198522427761,
          -1.2019190641126138,
          1.5336120474207988,
          -0.4930318694411702,
          -0.8165159477581593,
          -1.8044899411202082,
          1.3334137074506227,
          0.49796139348785573,
          -0.20191598475039563,
          -0.4205233100966402,
          0.9911930167414926,
          2.393893679798556,
          0.5251465939094997,
          0.22728035079259354,
          -1.0995338065390503,
          1.0766360097392675,
          -0.14643211620316618,
          1.6151454182208635,
          1.687775473165265,
          -0.9117556207966099,
          -0.8130207857548152,
          0.6989510051408686,
          -1.109266580434571,
          0.5969756080602681,
          1.2507996821742322,
          -0.557680792577814,
          0.8506430503044562,
          0.02302688820406108,
          0.4054445756316907,
          -0.9785041751692184,
          0.3288605622268137,
          -0.7135953714720429,
          -0.3389226671442458,
          -1.0541842619388624,
          1.0350510964267012,
          -0.16314351167121433,
          0.4058551237326383,
          -1.0669714141072002,
          0.10180444308349802,
          -1.8897516411765771,
          0.6456515374470266,
          0.6250397753660706,
          -0.5729397033258652,
          1.5152701643620212,
          0.04916473944408896,
          -0.5639933417491443,
          0.06788285449455125,
          1.1485714179111128,
          -0.18264282303613275,
          -0.4801838916503548,
          -1.0183615555908196,
          -0.2110804976775807,
          -0.14315379079001916,
          -0.15697499984868937,
          -0.7739327762251197,
          -0.07444562294946552,
          -1.309676621933601,
          -0.7895104334903577,
          -1.4340777025447515,
          -0.35150157980575714,
          -0.48564836846214743,
          0.3512924471678498,
          -0.14631372262507386,
          -1.6132013191615706,
          -0.20510670937090764,
          1.2693650571758979,
          -0.4870260249990171,
          -1.0577699232778213,
          -0.9032213107714546,
          1.3388221980487656,
          -0.053311743566603474,
          0.8107899853388832,
          2.8124786778647857,
          0.39495366874029125,
          0.6107039258145395,
          -0.7200977824296632
         ],
         "xaxis": "x12",
         "y": [
          -0.6030994144415659,
          -0.28672966749573653,
          0.3392637081777703,
          0.19498541876018885,
          0.169856216447392,
          -0.8749694780455577,
          -0.9037667138370488,
          -1.4381153415660453,
          -1.611429323292964,
          1.2275259939998584,
          -0.4858796352778617,
          0.10993686372980101,
          0.20322138240469867,
          0.1639814859986579,
          -1.5008126480132573,
          0.24064956919564173,
          0.24874153648798175,
          0.48339678956485715,
          1.1362626939240847,
          0.16480533957003732,
          1.1998740666841663,
          -1.894446916413578,
          -1.1551781086385031,
          1.7792300072882297,
          -0.7485633694457982,
          -0.06244651162480217,
          0.7093620135952354,
          -0.12436000336714008,
          0.9671118726820398,
          -2.6419234339480364,
          0.49854865498424145,
          -1.9036608481825092,
          0.5992055389881571,
          -0.10728490763426868,
          -0.39122604266358013,
          0.029322228284007927,
          -0.6501617325268471,
          0.2714198367550461,
          0.028780351738951576,
          2.1229609299052474,
          -0.9588036175503883,
          -0.20756397019008022,
          0.49397847739770884,
          -0.16123035986796494,
          0.4766336596254507,
          0.049356656031718196,
          -1.2124496158290319,
          -0.8476034152623768,
          0.019054165369579677,
          -1.0130380351582837,
          -1.1330208742362609,
          0.0009183525475209432,
          -0.2736613745187976,
          0.9614992187615407,
          -1.491892771696647,
          -1.4614254205853954,
          0.25673598803179254,
          0.935584725011274,
          0.8096285786801392,
          -0.13912365853936803,
          1.912731992298654,
          1.1190324211744875,
          -0.920831175711935,
          -0.21931909366331578,
          0.7179848558775562,
          -0.2520014213426082,
          1.3555036502188451,
          -0.15249069905308443,
          0.6925437667865846,
          0.10388302518501544,
          -1.6541881857809821,
          -1.4285036846332086,
          0.2611101191670557,
          -0.10076774448316933,
          1.0593516810244787,
          -0.5690499889222228,
          -0.518083514239968,
          2.2529691304874313,
          -2.601375231121356,
          0.8848370561955524,
          -0.27551785238018295,
          -1.1658476120039192,
          -1.855448441952235,
          -0.26045859408597405,
          -2.717549064811967,
          -1.6228203033155657,
          -0.9442729761856262,
          -1.2411985580208704,
          0.19991879291346518,
          0.4100108728266116,
          -2.0666599259905927,
          -1.0860975839367148,
          0.27883688445685023,
          0.41597048365954387,
          0.10051276298124265,
          0.8428888067029818,
          0.5253094751462503,
          0.6812504479817608,
          0.8334538568617702,
          -0.651327253602928
         ],
         "yaxis": "y12"
        },
        {
         "line": {
          "color": "rgba(128, 128, 128, 1.0)",
          "dash": "solid",
          "shape": "linear",
          "width": 1.3
         },
         "marker": {
          "size": 2,
          "symbol": "circle"
         },
         "mode": "markers",
         "name": "D",
         "text": "",
         "type": "scatter",
         "x": [
          -0.47323338372044216,
          0.391342125956041,
          -1.3930192517983035,
          -0.7583764463384806,
          0.030560247015788796,
          -0.42222897997487735,
          0.3419507372052493,
          -0.6530728726886348,
          0.4911743583401989,
          -0.6399410387909096,
          1.252348795213839,
          2.79565887203688,
          1.0216953549398935,
          -0.6760681475071038,
          1.9153287675036414,
          -0.8574194766794743,
          0.03971198334552156,
          1.5575886718822547,
          -0.41104371136749807,
          0.45423026955435997,
          1.37682200922694,
          -0.49097371261325123,
          -1.103902239392601,
          1.209088156671042,
          -0.12929287076995005,
          -1.3546787992622251,
          0.741078850974195,
          0.17579127326631125,
          -0.01674344571807809,
          1.1428979827099823,
          0.012233952698504845,
          -0.8741512129967439,
          0.1427194853744033,
          1.1058161773053639,
          0.12295872208272311,
          -0.5856164378476567,
          0.21613129771727468,
          -1.8690770920771833,
          -0.6898825134758376,
          -0.05458461743161419,
          -0.15759841027243723,
          -0.6117912504899256,
          -0.696867769386093,
          -0.3274933689874018,
          -0.735725361990674,
          -0.006292612703083734,
          -0.4783007321809796,
          0.46136717463820837,
          1.1050679917684179,
          -0.8742044025984583,
          -0.7822275024460555,
          0.19428282921115408,
          -1.599183119108615,
          0.16519098965643408,
          1.1233298071638333,
          0.25714148321550806,
          -0.4491728069771753,
          0.3286657772584293,
          0.4223585017724842,
          -1.3447552904968874,
          0.23535742165332924,
          -0.7746665058691453,
          -0.49249988794559896,
          -0.3916749224744794,
          -1.5427041968534043,
          0.33574744449984323,
          0.28716634919374984,
          -0.5396371694147453,
          1.5186938958656993,
          -0.16730775070513196,
          0.7986916318539317,
          -1.8076154055395393,
          0.8449677715018729,
          1.4994351030509954,
          0.3761440759664159,
          0.02032831851069565,
          -0.25420286262412284,
          0.5915923846119849,
          0.031343181368975785,
          0.8924389509972139,
          0.14696198272413175,
          -0.3383806308837403,
          -0.8167067803331302,
          0.8375097350413139,
          -1.844697334868694,
          -0.47583161834498267,
          0.3993116744743492,
          1.5196641994432958,
          -2.149826871045154,
          -0.5054434625221709,
          0.9568329180805797,
          -1.1772979939147825,
          0.12495847641314985,
          2.489394225157195,
          0.8167825718121651,
          -1.541048250898501,
          1.3836463003138744,
          -0.030213786772967887,
          0.6891482660718707,
          0.22201933593073467
         ],
         "xaxis": "x13",
         "y": [
          -1.7565027787248992,
          2.142820692662946,
          0.44804922083164167,
          -0.9292887228981889,
          1.2852654232447904,
          0.3592152554023984,
          -1.8863365255560671,
          0.04800082653789518,
          0.37379051941980707,
          0.6555565219767131,
          -1.2532599770407524,
          -0.729589980032634,
          1.1534309225754797,
          1.0071263960475942,
          -1.2592619068510083,
          1.6844980995861003,
          -0.0745813296922144,
          0.5890987426786111,
          -0.8305981968245615,
          -1.1164979024238735,
          -1.1839481761910884,
          1.5595397033067833,
          0.3152942346576389,
          -0.44301311221403156,
          0.8236198522427761,
          -1.2019190641126138,
          1.5336120474207988,
          -0.4930318694411702,
          -0.8165159477581593,
          -1.8044899411202082,
          1.3334137074506227,
          0.49796139348785573,
          -0.20191598475039563,
          -0.4205233100966402,
          0.9911930167414926,
          2.393893679798556,
          0.5251465939094997,
          0.22728035079259354,
          -1.0995338065390503,
          1.0766360097392675,
          -0.14643211620316618,
          1.6151454182208635,
          1.687775473165265,
          -0.9117556207966099,
          -0.8130207857548152,
          0.6989510051408686,
          -1.109266580434571,
          0.5969756080602681,
          1.2507996821742322,
          -0.557680792577814,
          0.8506430503044562,
          0.02302688820406108,
          0.4054445756316907,
          -0.9785041751692184,
          0.3288605622268137,
          -0.7135953714720429,
          -0.3389226671442458,
          -1.0541842619388624,
          1.0350510964267012,
          -0.16314351167121433,
          0.4058551237326383,
          -1.0669714141072002,
          0.10180444308349802,
          -1.8897516411765771,
          0.6456515374470266,
          0.6250397753660706,
          -0.5729397033258652,
          1.5152701643620212,
          0.04916473944408896,
          -0.5639933417491443,
          0.06788285449455125,
          1.1485714179111128,
          -0.18264282303613275,
          -0.4801838916503548,
          -1.0183615555908196,
          -0.2110804976775807,
          -0.14315379079001916,
          -0.15697499984868937,
          -0.7739327762251197,
          -0.07444562294946552,
          -1.309676621933601,
          -0.7895104334903577,
          -1.4340777025447515,
          -0.35150157980575714,
          -0.48564836846214743,
          0.3512924471678498,
          -0.14631372262507386,
          -1.6132013191615706,
          -0.20510670937090764,
          1.2693650571758979,
          -0.4870260249990171,
          -1.0577699232778213,
          -0.9032213107714546,
          1.3388221980487656,
          -0.053311743566603474,
          0.8107899853388832,
          2.8124786778647857,
          0.39495366874029125,
          0.6107039258145395,
          -0.7200977824296632
         ],
         "yaxis": "y13"
        },
        {
         "line": {
          "color": "rgba(128, 128, 128, 1.0)",
          "dash": "solid",
          "shape": "linear",
          "width": 1.3
         },
         "marker": {
          "size": 2,
          "symbol": "circle"
         },
         "mode": "markers",
         "name": "D",
         "text": "",
         "type": "scatter",
         "x": [
          -0.7863556269567842,
          -0.3934319050293995,
          -0.8659569932604896,
          0.30666746365172154,
          -2.5335810728661774,
          0.08560385128773612,
          0.7707462351268122,
          -0.1532090031592984,
          1.1286258467424628,
          -0.5825286450266112,
          0.39862414075985675,
          0.22258314683488725,
          1.0537570365862137,
          -0.8159525977081468,
          -0.5061916446714905,
          -0.26061714680962556,
          -2.254049905642298,
          0.29318800193968925,
          2.3094028981793846,
          -0.048968716571239,
          0.06985565178494063,
          -1.274260090264892,
          -1.41004308259798,
          2.002966383137955,
          -0.7586585236309823,
          1.835932532756517,
          -0.6629902504136792,
          0.3189347126535099,
          0.5065766796579961,
          2.1881591681018104,
          -0.5091713331664507,
          0.6461027072133978,
          -0.9858139943365096,
          0.8352212513237809,
          0.7678917985915251,
          -0.5720013372834474,
          0.4597669525366794,
          0.0010371046198402512,
          -0.20491356648425588,
          0.9328866567283997,
          2.176018941163229,
          -0.9163567131417804,
          0.8099443703746437,
          1.378718852814666,
          -0.0959067798324056,
          0.3055517084481643,
          0.9479911188482862,
          -1.8741975653115122,
          1.4659130901080561,
          0.9689652756893685,
          -1.5009623827195906,
          2.8872697466472643,
          0.06706261098262112,
          0.017536891671529827,
          1.6155683878161462,
          -0.06803490307878995,
          -1.0926381642910077,
          0.7340270358115923,
          0.517571964274028,
          0.667005891920211,
          -2.112386962226195,
          -0.13579269137096708,
          0.1207994583196543,
          -0.5254973507764424,
          -1.2886398814889086,
          -2.0279168784246986,
          1.1485673851045588,
          -0.20190822632409647,
          -0.5969951426556726,
          0.22088014731203623,
          1.1376723087755327,
          0.5738714744704506,
          0.7451691218808038,
          0.5844226957724005,
          -0.9813236939291822,
          -1.045116851602681,
          -1.234923056082786,
          -1.0708041340168966,
          1.4658002080355017,
          -0.761499576905759,
          -3.1524089631556804,
          0.8339745187847174,
          -0.8736506796302141,
          0.19033242925434002,
          1.5338359061015892,
          -0.4971111409720753,
          0.6914248925254357,
          1.1375771610666334,
          1.2200375084760924,
          0.4138867568586993,
          -2.8980380292726386,
          0.04456869526355736,
          -1.081971961542821,
          1.0623667326027297,
          0.31280558134076863,
          -0.03546302545284578,
          -1.9668831578809485,
          0.051637491391016394,
          1.2239694666936947,
          0.39670028159886306
         ],
         "xaxis": "x14",
         "y": [
          -1.7565027787248992,
          2.142820692662946,
          0.44804922083164167,
          -0.9292887228981889,
          1.2852654232447904,
          0.3592152554023984,
          -1.8863365255560671,
          0.04800082653789518,
          0.37379051941980707,
          0.6555565219767131,
          -1.2532599770407524,
          -0.729589980032634,
          1.1534309225754797,
          1.0071263960475942,
          -1.2592619068510083,
          1.6844980995861003,
          -0.0745813296922144,
          0.5890987426786111,
          -0.8305981968245615,
          -1.1164979024238735,
          -1.1839481761910884,
          1.5595397033067833,
          0.3152942346576389,
          -0.44301311221403156,
          0.8236198522427761,
          -1.2019190641126138,
          1.5336120474207988,
          -0.4930318694411702,
          -0.8165159477581593,
          -1.8044899411202082,
          1.3334137074506227,
          0.49796139348785573,
          -0.20191598475039563,
          -0.4205233100966402,
          0.9911930167414926,
          2.393893679798556,
          0.5251465939094997,
          0.22728035079259354,
          -1.0995338065390503,
          1.0766360097392675,
          -0.14643211620316618,
          1.6151454182208635,
          1.687775473165265,
          -0.9117556207966099,
          -0.8130207857548152,
          0.6989510051408686,
          -1.109266580434571,
          0.5969756080602681,
          1.2507996821742322,
          -0.557680792577814,
          0.8506430503044562,
          0.02302688820406108,
          0.4054445756316907,
          -0.9785041751692184,
          0.3288605622268137,
          -0.7135953714720429,
          -0.3389226671442458,
          -1.0541842619388624,
          1.0350510964267012,
          -0.16314351167121433,
          0.4058551237326383,
          -1.0669714141072002,
          0.10180444308349802,
          -1.8897516411765771,
          0.6456515374470266,
          0.6250397753660706,
          -0.5729397033258652,
          1.5152701643620212,
          0.04916473944408896,
          -0.5639933417491443,
          0.06788285449455125,
          1.1485714179111128,
          -0.18264282303613275,
          -0.4801838916503548,
          -1.0183615555908196,
          -0.2110804976775807,
          -0.14315379079001916,
          -0.15697499984868937,
          -0.7739327762251197,
          -0.07444562294946552,
          -1.309676621933601,
          -0.7895104334903577,
          -1.4340777025447515,
          -0.35150157980575714,
          -0.48564836846214743,
          0.3512924471678498,
          -0.14631372262507386,
          -1.6132013191615706,
          -0.20510670937090764,
          1.2693650571758979,
          -0.4870260249990171,
          -1.0577699232778213,
          -0.9032213107714546,
          1.3388221980487656,
          -0.053311743566603474,
          0.8107899853388832,
          2.8124786778647857,
          0.39495366874029125,
          0.6107039258145395,
          -0.7200977824296632
         ],
         "yaxis": "y14"
        },
        {
         "line": {
          "color": "rgba(128, 128, 128, 1.0)",
          "dash": "solid",
          "shape": "linear",
          "width": 1.3
         },
         "marker": {
          "size": 2,
          "symbol": "circle"
         },
         "mode": "markers",
         "name": "D",
         "text": "",
         "type": "scatter",
         "x": [
          -0.6030994144415659,
          -0.28672966749573653,
          0.3392637081777703,
          0.19498541876018885,
          0.169856216447392,
          -0.8749694780455577,
          -0.9037667138370488,
          -1.4381153415660453,
          -1.611429323292964,
          1.2275259939998584,
          -0.4858796352778617,
          0.10993686372980101,
          0.20322138240469867,
          0.1639814859986579,
          -1.5008126480132573,
          0.24064956919564173,
          0.24874153648798175,
          0.48339678956485715,
          1.1362626939240847,
          0.16480533957003732,
          1.1998740666841663,
          -1.894446916413578,
          -1.1551781086385031,
          1.7792300072882297,
          -0.7485633694457982,
          -0.06244651162480217,
          0.7093620135952354,
          -0.12436000336714008,
          0.9671118726820398,
          -2.6419234339480364,
          0.49854865498424145,
          -1.9036608481825092,
          0.5992055389881571,
          -0.10728490763426868,
          -0.39122604266358013,
          0.029322228284007927,
          -0.6501617325268471,
          0.2714198367550461,
          0.028780351738951576,
          2.1229609299052474,
          -0.9588036175503883,
          -0.20756397019008022,
          0.49397847739770884,
          -0.16123035986796494,
          0.4766336596254507,
          0.049356656031718196,
          -1.2124496158290319,
          -0.8476034152623768,
          0.019054165369579677,
          -1.0130380351582837,
          -1.1330208742362609,
          0.0009183525475209432,
          -0.2736613745187976,
          0.9614992187615407,
          -1.491892771696647,
          -1.4614254205853954,
          0.25673598803179254,
          0.935584725011274,
          0.8096285786801392,
          -0.13912365853936803,
          1.912731992298654,
          1.1190324211744875,
          -0.920831175711935,
          -0.21931909366331578,
          0.7179848558775562,
          -0.2520014213426082,
          1.3555036502188451,
          -0.15249069905308443,
          0.6925437667865846,
          0.10388302518501544,
          -1.6541881857809821,
          -1.4285036846332086,
          0.2611101191670557,
          -0.10076774448316933,
          1.0593516810244787,
          -0.5690499889222228,
          -0.518083514239968,
          2.2529691304874313,
          -2.601375231121356,
          0.8848370561955524,
          -0.27551785238018295,
          -1.1658476120039192,
          -1.855448441952235,
          -0.26045859408597405,
          -2.717549064811967,
          -1.6228203033155657,
          -0.9442729761856262,
          -1.2411985580208704,
          0.19991879291346518,
          0.4100108728266116,
          -2.0666599259905927,
          -1.0860975839367148,
          0.27883688445685023,
          0.41597048365954387,
          0.10051276298124265,
          0.8428888067029818,
          0.5253094751462503,
          0.6812504479817608,
          0.8334538568617702,
          -0.651327253602928
         ],
         "xaxis": "x15",
         "y": [
          -1.7565027787248992,
          2.142820692662946,
          0.44804922083164167,
          -0.9292887228981889,
          1.2852654232447904,
          0.3592152554023984,
          -1.8863365255560671,
          0.04800082653789518,
          0.37379051941980707,
          0.6555565219767131,
          -1.2532599770407524,
          -0.729589980032634,
          1.1534309225754797,
          1.0071263960475942,
          -1.2592619068510083,
          1.6844980995861003,
          -0.0745813296922144,
          0.5890987426786111,
          -0.8305981968245615,
          -1.1164979024238735,
          -1.1839481761910884,
          1.5595397033067833,
          0.3152942346576389,
          -0.44301311221403156,
          0.8236198522427761,
          -1.2019190641126138,
          1.5336120474207988,
          -0.4930318694411702,
          -0.8165159477581593,
          -1.8044899411202082,
          1.3334137074506227,
          0.49796139348785573,
          -0.20191598475039563,
          -0.4205233100966402,
          0.9911930167414926,
          2.393893679798556,
          0.5251465939094997,
          0.22728035079259354,
          -1.0995338065390503,
          1.0766360097392675,
          -0.14643211620316618,
          1.6151454182208635,
          1.687775473165265,
          -0.9117556207966099,
          -0.8130207857548152,
          0.6989510051408686,
          -1.109266580434571,
          0.5969756080602681,
          1.2507996821742322,
          -0.557680792577814,
          0.8506430503044562,
          0.02302688820406108,
          0.4054445756316907,
          -0.9785041751692184,
          0.3288605622268137,
          -0.7135953714720429,
          -0.3389226671442458,
          -1.0541842619388624,
          1.0350510964267012,
          -0.16314351167121433,
          0.4058551237326383,
          -1.0669714141072002,
          0.10180444308349802,
          -1.8897516411765771,
          0.6456515374470266,
          0.6250397753660706,
          -0.5729397033258652,
          1.5152701643620212,
          0.04916473944408896,
          -0.5639933417491443,
          0.06788285449455125,
          1.1485714179111128,
          -0.18264282303613275,
          -0.4801838916503548,
          -1.0183615555908196,
          -0.2110804976775807,
          -0.14315379079001916,
          -0.15697499984868937,
          -0.7739327762251197,
          -0.07444562294946552,
          -1.309676621933601,
          -0.7895104334903577,
          -1.4340777025447515,
          -0.35150157980575714,
          -0.48564836846214743,
          0.3512924471678498,
          -0.14631372262507386,
          -1.6132013191615706,
          -0.20510670937090764,
          1.2693650571758979,
          -0.4870260249990171,
          -1.0577699232778213,
          -0.9032213107714546,
          1.3388221980487656,
          -0.053311743566603474,
          0.8107899853388832,
          2.8124786778647857,
          0.39495366874029125,
          0.6107039258145395,
          -0.7200977824296632
         ],
         "yaxis": "y15"
        },
        {
         "histfunc": "count",
         "histnorm": "",
         "marker": {
          "color": "rgba(128, 0, 128, 1.0)",
          "line": {
           "color": "#4D5663",
           "width": 1.3
          }
         },
         "name": "D",
         "nbinsx": 10,
         "opacity": 0.8,
         "orientation": "v",
         "type": "histogram",
         "x": [
          -1.7565027787248992,
          2.142820692662946,
          0.44804922083164167,
          -0.9292887228981889,
          1.2852654232447904,
          0.3592152554023984,
          -1.8863365255560671,
          0.04800082653789518,
          0.37379051941980707,
          0.6555565219767131,
          -1.2532599770407524,
          -0.729589980032634,
          1.1534309225754797,
          1.0071263960475942,
          -1.2592619068510083,
          1.6844980995861003,
          -0.0745813296922144,
          0.5890987426786111,
          -0.8305981968245615,
          -1.1164979024238735,
          -1.1839481761910884,
          1.5595397033067833,
          0.3152942346576389,
          -0.44301311221403156,
          0.8236198522427761,
          -1.2019190641126138,
          1.5336120474207988,
          -0.4930318694411702,
          -0.8165159477581593,
          -1.8044899411202082,
          1.3334137074506227,
          0.49796139348785573,
          -0.20191598475039563,
          -0.4205233100966402,
          0.9911930167414926,
          2.393893679798556,
          0.5251465939094997,
          0.22728035079259354,
          -1.0995338065390503,
          1.0766360097392675,
          -0.14643211620316618,
          1.6151454182208635,
          1.687775473165265,
          -0.9117556207966099,
          -0.8130207857548152,
          0.6989510051408686,
          -1.109266580434571,
          0.5969756080602681,
          1.2507996821742322,
          -0.557680792577814,
          0.8506430503044562,
          0.02302688820406108,
          0.4054445756316907,
          -0.9785041751692184,
          0.3288605622268137,
          -0.7135953714720429,
          -0.3389226671442458,
          -1.0541842619388624,
          1.0350510964267012,
          -0.16314351167121433,
          0.4058551237326383,
          -1.0669714141072002,
          0.10180444308349802,
          -1.8897516411765771,
          0.6456515374470266,
          0.6250397753660706,
          -0.5729397033258652,
          1.5152701643620212,
          0.04916473944408896,
          -0.5639933417491443,
          0.06788285449455125,
          1.1485714179111128,
          -0.18264282303613275,
          -0.4801838916503548,
          -1.0183615555908196,
          -0.2110804976775807,
          -0.14315379079001916,
          -0.15697499984868937,
          -0.7739327762251197,
          -0.07444562294946552,
          -1.309676621933601,
          -0.7895104334903577,
          -1.4340777025447515,
          -0.35150157980575714,
          -0.48564836846214743,
          0.3512924471678498,
          -0.14631372262507386,
          -1.6132013191615706,
          -0.20510670937090764,
          1.2693650571758979,
          -0.4870260249990171,
          -1.0577699232778213,
          -0.9032213107714546,
          1.3388221980487656,
          -0.053311743566603474,
          0.8107899853388832,
          2.8124786778647857,
          0.39495366874029125,
          0.6107039258145395,
          -0.7200977824296632
         ],
         "xaxis": "x16",
         "yaxis": "y16"
        }
       ],
       "layout": {
        "bargap": 0.02,
        "legend": {
         "bgcolor": "#F5F6F9",
         "font": {
          "color": "#4D5663"
         }
        },
        "paper_bgcolor": "#F5F6F9",
        "plot_bgcolor": "#F5F6F9",
        "showlegend": false,
        "template": {
         "data": {
          "bar": [
           {
            "error_x": {
             "color": "#2a3f5f"
            },
            "error_y": {
             "color": "#2a3f5f"
            },
            "marker": {
             "line": {
              "color": "#E5ECF6",
              "width": 0.5
             }
            },
            "type": "bar"
           }
          ],
          "barpolar": [
           {
            "marker": {
             "line": {
              "color": "#E5ECF6",
              "width": 0.5
             }
            },
            "type": "barpolar"
           }
          ],
          "carpet": [
           {
            "aaxis": {
             "endlinecolor": "#2a3f5f",
             "gridcolor": "white",
             "linecolor": "white",
             "minorgridcolor": "white",
             "startlinecolor": "#2a3f5f"
            },
            "baxis": {
             "endlinecolor": "#2a3f5f",
             "gridcolor": "white",
             "linecolor": "white",
             "minorgridcolor": "white",
             "startlinecolor": "#2a3f5f"
            },
            "type": "carpet"
           }
          ],
          "choropleth": [
           {
            "colorbar": {
             "outlinewidth": 0,
             "ticks": ""
            },
            "type": "choropleth"
           }
          ],
          "contour": [
           {
            "colorbar": {
             "outlinewidth": 0,
             "ticks": ""
            },
            "colorscale": [
             [
              0,
              "#0d0887"
             ],
             [
              0.1111111111111111,
              "#46039f"
             ],
             [
              0.2222222222222222,
              "#7201a8"
             ],
             [
              0.3333333333333333,
              "#9c179e"
             ],
             [
              0.4444444444444444,
              "#bd3786"
             ],
             [
              0.5555555555555556,
              "#d8576b"
             ],
             [
              0.6666666666666666,
              "#ed7953"
             ],
             [
              0.7777777777777778,
              "#fb9f3a"
             ],
             [
              0.8888888888888888,
              "#fdca26"
             ],
             [
              1,
              "#f0f921"
             ]
            ],
            "type": "contour"
           }
          ],
          "contourcarpet": [
           {
            "colorbar": {
             "outlinewidth": 0,
             "ticks": ""
            },
            "type": "contourcarpet"
           }
          ],
          "heatmap": [
           {
            "colorbar": {
             "outlinewidth": 0,
             "ticks": ""
            },
            "colorscale": [
             [
              0,
              "#0d0887"
             ],
             [
              0.1111111111111111,
              "#46039f"
             ],
             [
              0.2222222222222222,
              "#7201a8"
             ],
             [
              0.3333333333333333,
              "#9c179e"
             ],
             [
              0.4444444444444444,
              "#bd3786"
             ],
             [
              0.5555555555555556,
              "#d8576b"
             ],
             [
              0.6666666666666666,
              "#ed7953"
             ],
             [
              0.7777777777777778,
              "#fb9f3a"
             ],
             [
              0.8888888888888888,
              "#fdca26"
             ],
             [
              1,
              "#f0f921"
             ]
            ],
            "type": "heatmap"
           }
          ],
          "heatmapgl": [
           {
            "colorbar": {
             "outlinewidth": 0,
             "ticks": ""
            },
            "colorscale": [
             [
              0,
              "#0d0887"
             ],
             [
              0.1111111111111111,
              "#46039f"
             ],
             [
              0.2222222222222222,
              "#7201a8"
             ],
             [
              0.3333333333333333,
              "#9c179e"
             ],
             [
              0.4444444444444444,
              "#bd3786"
             ],
             [
              0.5555555555555556,
              "#d8576b"
             ],
             [
              0.6666666666666666,
              "#ed7953"
             ],
             [
              0.7777777777777778,
              "#fb9f3a"
             ],
             [
              0.8888888888888888,
              "#fdca26"
             ],
             [
              1,
              "#f0f921"
             ]
            ],
            "type": "heatmapgl"
           }
          ],
          "histogram": [
           {
            "marker": {
             "colorbar": {
              "outlinewidth": 0,
              "ticks": ""
             }
            },
            "type": "histogram"
           }
          ],
          "histogram2d": [
           {
            "colorbar": {
             "outlinewidth": 0,
             "ticks": ""
            },
            "colorscale": [
             [
              0,
              "#0d0887"
             ],
             [
              0.1111111111111111,
              "#46039f"
             ],
             [
              0.2222222222222222,
              "#7201a8"
             ],
             [
              0.3333333333333333,
              "#9c179e"
             ],
             [
              0.4444444444444444,
              "#bd3786"
             ],
             [
              0.5555555555555556,
              "#d8576b"
             ],
             [
              0.6666666666666666,
              "#ed7953"
             ],
             [
              0.7777777777777778,
              "#fb9f3a"
             ],
             [
              0.8888888888888888,
              "#fdca26"
             ],
             [
              1,
              "#f0f921"
             ]
            ],
            "type": "histogram2d"
           }
          ],
          "histogram2dcontour": [
           {
            "colorbar": {
             "outlinewidth": 0,
             "ticks": ""
            },
            "colorscale": [
             [
              0,
              "#0d0887"
             ],
             [
              0.1111111111111111,
              "#46039f"
             ],
             [
              0.2222222222222222,
              "#7201a8"
             ],
             [
              0.3333333333333333,
              "#9c179e"
             ],
             [
              0.4444444444444444,
              "#bd3786"
             ],
             [
              0.5555555555555556,
              "#d8576b"
             ],
             [
              0.6666666666666666,
              "#ed7953"
             ],
             [
              0.7777777777777778,
              "#fb9f3a"
             ],
             [
              0.8888888888888888,
              "#fdca26"
             ],
             [
              1,
              "#f0f921"
             ]
            ],
            "type": "histogram2dcontour"
           }
          ],
          "mesh3d": [
           {
            "colorbar": {
             "outlinewidth": 0,
             "ticks": ""
            },
            "type": "mesh3d"
           }
          ],
          "parcoords": [
           {
            "line": {
             "colorbar": {
              "outlinewidth": 0,
              "ticks": ""
             }
            },
            "type": "parcoords"
           }
          ],
          "pie": [
           {
            "automargin": true,
            "type": "pie"
           }
          ],
          "scatter": [
           {
            "marker": {
             "colorbar": {
              "outlinewidth": 0,
              "ticks": ""
             }
            },
            "type": "scatter"
           }
          ],
          "scatter3d": [
           {
            "line": {
             "colorbar": {
              "outlinewidth": 0,
              "ticks": ""
             }
            },
            "marker": {
             "colorbar": {
              "outlinewidth": 0,
              "ticks": ""
             }
            },
            "type": "scatter3d"
           }
          ],
          "scattercarpet": [
           {
            "marker": {
             "colorbar": {
              "outlinewidth": 0,
              "ticks": ""
             }
            },
            "type": "scattercarpet"
           }
          ],
          "scattergeo": [
           {
            "marker": {
             "colorbar": {
              "outlinewidth": 0,
              "ticks": ""
             }
            },
            "type": "scattergeo"
           }
          ],
          "scattergl": [
           {
            "marker": {
             "colorbar": {
              "outlinewidth": 0,
              "ticks": ""
             }
            },
            "type": "scattergl"
           }
          ],
          "scattermapbox": [
           {
            "marker": {
             "colorbar": {
              "outlinewidth": 0,
              "ticks": ""
             }
            },
            "type": "scattermapbox"
           }
          ],
          "scatterpolar": [
           {
            "marker": {
             "colorbar": {
              "outlinewidth": 0,
              "ticks": ""
             }
            },
            "type": "scatterpolar"
           }
          ],
          "scatterpolargl": [
           {
            "marker": {
             "colorbar": {
              "outlinewidth": 0,
              "ticks": ""
             }
            },
            "type": "scatterpolargl"
           }
          ],
          "scatterternary": [
           {
            "marker": {
             "colorbar": {
              "outlinewidth": 0,
              "ticks": ""
             }
            },
            "type": "scatterternary"
           }
          ],
          "surface": [
           {
            "colorbar": {
             "outlinewidth": 0,
             "ticks": ""
            },
            "colorscale": [
             [
              0,
              "#0d0887"
             ],
             [
              0.1111111111111111,
              "#46039f"
             ],
             [
              0.2222222222222222,
              "#7201a8"
             ],
             [
              0.3333333333333333,
              "#9c179e"
             ],
             [
              0.4444444444444444,
              "#bd3786"
             ],
             [
              0.5555555555555556,
              "#d8576b"
             ],
             [
              0.6666666666666666,
              "#ed7953"
             ],
             [
              0.7777777777777778,
              "#fb9f3a"
             ],
             [
              0.8888888888888888,
              "#fdca26"
             ],
             [
              1,
              "#f0f921"
             ]
            ],
            "type": "surface"
           }
          ],
          "table": [
           {
            "cells": {
             "fill": {
              "color": "#EBF0F8"
             },
             "line": {
              "color": "white"
             }
            },
            "header": {
             "fill": {
              "color": "#C8D4E3"
             },
             "line": {
              "color": "white"
             }
            },
            "type": "table"
           }
          ]
         },
         "layout": {
          "annotationdefaults": {
           "arrowcolor": "#2a3f5f",
           "arrowhead": 0,
           "arrowwidth": 1
          },
          "coloraxis": {
           "colorbar": {
            "outlinewidth": 0,
            "ticks": ""
           }
          },
          "colorscale": {
           "diverging": [
            [
             0,
             "#8e0152"
            ],
            [
             0.1,
             "#c51b7d"
            ],
            [
             0.2,
             "#de77ae"
            ],
            [
             0.3,
             "#f1b6da"
            ],
            [
             0.4,
             "#fde0ef"
            ],
            [
             0.5,
             "#f7f7f7"
            ],
            [
             0.6,
             "#e6f5d0"
            ],
            [
             0.7,
             "#b8e186"
            ],
            [
             0.8,
             "#7fbc41"
            ],
            [
             0.9,
             "#4d9221"
            ],
            [
             1,
             "#276419"
            ]
           ],
           "sequential": [
            [
             0,
             "#0d0887"
            ],
            [
             0.1111111111111111,
             "#46039f"
            ],
            [
             0.2222222222222222,
             "#7201a8"
            ],
            [
             0.3333333333333333,
             "#9c179e"
            ],
            [
             0.4444444444444444,
             "#bd3786"
            ],
            [
             0.5555555555555556,
             "#d8576b"
            ],
            [
             0.6666666666666666,
             "#ed7953"
            ],
            [
             0.7777777777777778,
             "#fb9f3a"
            ],
            [
             0.8888888888888888,
             "#fdca26"
            ],
            [
             1,
             "#f0f921"
            ]
           ],
           "sequentialminus": [
            [
             0,
             "#0d0887"
            ],
            [
             0.1111111111111111,
             "#46039f"
            ],
            [
             0.2222222222222222,
             "#7201a8"
            ],
            [
             0.3333333333333333,
             "#9c179e"
            ],
            [
             0.4444444444444444,
             "#bd3786"
            ],
            [
             0.5555555555555556,
             "#d8576b"
            ],
            [
             0.6666666666666666,
             "#ed7953"
            ],
            [
             0.7777777777777778,
             "#fb9f3a"
            ],
            [
             0.8888888888888888,
             "#fdca26"
            ],
            [
             1,
             "#f0f921"
            ]
           ]
          },
          "colorway": [
           "#636efa",
           "#EF553B",
           "#00cc96",
           "#ab63fa",
           "#FFA15A",
           "#19d3f3",
           "#FF6692",
           "#B6E880",
           "#FF97FF",
           "#FECB52"
          ],
          "font": {
           "color": "#2a3f5f"
          },
          "geo": {
           "bgcolor": "white",
           "lakecolor": "white",
           "landcolor": "#E5ECF6",
           "showlakes": true,
           "showland": true,
           "subunitcolor": "white"
          },
          "hoverlabel": {
           "align": "left"
          },
          "hovermode": "closest",
          "mapbox": {
           "style": "light"
          },
          "paper_bgcolor": "white",
          "plot_bgcolor": "#E5ECF6",
          "polar": {
           "angularaxis": {
            "gridcolor": "white",
            "linecolor": "white",
            "ticks": ""
           },
           "bgcolor": "#E5ECF6",
           "radialaxis": {
            "gridcolor": "white",
            "linecolor": "white",
            "ticks": ""
           }
          },
          "scene": {
           "xaxis": {
            "backgroundcolor": "#E5ECF6",
            "gridcolor": "white",
            "gridwidth": 2,
            "linecolor": "white",
            "showbackground": true,
            "ticks": "",
            "zerolinecolor": "white"
           },
           "yaxis": {
            "backgroundcolor": "#E5ECF6",
            "gridcolor": "white",
            "gridwidth": 2,
            "linecolor": "white",
            "showbackground": true,
            "ticks": "",
            "zerolinecolor": "white"
           },
           "zaxis": {
            "backgroundcolor": "#E5ECF6",
            "gridcolor": "white",
            "gridwidth": 2,
            "linecolor": "white",
            "showbackground": true,
            "ticks": "",
            "zerolinecolor": "white"
           }
          },
          "shapedefaults": {
           "line": {
            "color": "#2a3f5f"
           }
          },
          "ternary": {
           "aaxis": {
            "gridcolor": "white",
            "linecolor": "white",
            "ticks": ""
           },
           "baxis": {
            "gridcolor": "white",
            "linecolor": "white",
            "ticks": ""
           },
           "bgcolor": "#E5ECF6",
           "caxis": {
            "gridcolor": "white",
            "linecolor": "white",
            "ticks": ""
           }
          },
          "title": {
           "x": 0.05
          },
          "xaxis": {
           "automargin": true,
           "gridcolor": "white",
           "linecolor": "white",
           "ticks": "",
           "title": {
            "standoff": 15
           },
           "zerolinecolor": "white",
           "zerolinewidth": 2
          },
          "yaxis": {
           "automargin": true,
           "gridcolor": "white",
           "linecolor": "white",
           "ticks": "",
           "title": {
            "standoff": 15
           },
           "zerolinecolor": "white",
           "zerolinewidth": 2
          }
         }
        },
        "title": {
         "font": {
          "color": "#4D5663"
         }
        },
        "xaxis": {
         "anchor": "y",
         "domain": [
          0,
          0.2125
         ],
         "gridcolor": "#E1E5ED",
         "showgrid": false,
         "tickfont": {
          "color": "#4D5663"
         },
         "title": {
          "font": {
           "color": "#4D5663"
          },
          "text": ""
         },
         "zerolinecolor": "#E1E5ED"
        },
        "xaxis10": {
         "anchor": "y10",
         "domain": [
          0.2625,
          0.475
         ],
         "gridcolor": "#E1E5ED",
         "showgrid": false,
         "tickfont": {
          "color": "#4D5663"
         },
         "title": {
          "font": {
           "color": "#4D5663"
          },
          "text": ""
         },
         "zerolinecolor": "#E1E5ED"
        },
        "xaxis11": {
         "anchor": "y11",
         "domain": [
          0.525,
          0.7375
         ],
         "gridcolor": "#E1E5ED",
         "showgrid": false,
         "tickfont": {
          "color": "#4D5663"
         },
         "title": {
          "font": {
           "color": "#4D5663"
          },
          "text": ""
         },
         "zerolinecolor": "#E1E5ED"
        },
        "xaxis12": {
         "anchor": "y12",
         "domain": [
          0.7875,
          1
         ],
         "gridcolor": "#E1E5ED",
         "showgrid": false,
         "tickfont": {
          "color": "#4D5663"
         },
         "title": {
          "font": {
           "color": "#4D5663"
          },
          "text": ""
         },
         "zerolinecolor": "#E1E5ED"
        },
        "xaxis13": {
         "anchor": "y13",
         "domain": [
          0,
          0.2125
         ],
         "gridcolor": "#E1E5ED",
         "showgrid": false,
         "tickfont": {
          "color": "#4D5663"
         },
         "title": {
          "font": {
           "color": "#4D5663"
          },
          "text": ""
         },
         "zerolinecolor": "#E1E5ED"
        },
        "xaxis14": {
         "anchor": "y14",
         "domain": [
          0.2625,
          0.475
         ],
         "gridcolor": "#E1E5ED",
         "showgrid": false,
         "tickfont": {
          "color": "#4D5663"
         },
         "title": {
          "font": {
           "color": "#4D5663"
          },
          "text": ""
         },
         "zerolinecolor": "#E1E5ED"
        },
        "xaxis15": {
         "anchor": "y15",
         "domain": [
          0.525,
          0.7375
         ],
         "gridcolor": "#E1E5ED",
         "showgrid": false,
         "tickfont": {
          "color": "#4D5663"
         },
         "title": {
          "font": {
           "color": "#4D5663"
          },
          "text": ""
         },
         "zerolinecolor": "#E1E5ED"
        },
        "xaxis16": {
         "anchor": "y16",
         "domain": [
          0.7875,
          1
         ],
         "gridcolor": "#E1E5ED",
         "showgrid": false,
         "tickfont": {
          "color": "#4D5663"
         },
         "title": {
          "font": {
           "color": "#4D5663"
          },
          "text": ""
         },
         "zerolinecolor": "#E1E5ED"
        },
        "xaxis2": {
         "anchor": "y2",
         "domain": [
          0.2625,
          0.475
         ],
         "gridcolor": "#E1E5ED",
         "showgrid": false,
         "tickfont": {
          "color": "#4D5663"
         },
         "title": {
          "font": {
           "color": "#4D5663"
          },
          "text": ""
         },
         "zerolinecolor": "#E1E5ED"
        },
        "xaxis3": {
         "anchor": "y3",
         "domain": [
          0.525,
          0.7375
         ],
         "gridcolor": "#E1E5ED",
         "showgrid": false,
         "tickfont": {
          "color": "#4D5663"
         },
         "title": {
          "font": {
           "color": "#4D5663"
          },
          "text": ""
         },
         "zerolinecolor": "#E1E5ED"
        },
        "xaxis4": {
         "anchor": "y4",
         "domain": [
          0.7875,
          1
         ],
         "gridcolor": "#E1E5ED",
         "showgrid": false,
         "tickfont": {
          "color": "#4D5663"
         },
         "title": {
          "font": {
           "color": "#4D5663"
          },
          "text": ""
         },
         "zerolinecolor": "#E1E5ED"
        },
        "xaxis5": {
         "anchor": "y5",
         "domain": [
          0,
          0.2125
         ],
         "gridcolor": "#E1E5ED",
         "showgrid": false,
         "tickfont": {
          "color": "#4D5663"
         },
         "title": {
          "font": {
           "color": "#4D5663"
          },
          "text": ""
         },
         "zerolinecolor": "#E1E5ED"
        },
        "xaxis6": {
         "anchor": "y6",
         "domain": [
          0.2625,
          0.475
         ],
         "gridcolor": "#E1E5ED",
         "showgrid": false,
         "tickfont": {
          "color": "#4D5663"
         },
         "title": {
          "font": {
           "color": "#4D5663"
          },
          "text": ""
         },
         "zerolinecolor": "#E1E5ED"
        },
        "xaxis7": {
         "anchor": "y7",
         "domain": [
          0.525,
          0.7375
         ],
         "gridcolor": "#E1E5ED",
         "showgrid": false,
         "tickfont": {
          "color": "#4D5663"
         },
         "title": {
          "font": {
           "color": "#4D5663"
          },
          "text": ""
         },
         "zerolinecolor": "#E1E5ED"
        },
        "xaxis8": {
         "anchor": "y8",
         "domain": [
          0.7875,
          1
         ],
         "gridcolor": "#E1E5ED",
         "showgrid": false,
         "tickfont": {
          "color": "#4D5663"
         },
         "title": {
          "font": {
           "color": "#4D5663"
          },
          "text": ""
         },
         "zerolinecolor": "#E1E5ED"
        },
        "xaxis9": {
         "anchor": "y9",
         "domain": [
          0,
          0.2125
         ],
         "gridcolor": "#E1E5ED",
         "showgrid": false,
         "tickfont": {
          "color": "#4D5663"
         },
         "title": {
          "font": {
           "color": "#4D5663"
          },
          "text": ""
         },
         "zerolinecolor": "#E1E5ED"
        },
        "yaxis": {
         "anchor": "x",
         "domain": [
          0.8025,
          1
         ],
         "gridcolor": "#E1E5ED",
         "showgrid": false,
         "tickfont": {
          "color": "#4D5663"
         },
         "title": {
          "font": {
           "color": "#4D5663"
          },
          "text": ""
         },
         "zerolinecolor": "#E1E5ED"
        },
        "yaxis10": {
         "anchor": "x10",
         "domain": [
          0.2675,
          0.465
         ],
         "gridcolor": "#E1E5ED",
         "showgrid": false,
         "tickfont": {
          "color": "#4D5663"
         },
         "title": {
          "font": {
           "color": "#4D5663"
          },
          "text": ""
         },
         "zerolinecolor": "#E1E5ED"
        },
        "yaxis11": {
         "anchor": "x11",
         "domain": [
          0.2675,
          0.465
         ],
         "gridcolor": "#E1E5ED",
         "showgrid": false,
         "tickfont": {
          "color": "#4D5663"
         },
         "title": {
          "font": {
           "color": "#4D5663"
          },
          "text": ""
         },
         "zerolinecolor": "#E1E5ED"
        },
        "yaxis12": {
         "anchor": "x12",
         "domain": [
          0.2675,
          0.465
         ],
         "gridcolor": "#E1E5ED",
         "showgrid": false,
         "tickfont": {
          "color": "#4D5663"
         },
         "title": {
          "font": {
           "color": "#4D5663"
          },
          "text": ""
         },
         "zerolinecolor": "#E1E5ED"
        },
        "yaxis13": {
         "anchor": "x13",
         "domain": [
          0,
          0.1975
         ],
         "gridcolor": "#E1E5ED",
         "showgrid": false,
         "tickfont": {
          "color": "#4D5663"
         },
         "title": {
          "font": {
           "color": "#4D5663"
          },
          "text": ""
         },
         "zerolinecolor": "#E1E5ED"
        },
        "yaxis14": {
         "anchor": "x14",
         "domain": [
          0,
          0.1975
         ],
         "gridcolor": "#E1E5ED",
         "showgrid": false,
         "tickfont": {
          "color": "#4D5663"
         },
         "title": {
          "font": {
           "color": "#4D5663"
          },
          "text": ""
         },
         "zerolinecolor": "#E1E5ED"
        },
        "yaxis15": {
         "anchor": "x15",
         "domain": [
          0,
          0.1975
         ],
         "gridcolor": "#E1E5ED",
         "showgrid": false,
         "tickfont": {
          "color": "#4D5663"
         },
         "title": {
          "font": {
           "color": "#4D5663"
          },
          "text": ""
         },
         "zerolinecolor": "#E1E5ED"
        },
        "yaxis16": {
         "anchor": "x16",
         "domain": [
          0,
          0.1975
         ],
         "gridcolor": "#E1E5ED",
         "showgrid": false,
         "tickfont": {
          "color": "#4D5663"
         },
         "title": {
          "font": {
           "color": "#4D5663"
          },
          "text": ""
         },
         "zerolinecolor": "#E1E5ED"
        },
        "yaxis2": {
         "anchor": "x2",
         "domain": [
          0.8025,
          1
         ],
         "gridcolor": "#E1E5ED",
         "showgrid": false,
         "tickfont": {
          "color": "#4D5663"
         },
         "title": {
          "font": {
           "color": "#4D5663"
          },
          "text": ""
         },
         "zerolinecolor": "#E1E5ED"
        },
        "yaxis3": {
         "anchor": "x3",
         "domain": [
          0.8025,
          1
         ],
         "gridcolor": "#E1E5ED",
         "showgrid": false,
         "tickfont": {
          "color": "#4D5663"
         },
         "title": {
          "font": {
           "color": "#4D5663"
          },
          "text": ""
         },
         "zerolinecolor": "#E1E5ED"
        },
        "yaxis4": {
         "anchor": "x4",
         "domain": [
          0.8025,
          1
         ],
         "gridcolor": "#E1E5ED",
         "showgrid": false,
         "tickfont": {
          "color": "#4D5663"
         },
         "title": {
          "font": {
           "color": "#4D5663"
          },
          "text": ""
         },
         "zerolinecolor": "#E1E5ED"
        },
        "yaxis5": {
         "anchor": "x5",
         "domain": [
          0.535,
          0.7325
         ],
         "gridcolor": "#E1E5ED",
         "showgrid": false,
         "tickfont": {
          "color": "#4D5663"
         },
         "title": {
          "font": {
           "color": "#4D5663"
          },
          "text": ""
         },
         "zerolinecolor": "#E1E5ED"
        },
        "yaxis6": {
         "anchor": "x6",
         "domain": [
          0.535,
          0.7325
         ],
         "gridcolor": "#E1E5ED",
         "showgrid": false,
         "tickfont": {
          "color": "#4D5663"
         },
         "title": {
          "font": {
           "color": "#4D5663"
          },
          "text": ""
         },
         "zerolinecolor": "#E1E5ED"
        },
        "yaxis7": {
         "anchor": "x7",
         "domain": [
          0.535,
          0.7325
         ],
         "gridcolor": "#E1E5ED",
         "showgrid": false,
         "tickfont": {
          "color": "#4D5663"
         },
         "title": {
          "font": {
           "color": "#4D5663"
          },
          "text": ""
         },
         "zerolinecolor": "#E1E5ED"
        },
        "yaxis8": {
         "anchor": "x8",
         "domain": [
          0.535,
          0.7325
         ],
         "gridcolor": "#E1E5ED",
         "showgrid": false,
         "tickfont": {
          "color": "#4D5663"
         },
         "title": {
          "font": {
           "color": "#4D5663"
          },
          "text": ""
         },
         "zerolinecolor": "#E1E5ED"
        },
        "yaxis9": {
         "anchor": "x9",
         "domain": [
          0.2675,
          0.465
         ],
         "gridcolor": "#E1E5ED",
         "showgrid": false,
         "tickfont": {
          "color": "#4D5663"
         },
         "title": {
          "font": {
           "color": "#4D5663"
          },
          "text": ""
         },
         "zerolinecolor": "#E1E5ED"
        }
       }
      },
      "text/html": [
       "<div>\n",
       "        \n",
       "        \n",
       "            <div id=\"1d6a1f9a-296b-4c1f-9071-55b5ab7159aa\" class=\"plotly-graph-div\" style=\"height:525px; width:100%;\"></div>\n",
       "            <script type=\"text/javascript\">\n",
       "                require([\"plotly\"], function(Plotly) {\n",
       "                    window.PLOTLYENV=window.PLOTLYENV || {};\n",
       "                    window.PLOTLYENV.BASE_URL='https://plot.ly';\n",
       "                    \n",
       "                if (document.getElementById(\"1d6a1f9a-296b-4c1f-9071-55b5ab7159aa\")) {\n",
       "                    Plotly.newPlot(\n",
       "                        '1d6a1f9a-296b-4c1f-9071-55b5ab7159aa',\n",
       "                        [{\"histfunc\": \"count\", \"histnorm\": \"\", \"marker\": {\"color\": \"rgba(255, 153, 51, 1.0)\", \"line\": {\"color\": \"#4D5663\", \"width\": 1.3}}, \"name\": \"A\", \"nbinsx\": 10, \"opacity\": 0.8, \"orientation\": \"v\", \"type\": \"histogram\", \"x\": [-0.47323338372044216, 0.391342125956041, -1.3930192517983035, -0.7583764463384806, 0.030560247015788796, -0.42222897997487735, 0.3419507372052493, -0.6530728726886348, 0.4911743583401989, -0.6399410387909096, 1.252348795213839, 2.79565887203688, 1.0216953549398935, -0.6760681475071038, 1.9153287675036414, -0.8574194766794743, 0.03971198334552156, 1.5575886718822547, -0.41104371136749807, 0.45423026955435997, 1.37682200922694, -0.49097371261325123, -1.103902239392601, 1.209088156671042, -0.12929287076995005, -1.3546787992622251, 0.741078850974195, 0.17579127326631125, -0.01674344571807809, 1.1428979827099823, 0.012233952698504845, -0.8741512129967439, 0.1427194853744033, 1.1058161773053639, 0.12295872208272311, -0.5856164378476567, 0.21613129771727468, -1.8690770920771833, -0.6898825134758376, -0.05458461743161419, -0.15759841027243723, -0.6117912504899256, -0.696867769386093, -0.3274933689874018, -0.735725361990674, -0.006292612703083734, -0.4783007321809796, 0.46136717463820837, 1.1050679917684179, -0.8742044025984583, -0.7822275024460555, 0.19428282921115408, -1.599183119108615, 0.16519098965643408, 1.1233298071638333, 0.25714148321550806, -0.4491728069771753, 0.3286657772584293, 0.4223585017724842, -1.3447552904968874, 0.23535742165332924, -0.7746665058691453, -0.49249988794559896, -0.3916749224744794, -1.5427041968534043, 0.33574744449984323, 0.28716634919374984, -0.5396371694147453, 1.5186938958656993, -0.16730775070513196, 0.7986916318539317, -1.8076154055395393, 0.8449677715018729, 1.4994351030509954, 0.3761440759664159, 0.02032831851069565, -0.25420286262412284, 0.5915923846119849, 0.031343181368975785, 0.8924389509972139, 0.14696198272413175, -0.3383806308837403, -0.8167067803331302, 0.8375097350413139, -1.844697334868694, -0.47583161834498267, 0.3993116744743492, 1.5196641994432958, -2.149826871045154, -0.5054434625221709, 0.9568329180805797, -1.1772979939147825, 0.12495847641314985, 2.489394225157195, 0.8167825718121651, -1.541048250898501, 1.3836463003138744, -0.030213786772967887, 0.6891482660718707, 0.22201933593073467], \"xaxis\": \"x\", \"yaxis\": \"y\"}, {\"line\": {\"color\": \"rgba(128, 128, 128, 1.0)\", \"dash\": \"solid\", \"shape\": \"linear\", \"width\": 1.3}, \"marker\": {\"size\": 2, \"symbol\": \"circle\"}, \"mode\": \"markers\", \"name\": \"A\", \"text\": \"\", \"type\": \"scatter\", \"x\": [-0.7863556269567842, -0.3934319050293995, -0.8659569932604896, 0.30666746365172154, -2.5335810728661774, 0.08560385128773612, 0.7707462351268122, -0.1532090031592984, 1.1286258467424628, -0.5825286450266112, 0.39862414075985675, 0.22258314683488725, 1.0537570365862137, -0.8159525977081468, -0.5061916446714905, -0.26061714680962556, -2.254049905642298, 0.29318800193968925, 2.3094028981793846, -0.048968716571239, 0.06985565178494063, -1.274260090264892, -1.41004308259798, 2.002966383137955, -0.7586585236309823, 1.835932532756517, -0.6629902504136792, 0.3189347126535099, 0.5065766796579961, 2.1881591681018104, -0.5091713331664507, 0.6461027072133978, -0.9858139943365096, 0.8352212513237809, 0.7678917985915251, -0.5720013372834474, 0.4597669525366794, 0.0010371046198402512, -0.20491356648425588, 0.9328866567283997, 2.176018941163229, -0.9163567131417804, 0.8099443703746437, 1.378718852814666, -0.0959067798324056, 0.3055517084481643, 0.9479911188482862, -1.8741975653115122, 1.4659130901080561, 0.9689652756893685, -1.5009623827195906, 2.8872697466472643, 0.06706261098262112, 0.017536891671529827, 1.6155683878161462, -0.06803490307878995, -1.0926381642910077, 0.7340270358115923, 0.517571964274028, 0.667005891920211, -2.112386962226195, -0.13579269137096708, 0.1207994583196543, -0.5254973507764424, -1.2886398814889086, -2.0279168784246986, 1.1485673851045588, -0.20190822632409647, -0.5969951426556726, 0.22088014731203623, 1.1376723087755327, 0.5738714744704506, 0.7451691218808038, 0.5844226957724005, -0.9813236939291822, -1.045116851602681, -1.234923056082786, -1.0708041340168966, 1.4658002080355017, -0.761499576905759, -3.1524089631556804, 0.8339745187847174, -0.8736506796302141, 0.19033242925434002, 1.5338359061015892, -0.4971111409720753, 0.6914248925254357, 1.1375771610666334, 1.2200375084760924, 0.4138867568586993, -2.8980380292726386, 0.04456869526355736, -1.081971961542821, 1.0623667326027297, 0.31280558134076863, -0.03546302545284578, -1.9668831578809485, 0.051637491391016394, 1.2239694666936947, 0.39670028159886306], \"xaxis\": \"x2\", \"y\": [-0.47323338372044216, 0.391342125956041, -1.3930192517983035, -0.7583764463384806, 0.030560247015788796, -0.42222897997487735, 0.3419507372052493, -0.6530728726886348, 0.4911743583401989, -0.6399410387909096, 1.252348795213839, 2.79565887203688, 1.0216953549398935, -0.6760681475071038, 1.9153287675036414, -0.8574194766794743, 0.03971198334552156, 1.5575886718822547, -0.41104371136749807, 0.45423026955435997, 1.37682200922694, -0.49097371261325123, -1.103902239392601, 1.209088156671042, -0.12929287076995005, -1.3546787992622251, 0.741078850974195, 0.17579127326631125, -0.01674344571807809, 1.1428979827099823, 0.012233952698504845, -0.8741512129967439, 0.1427194853744033, 1.1058161773053639, 0.12295872208272311, -0.5856164378476567, 0.21613129771727468, -1.8690770920771833, -0.6898825134758376, -0.05458461743161419, -0.15759841027243723, -0.6117912504899256, -0.696867769386093, -0.3274933689874018, -0.735725361990674, -0.006292612703083734, -0.4783007321809796, 0.46136717463820837, 1.1050679917684179, -0.8742044025984583, -0.7822275024460555, 0.19428282921115408, -1.599183119108615, 0.16519098965643408, 1.1233298071638333, 0.25714148321550806, -0.4491728069771753, 0.3286657772584293, 0.4223585017724842, -1.3447552904968874, 0.23535742165332924, -0.7746665058691453, -0.49249988794559896, -0.3916749224744794, -1.5427041968534043, 0.33574744449984323, 0.28716634919374984, -0.5396371694147453, 1.5186938958656993, -0.16730775070513196, 0.7986916318539317, -1.8076154055395393, 0.8449677715018729, 1.4994351030509954, 0.3761440759664159, 0.02032831851069565, -0.25420286262412284, 0.5915923846119849, 0.031343181368975785, 0.8924389509972139, 0.14696198272413175, -0.3383806308837403, -0.8167067803331302, 0.8375097350413139, -1.844697334868694, -0.47583161834498267, 0.3993116744743492, 1.5196641994432958, -2.149826871045154, -0.5054434625221709, 0.9568329180805797, -1.1772979939147825, 0.12495847641314985, 2.489394225157195, 0.8167825718121651, -1.541048250898501, 1.3836463003138744, -0.030213786772967887, 0.6891482660718707, 0.22201933593073467], \"yaxis\": \"y2\"}, {\"line\": {\"color\": \"rgba(128, 128, 128, 1.0)\", \"dash\": \"solid\", \"shape\": \"linear\", \"width\": 1.3}, \"marker\": {\"size\": 2, \"symbol\": \"circle\"}, \"mode\": \"markers\", \"name\": \"A\", \"text\": \"\", \"type\": \"scatter\", \"x\": [-0.6030994144415659, -0.28672966749573653, 0.3392637081777703, 0.19498541876018885, 0.169856216447392, -0.8749694780455577, -0.9037667138370488, -1.4381153415660453, -1.611429323292964, 1.2275259939998584, -0.4858796352778617, 0.10993686372980101, 0.20322138240469867, 0.1639814859986579, -1.5008126480132573, 0.24064956919564173, 0.24874153648798175, 0.48339678956485715, 1.1362626939240847, 0.16480533957003732, 1.1998740666841663, -1.894446916413578, -1.1551781086385031, 1.7792300072882297, -0.7485633694457982, -0.06244651162480217, 0.7093620135952354, -0.12436000336714008, 0.9671118726820398, -2.6419234339480364, 0.49854865498424145, -1.9036608481825092, 0.5992055389881571, -0.10728490763426868, -0.39122604266358013, 0.029322228284007927, -0.6501617325268471, 0.2714198367550461, 0.028780351738951576, 2.1229609299052474, -0.9588036175503883, -0.20756397019008022, 0.49397847739770884, -0.16123035986796494, 0.4766336596254507, 0.049356656031718196, -1.2124496158290319, -0.8476034152623768, 0.019054165369579677, -1.0130380351582837, -1.1330208742362609, 0.0009183525475209432, -0.2736613745187976, 0.9614992187615407, -1.491892771696647, -1.4614254205853954, 0.25673598803179254, 0.935584725011274, 0.8096285786801392, -0.13912365853936803, 1.912731992298654, 1.1190324211744875, -0.920831175711935, -0.21931909366331578, 0.7179848558775562, -0.2520014213426082, 1.3555036502188451, -0.15249069905308443, 0.6925437667865846, 0.10388302518501544, -1.6541881857809821, -1.4285036846332086, 0.2611101191670557, -0.10076774448316933, 1.0593516810244787, -0.5690499889222228, -0.518083514239968, 2.2529691304874313, -2.601375231121356, 0.8848370561955524, -0.27551785238018295, -1.1658476120039192, -1.855448441952235, -0.26045859408597405, -2.717549064811967, -1.6228203033155657, -0.9442729761856262, -1.2411985580208704, 0.19991879291346518, 0.4100108728266116, -2.0666599259905927, -1.0860975839367148, 0.27883688445685023, 0.41597048365954387, 0.10051276298124265, 0.8428888067029818, 0.5253094751462503, 0.6812504479817608, 0.8334538568617702, -0.651327253602928], \"xaxis\": \"x3\", \"y\": [-0.47323338372044216, 0.391342125956041, -1.3930192517983035, -0.7583764463384806, 0.030560247015788796, -0.42222897997487735, 0.3419507372052493, -0.6530728726886348, 0.4911743583401989, -0.6399410387909096, 1.252348795213839, 2.79565887203688, 1.0216953549398935, -0.6760681475071038, 1.9153287675036414, -0.8574194766794743, 0.03971198334552156, 1.5575886718822547, -0.41104371136749807, 0.45423026955435997, 1.37682200922694, -0.49097371261325123, -1.103902239392601, 1.209088156671042, -0.12929287076995005, -1.3546787992622251, 0.741078850974195, 0.17579127326631125, -0.01674344571807809, 1.1428979827099823, 0.012233952698504845, -0.8741512129967439, 0.1427194853744033, 1.1058161773053639, 0.12295872208272311, -0.5856164378476567, 0.21613129771727468, -1.8690770920771833, -0.6898825134758376, -0.05458461743161419, -0.15759841027243723, -0.6117912504899256, -0.696867769386093, -0.3274933689874018, -0.735725361990674, -0.006292612703083734, -0.4783007321809796, 0.46136717463820837, 1.1050679917684179, -0.8742044025984583, -0.7822275024460555, 0.19428282921115408, -1.599183119108615, 0.16519098965643408, 1.1233298071638333, 0.25714148321550806, -0.4491728069771753, 0.3286657772584293, 0.4223585017724842, -1.3447552904968874, 0.23535742165332924, -0.7746665058691453, -0.49249988794559896, -0.3916749224744794, -1.5427041968534043, 0.33574744449984323, 0.28716634919374984, -0.5396371694147453, 1.5186938958656993, -0.16730775070513196, 0.7986916318539317, -1.8076154055395393, 0.8449677715018729, 1.4994351030509954, 0.3761440759664159, 0.02032831851069565, -0.25420286262412284, 0.5915923846119849, 0.031343181368975785, 0.8924389509972139, 0.14696198272413175, -0.3383806308837403, -0.8167067803331302, 0.8375097350413139, -1.844697334868694, -0.47583161834498267, 0.3993116744743492, 1.5196641994432958, -2.149826871045154, -0.5054434625221709, 0.9568329180805797, -1.1772979939147825, 0.12495847641314985, 2.489394225157195, 0.8167825718121651, -1.541048250898501, 1.3836463003138744, -0.030213786772967887, 0.6891482660718707, 0.22201933593073467], \"yaxis\": \"y3\"}, {\"line\": {\"color\": \"rgba(128, 128, 128, 1.0)\", \"dash\": \"solid\", \"shape\": \"linear\", \"width\": 1.3}, \"marker\": {\"size\": 2, \"symbol\": \"circle\"}, \"mode\": \"markers\", \"name\": \"A\", \"text\": \"\", \"type\": \"scatter\", \"x\": [-1.7565027787248992, 2.142820692662946, 0.44804922083164167, -0.9292887228981889, 1.2852654232447904, 0.3592152554023984, -1.8863365255560671, 0.04800082653789518, 0.37379051941980707, 0.6555565219767131, -1.2532599770407524, -0.729589980032634, 1.1534309225754797, 1.0071263960475942, -1.2592619068510083, 1.6844980995861003, -0.0745813296922144, 0.5890987426786111, -0.8305981968245615, -1.1164979024238735, -1.1839481761910884, 1.5595397033067833, 0.3152942346576389, -0.44301311221403156, 0.8236198522427761, -1.2019190641126138, 1.5336120474207988, -0.4930318694411702, -0.8165159477581593, -1.8044899411202082, 1.3334137074506227, 0.49796139348785573, -0.20191598475039563, -0.4205233100966402, 0.9911930167414926, 2.393893679798556, 0.5251465939094997, 0.22728035079259354, -1.0995338065390503, 1.0766360097392675, -0.14643211620316618, 1.6151454182208635, 1.687775473165265, -0.9117556207966099, -0.8130207857548152, 0.6989510051408686, -1.109266580434571, 0.5969756080602681, 1.2507996821742322, -0.557680792577814, 0.8506430503044562, 0.02302688820406108, 0.4054445756316907, -0.9785041751692184, 0.3288605622268137, -0.7135953714720429, -0.3389226671442458, -1.0541842619388624, 1.0350510964267012, -0.16314351167121433, 0.4058551237326383, -1.0669714141072002, 0.10180444308349802, -1.8897516411765771, 0.6456515374470266, 0.6250397753660706, -0.5729397033258652, 1.5152701643620212, 0.04916473944408896, -0.5639933417491443, 0.06788285449455125, 1.1485714179111128, -0.18264282303613275, -0.4801838916503548, -1.0183615555908196, -0.2110804976775807, -0.14315379079001916, -0.15697499984868937, -0.7739327762251197, -0.07444562294946552, -1.309676621933601, -0.7895104334903577, -1.4340777025447515, -0.35150157980575714, -0.48564836846214743, 0.3512924471678498, -0.14631372262507386, -1.6132013191615706, -0.20510670937090764, 1.2693650571758979, -0.4870260249990171, -1.0577699232778213, -0.9032213107714546, 1.3388221980487656, -0.053311743566603474, 0.8107899853388832, 2.8124786778647857, 0.39495366874029125, 0.6107039258145395, -0.7200977824296632], \"xaxis\": \"x4\", \"y\": [-0.47323338372044216, 0.391342125956041, -1.3930192517983035, -0.7583764463384806, 0.030560247015788796, -0.42222897997487735, 0.3419507372052493, -0.6530728726886348, 0.4911743583401989, -0.6399410387909096, 1.252348795213839, 2.79565887203688, 1.0216953549398935, -0.6760681475071038, 1.9153287675036414, -0.8574194766794743, 0.03971198334552156, 1.5575886718822547, -0.41104371136749807, 0.45423026955435997, 1.37682200922694, -0.49097371261325123, -1.103902239392601, 1.209088156671042, -0.12929287076995005, -1.3546787992622251, 0.741078850974195, 0.17579127326631125, -0.01674344571807809, 1.1428979827099823, 0.012233952698504845, -0.8741512129967439, 0.1427194853744033, 1.1058161773053639, 0.12295872208272311, -0.5856164378476567, 0.21613129771727468, -1.8690770920771833, -0.6898825134758376, -0.05458461743161419, -0.15759841027243723, -0.6117912504899256, -0.696867769386093, -0.3274933689874018, -0.735725361990674, -0.006292612703083734, -0.4783007321809796, 0.46136717463820837, 1.1050679917684179, -0.8742044025984583, -0.7822275024460555, 0.19428282921115408, -1.599183119108615, 0.16519098965643408, 1.1233298071638333, 0.25714148321550806, -0.4491728069771753, 0.3286657772584293, 0.4223585017724842, -1.3447552904968874, 0.23535742165332924, -0.7746665058691453, -0.49249988794559896, -0.3916749224744794, -1.5427041968534043, 0.33574744449984323, 0.28716634919374984, -0.5396371694147453, 1.5186938958656993, -0.16730775070513196, 0.7986916318539317, -1.8076154055395393, 0.8449677715018729, 1.4994351030509954, 0.3761440759664159, 0.02032831851069565, -0.25420286262412284, 0.5915923846119849, 0.031343181368975785, 0.8924389509972139, 0.14696198272413175, -0.3383806308837403, -0.8167067803331302, 0.8375097350413139, -1.844697334868694, -0.47583161834498267, 0.3993116744743492, 1.5196641994432958, -2.149826871045154, -0.5054434625221709, 0.9568329180805797, -1.1772979939147825, 0.12495847641314985, 2.489394225157195, 0.8167825718121651, -1.541048250898501, 1.3836463003138744, -0.030213786772967887, 0.6891482660718707, 0.22201933593073467], \"yaxis\": \"y4\"}, {\"line\": {\"color\": \"rgba(128, 128, 128, 1.0)\", \"dash\": \"solid\", \"shape\": \"linear\", \"width\": 1.3}, \"marker\": {\"size\": 2, \"symbol\": \"circle\"}, \"mode\": \"markers\", \"name\": \"B\", \"text\": \"\", \"type\": \"scatter\", \"x\": [-0.47323338372044216, 0.391342125956041, -1.3930192517983035, -0.7583764463384806, 0.030560247015788796, -0.42222897997487735, 0.3419507372052493, -0.6530728726886348, 0.4911743583401989, -0.6399410387909096, 1.252348795213839, 2.79565887203688, 1.0216953549398935, -0.6760681475071038, 1.9153287675036414, -0.8574194766794743, 0.03971198334552156, 1.5575886718822547, -0.41104371136749807, 0.45423026955435997, 1.37682200922694, -0.49097371261325123, -1.103902239392601, 1.209088156671042, -0.12929287076995005, -1.3546787992622251, 0.741078850974195, 0.17579127326631125, -0.01674344571807809, 1.1428979827099823, 0.012233952698504845, -0.8741512129967439, 0.1427194853744033, 1.1058161773053639, 0.12295872208272311, -0.5856164378476567, 0.21613129771727468, -1.8690770920771833, -0.6898825134758376, -0.05458461743161419, -0.15759841027243723, -0.6117912504899256, -0.696867769386093, -0.3274933689874018, -0.735725361990674, -0.006292612703083734, -0.4783007321809796, 0.46136717463820837, 1.1050679917684179, -0.8742044025984583, -0.7822275024460555, 0.19428282921115408, -1.599183119108615, 0.16519098965643408, 1.1233298071638333, 0.25714148321550806, -0.4491728069771753, 0.3286657772584293, 0.4223585017724842, -1.3447552904968874, 0.23535742165332924, -0.7746665058691453, -0.49249988794559896, -0.3916749224744794, -1.5427041968534043, 0.33574744449984323, 0.28716634919374984, -0.5396371694147453, 1.5186938958656993, -0.16730775070513196, 0.7986916318539317, -1.8076154055395393, 0.8449677715018729, 1.4994351030509954, 0.3761440759664159, 0.02032831851069565, -0.25420286262412284, 0.5915923846119849, 0.031343181368975785, 0.8924389509972139, 0.14696198272413175, -0.3383806308837403, -0.8167067803331302, 0.8375097350413139, -1.844697334868694, -0.47583161834498267, 0.3993116744743492, 1.5196641994432958, -2.149826871045154, -0.5054434625221709, 0.9568329180805797, -1.1772979939147825, 0.12495847641314985, 2.489394225157195, 0.8167825718121651, -1.541048250898501, 1.3836463003138744, -0.030213786772967887, 0.6891482660718707, 0.22201933593073467], \"xaxis\": \"x5\", \"y\": [-0.7863556269567842, -0.3934319050293995, -0.8659569932604896, 0.30666746365172154, -2.5335810728661774, 0.08560385128773612, 0.7707462351268122, -0.1532090031592984, 1.1286258467424628, -0.5825286450266112, 0.39862414075985675, 0.22258314683488725, 1.0537570365862137, -0.8159525977081468, -0.5061916446714905, -0.26061714680962556, -2.254049905642298, 0.29318800193968925, 2.3094028981793846, -0.048968716571239, 0.06985565178494063, -1.274260090264892, -1.41004308259798, 2.002966383137955, -0.7586585236309823, 1.835932532756517, -0.6629902504136792, 0.3189347126535099, 0.5065766796579961, 2.1881591681018104, -0.5091713331664507, 0.6461027072133978, -0.9858139943365096, 0.8352212513237809, 0.7678917985915251, -0.5720013372834474, 0.4597669525366794, 0.0010371046198402512, -0.20491356648425588, 0.9328866567283997, 2.176018941163229, -0.9163567131417804, 0.8099443703746437, 1.378718852814666, -0.0959067798324056, 0.3055517084481643, 0.9479911188482862, -1.8741975653115122, 1.4659130901080561, 0.9689652756893685, -1.5009623827195906, 2.8872697466472643, 0.06706261098262112, 0.017536891671529827, 1.6155683878161462, -0.06803490307878995, -1.0926381642910077, 0.7340270358115923, 0.517571964274028, 0.667005891920211, -2.112386962226195, -0.13579269137096708, 0.1207994583196543, -0.5254973507764424, -1.2886398814889086, -2.0279168784246986, 1.1485673851045588, -0.20190822632409647, -0.5969951426556726, 0.22088014731203623, 1.1376723087755327, 0.5738714744704506, 0.7451691218808038, 0.5844226957724005, -0.9813236939291822, -1.045116851602681, -1.234923056082786, -1.0708041340168966, 1.4658002080355017, -0.761499576905759, -3.1524089631556804, 0.8339745187847174, -0.8736506796302141, 0.19033242925434002, 1.5338359061015892, -0.4971111409720753, 0.6914248925254357, 1.1375771610666334, 1.2200375084760924, 0.4138867568586993, -2.8980380292726386, 0.04456869526355736, -1.081971961542821, 1.0623667326027297, 0.31280558134076863, -0.03546302545284578, -1.9668831578809485, 0.051637491391016394, 1.2239694666936947, 0.39670028159886306], \"yaxis\": \"y5\"}, {\"histfunc\": \"count\", \"histnorm\": \"\", \"marker\": {\"color\": \"rgba(55, 128, 191, 1.0)\", \"line\": {\"color\": \"#4D5663\", \"width\": 1.3}}, \"name\": \"B\", \"nbinsx\": 10, \"opacity\": 0.8, \"orientation\": \"v\", \"type\": \"histogram\", \"x\": [-0.7863556269567842, -0.3934319050293995, -0.8659569932604896, 0.30666746365172154, -2.5335810728661774, 0.08560385128773612, 0.7707462351268122, -0.1532090031592984, 1.1286258467424628, -0.5825286450266112, 0.39862414075985675, 0.22258314683488725, 1.0537570365862137, -0.8159525977081468, -0.5061916446714905, -0.26061714680962556, -2.254049905642298, 0.29318800193968925, 2.3094028981793846, -0.048968716571239, 0.06985565178494063, -1.274260090264892, -1.41004308259798, 2.002966383137955, -0.7586585236309823, 1.835932532756517, -0.6629902504136792, 0.3189347126535099, 0.5065766796579961, 2.1881591681018104, -0.5091713331664507, 0.6461027072133978, -0.9858139943365096, 0.8352212513237809, 0.7678917985915251, -0.5720013372834474, 0.4597669525366794, 0.0010371046198402512, -0.20491356648425588, 0.9328866567283997, 2.176018941163229, -0.9163567131417804, 0.8099443703746437, 1.378718852814666, -0.0959067798324056, 0.3055517084481643, 0.9479911188482862, -1.8741975653115122, 1.4659130901080561, 0.9689652756893685, -1.5009623827195906, 2.8872697466472643, 0.06706261098262112, 0.017536891671529827, 1.6155683878161462, -0.06803490307878995, -1.0926381642910077, 0.7340270358115923, 0.517571964274028, 0.667005891920211, -2.112386962226195, -0.13579269137096708, 0.1207994583196543, -0.5254973507764424, -1.2886398814889086, -2.0279168784246986, 1.1485673851045588, -0.20190822632409647, -0.5969951426556726, 0.22088014731203623, 1.1376723087755327, 0.5738714744704506, 0.7451691218808038, 0.5844226957724005, -0.9813236939291822, -1.045116851602681, -1.234923056082786, -1.0708041340168966, 1.4658002080355017, -0.761499576905759, -3.1524089631556804, 0.8339745187847174, -0.8736506796302141, 0.19033242925434002, 1.5338359061015892, -0.4971111409720753, 0.6914248925254357, 1.1375771610666334, 1.2200375084760924, 0.4138867568586993, -2.8980380292726386, 0.04456869526355736, -1.081971961542821, 1.0623667326027297, 0.31280558134076863, -0.03546302545284578, -1.9668831578809485, 0.051637491391016394, 1.2239694666936947, 0.39670028159886306], \"xaxis\": \"x6\", \"yaxis\": \"y6\"}, {\"line\": {\"color\": \"rgba(128, 128, 128, 1.0)\", \"dash\": \"solid\", \"shape\": \"linear\", \"width\": 1.3}, \"marker\": {\"size\": 2, \"symbol\": \"circle\"}, \"mode\": \"markers\", \"name\": \"B\", \"text\": \"\", \"type\": \"scatter\", \"x\": [-0.6030994144415659, -0.28672966749573653, 0.3392637081777703, 0.19498541876018885, 0.169856216447392, -0.8749694780455577, -0.9037667138370488, -1.4381153415660453, -1.611429323292964, 1.2275259939998584, -0.4858796352778617, 0.10993686372980101, 0.20322138240469867, 0.1639814859986579, -1.5008126480132573, 0.24064956919564173, 0.24874153648798175, 0.48339678956485715, 1.1362626939240847, 0.16480533957003732, 1.1998740666841663, -1.894446916413578, -1.1551781086385031, 1.7792300072882297, -0.7485633694457982, -0.06244651162480217, 0.7093620135952354, -0.12436000336714008, 0.9671118726820398, -2.6419234339480364, 0.49854865498424145, -1.9036608481825092, 0.5992055389881571, -0.10728490763426868, -0.39122604266358013, 0.029322228284007927, -0.6501617325268471, 0.2714198367550461, 0.028780351738951576, 2.1229609299052474, -0.9588036175503883, -0.20756397019008022, 0.49397847739770884, -0.16123035986796494, 0.4766336596254507, 0.049356656031718196, -1.2124496158290319, -0.8476034152623768, 0.019054165369579677, -1.0130380351582837, -1.1330208742362609, 0.0009183525475209432, -0.2736613745187976, 0.9614992187615407, -1.491892771696647, -1.4614254205853954, 0.25673598803179254, 0.935584725011274, 0.8096285786801392, -0.13912365853936803, 1.912731992298654, 1.1190324211744875, -0.920831175711935, -0.21931909366331578, 0.7179848558775562, -0.2520014213426082, 1.3555036502188451, -0.15249069905308443, 0.6925437667865846, 0.10388302518501544, -1.6541881857809821, -1.4285036846332086, 0.2611101191670557, -0.10076774448316933, 1.0593516810244787, -0.5690499889222228, -0.518083514239968, 2.2529691304874313, -2.601375231121356, 0.8848370561955524, -0.27551785238018295, -1.1658476120039192, -1.855448441952235, -0.26045859408597405, -2.717549064811967, -1.6228203033155657, -0.9442729761856262, -1.2411985580208704, 0.19991879291346518, 0.4100108728266116, -2.0666599259905927, -1.0860975839367148, 0.27883688445685023, 0.41597048365954387, 0.10051276298124265, 0.8428888067029818, 0.5253094751462503, 0.6812504479817608, 0.8334538568617702, -0.651327253602928], \"xaxis\": \"x7\", \"y\": [-0.7863556269567842, -0.3934319050293995, -0.8659569932604896, 0.30666746365172154, -2.5335810728661774, 0.08560385128773612, 0.7707462351268122, -0.1532090031592984, 1.1286258467424628, -0.5825286450266112, 0.39862414075985675, 0.22258314683488725, 1.0537570365862137, -0.8159525977081468, -0.5061916446714905, -0.26061714680962556, -2.254049905642298, 0.29318800193968925, 2.3094028981793846, -0.048968716571239, 0.06985565178494063, -1.274260090264892, -1.41004308259798, 2.002966383137955, -0.7586585236309823, 1.835932532756517, -0.6629902504136792, 0.3189347126535099, 0.5065766796579961, 2.1881591681018104, -0.5091713331664507, 0.6461027072133978, -0.9858139943365096, 0.8352212513237809, 0.7678917985915251, -0.5720013372834474, 0.4597669525366794, 0.0010371046198402512, -0.20491356648425588, 0.9328866567283997, 2.176018941163229, -0.9163567131417804, 0.8099443703746437, 1.378718852814666, -0.0959067798324056, 0.3055517084481643, 0.9479911188482862, -1.8741975653115122, 1.4659130901080561, 0.9689652756893685, -1.5009623827195906, 2.8872697466472643, 0.06706261098262112, 0.017536891671529827, 1.6155683878161462, -0.06803490307878995, -1.0926381642910077, 0.7340270358115923, 0.517571964274028, 0.667005891920211, -2.112386962226195, -0.13579269137096708, 0.1207994583196543, -0.5254973507764424, -1.2886398814889086, -2.0279168784246986, 1.1485673851045588, -0.20190822632409647, -0.5969951426556726, 0.22088014731203623, 1.1376723087755327, 0.5738714744704506, 0.7451691218808038, 0.5844226957724005, -0.9813236939291822, -1.045116851602681, -1.234923056082786, -1.0708041340168966, 1.4658002080355017, -0.761499576905759, -3.1524089631556804, 0.8339745187847174, -0.8736506796302141, 0.19033242925434002, 1.5338359061015892, -0.4971111409720753, 0.6914248925254357, 1.1375771610666334, 1.2200375084760924, 0.4138867568586993, -2.8980380292726386, 0.04456869526355736, -1.081971961542821, 1.0623667326027297, 0.31280558134076863, -0.03546302545284578, -1.9668831578809485, 0.051637491391016394, 1.2239694666936947, 0.39670028159886306], \"yaxis\": \"y7\"}, {\"line\": {\"color\": \"rgba(128, 128, 128, 1.0)\", \"dash\": \"solid\", \"shape\": \"linear\", \"width\": 1.3}, \"marker\": {\"size\": 2, \"symbol\": \"circle\"}, \"mode\": \"markers\", \"name\": \"B\", \"text\": \"\", \"type\": \"scatter\", \"x\": [-1.7565027787248992, 2.142820692662946, 0.44804922083164167, -0.9292887228981889, 1.2852654232447904, 0.3592152554023984, -1.8863365255560671, 0.04800082653789518, 0.37379051941980707, 0.6555565219767131, -1.2532599770407524, -0.729589980032634, 1.1534309225754797, 1.0071263960475942, -1.2592619068510083, 1.6844980995861003, -0.0745813296922144, 0.5890987426786111, -0.8305981968245615, -1.1164979024238735, -1.1839481761910884, 1.5595397033067833, 0.3152942346576389, -0.44301311221403156, 0.8236198522427761, -1.2019190641126138, 1.5336120474207988, -0.4930318694411702, -0.8165159477581593, -1.8044899411202082, 1.3334137074506227, 0.49796139348785573, -0.20191598475039563, -0.4205233100966402, 0.9911930167414926, 2.393893679798556, 0.5251465939094997, 0.22728035079259354, -1.0995338065390503, 1.0766360097392675, -0.14643211620316618, 1.6151454182208635, 1.687775473165265, -0.9117556207966099, -0.8130207857548152, 0.6989510051408686, -1.109266580434571, 0.5969756080602681, 1.2507996821742322, -0.557680792577814, 0.8506430503044562, 0.02302688820406108, 0.4054445756316907, -0.9785041751692184, 0.3288605622268137, -0.7135953714720429, -0.3389226671442458, -1.0541842619388624, 1.0350510964267012, -0.16314351167121433, 0.4058551237326383, -1.0669714141072002, 0.10180444308349802, -1.8897516411765771, 0.6456515374470266, 0.6250397753660706, -0.5729397033258652, 1.5152701643620212, 0.04916473944408896, -0.5639933417491443, 0.06788285449455125, 1.1485714179111128, -0.18264282303613275, -0.4801838916503548, -1.0183615555908196, -0.2110804976775807, -0.14315379079001916, -0.15697499984868937, -0.7739327762251197, -0.07444562294946552, -1.309676621933601, -0.7895104334903577, -1.4340777025447515, -0.35150157980575714, -0.48564836846214743, 0.3512924471678498, -0.14631372262507386, -1.6132013191615706, -0.20510670937090764, 1.2693650571758979, -0.4870260249990171, -1.0577699232778213, -0.9032213107714546, 1.3388221980487656, -0.053311743566603474, 0.8107899853388832, 2.8124786778647857, 0.39495366874029125, 0.6107039258145395, -0.7200977824296632], \"xaxis\": \"x8\", \"y\": [-0.7863556269567842, -0.3934319050293995, -0.8659569932604896, 0.30666746365172154, -2.5335810728661774, 0.08560385128773612, 0.7707462351268122, -0.1532090031592984, 1.1286258467424628, -0.5825286450266112, 0.39862414075985675, 0.22258314683488725, 1.0537570365862137, -0.8159525977081468, -0.5061916446714905, -0.26061714680962556, -2.254049905642298, 0.29318800193968925, 2.3094028981793846, -0.048968716571239, 0.06985565178494063, -1.274260090264892, -1.41004308259798, 2.002966383137955, -0.7586585236309823, 1.835932532756517, -0.6629902504136792, 0.3189347126535099, 0.5065766796579961, 2.1881591681018104, -0.5091713331664507, 0.6461027072133978, -0.9858139943365096, 0.8352212513237809, 0.7678917985915251, -0.5720013372834474, 0.4597669525366794, 0.0010371046198402512, -0.20491356648425588, 0.9328866567283997, 2.176018941163229, -0.9163567131417804, 0.8099443703746437, 1.378718852814666, -0.0959067798324056, 0.3055517084481643, 0.9479911188482862, -1.8741975653115122, 1.4659130901080561, 0.9689652756893685, -1.5009623827195906, 2.8872697466472643, 0.06706261098262112, 0.017536891671529827, 1.6155683878161462, -0.06803490307878995, -1.0926381642910077, 0.7340270358115923, 0.517571964274028, 0.667005891920211, -2.112386962226195, -0.13579269137096708, 0.1207994583196543, -0.5254973507764424, -1.2886398814889086, -2.0279168784246986, 1.1485673851045588, -0.20190822632409647, -0.5969951426556726, 0.22088014731203623, 1.1376723087755327, 0.5738714744704506, 0.7451691218808038, 0.5844226957724005, -0.9813236939291822, -1.045116851602681, -1.234923056082786, -1.0708041340168966, 1.4658002080355017, -0.761499576905759, -3.1524089631556804, 0.8339745187847174, -0.8736506796302141, 0.19033242925434002, 1.5338359061015892, -0.4971111409720753, 0.6914248925254357, 1.1375771610666334, 1.2200375084760924, 0.4138867568586993, -2.8980380292726386, 0.04456869526355736, -1.081971961542821, 1.0623667326027297, 0.31280558134076863, -0.03546302545284578, -1.9668831578809485, 0.051637491391016394, 1.2239694666936947, 0.39670028159886306], \"yaxis\": \"y8\"}, {\"line\": {\"color\": \"rgba(128, 128, 128, 1.0)\", \"dash\": \"solid\", \"shape\": \"linear\", \"width\": 1.3}, \"marker\": {\"size\": 2, \"symbol\": \"circle\"}, \"mode\": \"markers\", \"name\": \"C\", \"text\": \"\", \"type\": \"scatter\", \"x\": [-0.47323338372044216, 0.391342125956041, -1.3930192517983035, -0.7583764463384806, 0.030560247015788796, -0.42222897997487735, 0.3419507372052493, -0.6530728726886348, 0.4911743583401989, -0.6399410387909096, 1.252348795213839, 2.79565887203688, 1.0216953549398935, -0.6760681475071038, 1.9153287675036414, -0.8574194766794743, 0.03971198334552156, 1.5575886718822547, -0.41104371136749807, 0.45423026955435997, 1.37682200922694, -0.49097371261325123, -1.103902239392601, 1.209088156671042, -0.12929287076995005, -1.3546787992622251, 0.741078850974195, 0.17579127326631125, -0.01674344571807809, 1.1428979827099823, 0.012233952698504845, -0.8741512129967439, 0.1427194853744033, 1.1058161773053639, 0.12295872208272311, -0.5856164378476567, 0.21613129771727468, -1.8690770920771833, -0.6898825134758376, -0.05458461743161419, -0.15759841027243723, -0.6117912504899256, -0.696867769386093, -0.3274933689874018, -0.735725361990674, -0.006292612703083734, -0.4783007321809796, 0.46136717463820837, 1.1050679917684179, -0.8742044025984583, -0.7822275024460555, 0.19428282921115408, -1.599183119108615, 0.16519098965643408, 1.1233298071638333, 0.25714148321550806, -0.4491728069771753, 0.3286657772584293, 0.4223585017724842, -1.3447552904968874, 0.23535742165332924, -0.7746665058691453, -0.49249988794559896, -0.3916749224744794, -1.5427041968534043, 0.33574744449984323, 0.28716634919374984, -0.5396371694147453, 1.5186938958656993, -0.16730775070513196, 0.7986916318539317, -1.8076154055395393, 0.8449677715018729, 1.4994351030509954, 0.3761440759664159, 0.02032831851069565, -0.25420286262412284, 0.5915923846119849, 0.031343181368975785, 0.8924389509972139, 0.14696198272413175, -0.3383806308837403, -0.8167067803331302, 0.8375097350413139, -1.844697334868694, -0.47583161834498267, 0.3993116744743492, 1.5196641994432958, -2.149826871045154, -0.5054434625221709, 0.9568329180805797, -1.1772979939147825, 0.12495847641314985, 2.489394225157195, 0.8167825718121651, -1.541048250898501, 1.3836463003138744, -0.030213786772967887, 0.6891482660718707, 0.22201933593073467], \"xaxis\": \"x9\", \"y\": [-0.6030994144415659, -0.28672966749573653, 0.3392637081777703, 0.19498541876018885, 0.169856216447392, -0.8749694780455577, -0.9037667138370488, -1.4381153415660453, -1.611429323292964, 1.2275259939998584, -0.4858796352778617, 0.10993686372980101, 0.20322138240469867, 0.1639814859986579, -1.5008126480132573, 0.24064956919564173, 0.24874153648798175, 0.48339678956485715, 1.1362626939240847, 0.16480533957003732, 1.1998740666841663, -1.894446916413578, -1.1551781086385031, 1.7792300072882297, -0.7485633694457982, -0.06244651162480217, 0.7093620135952354, -0.12436000336714008, 0.9671118726820398, -2.6419234339480364, 0.49854865498424145, -1.9036608481825092, 0.5992055389881571, -0.10728490763426868, -0.39122604266358013, 0.029322228284007927, -0.6501617325268471, 0.2714198367550461, 0.028780351738951576, 2.1229609299052474, -0.9588036175503883, -0.20756397019008022, 0.49397847739770884, -0.16123035986796494, 0.4766336596254507, 0.049356656031718196, -1.2124496158290319, -0.8476034152623768, 0.019054165369579677, -1.0130380351582837, -1.1330208742362609, 0.0009183525475209432, -0.2736613745187976, 0.9614992187615407, -1.491892771696647, -1.4614254205853954, 0.25673598803179254, 0.935584725011274, 0.8096285786801392, -0.13912365853936803, 1.912731992298654, 1.1190324211744875, -0.920831175711935, -0.21931909366331578, 0.7179848558775562, -0.2520014213426082, 1.3555036502188451, -0.15249069905308443, 0.6925437667865846, 0.10388302518501544, -1.6541881857809821, -1.4285036846332086, 0.2611101191670557, -0.10076774448316933, 1.0593516810244787, -0.5690499889222228, -0.518083514239968, 2.2529691304874313, -2.601375231121356, 0.8848370561955524, -0.27551785238018295, -1.1658476120039192, -1.855448441952235, -0.26045859408597405, -2.717549064811967, -1.6228203033155657, -0.9442729761856262, -1.2411985580208704, 0.19991879291346518, 0.4100108728266116, -2.0666599259905927, -1.0860975839367148, 0.27883688445685023, 0.41597048365954387, 0.10051276298124265, 0.8428888067029818, 0.5253094751462503, 0.6812504479817608, 0.8334538568617702, -0.651327253602928], \"yaxis\": \"y9\"}, {\"line\": {\"color\": \"rgba(128, 128, 128, 1.0)\", \"dash\": \"solid\", \"shape\": \"linear\", \"width\": 1.3}, \"marker\": {\"size\": 2, \"symbol\": \"circle\"}, \"mode\": \"markers\", \"name\": \"C\", \"text\": \"\", \"type\": \"scatter\", \"x\": [-0.7863556269567842, -0.3934319050293995, -0.8659569932604896, 0.30666746365172154, -2.5335810728661774, 0.08560385128773612, 0.7707462351268122, -0.1532090031592984, 1.1286258467424628, -0.5825286450266112, 0.39862414075985675, 0.22258314683488725, 1.0537570365862137, -0.8159525977081468, -0.5061916446714905, -0.26061714680962556, -2.254049905642298, 0.29318800193968925, 2.3094028981793846, -0.048968716571239, 0.06985565178494063, -1.274260090264892, -1.41004308259798, 2.002966383137955, -0.7586585236309823, 1.835932532756517, -0.6629902504136792, 0.3189347126535099, 0.5065766796579961, 2.1881591681018104, -0.5091713331664507, 0.6461027072133978, -0.9858139943365096, 0.8352212513237809, 0.7678917985915251, -0.5720013372834474, 0.4597669525366794, 0.0010371046198402512, -0.20491356648425588, 0.9328866567283997, 2.176018941163229, -0.9163567131417804, 0.8099443703746437, 1.378718852814666, -0.0959067798324056, 0.3055517084481643, 0.9479911188482862, -1.8741975653115122, 1.4659130901080561, 0.9689652756893685, -1.5009623827195906, 2.8872697466472643, 0.06706261098262112, 0.017536891671529827, 1.6155683878161462, -0.06803490307878995, -1.0926381642910077, 0.7340270358115923, 0.517571964274028, 0.667005891920211, -2.112386962226195, -0.13579269137096708, 0.1207994583196543, -0.5254973507764424, -1.2886398814889086, -2.0279168784246986, 1.1485673851045588, -0.20190822632409647, -0.5969951426556726, 0.22088014731203623, 1.1376723087755327, 0.5738714744704506, 0.7451691218808038, 0.5844226957724005, -0.9813236939291822, -1.045116851602681, -1.234923056082786, -1.0708041340168966, 1.4658002080355017, -0.761499576905759, -3.1524089631556804, 0.8339745187847174, -0.8736506796302141, 0.19033242925434002, 1.5338359061015892, -0.4971111409720753, 0.6914248925254357, 1.1375771610666334, 1.2200375084760924, 0.4138867568586993, -2.8980380292726386, 0.04456869526355736, -1.081971961542821, 1.0623667326027297, 0.31280558134076863, -0.03546302545284578, -1.9668831578809485, 0.051637491391016394, 1.2239694666936947, 0.39670028159886306], \"xaxis\": \"x10\", \"y\": [-0.6030994144415659, -0.28672966749573653, 0.3392637081777703, 0.19498541876018885, 0.169856216447392, -0.8749694780455577, -0.9037667138370488, -1.4381153415660453, -1.611429323292964, 1.2275259939998584, -0.4858796352778617, 0.10993686372980101, 0.20322138240469867, 0.1639814859986579, -1.5008126480132573, 0.24064956919564173, 0.24874153648798175, 0.48339678956485715, 1.1362626939240847, 0.16480533957003732, 1.1998740666841663, -1.894446916413578, -1.1551781086385031, 1.7792300072882297, -0.7485633694457982, -0.06244651162480217, 0.7093620135952354, -0.12436000336714008, 0.9671118726820398, -2.6419234339480364, 0.49854865498424145, -1.9036608481825092, 0.5992055389881571, -0.10728490763426868, -0.39122604266358013, 0.029322228284007927, -0.6501617325268471, 0.2714198367550461, 0.028780351738951576, 2.1229609299052474, -0.9588036175503883, -0.20756397019008022, 0.49397847739770884, -0.16123035986796494, 0.4766336596254507, 0.049356656031718196, -1.2124496158290319, -0.8476034152623768, 0.019054165369579677, -1.0130380351582837, -1.1330208742362609, 0.0009183525475209432, -0.2736613745187976, 0.9614992187615407, -1.491892771696647, -1.4614254205853954, 0.25673598803179254, 0.935584725011274, 0.8096285786801392, -0.13912365853936803, 1.912731992298654, 1.1190324211744875, -0.920831175711935, -0.21931909366331578, 0.7179848558775562, -0.2520014213426082, 1.3555036502188451, -0.15249069905308443, 0.6925437667865846, 0.10388302518501544, -1.6541881857809821, -1.4285036846332086, 0.2611101191670557, -0.10076774448316933, 1.0593516810244787, -0.5690499889222228, -0.518083514239968, 2.2529691304874313, -2.601375231121356, 0.8848370561955524, -0.27551785238018295, -1.1658476120039192, -1.855448441952235, -0.26045859408597405, -2.717549064811967, -1.6228203033155657, -0.9442729761856262, -1.2411985580208704, 0.19991879291346518, 0.4100108728266116, -2.0666599259905927, -1.0860975839367148, 0.27883688445685023, 0.41597048365954387, 0.10051276298124265, 0.8428888067029818, 0.5253094751462503, 0.6812504479817608, 0.8334538568617702, -0.651327253602928], \"yaxis\": \"y10\"}, {\"histfunc\": \"count\", \"histnorm\": \"\", \"marker\": {\"color\": \"rgba(50, 171, 96, 1.0)\", \"line\": {\"color\": \"#4D5663\", \"width\": 1.3}}, \"name\": \"C\", \"nbinsx\": 10, \"opacity\": 0.8, \"orientation\": \"v\", \"type\": \"histogram\", \"x\": [-0.6030994144415659, -0.28672966749573653, 0.3392637081777703, 0.19498541876018885, 0.169856216447392, -0.8749694780455577, -0.9037667138370488, -1.4381153415660453, -1.611429323292964, 1.2275259939998584, -0.4858796352778617, 0.10993686372980101, 0.20322138240469867, 0.1639814859986579, -1.5008126480132573, 0.24064956919564173, 0.24874153648798175, 0.48339678956485715, 1.1362626939240847, 0.16480533957003732, 1.1998740666841663, -1.894446916413578, -1.1551781086385031, 1.7792300072882297, -0.7485633694457982, -0.06244651162480217, 0.7093620135952354, -0.12436000336714008, 0.9671118726820398, -2.6419234339480364, 0.49854865498424145, -1.9036608481825092, 0.5992055389881571, -0.10728490763426868, -0.39122604266358013, 0.029322228284007927, -0.6501617325268471, 0.2714198367550461, 0.028780351738951576, 2.1229609299052474, -0.9588036175503883, -0.20756397019008022, 0.49397847739770884, -0.16123035986796494, 0.4766336596254507, 0.049356656031718196, -1.2124496158290319, -0.8476034152623768, 0.019054165369579677, -1.0130380351582837, -1.1330208742362609, 0.0009183525475209432, -0.2736613745187976, 0.9614992187615407, -1.491892771696647, -1.4614254205853954, 0.25673598803179254, 0.935584725011274, 0.8096285786801392, -0.13912365853936803, 1.912731992298654, 1.1190324211744875, -0.920831175711935, -0.21931909366331578, 0.7179848558775562, -0.2520014213426082, 1.3555036502188451, -0.15249069905308443, 0.6925437667865846, 0.10388302518501544, -1.6541881857809821, -1.4285036846332086, 0.2611101191670557, -0.10076774448316933, 1.0593516810244787, -0.5690499889222228, -0.518083514239968, 2.2529691304874313, -2.601375231121356, 0.8848370561955524, -0.27551785238018295, -1.1658476120039192, -1.855448441952235, -0.26045859408597405, -2.717549064811967, -1.6228203033155657, -0.9442729761856262, -1.2411985580208704, 0.19991879291346518, 0.4100108728266116, -2.0666599259905927, -1.0860975839367148, 0.27883688445685023, 0.41597048365954387, 0.10051276298124265, 0.8428888067029818, 0.5253094751462503, 0.6812504479817608, 0.8334538568617702, -0.651327253602928], \"xaxis\": \"x11\", \"yaxis\": \"y11\"}, {\"line\": {\"color\": \"rgba(128, 128, 128, 1.0)\", \"dash\": \"solid\", \"shape\": \"linear\", \"width\": 1.3}, \"marker\": {\"size\": 2, \"symbol\": \"circle\"}, \"mode\": \"markers\", \"name\": \"C\", \"text\": \"\", \"type\": \"scatter\", \"x\": [-1.7565027787248992, 2.142820692662946, 0.44804922083164167, -0.9292887228981889, 1.2852654232447904, 0.3592152554023984, -1.8863365255560671, 0.04800082653789518, 0.37379051941980707, 0.6555565219767131, -1.2532599770407524, -0.729589980032634, 1.1534309225754797, 1.0071263960475942, -1.2592619068510083, 1.6844980995861003, -0.0745813296922144, 0.5890987426786111, -0.8305981968245615, -1.1164979024238735, -1.1839481761910884, 1.5595397033067833, 0.3152942346576389, -0.44301311221403156, 0.8236198522427761, -1.2019190641126138, 1.5336120474207988, -0.4930318694411702, -0.8165159477581593, -1.8044899411202082, 1.3334137074506227, 0.49796139348785573, -0.20191598475039563, -0.4205233100966402, 0.9911930167414926, 2.393893679798556, 0.5251465939094997, 0.22728035079259354, -1.0995338065390503, 1.0766360097392675, -0.14643211620316618, 1.6151454182208635, 1.687775473165265, -0.9117556207966099, -0.8130207857548152, 0.6989510051408686, -1.109266580434571, 0.5969756080602681, 1.2507996821742322, -0.557680792577814, 0.8506430503044562, 0.02302688820406108, 0.4054445756316907, -0.9785041751692184, 0.3288605622268137, -0.7135953714720429, -0.3389226671442458, -1.0541842619388624, 1.0350510964267012, -0.16314351167121433, 0.4058551237326383, -1.0669714141072002, 0.10180444308349802, -1.8897516411765771, 0.6456515374470266, 0.6250397753660706, -0.5729397033258652, 1.5152701643620212, 0.04916473944408896, -0.5639933417491443, 0.06788285449455125, 1.1485714179111128, -0.18264282303613275, -0.4801838916503548, -1.0183615555908196, -0.2110804976775807, -0.14315379079001916, -0.15697499984868937, -0.7739327762251197, -0.07444562294946552, -1.309676621933601, -0.7895104334903577, -1.4340777025447515, -0.35150157980575714, -0.48564836846214743, 0.3512924471678498, -0.14631372262507386, -1.6132013191615706, -0.20510670937090764, 1.2693650571758979, -0.4870260249990171, -1.0577699232778213, -0.9032213107714546, 1.3388221980487656, -0.053311743566603474, 0.8107899853388832, 2.8124786778647857, 0.39495366874029125, 0.6107039258145395, -0.7200977824296632], \"xaxis\": \"x12\", \"y\": [-0.6030994144415659, -0.28672966749573653, 0.3392637081777703, 0.19498541876018885, 0.169856216447392, -0.8749694780455577, -0.9037667138370488, -1.4381153415660453, -1.611429323292964, 1.2275259939998584, -0.4858796352778617, 0.10993686372980101, 0.20322138240469867, 0.1639814859986579, -1.5008126480132573, 0.24064956919564173, 0.24874153648798175, 0.48339678956485715, 1.1362626939240847, 0.16480533957003732, 1.1998740666841663, -1.894446916413578, -1.1551781086385031, 1.7792300072882297, -0.7485633694457982, -0.06244651162480217, 0.7093620135952354, -0.12436000336714008, 0.9671118726820398, -2.6419234339480364, 0.49854865498424145, -1.9036608481825092, 0.5992055389881571, -0.10728490763426868, -0.39122604266358013, 0.029322228284007927, -0.6501617325268471, 0.2714198367550461, 0.028780351738951576, 2.1229609299052474, -0.9588036175503883, -0.20756397019008022, 0.49397847739770884, -0.16123035986796494, 0.4766336596254507, 0.049356656031718196, -1.2124496158290319, -0.8476034152623768, 0.019054165369579677, -1.0130380351582837, -1.1330208742362609, 0.0009183525475209432, -0.2736613745187976, 0.9614992187615407, -1.491892771696647, -1.4614254205853954, 0.25673598803179254, 0.935584725011274, 0.8096285786801392, -0.13912365853936803, 1.912731992298654, 1.1190324211744875, -0.920831175711935, -0.21931909366331578, 0.7179848558775562, -0.2520014213426082, 1.3555036502188451, -0.15249069905308443, 0.6925437667865846, 0.10388302518501544, -1.6541881857809821, -1.4285036846332086, 0.2611101191670557, -0.10076774448316933, 1.0593516810244787, -0.5690499889222228, -0.518083514239968, 2.2529691304874313, -2.601375231121356, 0.8848370561955524, -0.27551785238018295, -1.1658476120039192, -1.855448441952235, -0.26045859408597405, -2.717549064811967, -1.6228203033155657, -0.9442729761856262, -1.2411985580208704, 0.19991879291346518, 0.4100108728266116, -2.0666599259905927, -1.0860975839367148, 0.27883688445685023, 0.41597048365954387, 0.10051276298124265, 0.8428888067029818, 0.5253094751462503, 0.6812504479817608, 0.8334538568617702, -0.651327253602928], \"yaxis\": \"y12\"}, {\"line\": {\"color\": \"rgba(128, 128, 128, 1.0)\", \"dash\": \"solid\", \"shape\": \"linear\", \"width\": 1.3}, \"marker\": {\"size\": 2, \"symbol\": \"circle\"}, \"mode\": \"markers\", \"name\": \"D\", \"text\": \"\", \"type\": \"scatter\", \"x\": [-0.47323338372044216, 0.391342125956041, -1.3930192517983035, -0.7583764463384806, 0.030560247015788796, -0.42222897997487735, 0.3419507372052493, -0.6530728726886348, 0.4911743583401989, -0.6399410387909096, 1.252348795213839, 2.79565887203688, 1.0216953549398935, -0.6760681475071038, 1.9153287675036414, -0.8574194766794743, 0.03971198334552156, 1.5575886718822547, -0.41104371136749807, 0.45423026955435997, 1.37682200922694, -0.49097371261325123, -1.103902239392601, 1.209088156671042, -0.12929287076995005, -1.3546787992622251, 0.741078850974195, 0.17579127326631125, -0.01674344571807809, 1.1428979827099823, 0.012233952698504845, -0.8741512129967439, 0.1427194853744033, 1.1058161773053639, 0.12295872208272311, -0.5856164378476567, 0.21613129771727468, -1.8690770920771833, -0.6898825134758376, -0.05458461743161419, -0.15759841027243723, -0.6117912504899256, -0.696867769386093, -0.3274933689874018, -0.735725361990674, -0.006292612703083734, -0.4783007321809796, 0.46136717463820837, 1.1050679917684179, -0.8742044025984583, -0.7822275024460555, 0.19428282921115408, -1.599183119108615, 0.16519098965643408, 1.1233298071638333, 0.25714148321550806, -0.4491728069771753, 0.3286657772584293, 0.4223585017724842, -1.3447552904968874, 0.23535742165332924, -0.7746665058691453, -0.49249988794559896, -0.3916749224744794, -1.5427041968534043, 0.33574744449984323, 0.28716634919374984, -0.5396371694147453, 1.5186938958656993, -0.16730775070513196, 0.7986916318539317, -1.8076154055395393, 0.8449677715018729, 1.4994351030509954, 0.3761440759664159, 0.02032831851069565, -0.25420286262412284, 0.5915923846119849, 0.031343181368975785, 0.8924389509972139, 0.14696198272413175, -0.3383806308837403, -0.8167067803331302, 0.8375097350413139, -1.844697334868694, -0.47583161834498267, 0.3993116744743492, 1.5196641994432958, -2.149826871045154, -0.5054434625221709, 0.9568329180805797, -1.1772979939147825, 0.12495847641314985, 2.489394225157195, 0.8167825718121651, -1.541048250898501, 1.3836463003138744, -0.030213786772967887, 0.6891482660718707, 0.22201933593073467], \"xaxis\": \"x13\", \"y\": [-1.7565027787248992, 2.142820692662946, 0.44804922083164167, -0.9292887228981889, 1.2852654232447904, 0.3592152554023984, -1.8863365255560671, 0.04800082653789518, 0.37379051941980707, 0.6555565219767131, -1.2532599770407524, -0.729589980032634, 1.1534309225754797, 1.0071263960475942, -1.2592619068510083, 1.6844980995861003, -0.0745813296922144, 0.5890987426786111, -0.8305981968245615, -1.1164979024238735, -1.1839481761910884, 1.5595397033067833, 0.3152942346576389, -0.44301311221403156, 0.8236198522427761, -1.2019190641126138, 1.5336120474207988, -0.4930318694411702, -0.8165159477581593, -1.8044899411202082, 1.3334137074506227, 0.49796139348785573, -0.20191598475039563, -0.4205233100966402, 0.9911930167414926, 2.393893679798556, 0.5251465939094997, 0.22728035079259354, -1.0995338065390503, 1.0766360097392675, -0.14643211620316618, 1.6151454182208635, 1.687775473165265, -0.9117556207966099, -0.8130207857548152, 0.6989510051408686, -1.109266580434571, 0.5969756080602681, 1.2507996821742322, -0.557680792577814, 0.8506430503044562, 0.02302688820406108, 0.4054445756316907, -0.9785041751692184, 0.3288605622268137, -0.7135953714720429, -0.3389226671442458, -1.0541842619388624, 1.0350510964267012, -0.16314351167121433, 0.4058551237326383, -1.0669714141072002, 0.10180444308349802, -1.8897516411765771, 0.6456515374470266, 0.6250397753660706, -0.5729397033258652, 1.5152701643620212, 0.04916473944408896, -0.5639933417491443, 0.06788285449455125, 1.1485714179111128, -0.18264282303613275, -0.4801838916503548, -1.0183615555908196, -0.2110804976775807, -0.14315379079001916, -0.15697499984868937, -0.7739327762251197, -0.07444562294946552, -1.309676621933601, -0.7895104334903577, -1.4340777025447515, -0.35150157980575714, -0.48564836846214743, 0.3512924471678498, -0.14631372262507386, -1.6132013191615706, -0.20510670937090764, 1.2693650571758979, -0.4870260249990171, -1.0577699232778213, -0.9032213107714546, 1.3388221980487656, -0.053311743566603474, 0.8107899853388832, 2.8124786778647857, 0.39495366874029125, 0.6107039258145395, -0.7200977824296632], \"yaxis\": \"y13\"}, {\"line\": {\"color\": \"rgba(128, 128, 128, 1.0)\", \"dash\": \"solid\", \"shape\": \"linear\", \"width\": 1.3}, \"marker\": {\"size\": 2, \"symbol\": \"circle\"}, \"mode\": \"markers\", \"name\": \"D\", \"text\": \"\", \"type\": \"scatter\", \"x\": [-0.7863556269567842, -0.3934319050293995, -0.8659569932604896, 0.30666746365172154, -2.5335810728661774, 0.08560385128773612, 0.7707462351268122, -0.1532090031592984, 1.1286258467424628, -0.5825286450266112, 0.39862414075985675, 0.22258314683488725, 1.0537570365862137, -0.8159525977081468, -0.5061916446714905, -0.26061714680962556, -2.254049905642298, 0.29318800193968925, 2.3094028981793846, -0.048968716571239, 0.06985565178494063, -1.274260090264892, -1.41004308259798, 2.002966383137955, -0.7586585236309823, 1.835932532756517, -0.6629902504136792, 0.3189347126535099, 0.5065766796579961, 2.1881591681018104, -0.5091713331664507, 0.6461027072133978, -0.9858139943365096, 0.8352212513237809, 0.7678917985915251, -0.5720013372834474, 0.4597669525366794, 0.0010371046198402512, -0.20491356648425588, 0.9328866567283997, 2.176018941163229, -0.9163567131417804, 0.8099443703746437, 1.378718852814666, -0.0959067798324056, 0.3055517084481643, 0.9479911188482862, -1.8741975653115122, 1.4659130901080561, 0.9689652756893685, -1.5009623827195906, 2.8872697466472643, 0.06706261098262112, 0.017536891671529827, 1.6155683878161462, -0.06803490307878995, -1.0926381642910077, 0.7340270358115923, 0.517571964274028, 0.667005891920211, -2.112386962226195, -0.13579269137096708, 0.1207994583196543, -0.5254973507764424, -1.2886398814889086, -2.0279168784246986, 1.1485673851045588, -0.20190822632409647, -0.5969951426556726, 0.22088014731203623, 1.1376723087755327, 0.5738714744704506, 0.7451691218808038, 0.5844226957724005, -0.9813236939291822, -1.045116851602681, -1.234923056082786, -1.0708041340168966, 1.4658002080355017, -0.761499576905759, -3.1524089631556804, 0.8339745187847174, -0.8736506796302141, 0.19033242925434002, 1.5338359061015892, -0.4971111409720753, 0.6914248925254357, 1.1375771610666334, 1.2200375084760924, 0.4138867568586993, -2.8980380292726386, 0.04456869526355736, -1.081971961542821, 1.0623667326027297, 0.31280558134076863, -0.03546302545284578, -1.9668831578809485, 0.051637491391016394, 1.2239694666936947, 0.39670028159886306], \"xaxis\": \"x14\", \"y\": [-1.7565027787248992, 2.142820692662946, 0.44804922083164167, -0.9292887228981889, 1.2852654232447904, 0.3592152554023984, -1.8863365255560671, 0.04800082653789518, 0.37379051941980707, 0.6555565219767131, -1.2532599770407524, -0.729589980032634, 1.1534309225754797, 1.0071263960475942, -1.2592619068510083, 1.6844980995861003, -0.0745813296922144, 0.5890987426786111, -0.8305981968245615, -1.1164979024238735, -1.1839481761910884, 1.5595397033067833, 0.3152942346576389, -0.44301311221403156, 0.8236198522427761, -1.2019190641126138, 1.5336120474207988, -0.4930318694411702, -0.8165159477581593, -1.8044899411202082, 1.3334137074506227, 0.49796139348785573, -0.20191598475039563, -0.4205233100966402, 0.9911930167414926, 2.393893679798556, 0.5251465939094997, 0.22728035079259354, -1.0995338065390503, 1.0766360097392675, -0.14643211620316618, 1.6151454182208635, 1.687775473165265, -0.9117556207966099, -0.8130207857548152, 0.6989510051408686, -1.109266580434571, 0.5969756080602681, 1.2507996821742322, -0.557680792577814, 0.8506430503044562, 0.02302688820406108, 0.4054445756316907, -0.9785041751692184, 0.3288605622268137, -0.7135953714720429, -0.3389226671442458, -1.0541842619388624, 1.0350510964267012, -0.16314351167121433, 0.4058551237326383, -1.0669714141072002, 0.10180444308349802, -1.8897516411765771, 0.6456515374470266, 0.6250397753660706, -0.5729397033258652, 1.5152701643620212, 0.04916473944408896, -0.5639933417491443, 0.06788285449455125, 1.1485714179111128, -0.18264282303613275, -0.4801838916503548, -1.0183615555908196, -0.2110804976775807, -0.14315379079001916, -0.15697499984868937, -0.7739327762251197, -0.07444562294946552, -1.309676621933601, -0.7895104334903577, -1.4340777025447515, -0.35150157980575714, -0.48564836846214743, 0.3512924471678498, -0.14631372262507386, -1.6132013191615706, -0.20510670937090764, 1.2693650571758979, -0.4870260249990171, -1.0577699232778213, -0.9032213107714546, 1.3388221980487656, -0.053311743566603474, 0.8107899853388832, 2.8124786778647857, 0.39495366874029125, 0.6107039258145395, -0.7200977824296632], \"yaxis\": \"y14\"}, {\"line\": {\"color\": \"rgba(128, 128, 128, 1.0)\", \"dash\": \"solid\", \"shape\": \"linear\", \"width\": 1.3}, \"marker\": {\"size\": 2, \"symbol\": \"circle\"}, \"mode\": \"markers\", \"name\": \"D\", \"text\": \"\", \"type\": \"scatter\", \"x\": [-0.6030994144415659, -0.28672966749573653, 0.3392637081777703, 0.19498541876018885, 0.169856216447392, -0.8749694780455577, -0.9037667138370488, -1.4381153415660453, -1.611429323292964, 1.2275259939998584, -0.4858796352778617, 0.10993686372980101, 0.20322138240469867, 0.1639814859986579, -1.5008126480132573, 0.24064956919564173, 0.24874153648798175, 0.48339678956485715, 1.1362626939240847, 0.16480533957003732, 1.1998740666841663, -1.894446916413578, -1.1551781086385031, 1.7792300072882297, -0.7485633694457982, -0.06244651162480217, 0.7093620135952354, -0.12436000336714008, 0.9671118726820398, -2.6419234339480364, 0.49854865498424145, -1.9036608481825092, 0.5992055389881571, -0.10728490763426868, -0.39122604266358013, 0.029322228284007927, -0.6501617325268471, 0.2714198367550461, 0.028780351738951576, 2.1229609299052474, -0.9588036175503883, -0.20756397019008022, 0.49397847739770884, -0.16123035986796494, 0.4766336596254507, 0.049356656031718196, -1.2124496158290319, -0.8476034152623768, 0.019054165369579677, -1.0130380351582837, -1.1330208742362609, 0.0009183525475209432, -0.2736613745187976, 0.9614992187615407, -1.491892771696647, -1.4614254205853954, 0.25673598803179254, 0.935584725011274, 0.8096285786801392, -0.13912365853936803, 1.912731992298654, 1.1190324211744875, -0.920831175711935, -0.21931909366331578, 0.7179848558775562, -0.2520014213426082, 1.3555036502188451, -0.15249069905308443, 0.6925437667865846, 0.10388302518501544, -1.6541881857809821, -1.4285036846332086, 0.2611101191670557, -0.10076774448316933, 1.0593516810244787, -0.5690499889222228, -0.518083514239968, 2.2529691304874313, -2.601375231121356, 0.8848370561955524, -0.27551785238018295, -1.1658476120039192, -1.855448441952235, -0.26045859408597405, -2.717549064811967, -1.6228203033155657, -0.9442729761856262, -1.2411985580208704, 0.19991879291346518, 0.4100108728266116, -2.0666599259905927, -1.0860975839367148, 0.27883688445685023, 0.41597048365954387, 0.10051276298124265, 0.8428888067029818, 0.5253094751462503, 0.6812504479817608, 0.8334538568617702, -0.651327253602928], \"xaxis\": \"x15\", \"y\": [-1.7565027787248992, 2.142820692662946, 0.44804922083164167, -0.9292887228981889, 1.2852654232447904, 0.3592152554023984, -1.8863365255560671, 0.04800082653789518, 0.37379051941980707, 0.6555565219767131, -1.2532599770407524, -0.729589980032634, 1.1534309225754797, 1.0071263960475942, -1.2592619068510083, 1.6844980995861003, -0.0745813296922144, 0.5890987426786111, -0.8305981968245615, -1.1164979024238735, -1.1839481761910884, 1.5595397033067833, 0.3152942346576389, -0.44301311221403156, 0.8236198522427761, -1.2019190641126138, 1.5336120474207988, -0.4930318694411702, -0.8165159477581593, -1.8044899411202082, 1.3334137074506227, 0.49796139348785573, -0.20191598475039563, -0.4205233100966402, 0.9911930167414926, 2.393893679798556, 0.5251465939094997, 0.22728035079259354, -1.0995338065390503, 1.0766360097392675, -0.14643211620316618, 1.6151454182208635, 1.687775473165265, -0.9117556207966099, -0.8130207857548152, 0.6989510051408686, -1.109266580434571, 0.5969756080602681, 1.2507996821742322, -0.557680792577814, 0.8506430503044562, 0.02302688820406108, 0.4054445756316907, -0.9785041751692184, 0.3288605622268137, -0.7135953714720429, -0.3389226671442458, -1.0541842619388624, 1.0350510964267012, -0.16314351167121433, 0.4058551237326383, -1.0669714141072002, 0.10180444308349802, -1.8897516411765771, 0.6456515374470266, 0.6250397753660706, -0.5729397033258652, 1.5152701643620212, 0.04916473944408896, -0.5639933417491443, 0.06788285449455125, 1.1485714179111128, -0.18264282303613275, -0.4801838916503548, -1.0183615555908196, -0.2110804976775807, -0.14315379079001916, -0.15697499984868937, -0.7739327762251197, -0.07444562294946552, -1.309676621933601, -0.7895104334903577, -1.4340777025447515, -0.35150157980575714, -0.48564836846214743, 0.3512924471678498, -0.14631372262507386, -1.6132013191615706, -0.20510670937090764, 1.2693650571758979, -0.4870260249990171, -1.0577699232778213, -0.9032213107714546, 1.3388221980487656, -0.053311743566603474, 0.8107899853388832, 2.8124786778647857, 0.39495366874029125, 0.6107039258145395, -0.7200977824296632], \"yaxis\": \"y15\"}, {\"histfunc\": \"count\", \"histnorm\": \"\", \"marker\": {\"color\": \"rgba(128, 0, 128, 1.0)\", \"line\": {\"color\": \"#4D5663\", \"width\": 1.3}}, \"name\": \"D\", \"nbinsx\": 10, \"opacity\": 0.8, \"orientation\": \"v\", \"type\": \"histogram\", \"x\": [-1.7565027787248992, 2.142820692662946, 0.44804922083164167, -0.9292887228981889, 1.2852654232447904, 0.3592152554023984, -1.8863365255560671, 0.04800082653789518, 0.37379051941980707, 0.6555565219767131, -1.2532599770407524, -0.729589980032634, 1.1534309225754797, 1.0071263960475942, -1.2592619068510083, 1.6844980995861003, -0.0745813296922144, 0.5890987426786111, -0.8305981968245615, -1.1164979024238735, -1.1839481761910884, 1.5595397033067833, 0.3152942346576389, -0.44301311221403156, 0.8236198522427761, -1.2019190641126138, 1.5336120474207988, -0.4930318694411702, -0.8165159477581593, -1.8044899411202082, 1.3334137074506227, 0.49796139348785573, -0.20191598475039563, -0.4205233100966402, 0.9911930167414926, 2.393893679798556, 0.5251465939094997, 0.22728035079259354, -1.0995338065390503, 1.0766360097392675, -0.14643211620316618, 1.6151454182208635, 1.687775473165265, -0.9117556207966099, -0.8130207857548152, 0.6989510051408686, -1.109266580434571, 0.5969756080602681, 1.2507996821742322, -0.557680792577814, 0.8506430503044562, 0.02302688820406108, 0.4054445756316907, -0.9785041751692184, 0.3288605622268137, -0.7135953714720429, -0.3389226671442458, -1.0541842619388624, 1.0350510964267012, -0.16314351167121433, 0.4058551237326383, -1.0669714141072002, 0.10180444308349802, -1.8897516411765771, 0.6456515374470266, 0.6250397753660706, -0.5729397033258652, 1.5152701643620212, 0.04916473944408896, -0.5639933417491443, 0.06788285449455125, 1.1485714179111128, -0.18264282303613275, -0.4801838916503548, -1.0183615555908196, -0.2110804976775807, -0.14315379079001916, -0.15697499984868937, -0.7739327762251197, -0.07444562294946552, -1.309676621933601, -0.7895104334903577, -1.4340777025447515, -0.35150157980575714, -0.48564836846214743, 0.3512924471678498, -0.14631372262507386, -1.6132013191615706, -0.20510670937090764, 1.2693650571758979, -0.4870260249990171, -1.0577699232778213, -0.9032213107714546, 1.3388221980487656, -0.053311743566603474, 0.8107899853388832, 2.8124786778647857, 0.39495366874029125, 0.6107039258145395, -0.7200977824296632], \"xaxis\": \"x16\", \"yaxis\": \"y16\"}],\n",
       "                        {\"bargap\": 0.02, \"legend\": {\"bgcolor\": \"#F5F6F9\", \"font\": {\"color\": \"#4D5663\"}}, \"paper_bgcolor\": \"#F5F6F9\", \"plot_bgcolor\": \"#F5F6F9\", \"showlegend\": false, \"template\": {\"data\": {\"bar\": [{\"error_x\": {\"color\": \"#2a3f5f\"}, \"error_y\": {\"color\": \"#2a3f5f\"}, \"marker\": {\"line\": {\"color\": \"#E5ECF6\", \"width\": 0.5}}, \"type\": \"bar\"}], \"barpolar\": [{\"marker\": {\"line\": {\"color\": \"#E5ECF6\", \"width\": 0.5}}, \"type\": \"barpolar\"}], \"carpet\": [{\"aaxis\": {\"endlinecolor\": \"#2a3f5f\", \"gridcolor\": \"white\", \"linecolor\": \"white\", \"minorgridcolor\": \"white\", \"startlinecolor\": \"#2a3f5f\"}, \"baxis\": {\"endlinecolor\": \"#2a3f5f\", \"gridcolor\": \"white\", \"linecolor\": \"white\", \"minorgridcolor\": \"white\", \"startlinecolor\": \"#2a3f5f\"}, \"type\": \"carpet\"}], \"choropleth\": [{\"colorbar\": {\"outlinewidth\": 0, \"ticks\": \"\"}, \"type\": \"choropleth\"}], \"contour\": [{\"colorbar\": {\"outlinewidth\": 0, \"ticks\": \"\"}, \"colorscale\": [[0.0, \"#0d0887\"], [0.1111111111111111, \"#46039f\"], [0.2222222222222222, \"#7201a8\"], [0.3333333333333333, \"#9c179e\"], [0.4444444444444444, \"#bd3786\"], [0.5555555555555556, \"#d8576b\"], [0.6666666666666666, \"#ed7953\"], [0.7777777777777778, \"#fb9f3a\"], [0.8888888888888888, \"#fdca26\"], [1.0, \"#f0f921\"]], \"type\": \"contour\"}], \"contourcarpet\": [{\"colorbar\": {\"outlinewidth\": 0, \"ticks\": \"\"}, \"type\": \"contourcarpet\"}], \"heatmap\": [{\"colorbar\": {\"outlinewidth\": 0, \"ticks\": \"\"}, \"colorscale\": [[0.0, \"#0d0887\"], [0.1111111111111111, \"#46039f\"], [0.2222222222222222, \"#7201a8\"], [0.3333333333333333, \"#9c179e\"], [0.4444444444444444, \"#bd3786\"], [0.5555555555555556, \"#d8576b\"], [0.6666666666666666, \"#ed7953\"], [0.7777777777777778, \"#fb9f3a\"], [0.8888888888888888, \"#fdca26\"], [1.0, \"#f0f921\"]], \"type\": \"heatmap\"}], \"heatmapgl\": [{\"colorbar\": {\"outlinewidth\": 0, \"ticks\": \"\"}, \"colorscale\": [[0.0, \"#0d0887\"], [0.1111111111111111, \"#46039f\"], [0.2222222222222222, \"#7201a8\"], [0.3333333333333333, \"#9c179e\"], [0.4444444444444444, \"#bd3786\"], [0.5555555555555556, \"#d8576b\"], [0.6666666666666666, \"#ed7953\"], [0.7777777777777778, \"#fb9f3a\"], [0.8888888888888888, \"#fdca26\"], [1.0, \"#f0f921\"]], \"type\": \"heatmapgl\"}], \"histogram\": [{\"marker\": {\"colorbar\": {\"outlinewidth\": 0, \"ticks\": \"\"}}, \"type\": \"histogram\"}], \"histogram2d\": [{\"colorbar\": {\"outlinewidth\": 0, \"ticks\": \"\"}, \"colorscale\": [[0.0, \"#0d0887\"], [0.1111111111111111, \"#46039f\"], [0.2222222222222222, \"#7201a8\"], [0.3333333333333333, \"#9c179e\"], [0.4444444444444444, \"#bd3786\"], [0.5555555555555556, \"#d8576b\"], [0.6666666666666666, \"#ed7953\"], [0.7777777777777778, \"#fb9f3a\"], [0.8888888888888888, \"#fdca26\"], [1.0, \"#f0f921\"]], \"type\": \"histogram2d\"}], \"histogram2dcontour\": [{\"colorbar\": {\"outlinewidth\": 0, \"ticks\": \"\"}, \"colorscale\": [[0.0, \"#0d0887\"], [0.1111111111111111, \"#46039f\"], [0.2222222222222222, \"#7201a8\"], [0.3333333333333333, \"#9c179e\"], [0.4444444444444444, \"#bd3786\"], [0.5555555555555556, \"#d8576b\"], [0.6666666666666666, \"#ed7953\"], [0.7777777777777778, \"#fb9f3a\"], [0.8888888888888888, \"#fdca26\"], [1.0, \"#f0f921\"]], \"type\": \"histogram2dcontour\"}], \"mesh3d\": [{\"colorbar\": {\"outlinewidth\": 0, \"ticks\": \"\"}, \"type\": \"mesh3d\"}], \"parcoords\": [{\"line\": {\"colorbar\": {\"outlinewidth\": 0, \"ticks\": \"\"}}, \"type\": \"parcoords\"}], \"pie\": [{\"automargin\": true, \"type\": \"pie\"}], \"scatter\": [{\"marker\": {\"colorbar\": {\"outlinewidth\": 0, \"ticks\": \"\"}}, \"type\": \"scatter\"}], \"scatter3d\": [{\"line\": {\"colorbar\": {\"outlinewidth\": 0, \"ticks\": \"\"}}, \"marker\": {\"colorbar\": {\"outlinewidth\": 0, \"ticks\": \"\"}}, \"type\": \"scatter3d\"}], \"scattercarpet\": [{\"marker\": {\"colorbar\": {\"outlinewidth\": 0, \"ticks\": \"\"}}, \"type\": \"scattercarpet\"}], \"scattergeo\": [{\"marker\": {\"colorbar\": {\"outlinewidth\": 0, \"ticks\": \"\"}}, \"type\": \"scattergeo\"}], \"scattergl\": [{\"marker\": {\"colorbar\": {\"outlinewidth\": 0, \"ticks\": \"\"}}, \"type\": \"scattergl\"}], \"scattermapbox\": [{\"marker\": {\"colorbar\": {\"outlinewidth\": 0, \"ticks\": \"\"}}, \"type\": \"scattermapbox\"}], \"scatterpolar\": [{\"marker\": {\"colorbar\": {\"outlinewidth\": 0, \"ticks\": \"\"}}, \"type\": \"scatterpolar\"}], \"scatterpolargl\": [{\"marker\": {\"colorbar\": {\"outlinewidth\": 0, \"ticks\": \"\"}}, \"type\": \"scatterpolargl\"}], \"scatterternary\": [{\"marker\": {\"colorbar\": {\"outlinewidth\": 0, \"ticks\": \"\"}}, \"type\": \"scatterternary\"}], \"surface\": [{\"colorbar\": {\"outlinewidth\": 0, \"ticks\": \"\"}, \"colorscale\": [[0.0, \"#0d0887\"], [0.1111111111111111, \"#46039f\"], [0.2222222222222222, \"#7201a8\"], [0.3333333333333333, \"#9c179e\"], [0.4444444444444444, \"#bd3786\"], [0.5555555555555556, \"#d8576b\"], [0.6666666666666666, \"#ed7953\"], [0.7777777777777778, \"#fb9f3a\"], [0.8888888888888888, \"#fdca26\"], [1.0, \"#f0f921\"]], \"type\": \"surface\"}], \"table\": [{\"cells\": {\"fill\": {\"color\": \"#EBF0F8\"}, \"line\": {\"color\": \"white\"}}, \"header\": {\"fill\": {\"color\": \"#C8D4E3\"}, \"line\": {\"color\": \"white\"}}, \"type\": \"table\"}]}, \"layout\": {\"annotationdefaults\": {\"arrowcolor\": \"#2a3f5f\", \"arrowhead\": 0, \"arrowwidth\": 1}, \"coloraxis\": {\"colorbar\": {\"outlinewidth\": 0, \"ticks\": \"\"}}, \"colorscale\": {\"diverging\": [[0, \"#8e0152\"], [0.1, \"#c51b7d\"], [0.2, \"#de77ae\"], [0.3, \"#f1b6da\"], [0.4, \"#fde0ef\"], [0.5, \"#f7f7f7\"], [0.6, \"#e6f5d0\"], [0.7, \"#b8e186\"], [0.8, \"#7fbc41\"], [0.9, \"#4d9221\"], [1, \"#276419\"]], \"sequential\": [[0.0, \"#0d0887\"], [0.1111111111111111, \"#46039f\"], [0.2222222222222222, \"#7201a8\"], [0.3333333333333333, \"#9c179e\"], [0.4444444444444444, \"#bd3786\"], [0.5555555555555556, \"#d8576b\"], [0.6666666666666666, \"#ed7953\"], [0.7777777777777778, \"#fb9f3a\"], [0.8888888888888888, \"#fdca26\"], [1.0, \"#f0f921\"]], \"sequentialminus\": [[0.0, \"#0d0887\"], [0.1111111111111111, \"#46039f\"], [0.2222222222222222, \"#7201a8\"], [0.3333333333333333, \"#9c179e\"], [0.4444444444444444, \"#bd3786\"], [0.5555555555555556, \"#d8576b\"], [0.6666666666666666, \"#ed7953\"], [0.7777777777777778, \"#fb9f3a\"], [0.8888888888888888, \"#fdca26\"], [1.0, \"#f0f921\"]]}, \"colorway\": [\"#636efa\", \"#EF553B\", \"#00cc96\", \"#ab63fa\", \"#FFA15A\", \"#19d3f3\", \"#FF6692\", \"#B6E880\", \"#FF97FF\", \"#FECB52\"], \"font\": {\"color\": \"#2a3f5f\"}, \"geo\": {\"bgcolor\": \"white\", \"lakecolor\": \"white\", \"landcolor\": \"#E5ECF6\", \"showlakes\": true, \"showland\": true, \"subunitcolor\": \"white\"}, \"hoverlabel\": {\"align\": \"left\"}, \"hovermode\": \"closest\", \"mapbox\": {\"style\": \"light\"}, \"paper_bgcolor\": \"white\", \"plot_bgcolor\": \"#E5ECF6\", \"polar\": {\"angularaxis\": {\"gridcolor\": \"white\", \"linecolor\": \"white\", \"ticks\": \"\"}, \"bgcolor\": \"#E5ECF6\", \"radialaxis\": {\"gridcolor\": \"white\", \"linecolor\": \"white\", \"ticks\": \"\"}}, \"scene\": {\"xaxis\": {\"backgroundcolor\": \"#E5ECF6\", \"gridcolor\": \"white\", \"gridwidth\": 2, \"linecolor\": \"white\", \"showbackground\": true, \"ticks\": \"\", \"zerolinecolor\": \"white\"}, \"yaxis\": {\"backgroundcolor\": \"#E5ECF6\", \"gridcolor\": \"white\", \"gridwidth\": 2, \"linecolor\": \"white\", \"showbackground\": true, \"ticks\": \"\", \"zerolinecolor\": \"white\"}, \"zaxis\": {\"backgroundcolor\": \"#E5ECF6\", \"gridcolor\": \"white\", \"gridwidth\": 2, \"linecolor\": \"white\", \"showbackground\": true, \"ticks\": \"\", \"zerolinecolor\": \"white\"}}, \"shapedefaults\": {\"line\": {\"color\": \"#2a3f5f\"}}, \"ternary\": {\"aaxis\": {\"gridcolor\": \"white\", \"linecolor\": \"white\", \"ticks\": \"\"}, \"baxis\": {\"gridcolor\": \"white\", \"linecolor\": \"white\", \"ticks\": \"\"}, \"bgcolor\": \"#E5ECF6\", \"caxis\": {\"gridcolor\": \"white\", \"linecolor\": \"white\", \"ticks\": \"\"}}, \"title\": {\"x\": 0.05}, \"xaxis\": {\"automargin\": true, \"gridcolor\": \"white\", \"linecolor\": \"white\", \"ticks\": \"\", \"title\": {\"standoff\": 15}, \"zerolinecolor\": \"white\", \"zerolinewidth\": 2}, \"yaxis\": {\"automargin\": true, \"gridcolor\": \"white\", \"linecolor\": \"white\", \"ticks\": \"\", \"title\": {\"standoff\": 15}, \"zerolinecolor\": \"white\", \"zerolinewidth\": 2}}}, \"title\": {\"font\": {\"color\": \"#4D5663\"}}, \"xaxis\": {\"anchor\": \"y\", \"domain\": [0.0, 0.2125], \"gridcolor\": \"#E1E5ED\", \"showgrid\": false, \"tickfont\": {\"color\": \"#4D5663\"}, \"title\": {\"font\": {\"color\": \"#4D5663\"}, \"text\": \"\"}, \"zerolinecolor\": \"#E1E5ED\"}, \"xaxis10\": {\"anchor\": \"y10\", \"domain\": [0.2625, 0.475], \"gridcolor\": \"#E1E5ED\", \"showgrid\": false, \"tickfont\": {\"color\": \"#4D5663\"}, \"title\": {\"font\": {\"color\": \"#4D5663\"}, \"text\": \"\"}, \"zerolinecolor\": \"#E1E5ED\"}, \"xaxis11\": {\"anchor\": \"y11\", \"domain\": [0.525, 0.7375], \"gridcolor\": \"#E1E5ED\", \"showgrid\": false, \"tickfont\": {\"color\": \"#4D5663\"}, \"title\": {\"font\": {\"color\": \"#4D5663\"}, \"text\": \"\"}, \"zerolinecolor\": \"#E1E5ED\"}, \"xaxis12\": {\"anchor\": \"y12\", \"domain\": [0.7875, 1.0], \"gridcolor\": \"#E1E5ED\", \"showgrid\": false, \"tickfont\": {\"color\": \"#4D5663\"}, \"title\": {\"font\": {\"color\": \"#4D5663\"}, \"text\": \"\"}, \"zerolinecolor\": \"#E1E5ED\"}, \"xaxis13\": {\"anchor\": \"y13\", \"domain\": [0.0, 0.2125], \"gridcolor\": \"#E1E5ED\", \"showgrid\": false, \"tickfont\": {\"color\": \"#4D5663\"}, \"title\": {\"font\": {\"color\": \"#4D5663\"}, \"text\": \"\"}, \"zerolinecolor\": \"#E1E5ED\"}, \"xaxis14\": {\"anchor\": \"y14\", \"domain\": [0.2625, 0.475], \"gridcolor\": \"#E1E5ED\", \"showgrid\": false, \"tickfont\": {\"color\": \"#4D5663\"}, \"title\": {\"font\": {\"color\": \"#4D5663\"}, \"text\": \"\"}, \"zerolinecolor\": \"#E1E5ED\"}, \"xaxis15\": {\"anchor\": \"y15\", \"domain\": [0.525, 0.7375], \"gridcolor\": \"#E1E5ED\", \"showgrid\": false, \"tickfont\": {\"color\": \"#4D5663\"}, \"title\": {\"font\": {\"color\": \"#4D5663\"}, \"text\": \"\"}, \"zerolinecolor\": \"#E1E5ED\"}, \"xaxis16\": {\"anchor\": \"y16\", \"domain\": [0.7875, 1.0], \"gridcolor\": \"#E1E5ED\", \"showgrid\": false, \"tickfont\": {\"color\": \"#4D5663\"}, \"title\": {\"font\": {\"color\": \"#4D5663\"}, \"text\": \"\"}, \"zerolinecolor\": \"#E1E5ED\"}, \"xaxis2\": {\"anchor\": \"y2\", \"domain\": [0.2625, 0.475], \"gridcolor\": \"#E1E5ED\", \"showgrid\": false, \"tickfont\": {\"color\": \"#4D5663\"}, \"title\": {\"font\": {\"color\": \"#4D5663\"}, \"text\": \"\"}, \"zerolinecolor\": \"#E1E5ED\"}, \"xaxis3\": {\"anchor\": \"y3\", \"domain\": [0.525, 0.7375], \"gridcolor\": \"#E1E5ED\", \"showgrid\": false, \"tickfont\": {\"color\": \"#4D5663\"}, \"title\": {\"font\": {\"color\": \"#4D5663\"}, \"text\": \"\"}, \"zerolinecolor\": \"#E1E5ED\"}, \"xaxis4\": {\"anchor\": \"y4\", \"domain\": [0.7875, 1.0], \"gridcolor\": \"#E1E5ED\", \"showgrid\": false, \"tickfont\": {\"color\": \"#4D5663\"}, \"title\": {\"font\": {\"color\": \"#4D5663\"}, \"text\": \"\"}, \"zerolinecolor\": \"#E1E5ED\"}, \"xaxis5\": {\"anchor\": \"y5\", \"domain\": [0.0, 0.2125], \"gridcolor\": \"#E1E5ED\", \"showgrid\": false, \"tickfont\": {\"color\": \"#4D5663\"}, \"title\": {\"font\": {\"color\": \"#4D5663\"}, \"text\": \"\"}, \"zerolinecolor\": \"#E1E5ED\"}, \"xaxis6\": {\"anchor\": \"y6\", \"domain\": [0.2625, 0.475], \"gridcolor\": \"#E1E5ED\", \"showgrid\": false, \"tickfont\": {\"color\": \"#4D5663\"}, \"title\": {\"font\": {\"color\": \"#4D5663\"}, \"text\": \"\"}, \"zerolinecolor\": \"#E1E5ED\"}, \"xaxis7\": {\"anchor\": \"y7\", \"domain\": [0.525, 0.7375], \"gridcolor\": \"#E1E5ED\", \"showgrid\": false, \"tickfont\": {\"color\": \"#4D5663\"}, \"title\": {\"font\": {\"color\": \"#4D5663\"}, \"text\": \"\"}, \"zerolinecolor\": \"#E1E5ED\"}, \"xaxis8\": {\"anchor\": \"y8\", \"domain\": [0.7875, 1.0], \"gridcolor\": \"#E1E5ED\", \"showgrid\": false, \"tickfont\": {\"color\": \"#4D5663\"}, \"title\": {\"font\": {\"color\": \"#4D5663\"}, \"text\": \"\"}, \"zerolinecolor\": \"#E1E5ED\"}, \"xaxis9\": {\"anchor\": \"y9\", \"domain\": [0.0, 0.2125], \"gridcolor\": \"#E1E5ED\", \"showgrid\": false, \"tickfont\": {\"color\": \"#4D5663\"}, \"title\": {\"font\": {\"color\": \"#4D5663\"}, \"text\": \"\"}, \"zerolinecolor\": \"#E1E5ED\"}, \"yaxis\": {\"anchor\": \"x\", \"domain\": [0.8025, 1.0], \"gridcolor\": \"#E1E5ED\", \"showgrid\": false, \"tickfont\": {\"color\": \"#4D5663\"}, \"title\": {\"font\": {\"color\": \"#4D5663\"}, \"text\": \"\"}, \"zerolinecolor\": \"#E1E5ED\"}, \"yaxis10\": {\"anchor\": \"x10\", \"domain\": [0.2675, 0.465], \"gridcolor\": \"#E1E5ED\", \"showgrid\": false, \"tickfont\": {\"color\": \"#4D5663\"}, \"title\": {\"font\": {\"color\": \"#4D5663\"}, \"text\": \"\"}, \"zerolinecolor\": \"#E1E5ED\"}, \"yaxis11\": {\"anchor\": \"x11\", \"domain\": [0.2675, 0.465], \"gridcolor\": \"#E1E5ED\", \"showgrid\": false, \"tickfont\": {\"color\": \"#4D5663\"}, \"title\": {\"font\": {\"color\": \"#4D5663\"}, \"text\": \"\"}, \"zerolinecolor\": \"#E1E5ED\"}, \"yaxis12\": {\"anchor\": \"x12\", \"domain\": [0.2675, 0.465], \"gridcolor\": \"#E1E5ED\", \"showgrid\": false, \"tickfont\": {\"color\": \"#4D5663\"}, \"title\": {\"font\": {\"color\": \"#4D5663\"}, \"text\": \"\"}, \"zerolinecolor\": \"#E1E5ED\"}, \"yaxis13\": {\"anchor\": \"x13\", \"domain\": [0.0, 0.1975], \"gridcolor\": \"#E1E5ED\", \"showgrid\": false, \"tickfont\": {\"color\": \"#4D5663\"}, \"title\": {\"font\": {\"color\": \"#4D5663\"}, \"text\": \"\"}, \"zerolinecolor\": \"#E1E5ED\"}, \"yaxis14\": {\"anchor\": \"x14\", \"domain\": [0.0, 0.1975], \"gridcolor\": \"#E1E5ED\", \"showgrid\": false, \"tickfont\": {\"color\": \"#4D5663\"}, \"title\": {\"font\": {\"color\": \"#4D5663\"}, \"text\": \"\"}, \"zerolinecolor\": \"#E1E5ED\"}, \"yaxis15\": {\"anchor\": \"x15\", \"domain\": [0.0, 0.1975], \"gridcolor\": \"#E1E5ED\", \"showgrid\": false, \"tickfont\": {\"color\": \"#4D5663\"}, \"title\": {\"font\": {\"color\": \"#4D5663\"}, \"text\": \"\"}, \"zerolinecolor\": \"#E1E5ED\"}, \"yaxis16\": {\"anchor\": \"x16\", \"domain\": [0.0, 0.1975], \"gridcolor\": \"#E1E5ED\", \"showgrid\": false, \"tickfont\": {\"color\": \"#4D5663\"}, \"title\": {\"font\": {\"color\": \"#4D5663\"}, \"text\": \"\"}, \"zerolinecolor\": \"#E1E5ED\"}, \"yaxis2\": {\"anchor\": \"x2\", \"domain\": [0.8025, 1.0], \"gridcolor\": \"#E1E5ED\", \"showgrid\": false, \"tickfont\": {\"color\": \"#4D5663\"}, \"title\": {\"font\": {\"color\": \"#4D5663\"}, \"text\": \"\"}, \"zerolinecolor\": \"#E1E5ED\"}, \"yaxis3\": {\"anchor\": \"x3\", \"domain\": [0.8025, 1.0], \"gridcolor\": \"#E1E5ED\", \"showgrid\": false, \"tickfont\": {\"color\": \"#4D5663\"}, \"title\": {\"font\": {\"color\": \"#4D5663\"}, \"text\": \"\"}, \"zerolinecolor\": \"#E1E5ED\"}, \"yaxis4\": {\"anchor\": \"x4\", \"domain\": [0.8025, 1.0], \"gridcolor\": \"#E1E5ED\", \"showgrid\": false, \"tickfont\": {\"color\": \"#4D5663\"}, \"title\": {\"font\": {\"color\": \"#4D5663\"}, \"text\": \"\"}, \"zerolinecolor\": \"#E1E5ED\"}, \"yaxis5\": {\"anchor\": \"x5\", \"domain\": [0.535, 0.7325], \"gridcolor\": \"#E1E5ED\", \"showgrid\": false, \"tickfont\": {\"color\": \"#4D5663\"}, \"title\": {\"font\": {\"color\": \"#4D5663\"}, \"text\": \"\"}, \"zerolinecolor\": \"#E1E5ED\"}, \"yaxis6\": {\"anchor\": \"x6\", \"domain\": [0.535, 0.7325], \"gridcolor\": \"#E1E5ED\", \"showgrid\": false, \"tickfont\": {\"color\": \"#4D5663\"}, \"title\": {\"font\": {\"color\": \"#4D5663\"}, \"text\": \"\"}, \"zerolinecolor\": \"#E1E5ED\"}, \"yaxis7\": {\"anchor\": \"x7\", \"domain\": [0.535, 0.7325], \"gridcolor\": \"#E1E5ED\", \"showgrid\": false, \"tickfont\": {\"color\": \"#4D5663\"}, \"title\": {\"font\": {\"color\": \"#4D5663\"}, \"text\": \"\"}, \"zerolinecolor\": \"#E1E5ED\"}, \"yaxis8\": {\"anchor\": \"x8\", \"domain\": [0.535, 0.7325], \"gridcolor\": \"#E1E5ED\", \"showgrid\": false, \"tickfont\": {\"color\": \"#4D5663\"}, \"title\": {\"font\": {\"color\": \"#4D5663\"}, \"text\": \"\"}, \"zerolinecolor\": \"#E1E5ED\"}, \"yaxis9\": {\"anchor\": \"x9\", \"domain\": [0.2675, 0.465], \"gridcolor\": \"#E1E5ED\", \"showgrid\": false, \"tickfont\": {\"color\": \"#4D5663\"}, \"title\": {\"font\": {\"color\": \"#4D5663\"}, \"text\": \"\"}, \"zerolinecolor\": \"#E1E5ED\"}},\n",
       "                        {\"showLink\": true, \"linkText\": \"Export to plot.ly\", \"plotlyServerURL\": \"https://plot.ly\", \"responsive\": true}\n",
       "                    ).then(function(){\n",
       "                            \n",
       "var gd = document.getElementById('1d6a1f9a-296b-4c1f-9071-55b5ab7159aa');\n",
       "var x = new MutationObserver(function (mutations, observer) {{\n",
       "        var display = window.getComputedStyle(gd).display;\n",
       "        if (!display || display === 'none') {{\n",
       "            console.log([gd, 'removed!']);\n",
       "            Plotly.purge(gd);\n",
       "            observer.disconnect();\n",
       "        }}\n",
       "}});\n",
       "\n",
       "// Listen for the removal of the full notebook cells\n",
       "var notebookContainer = gd.closest('#notebook-container');\n",
       "if (notebookContainer) {{\n",
       "    x.observe(notebookContainer, {childList: true});\n",
       "}}\n",
       "\n",
       "// Listen for the clearing of the current output cell\n",
       "var outputEl = gd.closest('.output');\n",
       "if (outputEl) {{\n",
       "    x.observe(outputEl, {childList: true});\n",
       "}}\n",
       "\n",
       "                        })\n",
       "                };\n",
       "                });\n",
       "            </script>\n",
       "        </div>"
      ]
     },
     "metadata": {},
     "output_type": "display_data"
    }
   ],
   "source": [
    "df.scatter_matrix()"
   ]
  },
  {
   "cell_type": "markdown",
   "metadata": {
    "collapsed": true
   },
   "source": [
    "# Great Job!"
   ]
  }
 ],
 "metadata": {
  "kernelspec": {
   "display_name": "Python 3",
   "language": "python",
   "name": "python3"
  },
  "language_info": {
   "codemirror_mode": {
    "name": "ipython",
    "version": 3
   },
   "file_extension": ".py",
   "mimetype": "text/x-python",
   "name": "python",
   "nbconvert_exporter": "python",
   "pygments_lexer": "ipython3",
   "version": "3.8.3"
  }
 },
 "nbformat": 4,
 "nbformat_minor": 1
}
